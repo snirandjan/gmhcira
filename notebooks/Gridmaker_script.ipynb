{
 "cells": [
  {
   "cell_type": "markdown",
   "metadata": {},
   "source": [
    "### Load package and set path"
   ]
  },
  {
   "cell_type": "code",
   "execution_count": 1,
   "metadata": {},
   "outputs": [],
   "source": [
    "import os,sys\n",
    "import pygeos\n",
    "import pandas as pd\n",
    "import geopandas as gpd\n",
    "from pathlib import Path\n",
    "from pgpkg import Geopackage\n",
    "#pip install geofeather\n",
    "from geofeather.pygeos import to_geofeather, from_geofeather\n",
    "\n",
    "sys.path.append(\"C:\\Projects\\Coastal_Infrastructure\\scripts\")\n",
    "import cisi_exposure\n",
    "import extract\n",
    "import gridmaker\n",
    "import cisi"
   ]
  },
  {
   "cell_type": "markdown",
   "metadata": {},
   "source": [
    "### Create grid files from shapefiles countries"
   ]
  },
  {
   "cell_type": "code",
   "execution_count": 29,
   "metadata": {},
   "outputs": [],
   "source": [
    "#load pathways\n",
    "#grid_data = gpd.read_file(os.path.join(os.path.abspath(os.path.join('C:/Users/snn490/surfdrive','Outputs','Grid_data')),'global_grid_1degree.gpkg')) #open as geofeather\n",
    "#grid_data = from_geofeather(os.path.join(os.path.abspath(os.path.join('C:/Users/snn490/surfdrive','Outputs','Grid_data')),'global_grid_010degree.geofeather')) #open as geofeather\n",
    "shape = gpd.read_file(os.path.join(os.path.abspath(r'C:\\Users\\snn490\\surfdrive\\Datasets\\Administrative_boundaries\\Boundaries'),\"geogunit_109.shp\"))\n",
    "#glob_info = pd.read_excel(os.path.join(r'C:\\Users\\snn490\\surfdrive\\Datasets','global_information.xlsx'))\n",
    "\n",
    "country_lst = ['ITA']#['FRA','DEU','ITA']\n",
    "degrees = [0.01]"
   ]
  },
  {
   "cell_type": "code",
   "execution_count": 30,
   "metadata": {},
   "outputs": [
    {
     "name": "stderr",
     "output_type": "stream",
     "text": [
      "<ipython-input-30-b9c043df8e87>:6: SettingWithCopyWarning: \n",
      "A value is trying to be set on a copy of a slice from a DataFrame.\n",
      "Try using .loc[row_indexer,col_indexer] = value instead\n",
      "\n",
      "See the caveats in the documentation: https://pandas.pydata.org/pandas-docs/stable/user_guide/indexing.html#returning-a-view-versus-a-copy\n",
      "  shape_df['geometry'] = pygeos.from_shapely(shape_df.geometry) #transform geometry so gridmaker can read it\n"
     ]
    }
   ],
   "source": [
    "for country_code in country_lst:\n",
    "    shape_df = shape.loc[shape['ISO'] == country_code]\n",
    "    for degree in degrees: \n",
    "        #create file for shape area\n",
    "        #shape = pd.DataFrame(shape) #transform to shapefile\n",
    "        shape_df['geometry'] = pygeos.from_shapely(shape_df.geometry) #transform geometry so gridmaker can read it\n",
    "        gridded_area = gridmaker.create_grid(shape_df,degree,0.01) #set degrees here\n",
    "        gridded_area = pd.DataFrame(gridded_area,columns=['geometry']) #make geometry recognizable \n",
    "       # with Geopackage(os.path.join(os.path.abspath(r'\\\\labsdfs.labs.vu.nl\\labsdfs\\BETA-IVM-BAZIS\\data_catalogue\\open_street_map\\receipt_storylines\\gridded_data'),'{}_gridded_{}.gpkg'.format(country_code,degree)), 'w') as out:   \n",
    "        #    out.add_layer(gridded_area, name=' ', crs='EPSG:4326')\n",
    "        to_geofeather(gridded_area, os.path.join(os.path.abspath(r'\\\\labsdfs.labs.vu.nl\\labsdfs\\BETA-IVM-BAZIS\\data_catalogue\\open_street_map\\receipt_storylines\\gridded_data'), '{}_gridded_{}.geofeather'.format(country_code,degree)), crs=\"EPSG:4326\") #save as geofeather\n",
    "        "
   ]
  },
  {
   "cell_type": "code",
   "execution_count": null,
   "metadata": {},
   "outputs": [],
   "source": []
  }
 ],
 "metadata": {
  "kernelspec": {
   "display_name": "Python 3",
   "language": "python",
   "name": "python3"
  },
  "language_info": {
   "codemirror_mode": {
    "name": "ipython",
    "version": 3
   },
   "file_extension": ".py",
   "mimetype": "text/x-python",
   "name": "python",
   "nbconvert_exporter": "python",
   "pygments_lexer": "ipython3",
   "version": "3.8.3"
  }
 },
 "nbformat": 4,
 "nbformat_minor": 4
}
