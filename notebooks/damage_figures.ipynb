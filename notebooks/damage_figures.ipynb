{
 "cells": [
  {
   "cell_type": "markdown",
   "metadata": {},
   "source": [
    "## Load package and seth path"
   ]
  },
  {
   "cell_type": "code",
   "execution_count": 19,
   "metadata": {},
   "outputs": [],
   "source": [
    "%matplotlib inline\n",
    "\n",
    "import os,sys\n",
    "import pandas as pd\n",
    "import numpy as np\n",
    "import geopandas as gpd\n",
    "import rasterio\n",
    "#!pip install geopy\n",
    "#!pip install boltons\n",
    "from pathlib import Path\n",
    "from geofeather.pygeos import to_geofeather, from_geofeather\n",
    "from tqdm import tqdm\n",
    "from mpl_toolkits.axes_grid1 import make_axes_locatable\n",
    "from rasterio.plot import show\n",
    "from IPython.display import display #when printing geodataframes, put it in columns -> use display(df)\n",
    "from matplotlib.ticker import (MultipleLocator, FormatStrFormatter,\n",
    "                               AutoMinorLocator, LinearLocator, MaxNLocator)\n",
    "import pygeos\n",
    "from pgpkg import Geopackage\n",
    "import matplotlib.pyplot as plt\n",
    "import copy\n",
    "\n",
    "sys.path.append(\"C:\\Projects\\gmhcira\\scripts\")\n",
    "#import fetch\n",
    "#import cisi\n",
    "#import extract\n",
    "#import cisi_exposure\n",
    "import functions\n",
    "plt.rcParams['figure.figsize'] = [20, 20]\n",
    "\n",
    "from osgeo import gdal\n",
    "gdal.SetConfigOption(\"OSM_CONFIG_FILE\", os.path.join(\"..\",\"osmconf.ini\"))\n",
    "\n"
   ]
  },
  {
   "cell_type": "markdown",
   "metadata": {},
   "source": [
    "### Set pathways"
   ]
  },
  {
   "cell_type": "code",
   "execution_count": 20,
   "metadata": {},
   "outputs": [],
   "source": [
    "base_path = os.path.abspath(r'C:\\Users\\snn490\\surfdrive\\PhD documents\\RECEIPT project\\Deliverables\\Deliverable 2021') #this path contains all data that's needed as input and will contain directories to export outputs\n",
    "\n",
    "# Set path to inputdata\n",
    "damage_data_path = os.path.abspath(os.path.join(r'\\\\labsdfs.labs.vu.nl\\labsdfs\\BETA-IVM-BAZIS\\data_catalogue\\open_street_map\\receipt_storylines\\damage_data')) #path to map with damage data \n",
    "\n",
    "# path to save outputs - automatically made, not necessary to change output pathways\n",
    "output_path = os.path.abspath(os.path.join(base_path, 'figures')) #save figures\n",
    "\n",
    "# path to our python scripts\n",
    "sys.path.append(os.path.join('..','scripts'))\n",
    "\n",
    "#Create folders for outputs (GPKGs and pngs)\n",
    "Path(output_path).mkdir(parents=True, exist_ok=True)"
   ]
  },
  {
   "cell_type": "markdown",
   "metadata": {},
   "source": [
    "## Set variables"
   ]
  },
  {
   "cell_type": "code",
   "execution_count": 21,
   "metadata": {},
   "outputs": [],
   "source": [
    "assets = {\"energy\": {\"power\": [\"line\", \"minor_line\",\"cable\",\"plant\",\"substation\",\n",
    "                                        \"power_tower\",\"power_pole\"]}, \n",
    "                \"transportation\": {\"roads\":  [\"motorway\",\"trunk\",\"primary\", \"secondary\", \"tertiary\",\"other\"], \n",
    "                                    \"airports\": [\"airports\", \"runway\", \"terminal\"],\n",
    "                                    \"railways\": [\"railway\"]},\n",
    "                \"water\": {\"water_supply\": [\"water_tower\", \"water_well\", \"reservoir_covered\",\n",
    "                                            \"water_works\"]},\n",
    "                \"waste\": {\"waste_solid\": [\"waste_transfer_station\"],\n",
    "                        \"waste_water\": [\"wastewater_treatment_plant\"]},\n",
    "                \"telecommunication\": {\"telecom\": [\"communication_tower\", \"mast\"]},\n",
    "                \"healthcare\": {\"health\": [\"clinic\", \"doctors\", \"hospital\", \"dentist\", \"pharmacy\", \n",
    "                            \"physiotherapist\", \"alternative\", \"laboratory\", \"optometrist\", \"rehabilitation\", \n",
    "                            \"blood_donation\", \"birthing_center\"]},\n",
    "                \"education\": {\"education_facilities\": [\"college\", \"kindergarten\", \"library\", \"school\", \"university\"]}\n",
    "                }\n",
    "\n",
    "# create variables\n",
    "system_lst = [system for system in assets] #make list with systems\n",
    "#subsystem_lst = [subsystem for system in assets for subsystem in assets[system]] #make list with subsystems"
   ]
  },
  {
   "cell_type": "code",
   "execution_count": 22,
   "metadata": {},
   "outputs": [],
   "source": [
    "def organize_columns_old(subset_df):\n",
    "\n",
    "    subset_df = subset_df.sort_values(by='damage', ascending=False)\n",
    "    x = np.char.array(subset_df.index.tolist())\n",
    "    y = np.array(subset_df['damage'].tolist())\n",
    "    relative = 100.*y/y.sum()\n",
    "    \n",
    "    return x,y,relative\n",
    "\n",
    "def organize_columns(subset_df):\n",
    "\n",
    "    subset_df = subset_df.sort_values(by='damage', ascending=False)\n",
    "    x = np.char.array(subset_df.index.tolist())\n",
    "    y = np.array(subset_df['damage'].tolist())\n",
    "    if subset_df['damage'].sum() == 0:\n",
    "        relative = np.array([0.0] * len(damage_dict['water']))\n",
    "    else: \n",
    "        relative = 100.*y/y.sum()\n",
    "    \n",
    "    return x,y,relative\n",
    "\n",
    "def get_list_per_system(assets):\n",
    "    infra_per_system_dict = {}\n",
    "    for system in assets:\n",
    "        subsystem_count = 0\n",
    "        for subsystem in assets[system]:\n",
    "            subsystem_count += 1\n",
    "            if subsystem_count == 1:\n",
    "                infra_per_system_dict[system] = assets[system][subsystem] #add key-value pair\n",
    "            elif subsystem_count > 1:\n",
    "                infra_per_system_dict[system] = infra_per_system_dict[system] + assets[system][subsystem] \n",
    "                \n",
    "    return infra_per_system_dict"
   ]
  },
  {
   "cell_type": "markdown",
   "metadata": {},
   "source": [
    "## Create bar plots per system"
   ]
  },
  {
   "cell_type": "code",
   "execution_count": 181,
   "metadata": {},
   "outputs": [
    {
     "data": {
      "image/png": "[encoded data removed]",
      "text/plain": [
       "<Figure size 1080x360 with 1 Axes>"
      ]
     },
     "metadata": {
      "needs_background": "light"
     },
     "output_type": "display_data"
    },
    {
     "name": "stdout",
     "output_type": "stream",
     "text": [
      "Xynthia 230987639.20689562\n"
     ]
    }
   ],
   "source": [
    "#without correction for airports, based on csv's\n",
    "\n",
    "storms_lst = ['Xynthia']#, 'Xaver', 'EmiliaRomagna']\n",
    "for storm in storms_lst:\n",
    "    #import data\n",
    "    damage_df = pd.read_csv(os.path.join(damage_data_path, 'total_damage_{}.csv'.format(storm)))#, sheet_name=\"Sheet1\")\n",
    "    #summary_df = summary_df.set_index('ISO_3digit')\n",
    "\n",
    "    #organize data\n",
    "    lst_zeros = [0.0] * len(system_lst)\n",
    "    damage_system_df = pd.DataFrame({'ci_system':system_lst})\n",
    "    damage_system_df.insert(1, 'damage', lst_zeros)\n",
    "    damage_system_df = damage_system_df.set_index('ci_system')    \n",
    "\n",
    "    for system in system_lst:\n",
    "        for subsystem in assets[system]:\n",
    "            asset_lst = assets[system][subsystem]\n",
    "            #print(asset_lst)\n",
    "            for asset in asset_lst:\n",
    "                if True in (damage_df['asset']==asset).unique():\n",
    "                    sub_df = damage_df[damage_df['asset']==asset]\n",
    "                    #print('True is {}:{}'.format(asset, sub_df['damage'].sum()))\n",
    "                    damage_system_df.loc[system, 'damage'] += sub_df['damage'].sum()\n",
    "                    #print(damage_system_df.loc[system, 'damage'] )\n",
    "                #else:\n",
    "                    #print('Not true: {}'.format(asset))\n",
    "\n",
    "    #make figure\n",
    "    fig, ax = plt.subplots(figsize=(15, 5))\n",
    "    colors_id = ['#CB997E', '#ddbea9', '#FFE8D6', 'lightgray', '#B7B7A4','#A5A58D', '#6B705C'] #transportation, energy, education, healthcare, water, telecommunication, waste #B9E0A5\n",
    "    ax.bar(damage_system_df.index.tolist(), damage_system_df['damage'].tolist(), color=colors_id, width=0.75, edgecolor='dimgrey')\n",
    "    ax.set_ylabel('Damage in euros', fontsize=14)\n",
    "    ax.set_axisbelow(True)\n",
    "    ax.grid(axis='y', color='gray', linestyle='dashed')\n",
    "    #ax.set_ylim([1,100000000000]) #range\n",
    "    #ax.tick_params(axis='y', which='minor')\n",
    "    #ax.yaxis.set_major_formatter(ScalarFormatter()) #from matplotlib.ticker import ScalarFormatter\n",
    "    #ax.minorticks_off()\n",
    "    #ax.set_yticks(np.arange(1, 100000000000, step=100))\n",
    "\n",
    "    ax.set_yscale('log')\n",
    "    ax.tick_params(axis='both', which='major', labelsize=13)\n",
    "    #ax.tick_params(axis='both', which='minor', labelsize=13)\n",
    "    plt.show()\n",
    "    \n",
    "    print(storm, damage_system_df.damage.sum()) #use damage_df['damage'].sum() for all assets.. We won't use damages for landfills in project\n",
    "\n",
    "    #fig.savefig(os.path.join(output_path, 'Fig_bar_{}.png'.format(storm)), bbox_inches='tight', dpi=1000)\n",
    "    #damage_df_xcl = damage_df.copy()\n",
    "    #damage_system_df_xcl = damage_system_df.copy()\n",
    "    "
   ]
  },
  {
   "cell_type": "code",
   "execution_count": 182,
   "metadata": {},
   "outputs": [
    {
     "data": {
      "text/html": [
       "<div>\n",
       "<style scoped>\n",
       "    .dataframe tbody tr th:only-of-type {\n",
       "        vertical-align: middle;\n",
       "    }\n",
       "\n",
       "    .dataframe tbody tr th {\n",
       "        vertical-align: top;\n",
       "    }\n",
       "\n",
       "    .dataframe thead th {\n",
       "        text-align: right;\n",
       "    }\n",
       "</style>\n",
       "<table border=\"1\" class=\"dataframe\">\n",
       "  <thead>\n",
       "    <tr style=\"text-align: right;\">\n",
       "      <th></th>\n",
       "      <th>damage</th>\n",
       "    </tr>\n",
       "    <tr>\n",
       "      <th>ci_system</th>\n",
       "      <th></th>\n",
       "    </tr>\n",
       "  </thead>\n",
       "  <tbody>\n",
       "    <tr>\n",
       "      <th>energy</th>\n",
       "      <td>6.004025e+02</td>\n",
       "    </tr>\n",
       "    <tr>\n",
       "      <th>transportation</th>\n",
       "      <td>2.258383e+08</td>\n",
       "    </tr>\n",
       "    <tr>\n",
       "      <th>water</th>\n",
       "      <td>0.000000e+00</td>\n",
       "    </tr>\n",
       "    <tr>\n",
       "      <th>waste</th>\n",
       "      <td>1.090448e+04</td>\n",
       "    </tr>\n",
       "    <tr>\n",
       "      <th>telecommunication</th>\n",
       "      <td>9.303478e+02</td>\n",
       "    </tr>\n",
       "    <tr>\n",
       "      <th>healthcare</th>\n",
       "      <td>1.260017e+06</td>\n",
       "    </tr>\n",
       "    <tr>\n",
       "      <th>education</th>\n",
       "      <td>3.876859e+06</td>\n",
       "    </tr>\n",
       "  </tbody>\n",
       "</table>\n",
       "</div>"
      ],
      "text/plain": [
       "                         damage\n",
       "ci_system                      \n",
       "energy             6.004025e+02\n",
       "transportation     2.258383e+08\n",
       "water              0.000000e+00\n",
       "waste              1.090448e+04\n",
       "telecommunication  9.303478e+02\n",
       "healthcare         1.260017e+06\n",
       "education          3.876859e+06"
      ]
     },
     "execution_count": 182,
     "metadata": {},
     "output_type": "execute_result"
    }
   ],
   "source": [
    "damage_systemf"
   ]
  },
  {
   "cell_type": "code",
   "execution_count": 12,
   "metadata": {},
   "outputs": [],
   "source": [
    "assets = {\"energy\": {\"power\": [\"line\", \"minor_line\",\"cable\",\"plant\",\"substation\",\n",
    "                                        \"power_tower\",\"power_pole\"]}, \n",
    "                \"transportation\": {\"roads\":  [\"motorway\",\"trunk\",\"primary\", \"secondary\", \"tertiary\",\"other\"], \n",
    "                                    \"airports\": [\"airports\", \"runway\", \"terminal\"],\n",
    "                                    \"railways\": [\"railway\"]},\n",
    "                \"water\": {\"water_supply\": [\"water_tower\", \"water_well\", \"reservoir_covered\",\n",
    "                                            \"water_works\"]},\n",
    "                \"waste\": {\"waste_solid\": [\"waste_transfer_station\"],\n",
    "                        \"waste_water\": [\"wastewater_treatment_plant\"]},\n",
    "                \"telecommunication\": {\"telecom\": [\"communication_tower\", \"mast\"]},\n",
    "                \"healthcare\": {\"health\": [\"clinic\", \"doctors\", \"hospital\", \"dentist\", \"pharmacy\", \n",
    "                            \"physiotherapist\", \"alternative\", \"laboratory\", \"optometrist\", \"rehabilitation\", \n",
    "                            \"blood_donation\", \"birthing_center\"]},\n",
    "                \"education\": {\"education_facilities\": [\"college\", \"kindergarten\", \"library\", \"school\", \"university\"]}\n",
    "                }\n",
    "\n",
    "# create variables\n",
    "system_lst = [system for system in assets] #make list with systems\n",
    "#subsystem_lst = [subsystem for system in assets for subsystem in assets[system]] #make list with subsystems\n",
    "\n",
    "#storm_dict = {'Xynthia': 'FRA'}#, 'Xaver': 'DEU', 'EmiliaRomagna': 'ITA'} \n",
    "storm_dict = {'Xaver': 'DEU'}\n",
    "#storm_dict = {'EmiliaRomagna': 'ITA'} "
   ]
  },
  {
   "cell_type": "code",
   "execution_count": 51,
   "metadata": {},
   "outputs": [
    {
     "name": "stdout",
     "output_type": "stream",
     "text": [
      "Xynthia\n"
     ]
    },
    {
     "data": {
      "image/png": "[encoded data removed]",
      "text/plain": [
       "<Figure size 1080x360 with 1 Axes>"
      ]
     },
     "metadata": {
      "needs_background": "light"
     },
     "output_type": "display_data"
    },
    {
     "name": "stdout",
     "output_type": "stream",
     "text": [
      "Xynthia 230987639.20689562\n"
     ]
    }
   ],
   "source": [
    "#without correction for airports, based on shapefiles\n",
    "damage_dict = {}\n",
    "infra_per_system_dict = get_list_per_system(assets) #get list per system\n",
    "datatypes_dict = {'power':['lines','poly','point'],'airports':['lines','poly']}  \n",
    "\n",
    "for storm in storm_dict:\n",
    "    print(storm)\n",
    "    \n",
    "    #organize damage data per asset per system \n",
    "    for system in system_lst:\n",
    "        lst_zeros = [0.0] * len(infra_per_system_dict[system])\n",
    "        subset_df = pd.DataFrame({'infrastructure_type':infra_per_system_dict[system]})\n",
    "        subset_df.insert(1, 'damage', lst_zeros)\n",
    "        subset_df = subset_df.set_index('infrastructure_type')\n",
    "\n",
    "        for sub_system in assets[system]:\n",
    "            if sub_system == 'power':\n",
    "                for datatype in datatypes_dict['power']:\n",
    "                    temp_df = gpd.read_file(os.path.join(damage_data_path, '{}_{}_{}.shp'.format(storm_dict[storm], sub_system, datatype)))\n",
    "                    temp_df = temp_df[['asset','damage']]\n",
    "                    for asset in infra_per_system_dict[system]:\n",
    "                        if True in (temp_df['asset']==asset).unique():\n",
    "                            subset_df.loc[asset, 'damage'] += (temp_df[temp_df['asset']==asset])['damage'].sum()\n",
    "                    damage_dict['{}'.format(system)] = subset_df  \n",
    "            elif sub_system == 'airports':\n",
    "                for datatype in datatypes_dict['airports']:\n",
    "                    temp_df = gpd.read_file(os.path.join(damage_data_path, '{}_{}_{}.shp'.format(storm_dict[storm], sub_system, datatype)))\n",
    "                    temp_df = temp_df[['asset','damage']]\n",
    "                    for asset in infra_per_system_dict[system]:\n",
    "                        if True in (temp_df['asset']==asset).unique():\n",
    "                            subset_df.loc[asset, 'damage'] += (temp_df[temp_df['asset']==asset])['damage'].sum()\n",
    "                    damage_dict['{}'.format(system)] = subset_df  \n",
    "            else:\n",
    "                if os.path.isfile(os.path.join(damage_data_path, '{}_{}.shp'.format(storm_dict[storm], sub_system))):\n",
    "                    temp_df = gpd.read_file(os.path.join(damage_data_path, '{}_{}.shp'.format(storm_dict[storm], sub_system)))\n",
    "                    temp_df = temp_df[['asset','damage']]\n",
    "                    for asset in infra_per_system_dict[system]:\n",
    "                        if True in (temp_df['asset']==asset).unique():\n",
    "                            subset_df.loc[asset, 'damage'] += (temp_df[temp_df['asset']==asset])['damage'].sum()\n",
    "                    damage_dict['{}'.format(system)] = subset_df\n",
    "                else:\n",
    "                    damage_dict['{}'.format(system)] = subset_df\n",
    "                    \n",
    "    #calculate total damage per system\n",
    "    #organize data\n",
    "    lst_zeros = [0.0] * len(system_lst)\n",
    "    damage_system_df = pd.DataFrame({'ci_system':system_lst})\n",
    "    damage_system_df.insert(1, 'damage', lst_zeros)\n",
    "    damage_system_df = damage_system_df.set_index('ci_system')  \n",
    "\n",
    "    for system in system_lst:\n",
    "        for subsystem in assets[system]:\n",
    "            asset_lst = assets[system][subsystem]\n",
    "            for asset in asset_lst:\n",
    "                if asset in damage_dict[system].index.values:\n",
    "                    damage_system_df.loc[system, 'damage'] += damage_dict[system].loc[asset].damage\n",
    "\n",
    "    #make figure\n",
    "    fig, ax = plt.subplots(figsize=(15, 5))\n",
    "    colors_id = ['#CB997E', '#ddbea9', '#FFE8D6', 'lightgray', '#B7B7A4','#A5A58D', '#6B705C'] #transportation, energy, education, healthcare, water, telecommunication, waste #B9E0A5\n",
    "    ax.bar(damage_system_df.index.tolist(), damage_system_df['damage'].tolist(), color=colors_id, width=0.75, edgecolor='dimgrey')\n",
    "    ax.set_ylabel('Damage in euros', fontsize=14)\n",
    "    ax.set_axisbelow(True)\n",
    "    ax.grid(axis='y', color='gray', linestyle='dashed')\n",
    "    #ax.set_ylim([1,100000000000]) #range\n",
    "    #ax.tick_params(axis='y', which='minor')\n",
    "    #ax.yaxis.set_major_formatter(ScalarFormatter()) #from matplotlib.ticker import ScalarFormatter\n",
    "    #ax.minorticks_off()\n",
    "    #ax.set_yticks(np.arange(1, 100000000000, step=100))\n",
    "\n",
    "    ax.set_yscale('log')\n",
    "    ax.tick_params(axis='both', which='major', labelsize=13)\n",
    "    #ax.tick_params(axis='both', which='minor', labelsize=13)\n",
    "    plt.show()\n",
    "    \n",
    "\n",
    "\n",
    "    print(storm, damage_system_df.damage.sum()) #damage_df['damage'].sum(), damage_df[damage_df['asset']=='airports']['damage'].sum())  #display total damage to CI (excluding correction airports)\n"
   ]
  },
  {
   "cell_type": "code",
   "execution_count": 30,
   "metadata": {},
   "outputs": [
    {
     "data": {
      "image/png": "[encoded data removed]",
      "text/plain": [
       "<Figure size 1080x360 with 1 Axes>"
      ]
     },
     "metadata": {
      "needs_background": "light"
     },
     "output_type": "display_data"
    },
    {
     "name": "stdout",
     "output_type": "stream",
     "text": [
      "Xaver 13110907.262204487\n"
     ]
    }
   ],
   "source": [
    "#with correction for airports, based on csv\n",
    "\n",
    "for storm in storm_dict:\n",
    "    #import data\n",
    "    damage_df = pd.read_csv(os.path.join(damage_data_path, 'total_damage_{}.csv'.format(storm)))#, sheet_name=\"Sheet1\")\n",
    "    #summary_df = summary_df.set_index('ISO_3digit')\n",
    "\n",
    "    #organize data\n",
    "    lst_zeros = [0.0] * len(system_lst)\n",
    "    damage_system_df = pd.DataFrame({'ci_system':system_lst})\n",
    "    damage_system_df.insert(1, 'damage', lst_zeros)\n",
    "    damage_system_df = damage_system_df.set_index('ci_system')    \n",
    "\n",
    "    for system in system_lst:\n",
    "        for subsystem in assets[system]:\n",
    "            asset_lst = assets[system][subsystem]\n",
    "            for asset in asset_lst:\n",
    "                if True in (damage_df['asset']==asset).unique():\n",
    "                    if asset != 'airports':\n",
    "                        sub_df = damage_df[damage_df['asset']==asset]\n",
    "                        sub_df['damage'].sum()\n",
    "                        damage_system_df.loc[system, 'damage'] += sub_df['damage'].sum()\n",
    "\n",
    "    #make figure\n",
    "    fig, ax = plt.subplots(figsize=(15, 5))\n",
    "    colors_id = ['#CB997E', '#ddbea9', '#FFE8D6', 'lightgray', '#B7B7A4','#A5A58D', '#6B705C'] #transportation, energy, education, healthcare, water, telecommunication, waste #B9E0A5\n",
    "    ax.bar(damage_system_df.index.tolist(), damage_system_df['damage'].tolist(), color=colors_id, width=0.75, edgecolor='dimgrey')\n",
    "    ax.set_ylabel('Damage in euros', fontsize=14)\n",
    "    ax.set_axisbelow(True)\n",
    "    ax.grid(axis='y', color='gray', linestyle='dashed')\n",
    "    #ax.set_ylim([1,100000000000]) #range\n",
    "    #ax.tick_params(axis='y', which='minor')\n",
    "    #ax.yaxis.set_major_formatter(ScalarFormatter()) #from matplotlib.ticker import ScalarFormatter\n",
    "    #ax.minorticks_off()\n",
    "    #ax.set_yticks(np.arange(1, 100000000000, step=100))\n",
    "\n",
    "    ax.set_yscale('log')\n",
    "    ax.tick_params(axis='both', which='major', labelsize=13)\n",
    "    #ax.tick_params(axis='both', which='minor', labelsize=13)\n",
    "    plt.show()\n",
    "    \n",
    "    #print(storm, damage_df['damage'].sum(), damage_df[damage_df['asset']=='airports']['damage'].sum())  #display total damage to CI (including correction airports), damage to airports\n",
    "    print(storm, damage_system_df.damage.sum()) #use damage_df['damage'].sum() for all assets.. We won't use damages for landfills and airports in project\n",
    "    \n",
    "    #fig.savefig(os.path.join(output_path, 'Fig_bar_{}.png'.format(storm)), bbox_inches='tight', dpi=1000)"
   ]
  },
  {
   "cell_type": "code",
   "execution_count": 66,
   "metadata": {},
   "outputs": [
    {
     "name": "stdout",
     "output_type": "stream",
     "text": [
      "Xynthia\n"
     ]
    },
    {
     "data": {
      "image/png": "[encoded data removed]",
      "text/plain": [
       "<Figure size 1080x360 with 1 Axes>"
      ]
     },
     "metadata": {
      "needs_background": "light"
     },
     "output_type": "display_data"
    },
    {
     "name": "stdout",
     "output_type": "stream",
     "text": [
      "Xynthia 11340673.302821517\n"
     ]
    }
   ],
   "source": [
    "#with correction for airports, based on shapefiles\n",
    "damage_dict = {}\n",
    "infra_per_system_dict = get_list_per_system(assets) #get list per system\n",
    "datatypes_dict = {'power':['lines','poly','point'],'airports':['lines','poly']} \n",
    "\n",
    "for storm in storm_dict:\n",
    "    print(storm)\n",
    "    \n",
    "    #organize damage data per asset per system \n",
    "    for system in system_lst:\n",
    "        lst_zeros = [0.0] * len(infra_per_system_dict[system])\n",
    "        subset_df = pd.DataFrame({'infrastructure_type':infra_per_system_dict[system]})\n",
    "        subset_df.insert(1, 'damage', lst_zeros)\n",
    "        subset_df = subset_df.set_index('infrastructure_type')\n",
    "\n",
    "        for sub_system in assets[system]:\n",
    "            if sub_system == 'power':\n",
    "                for datatype in datatypes_dict['power']:\n",
    "                    temp_df = gpd.read_file(os.path.join(damage_data_path, '{}_{}_{}.shp'.format(storm_dict[storm], sub_system, datatype)))\n",
    "                    temp_df = temp_df[['asset','damage']]\n",
    "                    for asset in infra_per_system_dict[system]:\n",
    "                        if True in (temp_df['asset']==asset).unique():\n",
    "                            subset_df.loc[asset, 'damage'] += (temp_df[temp_df['asset']==asset])['damage'].sum()\n",
    "                    damage_dict['{}'.format(system)] = subset_df  \n",
    "            elif sub_system == 'airports':\n",
    "                for datatype in datatypes_dict['airports']:\n",
    "                    temp_df = gpd.read_file(os.path.join(damage_data_path, '{}_{}_{}.shp'.format(storm_dict[storm], sub_system, datatype)))\n",
    "                    temp_df = temp_df[['asset','damage']]\n",
    "                    for asset in infra_per_system_dict[system]:\n",
    "                        if True in (temp_df['asset']==asset).unique():\n",
    "                            subset_df.loc[asset, 'damage'] += (temp_df[temp_df['asset']==asset])['damage'].sum()\n",
    "                    damage_dict['{}'.format(system)] = subset_df  \n",
    "            else:\n",
    "                if os.path.isfile(os.path.join(damage_data_path, '{}_{}.shp'.format(storm_dict[storm], sub_system))):\n",
    "                    temp_df = gpd.read_file(os.path.join(damage_data_path, '{}_{}.shp'.format(storm_dict[storm], sub_system)))\n",
    "                    temp_df = temp_df[['asset','damage']]\n",
    "                    for asset in infra_per_system_dict[system]:\n",
    "                        if True in (temp_df['asset']==asset).unique():\n",
    "                            subset_df.loc[asset, 'damage'] += (temp_df[temp_df['asset']==asset])['damage'].sum()\n",
    "                    damage_dict['{}'.format(system)] = subset_df\n",
    "                else:\n",
    "                    damage_dict['{}'.format(system)] = subset_df\n",
    "                    \n",
    "    #calculate total damage per system\n",
    "    #organize data\n",
    "    lst_zeros = [0.0] * len(system_lst)\n",
    "    damage_system_df = pd.DataFrame({'ci_system':system_lst})\n",
    "    damage_system_df.insert(1, 'damage', lst_zeros)\n",
    "    damage_system_df = damage_system_df.set_index('ci_system')  \n",
    "\n",
    "    for system in system_lst:\n",
    "        for subsystem in assets[system]:\n",
    "            asset_lst = assets[system][subsystem]\n",
    "            for asset in asset_lst:\n",
    "                if asset in damage_dict[system].index.values:\n",
    "                    if asset != 'airports':\n",
    "                        damage_system_df.loc[system, 'damage'] += damage_dict[system].loc[asset].damage\n",
    "\n",
    "    #make figure\n",
    "    fig, ax = plt.subplots(figsize=(15, 5))\n",
    "    colors_id = ['#CB997E', '#ddbea9', '#FFE8D6', 'lightgray', '#B7B7A4','#A5A58D', '#6B705C'] #transportation, energy, education, healthcare, water, telecommunication, waste #B9E0A5\n",
    "    ax.bar(damage_system_df.index.tolist(), damage_system_df['damage'].tolist(), color=colors_id, width=0.75, edgecolor='dimgrey')\n",
    "    ax.set_ylabel('Damage in euros', fontsize=14)\n",
    "    ax.set_axisbelow(True)\n",
    "    ax.grid(axis='y', color='gray', linestyle='dashed')\n",
    "    #ax.set_ylim([1,100000000000]) #range\n",
    "    #ax.tick_params(axis='y', which='minor')\n",
    "    #ax.yaxis.set_major_formatter(ScalarFormatter()) #from matplotlib.ticker import ScalarFormatter\n",
    "    #ax.minorticks_off()\n",
    "    #ax.set_yticks(np.arange(1, 100000000000, step=100))\n",
    "\n",
    "    ax.set_yscale('log')\n",
    "    ax.tick_params(axis='both', which='major', labelsize=13)\n",
    "    #ax.tick_params(axis='both', which='minor', labelsize=13)\n",
    "    plt.show()\n",
    "    \n",
    "    print(storm,damage_system_df.damage.sum())  #display total damage to CI (including correction airports)\n",
    "    \n",
    "    #fig.savefig(os.path.join(output_path, 'Fig_bar_{}.png'.format(storm)), bbox_inches='tight', dpi=1000)\n"
   ]
  },
  {
   "cell_type": "code",
   "execution_count": 6,
   "metadata": {},
   "outputs": [],
   "source": [
    "test = gpd.read_file(os.path.join(damage_data_path, 'ITA_education_facilities.shp'))"
   ]
  },
  {
   "cell_type": "code",
   "execution_count": 11,
   "metadata": {},
   "outputs": [
    {
     "data": {
      "text/html": [
       "<div>\n",
       "<style scoped>\n",
       "    .dataframe tbody tr th:only-of-type {\n",
       "        vertical-align: middle;\n",
       "    }\n",
       "\n",
       "    .dataframe tbody tr th {\n",
       "        vertical-align: top;\n",
       "    }\n",
       "\n",
       "    .dataframe thead th {\n",
       "        text-align: right;\n",
       "    }\n",
       "</style>\n",
       "<table border=\"1\" class=\"dataframe\">\n",
       "  <thead>\n",
       "    <tr style=\"text-align: right;\">\n",
       "      <th></th>\n",
       "      <th>osm_id</th>\n",
       "      <th>asset</th>\n",
       "      <th>index</th>\n",
       "      <th>damage</th>\n",
       "      <th>area_m2</th>\n",
       "      <th>geometry</th>\n",
       "    </tr>\n",
       "  </thead>\n",
       "  <tbody>\n",
       "    <tr>\n",
       "      <th>0</th>\n",
       "      <td>None</td>\n",
       "      <td>kindergarten</td>\n",
       "      <td>6</td>\n",
       "      <td>2.182802e+02</td>\n",
       "      <td>554.938942</td>\n",
       "      <td>POLYGON ((796448.881 876491.919, 796456.571 87...</td>\n",
       "    </tr>\n",
       "    <tr>\n",
       "      <th>1</th>\n",
       "      <td>None</td>\n",
       "      <td>school</td>\n",
       "      <td>11</td>\n",
       "      <td>4.449958e+04</td>\n",
       "      <td>741.096657</td>\n",
       "      <td>POLYGON ((795479.218 877408.625, 795499.006 87...</td>\n",
       "    </tr>\n",
       "    <tr>\n",
       "      <th>2</th>\n",
       "      <td>None</td>\n",
       "      <td>school</td>\n",
       "      <td>20</td>\n",
       "      <td>7.344719e+04</td>\n",
       "      <td>1380.243074</td>\n",
       "      <td>POLYGON ((794236.512 878207.273, 794263.664 87...</td>\n",
       "    </tr>\n",
       "    <tr>\n",
       "      <th>3</th>\n",
       "      <td>None</td>\n",
       "      <td>school</td>\n",
       "      <td>39</td>\n",
       "      <td>8.873200e+05</td>\n",
       "      <td>12714.538017</td>\n",
       "      <td>POLYGON ((789244.322 883151.708, 789375.886 88...</td>\n",
       "    </tr>\n",
       "    <tr>\n",
       "      <th>4</th>\n",
       "      <td>None</td>\n",
       "      <td>school</td>\n",
       "      <td>49</td>\n",
       "      <td>3.360486e+04</td>\n",
       "      <td>12274.088577</td>\n",
       "      <td>POLYGON ((788676.525 883769.777, 788662.845 88...</td>\n",
       "    </tr>\n",
       "    <tr>\n",
       "      <th>5</th>\n",
       "      <td>None</td>\n",
       "      <td>school</td>\n",
       "      <td>62</td>\n",
       "      <td>1.857335e+01</td>\n",
       "      <td>1086.545296</td>\n",
       "      <td>POLYGON ((787194.063 884994.577, 787219.647 88...</td>\n",
       "    </tr>\n",
       "    <tr>\n",
       "      <th>6</th>\n",
       "      <td>None</td>\n",
       "      <td>school</td>\n",
       "      <td>66</td>\n",
       "      <td>1.772004e+05</td>\n",
       "      <td>1966.012151</td>\n",
       "      <td>POLYGON ((785436.635 886078.788, 785440.327 88...</td>\n",
       "    </tr>\n",
       "    <tr>\n",
       "      <th>7</th>\n",
       "      <td>None</td>\n",
       "      <td>school</td>\n",
       "      <td>67</td>\n",
       "      <td>6.627693e+01</td>\n",
       "      <td>2821.018026</td>\n",
       "      <td>POLYGON ((783335.921 887540.809, 783376.162 88...</td>\n",
       "    </tr>\n",
       "    <tr>\n",
       "      <th>8</th>\n",
       "      <td>None</td>\n",
       "      <td>kindergarten</td>\n",
       "      <td>76</td>\n",
       "      <td>6.086173e+04</td>\n",
       "      <td>752.397946</td>\n",
       "      <td>POLYGON ((781436.429 889440.385, 781448.237 88...</td>\n",
       "    </tr>\n",
       "    <tr>\n",
       "      <th>9</th>\n",
       "      <td>None</td>\n",
       "      <td>school</td>\n",
       "      <td>139</td>\n",
       "      <td>4.826079e+05</td>\n",
       "      <td>1800.670447</td>\n",
       "      <td>POLYGON ((775333.735 896135.656, 775360.184 89...</td>\n",
       "    </tr>\n",
       "    <tr>\n",
       "      <th>10</th>\n",
       "      <td>None</td>\n",
       "      <td>school</td>\n",
       "      <td>141</td>\n",
       "      <td>4.509037e+06</td>\n",
       "      <td>15839.754263</td>\n",
       "      <td>POLYGON ((773605.515 897158.226, 773642.420 89...</td>\n",
       "    </tr>\n",
       "    <tr>\n",
       "      <th>11</th>\n",
       "      <td>None</td>\n",
       "      <td>school</td>\n",
       "      <td>152</td>\n",
       "      <td>2.221190e+06</td>\n",
       "      <td>15565.888434</td>\n",
       "      <td>POLYGON ((772163.895 898926.851, 772276.342 89...</td>\n",
       "    </tr>\n",
       "    <tr>\n",
       "      <th>12</th>\n",
       "      <td>None</td>\n",
       "      <td>school</td>\n",
       "      <td>154</td>\n",
       "      <td>1.342112e+06</td>\n",
       "      <td>6072.503251</td>\n",
       "      <td>POLYGON ((772367.192 898902.092, 772491.804 89...</td>\n",
       "    </tr>\n",
       "    <tr>\n",
       "      <th>13</th>\n",
       "      <td>None</td>\n",
       "      <td>school</td>\n",
       "      <td>157</td>\n",
       "      <td>2.802003e+06</td>\n",
       "      <td>8287.195389</td>\n",
       "      <td>POLYGON ((772862.445 899094.719, 772932.177 89...</td>\n",
       "    </tr>\n",
       "    <tr>\n",
       "      <th>14</th>\n",
       "      <td>None</td>\n",
       "      <td>school</td>\n",
       "      <td>161</td>\n",
       "      <td>1.577221e+05</td>\n",
       "      <td>570.976635</td>\n",
       "      <td>POLYGON ((771252.194 900390.735, 771255.220 90...</td>\n",
       "    </tr>\n",
       "    <tr>\n",
       "      <th>15</th>\n",
       "      <td>None</td>\n",
       "      <td>school</td>\n",
       "      <td>167</td>\n",
       "      <td>2.705709e+05</td>\n",
       "      <td>2127.129296</td>\n",
       "      <td>POLYGON ((769754.498 902545.089, 769785.813 90...</td>\n",
       "    </tr>\n",
       "    <tr>\n",
       "      <th>16</th>\n",
       "      <td>None</td>\n",
       "      <td>school</td>\n",
       "      <td>168</td>\n",
       "      <td>2.779760e+06</td>\n",
       "      <td>8739.794368</td>\n",
       "      <td>POLYGON ((767976.022 905820.951, 768067.608 90...</td>\n",
       "    </tr>\n",
       "    <tr>\n",
       "      <th>17</th>\n",
       "      <td>None</td>\n",
       "      <td>school</td>\n",
       "      <td>169</td>\n",
       "      <td>4.064014e+06</td>\n",
       "      <td>11369.685961</td>\n",
       "      <td>POLYGON ((767540.517 906028.493, 767498.959 90...</td>\n",
       "    </tr>\n",
       "    <tr>\n",
       "      <th>18</th>\n",
       "      <td>None</td>\n",
       "      <td>kindergarten</td>\n",
       "      <td>171</td>\n",
       "      <td>9.554751e+04</td>\n",
       "      <td>334.366633</td>\n",
       "      <td>POLYGON ((767601.154 906461.201, 767604.883 90...</td>\n",
       "    </tr>\n",
       "    <tr>\n",
       "      <th>19</th>\n",
       "      <td>None</td>\n",
       "      <td>school</td>\n",
       "      <td>172</td>\n",
       "      <td>3.443387e+05</td>\n",
       "      <td>1727.455671</td>\n",
       "      <td>POLYGON ((766439.416 906489.611, 766451.727 90...</td>\n",
       "    </tr>\n",
       "    <tr>\n",
       "      <th>20</th>\n",
       "      <td>None</td>\n",
       "      <td>library</td>\n",
       "      <td>173</td>\n",
       "      <td>2.372943e+05</td>\n",
       "      <td>814.848574</td>\n",
       "      <td>POLYGON ((767578.053 906501.904, 767586.487 90...</td>\n",
       "    </tr>\n",
       "    <tr>\n",
       "      <th>21</th>\n",
       "      <td>None</td>\n",
       "      <td>school</td>\n",
       "      <td>174</td>\n",
       "      <td>9.266944e+04</td>\n",
       "      <td>314.918446</td>\n",
       "      <td>POLYGON ((767616.455 906508.625, 767628.386 90...</td>\n",
       "    </tr>\n",
       "    <tr>\n",
       "      <th>22</th>\n",
       "      <td>None</td>\n",
       "      <td>school</td>\n",
       "      <td>175</td>\n",
       "      <td>3.284250e+05</td>\n",
       "      <td>1139.707779</td>\n",
       "      <td>POLYGON ((767550.499 906538.497, 767563.339 90...</td>\n",
       "    </tr>\n",
       "    <tr>\n",
       "      <th>23</th>\n",
       "      <td>None</td>\n",
       "      <td>school</td>\n",
       "      <td>178</td>\n",
       "      <td>2.118767e+06</td>\n",
       "      <td>5847.794342</td>\n",
       "      <td>POLYGON ((767048.919 906720.647, 767039.857 90...</td>\n",
       "    </tr>\n",
       "    <tr>\n",
       "      <th>24</th>\n",
       "      <td>None</td>\n",
       "      <td>school</td>\n",
       "      <td>179</td>\n",
       "      <td>6.015361e+06</td>\n",
       "      <td>16058.901846</td>\n",
       "      <td>POLYGON ((767021.152 906623.927, 766961.889 90...</td>\n",
       "    </tr>\n",
       "    <tr>\n",
       "      <th>25</th>\n",
       "      <td>None</td>\n",
       "      <td>kindergarten</td>\n",
       "      <td>180</td>\n",
       "      <td>2.171569e+06</td>\n",
       "      <td>6907.936580</td>\n",
       "      <td>POLYGON ((767061.978 906985.033, 767083.827 90...</td>\n",
       "    </tr>\n",
       "    <tr>\n",
       "      <th>26</th>\n",
       "      <td>7345880</td>\n",
       "      <td>school</td>\n",
       "      <td>192</td>\n",
       "      <td>1.353272e+06</td>\n",
       "      <td>6078.849121</td>\n",
       "      <td>POLYGON ((767121.990 908564.799, 767092.893 90...</td>\n",
       "    </tr>\n",
       "  </tbody>\n",
       "</table>\n",
       "</div>"
      ],
      "text/plain": [
       "     osm_id         asset  index        damage       area_m2  \\\n",
       "0      None  kindergarten      6  2.182802e+02    554.938942   \n",
       "1      None        school     11  4.449958e+04    741.096657   \n",
       "2      None        school     20  7.344719e+04   1380.243074   \n",
       "3      None        school     39  8.873200e+05  12714.538017   \n",
       "4      None        school     49  3.360486e+04  12274.088577   \n",
       "5      None        school     62  1.857335e+01   1086.545296   \n",
       "6      None        school     66  1.772004e+05   1966.012151   \n",
       "7      None        school     67  6.627693e+01   2821.018026   \n",
       "8      None  kindergarten     76  6.086173e+04    752.397946   \n",
       "9      None        school    139  4.826079e+05   1800.670447   \n",
       "10     None        school    141  4.509037e+06  15839.754263   \n",
       "11     None        school    152  2.221190e+06  15565.888434   \n",
       "12     None        school    154  1.342112e+06   6072.503251   \n",
       "13     None        school    157  2.802003e+06   8287.195389   \n",
       "14     None        school    161  1.577221e+05    570.976635   \n",
       "15     None        school    167  2.705709e+05   2127.129296   \n",
       "16     None        school    168  2.779760e+06   8739.794368   \n",
       "17     None        school    169  4.064014e+06  11369.685961   \n",
       "18     None  kindergarten    171  9.554751e+04    334.366633   \n",
       "19     None        school    172  3.443387e+05   1727.455671   \n",
       "20     None       library    173  2.372943e+05    814.848574   \n",
       "21     None        school    174  9.266944e+04    314.918446   \n",
       "22     None        school    175  3.284250e+05   1139.707779   \n",
       "23     None        school    178  2.118767e+06   5847.794342   \n",
       "24     None        school    179  6.015361e+06  16058.901846   \n",
       "25     None  kindergarten    180  2.171569e+06   6907.936580   \n",
       "26  7345880        school    192  1.353272e+06   6078.849121   \n",
       "\n",
       "                                             geometry  \n",
       "0   POLYGON ((796448.881 876491.919, 796456.571 87...  \n",
       "1   POLYGON ((795479.218 877408.625, 795499.006 87...  \n",
       "2   POLYGON ((794236.512 878207.273, 794263.664 87...  \n",
       "3   POLYGON ((789244.322 883151.708, 789375.886 88...  \n",
       "4   POLYGON ((788676.525 883769.777, 788662.845 88...  \n",
       "5   POLYGON ((787194.063 884994.577, 787219.647 88...  \n",
       "6   POLYGON ((785436.635 886078.788, 785440.327 88...  \n",
       "7   POLYGON ((783335.921 887540.809, 783376.162 88...  \n",
       "8   POLYGON ((781436.429 889440.385, 781448.237 88...  \n",
       "9   POLYGON ((775333.735 896135.656, 775360.184 89...  \n",
       "10  POLYGON ((773605.515 897158.226, 773642.420 89...  \n",
       "11  POLYGON ((772163.895 898926.851, 772276.342 89...  \n",
       "12  POLYGON ((772367.192 898902.092, 772491.804 89...  \n",
       "13  POLYGON ((772862.445 899094.719, 772932.177 89...  \n",
       "14  POLYGON ((771252.194 900390.735, 771255.220 90...  \n",
       "15  POLYGON ((769754.498 902545.089, 769785.813 90...  \n",
       "16  POLYGON ((767976.022 905820.951, 768067.608 90...  \n",
       "17  POLYGON ((767540.517 906028.493, 767498.959 90...  \n",
       "18  POLYGON ((767601.154 906461.201, 767604.883 90...  \n",
       "19  POLYGON ((766439.416 906489.611, 766451.727 90...  \n",
       "20  POLYGON ((767578.053 906501.904, 767586.487 90...  \n",
       "21  POLYGON ((767616.455 906508.625, 767628.386 90...  \n",
       "22  POLYGON ((767550.499 906538.497, 767563.339 90...  \n",
       "23  POLYGON ((767048.919 906720.647, 767039.857 90...  \n",
       "24  POLYGON ((767021.152 906623.927, 766961.889 90...  \n",
       "25  POLYGON ((767061.978 906985.033, 767083.827 90...  \n",
       "26  POLYGON ((767121.990 908564.799, 767092.893 90...  "
      ]
     },
     "execution_count": 11,
     "metadata": {},
     "output_type": "execute_result"
    }
   ],
   "source": [
    "test"
   ]
  },
  {
   "cell_type": "code",
   "execution_count": 10,
   "metadata": {},
   "outputs": [
    {
     "data": {
      "text/plain": [
       "32663497.539836816"
      ]
     },
     "execution_count": 10,
     "metadata": {},
     "output_type": "execute_result"
    }
   ],
   "source": [
    "test['damage'].sum()"
   ]
  },
  {
   "cell_type": "code",
   "execution_count": 109,
   "metadata": {},
   "outputs": [
    {
     "data": {
      "text/plain": [
       "wastewater_treatment_plant    5\n",
       "Name: asset, dtype: int64"
      ]
     },
     "execution_count": 109,
     "metadata": {},
     "output_type": "execute_result"
    }
   ],
   "source": [
    "test['asset'].value_counts()"
   ]
  },
  {
   "cell_type": "code",
   "execution_count": 104,
   "metadata": {},
   "outputs": [
    {
     "data": {
      "text/plain": [
       "276812.15243862895"
      ]
     },
     "execution_count": 104,
     "metadata": {},
     "output_type": "execute_result"
    }
   ],
   "source": [
    "test['damage'].sum()- test[test['asset'] == 'hospital'].damage.sum()"
   ]
  },
  {
   "cell_type": "code",
   "execution_count": 103,
   "metadata": {},
   "outputs": [
    {
     "data": {
      "text/plain": [
       "983204.5058305694"
      ]
     },
     "execution_count": 103,
     "metadata": {},
     "output_type": "execute_result"
    }
   ],
   "source": []
  },
  {
   "cell_type": "code",
   "execution_count": 95,
   "metadata": {},
   "outputs": [
    {
     "data": {
      "text/plain": [
       "3206509.872657375"
      ]
     },
     "execution_count": 95,
     "metadata": {},
     "output_type": "execute_result"
    }
   ],
   "source": [
    "for asset in test['asset'].unique():\n",
    "    test[test['asset'] == 'school'].damage.sum()"
   ]
  },
  {
   "cell_type": "code",
   "execution_count": 78,
   "metadata": {},
   "outputs": [
    {
     "data": {
      "text/plain": [
       "6191362.537346011"
      ]
     },
     "execution_count": 78,
     "metadata": {},
     "output_type": "execute_result"
    }
   ],
   "source": [
    "damage_system_df.loc['transportation'].damage #+ damage_dict['transportation'].loc['airports'].damage"
   ]
  },
  {
   "cell_type": "code",
   "execution_count": 32,
   "metadata": {},
   "outputs": [
    {
     "data": {
      "text/plain": [
       "7.286902"
      ]
     },
     "execution_count": 32,
     "metadata": {},
     "output_type": "execute_result"
    }
   ],
   "source": [
    "   6.176948 +     0.870546 + 0.239408"
   ]
  },
  {
   "cell_type": "code",
   "execution_count": 31,
   "metadata": {},
   "outputs": [
    {
     "name": "stdout",
     "output_type": "stream",
     "text": [
      "energy damage    0.239408\n",
      "Name: energy, dtype: float64\n",
      "transportation damage    32.149176\n",
      "Name: transportation, dtype: float64\n",
      "water damage    0.870546\n",
      "Name: water, dtype: float64\n",
      "waste damage    30.047248\n",
      "Name: waste, dtype: float64\n",
      "telecommunication damage    0.0\n",
      "Name: telecommunication, dtype: float64\n",
      "healthcare damage    6.176948\n",
      "Name: healthcare, dtype: float64\n",
      "education damage    30.516674\n",
      "Name: education, dtype: float64\n"
     ]
    }
   ],
   "source": [
    "#relative share of CI systems\n",
    "for system in system_lst:\n",
    "    print(system, damage_system_df.loc[system]/damage_system_df['damage'].sum()*100)"
   ]
  },
  {
   "cell_type": "code",
   "execution_count": 265,
   "metadata": {},
   "outputs": [
    {
     "data": {
      "text/plain": [
       "11340673.302821524"
      ]
     },
     "execution_count": 265,
     "metadata": {},
     "output_type": "execute_result"
    }
   ],
   "source": []
  },
  {
   "cell_type": "code",
   "execution_count": 39,
   "metadata": {},
   "outputs": [
    {
     "data": {
      "text/plain": [
       "97372.78634082334"
      ]
     },
     "execution_count": 39,
     "metadata": {},
     "output_type": "execute_result"
    }
   ],
   "source": [
    " damage_df[damage_df['asset']=='airports']['damage'].sum()"
   ]
  },
  {
   "cell_type": "code",
   "execution_count": 105,
   "metadata": {},
   "outputs": [
    {
     "data": {
      "text/plain": [
       "damage    6.183436e+09\n",
       "Name: education, dtype: float64"
      ]
     },
     "execution_count": 105,
     "metadata": {},
     "output_type": "execute_result"
    }
   ],
   "source": [
    "damage_system_df.loc['education']"
   ]
  },
  {
   "cell_type": "code",
   "execution_count": 99,
   "metadata": {},
   "outputs": [
    {
     "data": {
      "text/plain": [
       "22103277653.556858"
      ]
     },
     "execution_count": 99,
     "metadata": {},
     "output_type": "execute_result"
    }
   ],
   "source": [
    "damage_df['damage'].sum()"
   ]
  },
  {
   "cell_type": "code",
   "execution_count": 100,
   "metadata": {},
   "outputs": [
    {
     "data": {
      "text/plain": [
       "damage    62.360211\n",
       "dtype: float64"
      ]
     },
     "execution_count": 100,
     "metadata": {},
     "output_type": "execute_result"
    }
   ],
   "source": [
    "(damage_system_df.loc['energy'] + damage_system_df.loc['waste'] + damage_system_df.loc['transportation'])/damage_df['damage'].sum()*100"
   ]
  },
  {
   "cell_type": "markdown",
   "metadata": {},
   "source": [
    "## Create circle diagrams per system (excluding airports and landfill damages)"
   ]
  },
  {
   "cell_type": "code",
   "execution_count": 29,
   "metadata": {},
   "outputs": [
    {
     "name": "stderr",
     "output_type": "stream",
     "text": [
      "<ipython-input-29-3ca6e18b495f>:70: MatplotlibDeprecationWarning: Non-1D inputs to pie() are currently squeeze()d, but this behavior is deprecated since 3.1 and will be removed in 3.3; pass a 1D array instead.\n",
      "  patches_fake, text_fake= f4_ax3.pie(100, colors='white', startangle=90, radius=0.75, wedgeprops={'alpha':1, \"edgecolor\":\"k\",'linewidth': 0.5, 'linestyle': 'solid'}) #create empty circle with edge color\n"
     ]
    },
    {
     "data": {
      "image/png": "[encoded data removed]",
      "text/plain": [
       "<Figure size 1296x1296 with 7 Axes>"
      ]
     },
     "metadata": {},
     "output_type": "display_data"
    }
   ],
   "source": [
    "#import excel file\n",
    "storm =  'Xaver' #'EmiliaRomagna' ''Xynthia'#\n",
    "damage_df = pd.read_csv(os.path.join(damage_data_path, 'total_damage_{}.csv'.format(storm)))\n",
    "\n",
    "#organize data per system \n",
    "infra_per_system_dict = get_list_per_system(assets) #get list per system\n",
    "damage_dict = {}\n",
    "for system in system_lst:\n",
    "    lst_zeros = [0.0] * len(infra_per_system_dict[system])\n",
    "    subset_df = pd.DataFrame({'infrastructure_type':infra_per_system_dict[system]})\n",
    "    subset_df.insert(1, 'damage', lst_zeros)\n",
    "    subset_df = subset_df.set_index('infrastructure_type')\n",
    "\n",
    "    for asset in infra_per_system_dict[system]:\n",
    "        if True in (damage_df['asset']==asset).unique():\n",
    "            subset_df.loc[asset, 'damage'] += (damage_df[damage_df['asset']==asset])['damage'].sum()\n",
    "            #print(subset_df)\n",
    "    damage_dict['{}'.format(system)] = subset_df\n",
    "    \n",
    "#adjust damage_dict \n",
    "airport_components = ['runway','terminal']\n",
    "damage_dict['transportation'].loc['airports'].damage = 0 \n",
    "for component in airport_components: #Recalculate airport damage by calculating the total damage to terminals and runways.\n",
    "    damage_dict['transportation'].loc['airports'].damage += damage_dict['transportation'].loc[component].damage \n",
    "    damage_dict['transportation'] = damage_dict['transportation'].drop([component]) #drop airport damage.  \n",
    "\n",
    "fig4 = plt.figure(constrained_layout=False, figsize=(18, 18))\n",
    "gs = fig4.add_gridspec(3, 6, height_ratios=[1,1,1],width_ratios=[1,1,1,1,1,1])\n",
    "\n",
    "f4_ax1 = fig4.add_subplot(gs[0, 1:3])\n",
    "f4_ax2 = fig4.add_subplot(gs[0, 3:5])\n",
    "f4_ax3 = fig4.add_subplot(gs[1, 0:2])\n",
    "f4_ax4 = fig4.add_subplot(gs[1, 2:4])\n",
    "f4_ax5 = fig4.add_subplot(gs[1, 4:6])\n",
    "f4_ax6 = fig4.add_subplot(gs[2, 1:3])\n",
    "f4_ax7 = fig4.add_subplot(gs[2, 3:5])\n",
    "\n",
    "colors = ['#43859D', '#64a6bd', '#90a8c3', '#ada7c9', '#d7b9d5', '#f4cae0','#B57DB1', '#8E528A','#4E2D4C', '#271626','#1F3D47','#386E80']\n",
    "                       \n",
    "#plot 1\n",
    "data = organize_columns(damage_dict['energy'])\n",
    "x,y,relative = data[0], data[1], data[2] \n",
    "\n",
    "patches, texts = f4_ax1.pie(y, colors=colors, startangle=90, radius=0.75)\n",
    "labels = ['{0} ({1:1.2f}%)'.format(i.replace('_',' '),j) for i,j in zip(x, relative)] \n",
    "\n",
    "f4_ax1.legend(patches, labels, loc='center left', bbox_to_anchor=(-0.42, 0.5),\n",
    "           fontsize=11, title='{: ^48}'.format(r\"$\\bfEnergy}$\"), handlelength=1, shadow=True, facecolor=\"white\", framealpha=0.95)\n",
    "\n",
    "#plot 2\n",
    "data = organize_columns(damage_dict['transportation'])\n",
    "x,y,relative = data[0], data[1], data[2] \n",
    "\n",
    "patches, texts = f4_ax2.pie(y, colors=colors, startangle=90, radius=0.75)\n",
    "labels = ['{0} ({1:1.2f}%)'.format(i.replace('_',' '),j) for i,j in zip(x, relative)] \n",
    "\n",
    "f4_ax2.legend(patches, labels, loc='center left', bbox_to_anchor=(-0.42, 0.51),\n",
    "           fontsize=11, title='{: ^55}'.format(r\"$\\bfTransportation}$\"), handlelength=1, shadow=True, facecolor=\"white\", framealpha=0.95)\n",
    "\n",
    "#plot 3\n",
    "#import excel file\n",
    "data = organize_columns(damage_dict['telecommunication'])\n",
    "x,y,relative = data[0], data[1], data[2] \n",
    "\n",
    "patches, texts = f4_ax3.pie(y, colors=colors, startangle=90, radius=0.75)\n",
    "labels = ['{0} ({1:1.2f}%)'.format(i.replace('_',' '),j) for i,j in zip(x, relative)] \n",
    "labels[1] = labels[1].replace('communication tower', 'communication\\ntower')\n",
    "\n",
    "\n",
    "patches_fake, text_fake= f4_ax3.pie(100, colors='white', startangle=90, radius=0.75, wedgeprops={'alpha':1, \"edgecolor\":\"k\",'linewidth': 0.5, 'linestyle': 'solid'}) #create empty circle with edge color\n",
    "patches_fake[0].set_hatch('/')\n",
    "\n",
    "f4_ax3.legend(patches, labels, loc='center left', bbox_to_anchor=(-0.42, 0.5),\n",
    "           fontsize=11, title='{: ^42}'.format(r\"$\\bfTelecommunication}$\"), handlelength=1, shadow=True, facecolor=\"white\", framealpha=0.95)\n",
    "\n",
    "#plot 4\n",
    "#import excel file\n",
    "data = organize_columns(damage_dict['waste'])\n",
    "x,y,relative = data[0], data[1], data[2] \n",
    "\n",
    "patches, texts = f4_ax4.pie(y, colors=colors, startangle=90, radius=0.75)\n",
    "labels = ['{0} ({1:1.2f}%)'.format(i.replace('_',' '),j) for i,j in zip(x, relative)] \n",
    "labels[0]= labels[0].replace('wastewater treatment plant', 'wastewater treatment \\nplant')\n",
    "labels[1] = labels[1].replace('waste transfer station', 'waste transfer\\nstation')\n",
    "\n",
    "#patches_fake, text_fake= f4_ax4.pie(100, colors='white', startangle=90, radius=0.75, wedgeprops={'alpha':1, \"edgecolor\":\"k\",'linewidth': 0.5, 'linestyle': 'solid'}) #create empty circle with edge color\n",
    "#patches_fake[0].set_hatch('/')\n",
    "\n",
    "f4_ax4.legend(patches, labels, loc='center left', bbox_to_anchor=(-0.42, 0.5),\n",
    "           fontsize=11, title='{: ^55}'.format(r\"$\\bfWaste}$\"), handlelength=1, shadow=True, facecolor=\"white\", framealpha=0.95)\n",
    "\n",
    "#plot 5\n",
    "#import excel file\n",
    "data = organize_columns(damage_dict['water'])\n",
    "x,y,relative = data[0], data[1], data[2] \n",
    "\n",
    "patches, texts = f4_ax5.pie(y, colors=colors, startangle=90, radius=0.75)\n",
    "labels = ['{0} ({1:1.2f}%)'.format(i.replace('_',' '),j) for i,j in zip(x, relative)] \n",
    "\n",
    "#patches_fake, text_fake= f4_ax5.pie(100, colors='white', startangle=90, radius=0.75, wedgeprops={'alpha':1, \"edgecolor\":\"k\",'linewidth': 0.5, 'linestyle': 'solid'}) #create empty circle with edge color\n",
    "#patches_fake[0].set_hatch('/')\n",
    "\n",
    "f4_ax5.legend(patches, labels, loc='center left', bbox_to_anchor=(-0.42, 0.5),\n",
    "           fontsize=11, title='{: ^55}'.format(r\"$\\bfWater}$\"), handlelength=1, shadow=True, facecolor=\"white\", framealpha=0.95)\n",
    "\n",
    "#plot 6\n",
    "#import excel file\n",
    "data = organize_columns(damage_dict['healthcare'])\n",
    "x,y,relative = data[0], data[1], data[2] \n",
    "\n",
    "patches, texts = f4_ax6.pie(y, colors=colors, startangle=90, radius=0.75)\n",
    "labels = ['{0} ({1:1.2f}%)'.format(i.replace('_',' '),j) for i,j in zip(x, relative)] \n",
    "\n",
    "f4_ax6.legend(patches, labels, loc='center left', bbox_to_anchor=(-1, 0.5),\n",
    "           fontsize=11, title='{: ^55}'.format(r\"$\\bf{Health}$\"), handlelength=1, shadow=True, ncol=2) \n",
    "\n",
    "#plot 7\n",
    "#import excel file\n",
    "data = organize_columns(damage_dict['education'])\n",
    "x,y,relative = data[0], data[1], data[2] \n",
    "\n",
    "patches, texts = f4_ax7.pie(y, colors=colors, startangle=90, radius=0.75)\n",
    "labels = ['{0} ({1:1.2f}%)'.format(i.replace('_',' '),j) for i,j in zip(x, relative)] \n",
    "\n",
    "f4_ax7.legend(patches, labels, loc='center left', bbox_to_anchor=(-0.42, 0.5),\n",
    "           fontsize=11, title='{: ^52}'.format(r\"$\\bf{Education}$\"), handlelength=1, shadow=True)\n",
    "\n",
    "\n",
    "#gs.update(hspace=0.05) #wspace=0.025, hspace=0.05)\n",
    "plt.subplots_adjust(hspace=-0.78, wspace=1.3)#, hspace=0)\n",
    "\n",
    "plt.show()\n",
    "\n",
    "fig4.savefig(os.path.join(output_path, 'Fig_circle_{}.png'.format(storm)), bbox_inches='tight', dpi=1000)"
   ]
  },
  {
   "cell_type": "code",
   "execution_count": 77,
   "metadata": {},
   "outputs": [
    {
     "data": {
      "text/plain": [
       "13110907.262204487"
      ]
     },
     "execution_count": 77,
     "metadata": {},
     "output_type": "execute_result"
    }
   ],
   "source": [
    "damage_dict['energy'].damage.sum() + damage_dict['transportation'].damage.sum() + damage_dict['telecommunication'].damage.sum() + damage_dict['waste'].damage.sum() + damage_dict['water'].damage.sum() + damage_dict['healthcare'].damage.sum() + damage_dict['education'].damage.sum()"
   ]
  },
  {
   "cell_type": "code",
   "execution_count": 58,
   "metadata": {},
   "outputs": [
    {
     "data": {
      "text/plain": [
       "damage    4.215049e+06\n",
       "dtype: float64"
      ]
     },
     "execution_count": 58,
     "metadata": {},
     "output_type": "execute_result"
    }
   ],
   "source": [
    "damage_dict['transportation'].sum()"
   ]
  },
  {
   "cell_type": "code",
   "execution_count": 56,
   "metadata": {},
   "outputs": [
    {
     "name": "stdout",
     "output_type": "stream",
     "text": [
      "damage    2.418145e+06\n",
      "dtype: float64\n"
     ]
    }
   ],
   "source": [
    "# damage to roads\n",
    "print(damage_dict['transportation'].loc['primary'] + damage_dict['transportation'].loc['secondary']  + damage_dict['transportation'].loc['tertiary']  + damage_dict['transportation'].loc['other']  + damage_dict['transportation'].loc['motorway']  + damage_dict['transportation'].loc['trunk'] )"
   ]
  },
  {
   "cell_type": "code",
   "execution_count": 57,
   "metadata": {},
   "outputs": [
    {
     "data": {
      "text/plain": [
       "damage    1.610867e+06\n",
       "Name: railway, dtype: float64"
      ]
     },
     "execution_count": 57,
     "metadata": {},
     "output_type": "execute_result"
    }
   ],
   "source": [
    "damage_dict['transportation'].loc['railway']"
   ]
  },
  {
   "cell_type": "code",
   "execution_count": 62,
   "metadata": {},
   "outputs": [
    {
     "data": {
      "text/plain": [
       "damage    186036.613081\n",
       "Name: airports, dtype: float64"
      ]
     },
     "execution_count": 62,
     "metadata": {},
     "output_type": "execute_result"
    }
   ],
   "source": [
    "damage_dict['transportation'].loc['airports']"
   ]
  },
  {
   "cell_type": "code",
   "execution_count": 58,
   "metadata": {},
   "outputs": [
    {
     "data": {
      "text/plain": [
       "damage    878554.192596\n",
       "dtype: float64"
      ]
     },
     "execution_count": 58,
     "metadata": {},
     "output_type": "execute_result"
    }
   ],
   "source": [
    "damage_dict['healthcare'].sum() - damage_dict['healthcare'].loc['hospital']"
   ]
  },
  {
   "cell_type": "code",
   "execution_count": 151,
   "metadata": {},
   "outputs": [
    {
     "data": {
      "text/plain": [
       "5798244000.0"
      ]
     },
     "execution_count": 151,
     "metadata": {},
     "output_type": "execute_result"
    }
   ],
   "source": [
    "5.798244e+09"
   ]
  },
  {
   "cell_type": "code",
   "execution_count": 152,
   "metadata": {},
   "outputs": [
    {
     "data": {
      "text/plain": [
       "376677100.0"
      ]
     },
     "execution_count": 152,
     "metadata": {},
     "output_type": "execute_result"
    }
   ],
   "source": [
    "3.766771e+08"
   ]
  },
  {
   "cell_type": "code",
   "execution_count": 154,
   "metadata": {},
   "outputs": [
    {
     "data": {
      "text/plain": [
       "12931.75543304934"
      ]
     },
     "execution_count": 154,
     "metadata": {},
     "output_type": "execute_result"
    }
   ],
   "source": [
    "8.515173e+06/658.47"
   ]
  },
  {
   "cell_type": "code",
   "execution_count": 11,
   "metadata": {},
   "outputs": [],
   "source": [
    "infra_path_temp = os.path.abspath(r\"\\\\labsdfs.labs.vu.nl\\labsdfs\\BETA-IVM-BAZIS\\data_catalogue\\open_street_map\\receipt_storylines\\osm_data\")\n",
    "df = from_geofeather(os.path.join(infra_path_temp, '{}_education_facilities.feather'.format('ITA')))"
   ]
  },
  {
   "cell_type": "code",
   "execution_count": 39,
   "metadata": {},
   "outputs": [
    {
     "data": {
      "text/plain": [
       "pygeos.lib.GEOSGeometry"
      ]
     },
     "execution_count": 39,
     "metadata": {},
     "output_type": "execute_result"
    }
   ],
   "source": [
    "type(df['geometry'].loc[0])"
   ]
  },
  {
   "cell_type": "code",
   "execution_count": 12,
   "metadata": {},
   "outputs": [
    {
     "data": {
      "text/plain": [
       "0        POLYGON ((12.6 35.5, 12.6 35.5, 12.6 35.5, 12....\n",
       "1        POLYGON ((12.6 35.5, 12.6 35.5, 12.6 35.5, 12....\n",
       "2        POLYGON ((12.6 35.5, 12.6 35.5, 12.6 35.5, 12....\n",
       "3        POLYGON ((12.6 35.5, 12.6 35.5, 12.6 35.5, 12....\n",
       "4        POLYGON ((15.1 36.7, 15.1 36.7, 15.1 36.7, 15....\n",
       "                               ...                        \n",
       "21117    POLYGON ((11.6 47, 11.6 47, 11.6 47, 11.6 47, ...\n",
       "21118    POLYGON ((11.9 47, 11.9 47, 11.9 47, 11.9 47, ...\n",
       "21119    POLYGON ((11.9 47, 11.9 47, 11.9 47, 11.9 47, ...\n",
       "21120    POLYGON ((12 47, 12 47, 12 47, 12 47, 12 47, 1...\n",
       "21121        POLYGON ((12 47, 12 47, 12 47, 12 47, 12 47))\n",
       "Name: geometry, Length: 21122, dtype: object"
      ]
     },
     "execution_count": 12,
     "metadata": {},
     "output_type": "execute_result"
    }
   ],
   "source": [
    "df['geometry']"
   ]
  },
  {
   "cell_type": "markdown",
   "metadata": {},
   "source": [
    "## exposed assets"
   ]
  },
  {
   "cell_type": "code",
   "execution_count": 64,
   "metadata": {},
   "outputs": [],
   "source": [
    "damage_data_path_temp = os.path.abspath(r\"\\\\labsdfs.labs.vu.nl\\labsdfs\\BETA-IVM-BAZIS\\data_catalogue\\open_street_map\\receipt_storylines\\damage_data\")\n",
    "df = pd.read_csv(os.path.join(damage_data_path_temp, 'education_facilities_{}.csv'.format('ITA')))\n",
    "df = df.drop(columns='Unnamed: 0')"
   ]
  },
  {
   "cell_type": "code",
   "execution_count": 66,
   "metadata": {},
   "outputs": [],
   "source": [
    "from shapely.wkb import loads\n",
    "temp_df = df.copy()\n",
    "temp_df['geometry'] = pygeos.from_wkt(temp_df.geometry) \n",
    "temp_df['geometry'] = temp_df.geometry.apply(lambda x : loads(pygeos.to_wkb(x))) #transform geometry back to shapely geometry\n",
    "temp_df = gpd.GeoDataFrame(temp_df, crs=\"EPSG:5659\", geometry='geometry')\n",
    "temp_df.to_file(os.path.join(os.path.abspath(r'C:\\Users\\snn490\\surfdrive\\PhD documents\\RECEIPT project\\Deliverables\\Deliverable 2021\\damage_data'), 'education_facilities_{}.gpkg'.format('ITA')), layer=' ',driver=\"GPKG\")"
   ]
  },
  {
   "cell_type": "markdown",
   "metadata": {},
   "source": [
    "# spatial figures"
   ]
  },
  {
   "cell_type": "code",
   "execution_count": 17,
   "metadata": {},
   "outputs": [],
   "source": [
    "damage_data_path_temp = os.path.abspath(r\"\\\\labsdfs.labs.vu.nl\\labsdfs\\BETA-IVM-BAZIS\\data_catalogue\\open_street_map\\receipt_storylines\\damage_data\") #path to damage data\n",
    "grid_data_path = os.path.abspath(r\"\\\\labsdfs.labs.vu.nl\\labsdfs\\BETA-IVM-BAZIS\\data_catalogue\\open_street_map\\receipt_storylines\\gridded_data\")#path to grid data\n",
    "\n",
    "assets = {\"energy\": {\"power\": [\"line\", \"minor_line\",\"cable\",\"plant\",\"substation\",\n",
    "                                        \"power_tower\",\"power_pole\"]}, \n",
    "                \"transportation\": {\"roads\":  [\"motorway\",\"trunk\",\"primary\", \"secondary\", \"tertiary\",\"other\"], \n",
    "                                    \"airports\": [\"airports\", \"runway\", \"terminal\"],\n",
    "                                    \"railways\": [\"railway\"]},\n",
    "                \"water\": {\"water_supply\": [\"water_tower\", \"water_well\", \"reservoir_covered\",\n",
    "                                            \"water_works\"]},\n",
    "                \"waste\": {\"waste_solid\": [\"waste_transfer_station\"],\n",
    "                        \"waste_water\": [\"wastewater_treatment_plant\"]},\n",
    "                \"telecommunication\": {\"telecom\": [\"communication_tower\", \"mast\"]},\n",
    "                \"healthcare\": {\"health\": [\"clinic\", \"doctors\", \"hospital\", \"dentist\", \"pharmacy\", \n",
    "                            \"physiotherapist\", \"alternative\", \"laboratory\", \"optometrist\", \"rehabilitation\", \n",
    "                            \"blood_donation\", \"birthing_center\"]},\n",
    "                \"education\": {\"education_facilities\": [\"college\", \"kindergarten\", \"library\", \"school\", \"university\"]}\n",
    "                }\n",
    "\n",
    "# create variables\n",
    "system_lst = [system for system in assets] #make list with systems\n",
    "#subsystem_lst = [subsystem for system in assets for subsystem in assets[system]] #make list with subsystems\n",
    "\n",
    "#storm_dict = {'Xynthia': 'FRA'}#, 'Xaver': 'DEU', 'EmiliaRomagna': 'ITA'} \n",
    "storm_dict = {'Xaver': 'DEU'}#, 'EmiliaRomagna': 'ITA'}\n",
    "#storm_dict = {'EmiliaRomagna': 'ITA'} "
   ]
  },
  {
   "cell_type": "code",
   "execution_count": 18,
   "metadata": {},
   "outputs": [
    {
     "name": "stdout",
     "output_type": "stream",
     "text": [
      "Xaver\n"
     ]
    },
    {
     "ename": "KeyboardInterrupt",
     "evalue": "",
     "output_type": "error",
     "traceback": [
      "\u001b[1;31m---------------------------------------------------------------------------\u001b[0m",
      "\u001b[1;31mKeyboardInterrupt\u001b[0m                         Traceback (most recent call last)",
      "\u001b[1;32m<ipython-input-18-c9794f888678>\u001b[0m in \u001b[0;36m<module>\u001b[1;34m\u001b[0m\n\u001b[0;32m      8\u001b[0m     \u001b[1;31m#organize grid data for storm\u001b[0m\u001b[1;33m\u001b[0m\u001b[1;33m\u001b[0m\u001b[1;33m\u001b[0m\u001b[0m\n\u001b[0;32m      9\u001b[0m     \u001b[0mgridded_country\u001b[0m\u001b[1;33m=\u001b[0m \u001b[0mfrom_geofeather\u001b[0m\u001b[1;33m(\u001b[0m\u001b[0mos\u001b[0m\u001b[1;33m.\u001b[0m\u001b[0mpath\u001b[0m\u001b[1;33m.\u001b[0m\u001b[0mjoin\u001b[0m\u001b[1;33m(\u001b[0m\u001b[0mgrid_data_path\u001b[0m\u001b[1;33m,\u001b[0m \u001b[1;34m'{}_gridded_0.01.geofeather'\u001b[0m\u001b[1;33m.\u001b[0m\u001b[0mformat\u001b[0m\u001b[1;33m(\u001b[0m\u001b[0mstorm_dict\u001b[0m\u001b[1;33m[\u001b[0m\u001b[0mstorm\u001b[0m\u001b[1;33m]\u001b[0m\u001b[1;33m)\u001b[0m\u001b[1;33m)\u001b[0m\u001b[1;33m)\u001b[0m\u001b[1;33m\u001b[0m\u001b[1;33m\u001b[0m\u001b[0m\n\u001b[1;32m---> 10\u001b[1;33m     \u001b[0mgridded_country\u001b[0m \u001b[1;33m=\u001b[0m \u001b[0mfunctions\u001b[0m\u001b[1;33m.\u001b[0m\u001b[0mtransform_to_gpd\u001b[0m\u001b[1;33m(\u001b[0m\u001b[0mgridded_country\u001b[0m\u001b[1;33m)\u001b[0m\u001b[1;33m\u001b[0m\u001b[1;33m\u001b[0m\u001b[0m\n\u001b[0m\u001b[0;32m     11\u001b[0m     \u001b[1;32mif\u001b[0m \u001b[0mstorm\u001b[0m \u001b[1;32min\u001b[0m \u001b[1;33m[\u001b[0m\u001b[1;34m'Xaver'\u001b[0m\u001b[1;33m,\u001b[0m\u001b[1;34m'Xynthia'\u001b[0m\u001b[1;33m]\u001b[0m\u001b[1;33m:\u001b[0m\u001b[1;33m\u001b[0m\u001b[1;33m\u001b[0m\u001b[0m\n\u001b[0;32m     12\u001b[0m         \u001b[0mgridded_country\u001b[0m \u001b[1;33m=\u001b[0m \u001b[0mgridded_country\u001b[0m\u001b[1;33m.\u001b[0m\u001b[0mto_crs\u001b[0m\u001b[1;33m(\u001b[0m\u001b[0mepsg\u001b[0m\u001b[1;33m=\u001b[0m\u001b[1;36m3857\u001b[0m\u001b[1;33m)\u001b[0m\u001b[1;33m\u001b[0m\u001b[1;33m\u001b[0m\u001b[0m\n",
      "\u001b[1;32mC:\\Projects\\gmhcira\\scripts\\functions.py\u001b[0m in \u001b[0;36mtransform_to_gpd\u001b[1;34m(df1)\u001b[0m\n\u001b[0;32m     43\u001b[0m     \u001b[1;32mfrom\u001b[0m \u001b[0mshapely\u001b[0m\u001b[1;33m.\u001b[0m\u001b[0mwkb\u001b[0m \u001b[1;32mimport\u001b[0m \u001b[0mloads\u001b[0m\u001b[1;33m\u001b[0m\u001b[1;33m\u001b[0m\u001b[0m\n\u001b[0;32m     44\u001b[0m     \u001b[0mtemp_df\u001b[0m \u001b[1;33m=\u001b[0m \u001b[0mdf1\u001b[0m\u001b[1;33m.\u001b[0m\u001b[0mcopy\u001b[0m\u001b[1;33m(\u001b[0m\u001b[1;33m)\u001b[0m\u001b[1;33m\u001b[0m\u001b[1;33m\u001b[0m\u001b[0m\n\u001b[1;32m---> 45\u001b[1;33m     \u001b[0mtemp_df\u001b[0m\u001b[1;33m[\u001b[0m\u001b[1;34m'geometry'\u001b[0m\u001b[1;33m]\u001b[0m \u001b[1;33m=\u001b[0m \u001b[0mtemp_df\u001b[0m\u001b[1;33m.\u001b[0m\u001b[0mgeometry\u001b[0m\u001b[1;33m.\u001b[0m\u001b[0mapply\u001b[0m\u001b[1;33m(\u001b[0m\u001b[1;32mlambda\u001b[0m \u001b[0mx\u001b[0m \u001b[1;33m:\u001b[0m \u001b[0mloads\u001b[0m\u001b[1;33m(\u001b[0m\u001b[0mpygeos\u001b[0m\u001b[1;33m.\u001b[0m\u001b[0mto_wkb\u001b[0m\u001b[1;33m(\u001b[0m\u001b[0mx\u001b[0m\u001b[1;33m)\u001b[0m\u001b[1;33m)\u001b[0m\u001b[1;33m)\u001b[0m \u001b[1;31m#transform geometry back to shapely geometry\u001b[0m\u001b[1;33m\u001b[0m\u001b[1;33m\u001b[0m\u001b[0m\n\u001b[0m\u001b[0;32m     46\u001b[0m     \u001b[0mtemp_df\u001b[0m \u001b[1;33m=\u001b[0m \u001b[0mgpd\u001b[0m\u001b[1;33m.\u001b[0m\u001b[0mGeoDataFrame\u001b[0m\u001b[1;33m(\u001b[0m\u001b[0mtemp_df\u001b[0m\u001b[1;33m,\u001b[0m \u001b[0mcrs\u001b[0m\u001b[1;33m=\u001b[0m\u001b[1;34m\"EPSG:4326\"\u001b[0m\u001b[1;33m,\u001b[0m \u001b[0mgeometry\u001b[0m\u001b[1;33m=\u001b[0m\u001b[1;34m'geometry'\u001b[0m\u001b[1;33m)\u001b[0m\u001b[1;33m\u001b[0m\u001b[1;33m\u001b[0m\u001b[0m\n\u001b[0;32m     47\u001b[0m \u001b[1;33m\u001b[0m\u001b[0m\n",
      "\u001b[1;32m~\\AppData\\Local\\Continuum\\miniconda3\\envs\\py38\\lib\\site-packages\\pandas\\core\\series.py\u001b[0m in \u001b[0;36mapply\u001b[1;34m(self, func, convert_dtype, args, **kwds)\u001b[0m\n\u001b[0;32m   3846\u001b[0m             \u001b[1;32melse\u001b[0m\u001b[1;33m:\u001b[0m\u001b[1;33m\u001b[0m\u001b[1;33m\u001b[0m\u001b[0m\n\u001b[0;32m   3847\u001b[0m                 \u001b[0mvalues\u001b[0m \u001b[1;33m=\u001b[0m \u001b[0mself\u001b[0m\u001b[1;33m.\u001b[0m\u001b[0mastype\u001b[0m\u001b[1;33m(\u001b[0m\u001b[0mobject\u001b[0m\u001b[1;33m)\u001b[0m\u001b[1;33m.\u001b[0m\u001b[0mvalues\u001b[0m\u001b[1;33m\u001b[0m\u001b[1;33m\u001b[0m\u001b[0m\n\u001b[1;32m-> 3848\u001b[1;33m                 \u001b[0mmapped\u001b[0m \u001b[1;33m=\u001b[0m \u001b[0mlib\u001b[0m\u001b[1;33m.\u001b[0m\u001b[0mmap_infer\u001b[0m\u001b[1;33m(\u001b[0m\u001b[0mvalues\u001b[0m\u001b[1;33m,\u001b[0m \u001b[0mf\u001b[0m\u001b[1;33m,\u001b[0m \u001b[0mconvert\u001b[0m\u001b[1;33m=\u001b[0m\u001b[0mconvert_dtype\u001b[0m\u001b[1;33m)\u001b[0m\u001b[1;33m\u001b[0m\u001b[1;33m\u001b[0m\u001b[0m\n\u001b[0m\u001b[0;32m   3849\u001b[0m \u001b[1;33m\u001b[0m\u001b[0m\n\u001b[0;32m   3850\u001b[0m         \u001b[1;32mif\u001b[0m \u001b[0mlen\u001b[0m\u001b[1;33m(\u001b[0m\u001b[0mmapped\u001b[0m\u001b[1;33m)\u001b[0m \u001b[1;32mand\u001b[0m \u001b[0misinstance\u001b[0m\u001b[1;33m(\u001b[0m\u001b[0mmapped\u001b[0m\u001b[1;33m[\u001b[0m\u001b[1;36m0\u001b[0m\u001b[1;33m]\u001b[0m\u001b[1;33m,\u001b[0m \u001b[0mSeries\u001b[0m\u001b[1;33m)\u001b[0m\u001b[1;33m:\u001b[0m\u001b[1;33m\u001b[0m\u001b[1;33m\u001b[0m\u001b[0m\n",
      "\u001b[1;32mpandas\\_libs\\lib.pyx\u001b[0m in \u001b[0;36mpandas._libs.lib.map_infer\u001b[1;34m()\u001b[0m\n",
      "\u001b[1;32mC:\\Projects\\gmhcira\\scripts\\functions.py\u001b[0m in \u001b[0;36m<lambda>\u001b[1;34m(x)\u001b[0m\n\u001b[0;32m     43\u001b[0m     \u001b[1;32mfrom\u001b[0m \u001b[0mshapely\u001b[0m\u001b[1;33m.\u001b[0m\u001b[0mwkb\u001b[0m \u001b[1;32mimport\u001b[0m \u001b[0mloads\u001b[0m\u001b[1;33m\u001b[0m\u001b[1;33m\u001b[0m\u001b[0m\n\u001b[0;32m     44\u001b[0m     \u001b[0mtemp_df\u001b[0m \u001b[1;33m=\u001b[0m \u001b[0mdf1\u001b[0m\u001b[1;33m.\u001b[0m\u001b[0mcopy\u001b[0m\u001b[1;33m(\u001b[0m\u001b[1;33m)\u001b[0m\u001b[1;33m\u001b[0m\u001b[1;33m\u001b[0m\u001b[0m\n\u001b[1;32m---> 45\u001b[1;33m     \u001b[0mtemp_df\u001b[0m\u001b[1;33m[\u001b[0m\u001b[1;34m'geometry'\u001b[0m\u001b[1;33m]\u001b[0m \u001b[1;33m=\u001b[0m \u001b[0mtemp_df\u001b[0m\u001b[1;33m.\u001b[0m\u001b[0mgeometry\u001b[0m\u001b[1;33m.\u001b[0m\u001b[0mapply\u001b[0m\u001b[1;33m(\u001b[0m\u001b[1;32mlambda\u001b[0m \u001b[0mx\u001b[0m \u001b[1;33m:\u001b[0m \u001b[0mloads\u001b[0m\u001b[1;33m(\u001b[0m\u001b[0mpygeos\u001b[0m\u001b[1;33m.\u001b[0m\u001b[0mto_wkb\u001b[0m\u001b[1;33m(\u001b[0m\u001b[0mx\u001b[0m\u001b[1;33m)\u001b[0m\u001b[1;33m)\u001b[0m\u001b[1;33m)\u001b[0m \u001b[1;31m#transform geometry back to shapely geometry\u001b[0m\u001b[1;33m\u001b[0m\u001b[1;33m\u001b[0m\u001b[0m\n\u001b[0m\u001b[0;32m     46\u001b[0m     \u001b[0mtemp_df\u001b[0m \u001b[1;33m=\u001b[0m \u001b[0mgpd\u001b[0m\u001b[1;33m.\u001b[0m\u001b[0mGeoDataFrame\u001b[0m\u001b[1;33m(\u001b[0m\u001b[0mtemp_df\u001b[0m\u001b[1;33m,\u001b[0m \u001b[0mcrs\u001b[0m\u001b[1;33m=\u001b[0m\u001b[1;34m\"EPSG:4326\"\u001b[0m\u001b[1;33m,\u001b[0m \u001b[0mgeometry\u001b[0m\u001b[1;33m=\u001b[0m\u001b[1;34m'geometry'\u001b[0m\u001b[1;33m)\u001b[0m\u001b[1;33m\u001b[0m\u001b[1;33m\u001b[0m\u001b[0m\n\u001b[0;32m     47\u001b[0m \u001b[1;33m\u001b[0m\u001b[0m\n",
      "\u001b[1;32m~\\AppData\\Local\\Continuum\\miniconda3\\envs\\py38\\lib\\site-packages\\shapely\\wkb.py\u001b[0m in \u001b[0;36mloads\u001b[1;34m(data, hex)\u001b[0m\n\u001b[0;32m     15\u001b[0m         \u001b[1;32mreturn\u001b[0m \u001b[0mreader\u001b[0m\u001b[1;33m.\u001b[0m\u001b[0mread_hex\u001b[0m\u001b[1;33m(\u001b[0m\u001b[0mdata\u001b[0m\u001b[1;33m)\u001b[0m\u001b[1;33m\u001b[0m\u001b[1;33m\u001b[0m\u001b[0m\n\u001b[0;32m     16\u001b[0m     \u001b[1;32melse\u001b[0m\u001b[1;33m:\u001b[0m\u001b[1;33m\u001b[0m\u001b[1;33m\u001b[0m\u001b[0m\n\u001b[1;32m---> 17\u001b[1;33m         \u001b[1;32mreturn\u001b[0m \u001b[0mreader\u001b[0m\u001b[1;33m.\u001b[0m\u001b[0mread\u001b[0m\u001b[1;33m(\u001b[0m\u001b[0mdata\u001b[0m\u001b[1;33m)\u001b[0m\u001b[1;33m\u001b[0m\u001b[1;33m\u001b[0m\u001b[0m\n\u001b[0m\u001b[0;32m     18\u001b[0m \u001b[1;33m\u001b[0m\u001b[0m\n\u001b[0;32m     19\u001b[0m \u001b[1;32mdef\u001b[0m \u001b[0mload\u001b[0m\u001b[1;33m(\u001b[0m\u001b[0mfp\u001b[0m\u001b[1;33m,\u001b[0m \u001b[0mhex\u001b[0m\u001b[1;33m=\u001b[0m\u001b[1;32mFalse\u001b[0m\u001b[1;33m)\u001b[0m\u001b[1;33m:\u001b[0m\u001b[1;33m\u001b[0m\u001b[1;33m\u001b[0m\u001b[0m\n",
      "\u001b[1;32m~\\AppData\\Local\\Continuum\\miniconda3\\envs\\py38\\lib\\site-packages\\shapely\\geos.py\u001b[0m in \u001b[0;36mread\u001b[1;34m(self, data)\u001b[0m\n\u001b[0;32m    421\u001b[0m     \u001b[1;32mdef\u001b[0m \u001b[0mread\u001b[0m\u001b[1;33m(\u001b[0m\u001b[0mself\u001b[0m\u001b[1;33m,\u001b[0m \u001b[0mdata\u001b[0m\u001b[1;33m)\u001b[0m\u001b[1;33m:\u001b[0m\u001b[1;33m\u001b[0m\u001b[1;33m\u001b[0m\u001b[0m\n\u001b[0;32m    422\u001b[0m         \u001b[1;34m\"\"\"Returns geometry from WKB\"\"\"\u001b[0m\u001b[1;33m\u001b[0m\u001b[1;33m\u001b[0m\u001b[0m\n\u001b[1;32m--> 423\u001b[1;33m         geom = self._lgeos.GEOSWKBReader_read(\n\u001b[0m\u001b[0;32m    424\u001b[0m             self._reader, c_char_p(data), c_size_t(len(data)))\n\u001b[0;32m    425\u001b[0m         \u001b[1;32mif\u001b[0m \u001b[1;32mnot\u001b[0m \u001b[0mgeom\u001b[0m\u001b[1;33m:\u001b[0m\u001b[1;33m\u001b[0m\u001b[1;33m\u001b[0m\u001b[0m\n",
      "\u001b[1;31mKeyboardInterrupt\u001b[0m: "
     ]
    }
   ],
   "source": [
    "damage_dict = {}\n",
    "infra_per_system_dict = get_list_per_system(assets) #get list per system\n",
    "datatypes_dict = {'power':['lines','poly','point'],'airports':['lines','poly']} \n",
    "\n",
    "for storm in storm_dict:\n",
    "    print(storm)\n",
    "    \n",
    "    #organize grid data for storm\n",
    "    gridded_country= from_geofeather(os.path.join(grid_data_path, '{}_gridded_0.01.geofeather'.format(storm_dict[storm])))\n",
    "    gridded_country = functions.transform_to_gpd(gridded_country)\n",
    "    if storm in ['Xaver','Xynthia']:\n",
    "        gridded_country = gridded_country.to_crs(epsg=3857)\n",
    "    else: #for Italy\n",
    "        gridded_country = gridded_country.to_crs(epsg=5659)\n",
    "    \n",
    "    gridded_country = pd.DataFrame(gridded_country) \n",
    "    gridded_country['geometry'] = pygeos.from_shapely(gridded_country.geometry) #back to pygeos\n",
    "    #add damage column\n",
    "    gridded_country[\"damage\"] = 0.0\n",
    "    \n",
    "    #organize damage data per asset per sub_system \n",
    "    for system in system_lst:\n",
    "        for sub_system in assets[system]:\n",
    "            subset_df = pd.DataFrame(columns = ['asset','damage','geometry'])\n",
    "            if sub_system == 'power':\n",
    "                for datatype in datatypes_dict['power']:\n",
    "                    temp_df = gpd.read_file(os.path.join(damage_data_path, '{}_{}_{}.shp'.format(storm_dict[storm], sub_system, datatype)))\n",
    "                    temp_df = temp_df[['asset','damage','geometry']]\n",
    "                    subset_df = subset_df.append(temp_df)\n",
    "                subset_df = subset_df.reset_index(drop=True)\n",
    "                damage_dict['{}'.format(sub_system)] = subset_df  \n",
    "            \n",
    "            elif sub_system == 'airports':\n",
    "                for datatype in datatypes_dict['airports']:\n",
    "                    temp_df = gpd.read_file(os.path.join(damage_data_path, '{}_{}_{}.shp'.format(storm_dict[storm], sub_system, datatype)))\n",
    "                    temp_df = temp_df[['asset','damage','geometry']]\n",
    "                    subset_df = subset_df.append(temp_df)\n",
    "                subset_df = subset_df.reset_index(drop=True)\n",
    "                damage_dict['{}'.format(sub_system)] = subset_df  \n",
    "                print(subset_df)\n",
    "                    \n",
    "            else:\n",
    "                if os.path.isfile(os.path.join(damage_data_path, '{}_{}.shp'.format(storm_dict[storm], sub_system))):\n",
    "                    temp_df = gpd.read_file(os.path.join(damage_data_path, '{}_{}.shp'.format(storm_dict[storm], sub_system)))\n",
    "                    temp_df = temp_df[['asset','damage','geometry']]\n",
    "                subset_df = temp_df.reset_index(drop=True)\n",
    "                damage_dict['{}'.format(sub_system)] = subset_df \n",
    "                    \n",
    "    ##calculate damage per grid cell\n",
    "    for system in assets:\n",
    "        print(system)\n",
    "        for sub_system in assets[system]:\n",
    "            print('This is {}'.format(sub_system))\n",
    "            #delete exposed assets without damage\n",
    "            damage_df = (damage_dict[sub_system][damage_dict[sub_system]['damage']!=0.0]).reset_index(drop=True) #drop damages = 0\n",
    "            for asset in assets[system][sub_system]:\n",
    "                if asset != 'airports': #exclude airports\n",
    "                    if True in (damage_df['asset']==asset).unique():\n",
    "                        asset_damage_df = (damage_df[damage_df['asset']==asset])\n",
    "                        asset_damage_df = pd.DataFrame(asset_damage_df) \n",
    "                        asset_damage_df['geometry'] = pygeos.from_shapely(asset_damage_df.geometry) \n",
    "                        if asset_damage_df.empty == False:\n",
    "                            geometry_type = pygeos.geometry.get_type_id(asset_damage_df.iloc[0][\"geometry\"]) #get geometry id\n",
    "                            #check for each asset if overlap with grid cell\n",
    "                            spat_tree = pygeos.STRtree(gridded_country.geometry) # https://pygeos.readthedocs.io/en/latest/strtree.htm\n",
    "                            for asset_row in asset_damage_df.itertuples():\n",
    "                                grid_overlay_df = (gridded_country.loc[spat_tree.query(asset_row.geometry,predicate='intersects').tolist()]).sort_index(ascending=True) #get assets that overlaps with polygon\n",
    "                                if len(grid_overlay_df) == 1:\n",
    "                                    gridded_country.loc[grid_overlay_df.index, 'damage'] += asset_row.damage #assign damage to grid cell\n",
    "                                elif len(grid_overlay_df) > 1: \n",
    "                                    for grid_row in grid_overlay_df.itertuples():\n",
    "                                        gridded_country.loc[grid_row.Index, 'damage'] += asset_row.damage/len(grid_overlay_df) #assign disaggregated damage to grid cell\n",
    "    \n",
    "    gridded_country_set = gridded_country[gridded_country['damage'] != 0.0]   #remove all grid cells with nan/0 data\n",
    "    gridded_country_set = gridded_country_set.reset_index(drop=True)\n",
    "    \n",
    "    # save as geofeather and gpkg\n",
    "    from shapely.wkb import loads\n",
    "    if storm in ['Xaver','Xynthia']:\n",
    "        #to_geofeather(gridded_country_set, os.path.join(os.path.abspath(r'\\\\labsdfs.labs.vu.nl\\labsdfs\\BETA-IVM-BAZIS\\data_catalogue\\open_street_map\\receipt_storylines\\gridded_data\\damage'), '{}_gridded_0_01.geofeather'.format(storm_dict[storm])), crs=\"EPSG=3857\") #save as geofeather\n",
    "\n",
    "        temp_df = gridded_country_set.copy()\n",
    "        temp_df['geometry'] = temp_df.geometry.apply(lambda x : loads(pygeos.to_wkb(x))) #transform geometry back to shapely geometry\n",
    "        temp_df = gpd.GeoDataFrame(temp_df, crs=\"EPSG:3857\", geometry='geometry')\n",
    "        with Geopackage(os.path.join(os.path.abspath(r'\\\\labsdfs.labs.vu.nl\\labsdfs\\BETA-IVM-BAZIS\\data_catalogue\\open_street_map\\receipt_storylines\\gridded_data\\damage'),'{}_gridded_0_01.gpkg'.format(storm_dict[storm])), 'w') as out:   \n",
    "            out.add_layer(gridded_country_set, name=' ')\n",
    "    else: #for Italy\n",
    "        to_geofeather(gridded_country_set, os.path.join(os.path.abspath(r'\\\\labsdfs.labs.vu.nl\\labsdfs\\BETA-IVM-BAZIS\\data_catalogue\\open_street_map\\receipt_storylines\\gridded_data\\damage'), '{}_gridded_0_01.geofeather'.format(storm_dict[storm])), crs=\"EPSG=5659\") #save as geofeather\n",
    "\n",
    "        temp_df = gridded_country_set.copy()\n",
    "        temp_df['geometry'] = temp_df.geometry.apply(lambda x : loads(pygeos.to_wkb(x))) #transform geometry back to shapely geometry\n",
    "        temp_df = gpd.GeoDataFrame(temp_df, crs=\"EPSG:5659\", geometry='geometry')\n",
    "        with Geopackage(os.path.join(os.path.abspath(r'\\\\labsdfs.labs.vu.nl\\labsdfs\\BETA-IVM-BAZIS\\data_catalogue\\open_street_map\\receipt_storylines\\gridded_data\\damage'),'{}_gridded_0_01.gpkg'.format(storm_dict[storm])), 'w') as out:   \n",
    "            out.add_layer(gridded_country_set, name=' ')\n",
    "\n",
    "        \n",
    "                    "
   ]
  },
  {
   "cell_type": "code",
   "execution_count": 38,
   "metadata": {},
   "outputs": [
    {
     "data": {
      "text/html": [
       "<div>\n",
       "<style scoped>\n",
       "    .dataframe tbody tr th:only-of-type {\n",
       "        vertical-align: middle;\n",
       "    }\n",
       "\n",
       "    .dataframe tbody tr th {\n",
       "        vertical-align: top;\n",
       "    }\n",
       "\n",
       "    .dataframe thead th {\n",
       "        text-align: right;\n",
       "    }\n",
       "</style>\n",
       "<table border=\"1\" class=\"dataframe\">\n",
       "  <thead>\n",
       "    <tr style=\"text-align: right;\">\n",
       "      <th></th>\n",
       "      <th>geometry</th>\n",
       "      <th>damage</th>\n",
       "    </tr>\n",
       "  </thead>\n",
       "  <tbody>\n",
       "    <tr>\n",
       "      <th>0</th>\n",
       "      <td>POLYGON ((-5.25e+05 6.12e+06, -5.24e+05 6.12e+...</td>\n",
       "      <td>47.316573</td>\n",
       "    </tr>\n",
       "    <tr>\n",
       "      <th>1</th>\n",
       "      <td>POLYGON ((-5.25e+05 6.12e+06, -5.24e+05 6.12e+...</td>\n",
       "      <td>1536.703357</td>\n",
       "    </tr>\n",
       "    <tr>\n",
       "      <th>2</th>\n",
       "      <td>POLYGON ((-5.2e+05 6.12e+06, -5.19e+05 6.12e+0...</td>\n",
       "      <td>930.347820</td>\n",
       "    </tr>\n",
       "    <tr>\n",
       "      <th>3</th>\n",
       "      <td>POLYGON ((-5.19e+05 6.11e+06, -5.18e+05 6.11e+...</td>\n",
       "      <td>128.518028</td>\n",
       "    </tr>\n",
       "    <tr>\n",
       "      <th>4</th>\n",
       "      <td>POLYGON ((-5.16e+05 6.11e+06, -5.15e+05 6.11e+...</td>\n",
       "      <td>1039.026081</td>\n",
       "    </tr>\n",
       "    <tr>\n",
       "      <th>...</th>\n",
       "      <td>...</td>\n",
       "      <td>...</td>\n",
       "    </tr>\n",
       "    <tr>\n",
       "      <th>3391</th>\n",
       "      <td>POLYGON ((-1.04e+04 5.59e+06, -9.32e+03 5.59e+...</td>\n",
       "      <td>338.025118</td>\n",
       "    </tr>\n",
       "    <tr>\n",
       "      <th>3392</th>\n",
       "      <td>POLYGON ((-9.32e+03 5.59e+06, -8.21e+03 5.59e+...</td>\n",
       "      <td>230.712224</td>\n",
       "    </tr>\n",
       "    <tr>\n",
       "      <th>3393</th>\n",
       "      <td>POLYGON ((-9.32e+03 5.59e+06, -8.21e+03 5.59e+...</td>\n",
       "      <td>107.312894</td>\n",
       "    </tr>\n",
       "    <tr>\n",
       "      <th>3394</th>\n",
       "      <td>POLYGON ((5.15e+03 5.59e+06, 6.26e+03 5.59e+06...</td>\n",
       "      <td>87.112885</td>\n",
       "    </tr>\n",
       "    <tr>\n",
       "      <th>3395</th>\n",
       "      <td>POLYGON ((6.26e+03 5.59e+06, 7.37e+03 5.59e+06...</td>\n",
       "      <td>226.300299</td>\n",
       "    </tr>\n",
       "  </tbody>\n",
       "</table>\n",
       "<p>3396 rows × 2 columns</p>\n",
       "</div>"
      ],
      "text/plain": [
       "                                               geometry       damage\n",
       "0     POLYGON ((-5.25e+05 6.12e+06, -5.24e+05 6.12e+...    47.316573\n",
       "1     POLYGON ((-5.25e+05 6.12e+06, -5.24e+05 6.12e+...  1536.703357\n",
       "2     POLYGON ((-5.2e+05 6.12e+06, -5.19e+05 6.12e+0...   930.347820\n",
       "3     POLYGON ((-5.19e+05 6.11e+06, -5.18e+05 6.11e+...   128.518028\n",
       "4     POLYGON ((-5.16e+05 6.11e+06, -5.15e+05 6.11e+...  1039.026081\n",
       "...                                                 ...          ...\n",
       "3391  POLYGON ((-1.04e+04 5.59e+06, -9.32e+03 5.59e+...   338.025118\n",
       "3392  POLYGON ((-9.32e+03 5.59e+06, -8.21e+03 5.59e+...   230.712224\n",
       "3393  POLYGON ((-9.32e+03 5.59e+06, -8.21e+03 5.59e+...   107.312894\n",
       "3394  POLYGON ((5.15e+03 5.59e+06, 6.26e+03 5.59e+06...    87.112885\n",
       "3395  POLYGON ((6.26e+03 5.59e+06, 7.37e+03 5.59e+06...   226.300299\n",
       "\n",
       "[3396 rows x 2 columns]"
      ]
     },
     "execution_count": 38,
     "metadata": {},
     "output_type": "execute_result"
    }
   ],
   "source": [
    "gridded_country_set"
   ]
  },
  {
   "cell_type": "code",
   "execution_count": null,
   "metadata": {},
   "outputs": [],
   "source": [
    "    \n"
   ]
  },
  {
   "cell_type": "code",
   "execution_count": 43,
   "metadata": {},
   "outputs": [],
   "source": [
    "\n",
    "\n"
   ]
  },
  {
   "cell_type": "code",
   "execution_count": 29,
   "metadata": {},
   "outputs": [],
   "source": [
    "gridded_country_set = gridded_country[gridded_country['damage'] != 0.0]"
   ]
  },
  {
   "cell_type": "code",
   "execution_count": 15,
   "metadata": {},
   "outputs": [
    {
     "data": {
      "text/plain": [
       "372113"
      ]
     },
     "execution_count": 15,
     "metadata": {},
     "output_type": "execute_result"
    }
   ],
   "source": [
    "grid_row.Index"
   ]
  },
  {
   "cell_type": "code",
   "execution_count": 216,
   "metadata": {},
   "outputs": [],
   "source": [
    "asset_row.damage/len(grid_overlay_df)"
   ]
  },
  {
   "cell_type": "code",
   "execution_count": 215,
   "metadata": {},
   "outputs": [
    {
     "data": {
      "text/plain": [
       "1"
      ]
     },
     "execution_count": 215,
     "metadata": {},
     "output_type": "execute_result"
    }
   ],
   "source": []
  },
  {
   "cell_type": "code",
   "execution_count": 209,
   "metadata": {},
   "outputs": [
    {
     "data": {
      "text/plain": [
       "449148.940396589"
      ]
     },
     "execution_count": 209,
     "metadata": {},
     "output_type": "execute_result"
    }
   ],
   "source": [
    "390425.22398361465 + 58723.71641297434"
   ]
  },
  {
   "cell_type": "code",
   "execution_count": 206,
   "metadata": {},
   "outputs": [
    {
     "data": {
      "text/html": [
       "<div>\n",
       "<style scoped>\n",
       "    .dataframe tbody tr th:only-of-type {\n",
       "        vertical-align: middle;\n",
       "    }\n",
       "\n",
       "    .dataframe tbody tr th {\n",
       "        vertical-align: top;\n",
       "    }\n",
       "\n",
       "    .dataframe thead th {\n",
       "        text-align: right;\n",
       "    }\n",
       "</style>\n",
       "<table border=\"1\" class=\"dataframe\">\n",
       "  <thead>\n",
       "    <tr style=\"text-align: right;\">\n",
       "      <th></th>\n",
       "      <th>geometry</th>\n",
       "      <th>damage</th>\n",
       "    </tr>\n",
       "  </thead>\n",
       "  <tbody>\n",
       "    <tr>\n",
       "      <th>390717</th>\n",
       "      <td>POLYGON ((-1.3e+05 5.8e+06, -1.28e+05 5.8e+06,...</td>\n",
       "      <td>507872.65681</td>\n",
       "    </tr>\n",
       "  </tbody>\n",
       "</table>\n",
       "</div>"
      ],
      "text/plain": [
       "                                                 geometry        damage\n",
       "390717  POLYGON ((-1.3e+05 5.8e+06, -1.28e+05 5.8e+06,...  507872.65681"
      ]
     },
     "execution_count": 206,
     "metadata": {},
     "output_type": "execute_result"
    }
   ],
   "source": [
    "gridded_country[gridded_country['damage'] != 0.0] "
   ]
  },
  {
   "cell_type": "code",
   "execution_count": 188,
   "metadata": {},
   "outputs": [
    {
     "data": {
      "text/plain": [
       "float"
      ]
     },
     "execution_count": 188,
     "metadata": {},
     "output_type": "execute_result"
    }
   ],
   "source": [
    "type(asset_row.damage)"
   ]
  },
  {
   "cell_type": "code",
   "execution_count": 137,
   "metadata": {},
   "outputs": [
    {
     "data": {
      "text/plain": [
       "geopandas.geodataframe.GeoDataFrame"
      ]
     },
     "execution_count": 137,
     "metadata": {},
     "output_type": "execute_result"
    }
   ],
   "source": [
    "              spat_tree = pygeos.STRtree(df_subset.geometry) # https://pygeos.readthedocs.io/en/latest/strtree.htm\n",
    "                for aerodrome_row in df_adjust.itertuples():\n",
    "                    df_overlapping_assets = (df_subset.loc[spat_tree.query(aerodrome_row.aerodrome_geometry,predicate='intersects').tolist()]).sort_index(ascending=True) #get assets that overlaps with polygon\n",
    "                    #calculate amount of infrastructure associated to infrastructure type that falls within aeredrome\n",
    "                    df_overlapping_assets.insert(1, \"amount\", \"\") #add assettype as column after first column for length calculations\n",
    "                    if not df_overlapping_assets.empty:"
   ]
  },
  {
   "cell_type": "code",
   "execution_count": null,
   "metadata": {},
   "outputs": [],
   "source": []
  }
 ],
 "metadata": {
  "kernelspec": {
   "display_name": "Python 3",
   "language": "python",
   "name": "python3"
  },
  "language_info": {
   "codemirror_mode": {
    "name": "ipython",
    "version": 3
   },
   "file_extension": ".py",
   "mimetype": "text/x-python",
   "name": "python",
   "nbconvert_exporter": "python",
   "pygments_lexer": "ipython3",
   "version": "3.8.3"
  }
 },
 "nbformat": 4,
 "nbformat_minor": 4
}
