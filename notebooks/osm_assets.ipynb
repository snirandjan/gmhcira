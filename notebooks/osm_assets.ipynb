{
 "cells": [
  {
   "cell_type": "markdown",
   "metadata": {},
   "source": [
    "## Load package and seth path"
   ]
  },
  {
   "cell_type": "code",
   "execution_count": 1,
   "metadata": {},
   "outputs": [],
   "source": [
    "%matplotlib inline\n",
    "\n",
    "import os,sys\n",
    "import pandas as pd\n",
    "import numpy as np\n",
    "import geopandas as gpd\n",
    "import rasterio\n",
    "#!pip install geopy\n",
    "#!pip install boltons\n",
    "from pathlib import Path\n",
    "from geofeather.pygeos import to_geofeather, from_geofeather\n",
    "from tqdm import tqdm\n",
    "from mpl_toolkits.axes_grid1 import make_axes_locatable\n",
    "from rasterio.plot import show\n",
    "from IPython.display import display #when printing geodataframes, put it in columns -> use display(df)\n",
    "from matplotlib.ticker import (MultipleLocator, FormatStrFormatter,\n",
    "                               AutoMinorLocator, LinearLocator, MaxNLocator)\n",
    "import pygeos\n",
    "from pgpkg import Geopackage\n",
    "import matplotlib.pyplot as plt\n",
    "import copy\n",
    "\n",
    "sys.path.append(\"C:\\Projects\\gmhcira\\scripts\")\n",
    "import functions\n",
    "\n",
    "plt.rcParams['figure.figsize'] = [20, 20]\n",
    "\n",
    "from osgeo import gdal\n",
    "gdal.SetConfigOption(\"OSM_CONFIG_FILE\", os.path.join(\"..\",\"osmconf.ini\"))\n",
    "\n"
   ]
  },
  {
   "cell_type": "markdown",
   "metadata": {},
   "source": [
    "### Set pathways"
   ]
  },
  {
   "cell_type": "code",
   "execution_count": 2,
   "metadata": {},
   "outputs": [],
   "source": [
    "base_path = os.path.abspath('C:/Users/snn490/surfdrive/Outputs/Exposure/health_polygons') #this path contains all data that's needed as input and will contain directories to export outputs\n",
    "\n",
    "# Set path to inputdata\n",
    "osm_data_path = os.path.abspath(os.path.join('C:/Users/snn490/surfdrive/Datasets/OpenStreetMap')) #path to map with infra-gpkg's \n",
    "\n",
    "# path to save outputs - automatically made, not necessary to change output pathways\n",
    "output_infra_path = os.path.abspath(os.path.join(base_path, 'extract')) #save interim calculations\n",
    "\n",
    "# path to our python scripts\n",
    "sys.path.append(os.path.join('..','scripts'))\n",
    "\n",
    "#Create folders for outputs (GPKGs and pngs)\n",
    "Path(output_infra_path).mkdir(parents=True, exist_ok=True)"
   ]
  },
  {
   "cell_type": "markdown",
   "metadata": {},
   "source": [
    "## Check power data"
   ]
  },
  {
   "cell_type": "code",
   "execution_count": 8,
   "metadata": {},
   "outputs": [],
   "source": [
    "check = from_geofeather(os.path.join(r'\\\\labsdfs.labs.vu.nl\\labsdfs\\BETA-IVM-BAZIS\\snn490\\Outputs\\Exposure\\receipt\\power\\Fetched_infrastructure', 'DEU_power.feather'))"
   ]
  },
  {
   "cell_type": "code",
   "execution_count": 7,
   "metadata": {},
   "outputs": [
    {
     "data": {
      "text/plain": [
       "power_pole     713209\n",
       "power_tower    210146\n",
       "minor_line      61437\n",
       "substation      37728\n",
       "line            31132\n",
       "cable            4695\n",
       "plant            1749\n",
       "Name: asset, dtype: int64"
      ]
     },
     "execution_count": 7,
     "metadata": {},
     "output_type": "execute_result"
    }
   ],
   "source": [
    "check['asset'].value_counts()"
   ]
  },
  {
   "cell_type": "code",
   "execution_count": 8,
   "metadata": {},
   "outputs": [
    {
     "data": {
      "text/plain": [
       "395"
      ]
     },
     "execution_count": 8,
     "metadata": {},
     "output_type": "execute_result"
    }
   ],
   "source": [
    "1749 - 1354"
   ]
  },
  {
   "cell_type": "code",
   "execution_count": 9,
   "metadata": {},
   "outputs": [
    {
     "data": {
      "text/plain": [
       "2807"
      ]
     },
     "execution_count": 9,
     "metadata": {},
     "output_type": "execute_result"
    }
   ],
   "source": [
    "37728 - 34921"
   ]
  },
  {
   "cell_type": "markdown",
   "metadata": {},
   "source": [
    "## Process airports"
   ]
  },
  {
   "cell_type": "code",
   "execution_count": 3,
   "metadata": {},
   "outputs": [
    {
     "name": "stdout",
     "output_type": "stream",
     "text": [
      "For DEU show the extracted infrastructure types: \n",
      "helipad                     1256\n",
      "runway                      1246\n",
      "apron                       1067\n",
      "hangar                       987\n",
      "aerodrome                    661\n",
      "terminal                     215\n",
      "taxiway                      109\n",
      "tower                         40\n",
      "navigationaid                 26\n",
      "signal_area                   22\n",
      "heliport                      19\n",
      "deicing                       14\n",
      "jet_bridge                    13\n",
      "airstrip                      12\n",
      "fuel                          10\n",
      "gate                           8\n",
      "control_tower                  6\n",
      "yes                            5\n",
      "preserved                      5\n",
      "construction                   4\n",
      "control_center                 4\n",
      "proposed                       4\n",
      "model                          3\n",
      "model_aerodrome                3\n",
      "parking_position               2\n",
      "dropzone                       2\n",
      "model_runway                   2\n",
      "marking                        2\n",
      "landing_strip                  2\n",
      "abandoned                      2\n",
      "ramp                           2\n",
      "operation                      1\n",
      "bunker                         1\n",
      "paragliding_takeoff_site       1\n",
      "highway_strip                  1\n",
      "holding_position               1\n",
      "aerodrome_extension            1\n",
      "compass_compensation           1\n",
      "signal_square                  1\n",
      "ufopad                         1\n",
      "Name: asset, dtype: int64\n",
      "A total of 97 aerodromes contain information about the infrastructure type: terminal\n",
      "A total of 647 aerodromes contain information about the infrastructure type: runway\n",
      "For ITA show the extracted infrastructure types: \n",
      "helipad             1440\n",
      "runway               776\n",
      "apron                696\n",
      "hangar               635\n",
      "aerodrome            352\n",
      "terminal             138\n",
      "taxiway               55\n",
      "tower                 42\n",
      "airstrip              21\n",
      "heliport              20\n",
      "yes                   19\n",
      "roof                   2\n",
      "navigationaid          2\n",
      "control_center         2\n",
      "construction           2\n",
      "papi                   1\n",
      "parking_position       1\n",
      "windsock               1\n",
      "marking                1\n",
      "office                 1\n",
      "model_runway           1\n",
      "stopway                1\n",
      "fuel                   1\n",
      "hut                    1\n",
      "control_tower          1\n",
      "Name: asset, dtype: int64\n",
      "A total of 63 aerodromes contain information about the infrastructure type: terminal\n",
      "A total of 344 aerodromes contain information about the infrastructure type: runway\n",
      "For FRA show the extracted infrastructure types: \n",
      "hangar              4741\n",
      "runway              1904\n",
      "apron               1601\n",
      "helipad              873\n",
      "aerodrome            606\n",
      "airstrip             426\n",
      "terminal             363\n",
      "shelter              168\n",
      "tower                163\n",
      "taxiway               86\n",
      "navigationaid         14\n",
      "heliport              13\n",
      "fuel                   6\n",
      "parking_position       6\n",
      "sheleter               3\n",
      "yes                    3\n",
      "control_center         2\n",
      "yesap                  2\n",
      "signal_area            2\n",
      "gate                   2\n",
      "obstacle               2\n",
      "station                1\n",
      "landing_light          1\n",
      "balloonpad             1\n",
      "abandoned              1\n",
      "model                  1\n",
      "aeroclub               1\n",
      "control_tower          1\n",
      "h1a                    1\n",
      "report_point           1\n",
      "marking                1\n",
      "no                     1\n",
      "disused                1\n",
      "Name: asset, dtype: int64\n",
      "A total of 133 aerodromes contain information about the infrastructure type: terminal\n",
      "A total of 604 aerodromes contain information about the infrastructure type: runway\n"
     ]
    }
   ],
   "source": [
    "#pathways \n",
    "base_path = os.path.abspath(r'\\\\labsdfs.labs.vu.nl\\labsdfs\\BETA-IVM-BAZIS\\snn490\\Outputs\\gmhcira\\Fetched_infrastructure')\n",
    "\n",
    "areas = ['DEU','ITA','FRA']\n",
    "\n",
    "airport_dict = {}\n",
    "\n",
    "for area in areas:\n",
    "    df = from_geofeather(os.path.join(base_path, '{}_airports.feather'.format(area)))\n",
    "    print(\"For {} show the extracted infrastructure types: \\n{}\".format(area, df['asset'].value_counts()))\n",
    "    \n",
    "    # make seperate df with aerodromes\n",
    "    df_adjust = df[df['asset'] == 'aerodrome'].reset_index(drop=True) \n",
    "    df_adjust = df_adjust.drop(columns=['osm_id','asset']).rename(columns={'geometry':'aerodrome_geometry'})\n",
    "\n",
    "    # calculate area of aerodromes\n",
    "    df_adjust['aerodrome_m2']=functions.polygon_area_pygeos(list(df_adjust.aerodrome_geometry)) #calculate area per object and put in dataframe\n",
    "\n",
    "    #double check aerdromes to make sure they don't overlap - necessary?\n",
    "    #add terminal and runways columns for geometries and areas/lengths to adjusted df\n",
    "    #df_adjust['terminal_geometry'] = np.nan\n",
    "    #df_adjust['terminal_m2'] = \"\"\n",
    "    #df_adjust['runway_geometry'] = np.nan\n",
    "    #df_adjust['runway_m'] = \"\"\n",
    "\n",
    "    #loop through original df, and see if infrastructure type falls within aerodrome. If so, create new column and add amount of infrastructure type in area or lengths\n",
    "    lst_infrastructure_types = ['terminal','runway']\n",
    "    airport_dict[area]=functions.estimate_infra_in_aerodrome(lst_infrastructure_types, df, df_adjust)\n"
   ]
  },
  {
   "cell_type": "code",
   "execution_count": 41,
   "metadata": {},
   "outputs": [],
   "source": [
    "#calculate proportions\n",
    "for area in areas:\n",
    "    airport_dict[area]['%terminal'] = airport_dict[area]['terminal_m2']/airport_dict[area]['aerodrome_m2']*100\n",
    "    airport_dict[area]['%runway'] = airport_dict[area]['runway_m']/airport_dict[area]['aerodrome_m2']*100"
   ]
  },
  {
   "cell_type": "code",
   "execution_count": 42,
   "metadata": {},
   "outputs": [
    {
     "data": {
      "image/png": "[encoded data removed]",
      "text/plain": [
       "<Figure size 720x720 with 4 Axes>"
      ]
     },
     "metadata": {
      "needs_background": "light"
     },
     "output_type": "display_data"
    }
   ],
   "source": [
    "# make graphs\n",
    "fig, ((ax1, ax2), (ax3, ax4)) = plt.subplots(2, 2, figsize=(10, 10))\n",
    "#fig.suptitle('Horizontally stacked subplots')\n",
    "\n",
    "#aerodrome vs terminal size\n",
    "for area in areas:\n",
    "    ax1.plot(airport_dict[area]['aerodrome_m2'], airport_dict[area]['terminal_m2'], 'o')\n",
    "    ax1.set_xlabel('aerodrome (m2)')\n",
    "    ax1.set_ylabel('terminal (m2)')\n",
    "    #ax1.set_title('aerodrome vs terminal size')\n",
    "\n",
    "#aerodrome vs runway \n",
    "for area in areas:\n",
    "    ax2.plot(airport_dict[area]['aerodrome_m2'], airport_dict[area]['runway_m'], 'o')\n",
    "    ax2.set_xlabel('aerodrome (m2)')\n",
    "    ax2.set_ylabel('runway (m)')\n",
    "    #ax2.set_title('aerodrome vs runway ')\n",
    "    \n",
    "#aerodrome vs terminal size proportional\n",
    "for area in areas:\n",
    "    ax3.plot(airport_dict[area]['aerodrome_m2'], airport_dict[area]['%terminal'], 'o')\n",
    "    ax3.set_xlabel('aerodrome (m2)')\n",
    "    ax3.set_ylabel('terminal (%)')\n",
    "    #ax3.set_title('aerodrome vs terminal size')\n",
    "\n",
    "#aerodrome vs runway proportional\n",
    "for area in areas:\n",
    "    ax4.plot(airport_dict[area]['aerodrome_m2'], airport_dict[area]['%runway'], 'o')\n",
    "    ax4.set_xlabel('aerodrome (m2)')\n",
    "    ax4.set_ylabel('runway/squared meter aerodrome')\n",
    "    #ax4.set_title('aerodrome vs runway ')\n",
    "\n"
   ]
  },
  {
   "cell_type": "markdown",
   "metadata": {},
   "source": [
    "### filter OSM data with Openflights data"
   ]
  },
  {
   "cell_type": "code",
   "execution_count": null,
   "metadata": {},
   "outputs": [],
   "source": [
    "#pathway to open flight database for airports\n",
    "#pathway to OSM data\n",
    "\n",
    "# set variables\n",
    "# areas "
   ]
  },
  {
   "cell_type": "code",
   "execution_count": null,
   "metadata": {},
   "outputs": [],
   "source": [
    "openflight_df = pd.read_excel(os.path.join(infra_base_path, 'summary_base_{}.xlsx'.format(ci_system)), sheet_name=\"Sheet1\")\n",
    "openflight_df = summary_df.set_index('Airport ID')"
   ]
  },
  {
   "cell_type": "code",
   "execution_count": null,
   "metadata": {},
   "outputs": [],
   "source": []
  },
  {
   "cell_type": "code",
   "execution_count": null,
   "metadata": {},
   "outputs": [],
   "source": []
  }
 ],
 "metadata": {
  "kernelspec": {
   "display_name": "Python 3 (ipykernel)",
   "language": "python",
   "name": "python3"
  },
  "language_info": {
   "codemirror_mode": {
    "name": "ipython",
    "version": 3
   },
   "file_extension": ".py",
   "mimetype": "text/x-python",
   "name": "python",
   "nbconvert_exporter": "python",
   "pygments_lexer": "ipython3",
   "version": "3.11.9"
  }
 },
 "nbformat": 4,
 "nbformat_minor": 4
}
