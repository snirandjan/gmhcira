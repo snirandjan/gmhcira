{
 "cells": [
  {
   "cell_type": "code",
   "execution_count": 1,
   "id": "2674e289-cc8d-4452-8581-dc1ae337b961",
   "metadata": {},
   "outputs": [],
   "source": [
    "import os\n",
    "import geopandas as gpd\n",
    "import pandas as pd\n",
    "import xarray as xr\n",
    "import numpy as np \n",
    "import shapely \n",
    "import csv\n",
    "import ast\n",
    "\n",
    "import osm_flex.download as dl\n",
    "import osm_flex.extract as ex\n",
    "from osm_flex.simplify import remove_contained_points,remove_exact_duplicates,remove_contained_polys\n",
    "from osm_flex.config import OSM_DATA_DIR,DICT_GEOFABRIK\n",
    "\n",
    "from tqdm import tqdm\n",
    "\n",
    "from lonboard import viz\n",
    "from lonboard.colormap import apply_continuous_cmap\n",
    "from palettable.colorbrewer.sequential import Blues_9\n",
    "\n",
    "from pathlib import Path\n",
    "import pathlib"
   ]
  },
  {
   "cell_type": "code",
   "execution_count": 2,
   "id": "4793cc25-f186-4a54-acfb-43b675fc17d5",
   "metadata": {},
   "outputs": [],
   "source": [
    "#define paths\n",
    "p = Path('..')\n",
    "data_path = Path(pathlib.Path.home().parts[0]) / 'Projects' / 'gmhcira' / 'data' #should contain folder 'Vulnerability' with vulnerability data\n",
    "flood_data_path = Path(pathlib.Path('Z:') / 'eks510' / 'fathom-global') # Flood data\n",
    "eq_data_path = Path(pathlib.Path('Z:') / 'data_catalogue' / 'open_street_map' / 'global_hazards' / 'earthquakes') # Earthquake data\n",
    "landslide_data_path = Path(pathlib.Path('Z:') / 'data_catalogue' / 'open_street_map' / 'global_hazards' / 'landslides') # Landslide data\n",
    "cyclone_data_path = Path(pathlib.Path('Z:') / 'data_catalogue' / 'open_street_map' / 'global_hazards' / 'tropical_cyclones') # Cyclone data"
   ]
  },
  {
   "cell_type": "code",
   "execution_count": 3,
   "id": "92eb7504-af16-4a75-8e4a-563d67992199",
   "metadata": {},
   "outputs": [],
   "source": [
    "import logging\n",
    "import geopandas as gpd\n",
    "from osgeo import ogr, gdal\n",
    "import pandas as pd\n",
    "from pathlib import Path\n",
    "import shapely\n",
    "from tqdm import tqdm\n",
    "\n",
    "from osm_flex.config import DICT_CIS_OSM, OSM_CONFIG_FILE\n",
    "\n",
    "\n",
    "LOGGER = logging.getLogger(__name__)\n",
    "DATA_DIR = '' #TODO: dito, where & how to define\n",
    "gdal.SetConfigOption(\"OSM_CONFIG_FILE\", str(OSM_CONFIG_FILE))\n",
    "\n",
    "\n",
    "def _query_builder(geo_type, constraint_dict):\n",
    "    \"\"\"\n",
    "    This function builds an SQL query from the values passed to the extract()\n",
    "    function.\n",
    "\n",
    "    Parameters\n",
    "    ---------\n",
    "    geo_type : str\n",
    "        Type of geometry to extract. One of [points, lines, multipolygons]\n",
    "    constraint_dict :  dict\n",
    "\n",
    "    Returns\n",
    "    -------\n",
    "    query : str\n",
    "        an SQL query string.\n",
    "    \"\"\"\n",
    "    # columns which to report in output\n",
    "    query =  \"SELECT osm_id\"\n",
    "    for key in constraint_dict['osm_keys']:\n",
    "        query+= \",\"+ key\n",
    "    # filter condition(s)\n",
    "    if constraint_dict['osm_query'] is not None:\n",
    "        query+= \" FROM \" + geo_type + \" WHERE \" + constraint_dict['osm_query']\n",
    "    else:\n",
    "        query += \" FROM \" + geo_type + f\" WHERE {constraint_dict['osm_keys'][0]} IS NOT NULL\"\n",
    "    return query\n",
    "\n",
    "def extract(osm_path, geo_type, osm_keys, osm_query=None):\n",
    "    \"\"\"\n",
    "    Function to extract geometries and tag info for entires in the OSM file\n",
    "    matching certain OSM keys, or key-value constraints.\n",
    "    from an OpenStreetMap osm.pbf file.\n",
    "\n",
    "    Parameters\n",
    "    ----------\n",
    "    osm_path : str or Path\n",
    "        location of osm.pbf file from which to parse\n",
    "    geo_type : str\n",
    "        Type of geometry to extract. One of [points, lines, multipolygons]\n",
    "    osm_keys : list\n",
    "        a list with all the osm keys that should be reported as columns in\n",
    "        the output gdf.\n",
    "    osm_query : str\n",
    "        optional. query string of the syntax\n",
    "        \"key='value' (and/or further queries)\". If left empty, all objects\n",
    "        for which the first entry of osm_keys is not Null will be parsed.\n",
    "        See examples in DICT_CIS_OSM in case of doubt.\n",
    "\n",
    "    Returns\n",
    "    -------\n",
    "    gpd.GeoDataFrame\n",
    "        A gdf with all results from the osm.pbf file matching the\n",
    "        specified constraints.\n",
    "\n",
    "    Note\n",
    "    ----\n",
    "    1) The keys that are searchable are specified in the osmconf.ini file.\n",
    "    Make sure that they exist in the attributes=... paragraph under the\n",
    "    respective geometry section.\n",
    "    For example, to extract multipolygons with building='yes',\n",
    "    building must be in the attributes under\n",
    "    the [multipolygons] section of the file. You can find it in the same\n",
    "    folder as the osm_dataloader.py module is located.\n",
    "    2) OSM keys that have : in their name must be changed to _ in the\n",
    "    search dict, but not in the osmconf.ini\n",
    "    E.g. tower:type is called tower_type, since it would interfere with the\n",
    "    SQL syntax otherwise, but still tower:type in the osmconf.ini\n",
    "    3) If the osm_query is left empty (None), then all objects will be parsed\n",
    "    for which the first entry of osm_keys is not Null. E.g. if osm_keys =\n",
    "    ['building', 'name'] and osm_query = None, then all items matching\n",
    "    building=* will be parsed.\n",
    "\n",
    "    See also\n",
    "    --------\n",
    "    https://taginfo.openstreetmap.org/ to check what keys and key/value\n",
    "    pairs are valid.\n",
    "    https://overpass-turbo.eu/ for a direct visual output of the query,\n",
    "    and to quickly check the validity. The wizard can help you find the\n",
    "    correct keys / values you are looking for.\n",
    "    \"\"\"\n",
    "    if not Path(osm_path).is_file():\n",
    "        raise ValueError(f\"the given path is not a file: {osm_path}\")\n",
    "\n",
    "    osm_path = str(osm_path)\n",
    "    constraint_dict = {\n",
    "        'osm_keys' : osm_keys,\n",
    "        'osm_query' : osm_query}\n",
    "\n",
    "    driver = ogr.GetDriverByName('OSM')\n",
    "    data = driver.Open(osm_path)\n",
    "    query = _query_builder(geo_type, constraint_dict)\n",
    "    LOGGER.debug(\"query: %s\", query)\n",
    "    sql_lyr = data.ExecuteSQL(query)\n",
    "    features = []\n",
    "    geometry = []\n",
    "    if data is not None:\n",
    "        LOGGER.info('query is finished, lets start the loop')\n",
    "        for feature in tqdm(sql_lyr, desc=f'extract {geo_type}'):\n",
    "            try:\n",
    "                wkb = feature.geometry().ExportToWkb()\n",
    "                geom = shapely.wkb.loads(bytes(wkb))\n",
    "                if geom is None:\n",
    "                    continue\n",
    "                geometry.append(geom)\n",
    "                fields = [\n",
    "                    feature.GetField(key)\n",
    "                    for key in [\"osm_id\", *constraint_dict[\"osm_keys\"]]\n",
    "                ]\n",
    "                features.append(fields)\n",
    "            except Exception as exc:\n",
    "                LOGGER.info('%s - %s', exc.__class__, exc)\n",
    "                LOGGER.warning(\"skipped OSM feature\")\n",
    "    else:\n",
    "        LOGGER.error(\"\"\"Nonetype error when requesting SQL. Check the\n",
    "                     query and the OSM config file under the respective\n",
    "                     geometry - perhaps key is unknown.\"\"\")\n",
    "\n",
    "    return gpd.GeoDataFrame(\n",
    "        features,\n",
    "        columns=[\"osm_id\", *constraint_dict['osm_keys']],\n",
    "        geometry=geometry,\n",
    "        crs=\"epsg:4326\"\n",
    "    )\n",
    "\n",
    "# TODO: decide on name of wrapper, which categories included & what components fall under it.\n",
    "def extract_cis(osm_path, ci_type):\n",
    "    \"\"\"\n",
    "    A wrapper around extract() to conveniently extract map info for a\n",
    "    selection of  critical infrastructure types from the given osm.pbf file.\n",
    "    No need to search for osm key/value tags and relevant geometry types.\n",
    "    Parameters\n",
    "    ----------\n",
    "    osm_path : str or Path\n",
    "        location of osm.pbf file from which to parse\n",
    "    ci_type : str\n",
    "        one of DICT_CIS_OSM.keys(), i.e. 'education', 'healthcare',\n",
    "        'water', 'telecom', 'road', 'rail', 'air', 'gas', 'oil', 'power',\n",
    "        'wastewater', 'food'\n",
    "    See also\n",
    "    -------\n",
    "    DICT_CIS_OSM for the keys and key/value tags queried for the respective\n",
    "    CIs. Modify if desired.\n",
    "    \"\"\"\n",
    "    # features consisting in points and multipolygon results:\n",
    "    if ci_type in ['healthcare','education','food','buildings']:\n",
    "        gdf = pd.concat([\n",
    "            extract(osm_path, 'points', DICT_CIS_OSM[ci_type]['osm_keys'],\n",
    "                    DICT_CIS_OSM[ci_type]['osm_query']),\n",
    "            extract(osm_path, 'multipolygons', DICT_CIS_OSM[ci_type]['osm_keys'],\n",
    "                    DICT_CIS_OSM[ci_type]['osm_query'])\n",
    "            ])\n",
    "\n",
    "    # features consisting in points, multipolygons and lines:\n",
    "    elif ci_type in ['gas','oil', 'water','power']:\n",
    "        gdf =  pd.concat([\n",
    "            extract(osm_path, 'points', DICT_CIS_OSM[ci_type]['osm_keys'],\n",
    "                    DICT_CIS_OSM[ci_type]['osm_query']),\n",
    "            extract(osm_path, 'multipolygons', DICT_CIS_OSM[ci_type]['osm_keys'],\n",
    "                             DICT_CIS_OSM[ci_type]['osm_query']),\n",
    "            extract(osm_path, 'lines', DICT_CIS_OSM[ci_type]['osm_keys'],\n",
    "                             DICT_CIS_OSM[ci_type]['osm_query'])\n",
    "            ])\n",
    "\n",
    "    # features consisting in multipolygons and lines:\n",
    "    elif ci_type in ['air']:\n",
    "        gdf =  pd.concat([\n",
    "            extract(osm_path, 'multipolygons', DICT_CIS_OSM[ci_type]['osm_keys'],\n",
    "                             DICT_CIS_OSM[ci_type]['osm_query']),\n",
    "            extract(osm_path, 'lines', DICT_CIS_OSM[ci_type]['osm_keys'],\n",
    "                             DICT_CIS_OSM[ci_type]['osm_query'])\n",
    "            ])\n",
    "    \n",
    "    # features consisting in multiple datattypes, but only lines needed:\n",
    "    elif ci_type in ['rail','road', 'main_road']:\n",
    "        gdf =  pd.concat([\n",
    "            extract(osm_path, 'lines', \n",
    "                    DICT_CIS_OSM[ci_type]['osm_keys'],\n",
    "                    DICT_CIS_OSM[ci_type]['osm_query'])\n",
    "            ])\n",
    "\n",
    "\n",
    "    # features consisting in all data types, but only points and multipolygon needed:\n",
    "    elif ci_type in ['telecom','wastewater','waste_solid','waste_water','water_supply']:\n",
    "        gdf = pd.concat([\n",
    "            extract(osm_path, 'points', DICT_CIS_OSM[ci_type]['osm_keys'],\n",
    "                    DICT_CIS_OSM[ci_type]['osm_query']),\n",
    "            extract(osm_path, 'multipolygons', DICT_CIS_OSM[ci_type]['osm_keys'],\n",
    "                    DICT_CIS_OSM[ci_type]['osm_query'])\n",
    "            ])\n",
    "        \n",
    "    else:\n",
    "        LOGGER.warning('feature not in DICT_CIS_OSM. Returning empty gdf')\n",
    "        gdf = gpd.GeoDataFrame()\n",
    "    return gdf"
   ]
  },
  {
   "cell_type": "code",
   "execution_count": 4,
   "id": "c2402921-488f-4a41-97bd-0eeb6597d93b",
   "metadata": {},
   "outputs": [],
   "source": [
    "DICT_CIS_OSM =  {\n",
    "        'power' : {\n",
    "              'osm_keys' : ['power','voltage','name'],\n",
    "              'osm_query' : \"\"\"power='line' or power='cable' or\n",
    "                               power='minor_line' or power='minor_cable' or\n",
    "                               power='plant' or power='generator' or\n",
    "                               power='substation' or power='tower' or\n",
    "                               power='pole' or power='portal'\"\"\"},\n",
    "        'road' :  {\n",
    "            'osm_keys' : ['highway','name','maxspeed','lanes','surface'],\n",
    "            'osm_query' : \"\"\"highway in ('motorway', 'motorway_link', 'motorway_junction', 'trunk', 'trunk_link',\n",
    "                            'primary', 'primary_link', 'secondary', 'secondary_link', 'tertiary', 'tertiary_link', \n",
    "                            'residential', 'road', 'unclassified', 'living_street', 'pedestrian', 'bus_guideway', 'escape', 'raceway', \n",
    "                            'cycleway', 'construction', 'bus_stop', 'crossing', 'mini_roundabout', 'passing_place', 'rest_area', \n",
    "                            'turning_circle', 'traffic_island', 'yes', 'emergency_bay', 'service')\"\"\"},\n",
    "        'rail' : {\n",
    "            'osm_keys' : ['railway','name','gauge','electrified','voltage'],\n",
    "            'osm_query' : \"\"\"railway='rail' or railway='narrow_gauge'\"\"\"},\n",
    "         'air' : {\n",
    "             'osm_keys' : ['aeroway','name'],\n",
    "             'osm_query' : \"\"\"aeroway='aerodrome' or aeroway='terminal' or aeroway='runway'\"\"\"}, \n",
    "        'telecom' : {\n",
    "            'osm_keys' : ['man_made','tower_type','name'],\n",
    "            'osm_query' : \"\"\"tower_type='communication' or man_made='mast' or man_made='communications_tower'\"\"\"},\n",
    "        'water_supply' : {\n",
    "            'osm_keys' : ['man_made','name'],\n",
    "            'osm_query' : \"\"\"man_made='water_well' or man_made='water_works' or\n",
    "                             man_made='water_tower' or\n",
    "                             man_made='reservoir_covered' or\n",
    "                             (man_made='storage_tank' and content='water')\"\"\"},\n",
    "        'waste_solid' : {\n",
    "              'osm_keys' : ['amenity','name'],\n",
    "              'osm_query' : \"\"\"amenity='waste_transfer_station'\"\"\"},\n",
    "        'waste_water' : {\n",
    "              'osm_keys' : ['man_made','name'],\n",
    "              'osm_query' : \"\"\"man_made='wastewater_plant'\"\"\"},\n",
    "        'education' : {\n",
    "            'osm_keys' : ['amenity','building','name'],\n",
    "            'osm_query' : \"\"\"building='school' or amenity='school' or\n",
    "                             building='kindergarten' or \n",
    "                             amenity='kindergarten' or\n",
    "                             building='college' or amenity='college' or\n",
    "                             building='university' or amenity='university' or\n",
    "                             building='library' or amenity='library'\"\"\"},\n",
    "        'healthcare' : {\n",
    "            'osm_keys' : ['amenity','building','healthcare','name'],\n",
    "            'osm_query' : \"\"\"amenity='hospital' or healthcare='hospital' or\n",
    "                             building='hospital' or building='clinic' or\n",
    "                             amenity='clinic' or healthcare='clinic' or \n",
    "                             amenity='doctors' or healthcare='doctors' or\n",
    "                             amenity='dentist' or amenity='pharmacy' or \n",
    "                             healthcare='pharmacy' or healthcare='dentist' or\n",
    "                             healthcare='physiotherapist' or healthcare='alternative' or \n",
    "                             healthcare='laboratory' or healthcare='optometrist' or \n",
    "                             healthcare='rehabilitation' or healthcare='blood_donation' or\n",
    "                             healthcare='birthing_center'\n",
    "                             \"\"\"},\n",
    "        'power_original' : {\n",
    "              'osm_keys' : ['power','voltage','utility','name'],\n",
    "              'osm_query' : \"\"\"power='line' or power='cable' or\n",
    "                               power='minor_line' or power='plant' or\n",
    "                               power='generator' or power='substation' or\n",
    "                               power='transformer' or\n",
    "                               power='pole' or power='portal' or \n",
    "                               power='tower' or power='terminal' or \n",
    "                               power='switch' or power='catenary_mast' or\n",
    "                               utility='power'\"\"\"},\n",
    "         'gas' : {\n",
    "             'osm_keys' : ['man_made','pipeline', 'utility','name'],\n",
    "             'osm_query' : \"\"\"(man_made='pipeline' and substance='gas') or\n",
    "                              (pipeline='substation' and substance='gas') or\n",
    "                              (man_made='storage_tank' and content='gas') or\n",
    "                              utility='gas'\"\"\"},\n",
    "        'oil' : {\n",
    "             'osm_keys' : ['pipeline','man_made','amenity','name'],\n",
    "             'osm_query' : \"\"\"(pipeline='substation' and substance='oil') or\n",
    "                              (man_made='pipeline' and substance='oil') or\n",
    "                              man_made='petroleum_well' or \n",
    "                              man_made='oil_refinery' or\n",
    "                              amenity='fuel'\"\"\"},\n",
    "        'main_road' :  {\n",
    "            'osm_keys' : ['highway','name','maxspeed','lanes','surface'],\n",
    "            'osm_query' : \"\"\"highway in ('primary', 'primary_link', 'secondary',\n",
    "                             'secondary_link', 'tertiary', 'tertiary_link', 'trunk', 'trunk_link', \n",
    "                             'motorway', 'motorway_link')\n",
    "                            \"\"\"},\n",
    "        'wastewater' : {\n",
    "              'osm_keys' : ['man_made','amenity',\n",
    "                            'name'],\n",
    "              'osm_query' : \"\"\"amenity='waste_transfer_station' or man_made='wastewater_plant'\"\"\"},\n",
    "         'food' : {\n",
    "             'osm_keys' : ['shop','name'],\n",
    "             'osm_query' : \"\"\"shop='supermarket' or shop='greengrocer' or\n",
    "                              shop='grocery' or shop='general' or \n",
    "                              shop='bakery'\"\"\"},             \n",
    "        'buildings' : {\n",
    "            'osm_keys' : ['building','amenity','name'],\n",
    "            'osm_query' : \"\"\"building='yes' or building='house' or \n",
    "                            building='residential' or building='detached' or \n",
    "                            building='hut' or building='industrial' or \n",
    "                            building='shed' or building='apartments'\"\"\"}\n",
    "                              }"
   ]
  },
  {
   "cell_type": "code",
   "execution_count": 15,
   "id": "794dd7c4-3c68-44eb-b6ab-db5627bab45e",
   "metadata": {},
   "outputs": [],
   "source": [
    "def country_download(iso3):\n",
    "    \"\"\"\n",
    "    Download OpenStreetMap data for a specific country.\n",
    "    Arguments:\n",
    "        *iso3* (str): ISO 3166-1 alpha-3 country code.\n",
    "    Returns:\n",
    "        *Path*: The file path of the downloaded OpenStreetMap data file.\n",
    "    \"\"\"\n",
    "    \n",
    "    dl.get_country_geofabrik(iso3) # Use the download library to get the geofabrik data for the specified country\n",
    "    data_loc = OSM_DATA_DIR.joinpath(f'{DICT_GEOFABRIK[iso3][1]}-latest.osm.pbf') # Specify the location of the OpenStreetMap (OSM) data file\n",
    "    return data_loc\n",
    "\n",
    "def overlay_hazard_assets(df_ds,assets):\n",
    "    \"\"\"\n",
    "    Overlay hazard assets on a dataframe of spatial geometries.\n",
    "    Arguments:\n",
    "        *df_ds*: GeoDataFrame containing the spatial geometries of the hazard data. \n",
    "        *assets*: GeoDataFrame containing the infrastructure assets.\n",
    "    Returns:\n",
    "        *geopandas.GeoSeries*: A GeoSeries containing the spatial geometries of df_ds that intersect with the infrastructure assets.\n",
    "    \"\"\"\n",
    "    \n",
    "    #overlay \n",
    "    hazard_tree = shapely.STRtree(df_ds.geometry.values)\n",
    "    if (shapely.get_type_id(assets.iloc[0].geometry) == 3) | (shapely.get_type_id(assets.iloc[0].geometry) == 6): # id types 3 and 6 stand for polygon and multipolygon\n",
    "        return  hazard_tree.query(assets.geometry,predicate='intersects')    \n",
    "    else:\n",
    "        return  hazard_tree.query(assets.buffered,predicate='intersects')\n",
    "\n",
    "def buffer_assets(assets,buffer_size=0.00083):\n",
    "    \"\"\"\n",
    "    Buffer spatial assets in a GeoDataFrame.\n",
    "    Arguments:\n",
    "        *assets*: GeoDataFrame containing spatial geometries to be buffered.\n",
    "        *buffer_size* (float, optional): The distance by which to buffer the geometries. Default is 0.00083.\n",
    "    Returns:\n",
    "        *GeoDataFrame*: A new GeoDataFrame with an additional 'buffered' column containing the buffered geometries.\n",
    "    \"\"\"\n",
    "    assets['buffered'] = shapely.buffer(assets.geometry.values,distance=buffer_size)\n",
    "    return assets\n",
    "\n",
    "def get_damage_per_asset(asset,hazard_numpified,asset_geom,hazard_intensity,fragility_values,maxdam_asset,unit_maxdam):\n",
    "    \"\"\"\n",
    "    Calculate damage for a given asset based on hazard information.\n",
    "    Arguments:\n",
    "        *asset*: Tuple containing information about the asset. It includes:\n",
    "            - Index or identifier of the asset (asset[0]).\n",
    "            - The specific hazard points in which asset is exposed (asset[1]['hazard_point']).\n",
    "        *hazard_numpified*: NumPy array representing hazard information.\n",
    "        *asset_geom*: Shapely geometry representing the spatial coordinates of the asset.\n",
    "        *hazard_intensity*: NumPy array representing the hazard intensities of the curve for the asset type.\n",
    "        *fragility_values*: NumPy array representing the damage factors of the curve for the asset type.\n",
    "        *maxdam_asset*: Maximum damage value for asset.\n",
    "        *unit_maxdam*: The unit of maximum damage value for asset.\n",
    "    Returns:\n",
    "        *float*: The calculated damage for the specific asset.\n",
    "    \"\"\"\n",
    "     \n",
    "    # find the exact hazard overlays:\n",
    "    get_hazard_points = hazard_numpified[asset[1]['hazard_point'].values] \n",
    "    get_hazard_points[shapely.intersects(get_hazard_points[:,1],asset_geom)]\n",
    "\n",
    "    # estimate damage\n",
    "    if len(get_hazard_points) == 0: # no overlay of asset with hazard\n",
    "        return 0\n",
    "    \n",
    "    else:\n",
    "        if asset_geom.geom_type == 'LineString':\n",
    "            overlay_meters = shapely.length(shapely.intersection(get_hazard_points[:,1],asset_geom)) # get the length of exposed meters per hazard cell\n",
    "            return np.sum((np.interp(np.float16(get_hazard_points[:,0]),hazard_intensity,fragility_values))*overlay_meters*maxdam_asset) #return asset number, total damage for asset number (damage factor * meters * max. damage)\n",
    "        elif asset_geom.geom_type in ['MultiPolygon','Polygon']:\n",
    "            overlay_m2 = shapely.area(shapely.intersection(get_hazard_points[:,1],asset_geom))\n",
    "            if '/unit' in unit_maxdam:\n",
    "                converted_maxdam = maxdam_asset / shapely.area(asset_geom) #convert to maxdam/m2\n",
    "                return np.sum((np.interp(np.float16(get_hazard_points[:,0]),hazard_intensity,fragility_values))*overlay_m2*converted_maxdam)\n",
    "            else:\n",
    "                return np.sum((np.interp(np.float16(get_hazard_points[:,0]),hazard_intensity,fragility_values))*overlay_m2*maxdam_asset) #return asset number, total damage for asset number (damage factor * meters * max. damage)\n",
    "        elif asset_geom.geom_type == 'Point':\n",
    "            return np.sum((np.interp(np.float16(get_hazard_points[:,0]),hazard_intensity,fragility_values))*maxdam_asset)\n",
    "\n",
    "def get_damage_per_asset_og(asset,hazard_numpified,asset_geom,hazard_intensity,fragility_values,maxdam_asset):\n",
    "    \"\"\"\n",
    "    Calculate damage for a given asset based on hazard information.\n",
    "    Arguments:\n",
    "        *asset*: Tuple containing information about the asset. It includes:\n",
    "            - Index or identifier of the asset (asset[0]).\n",
    "            - The specific hazard points in which asset is exposed (asset[1]['hazard_point']).\n",
    "        *hazard_numpified*: NumPy array representing hazard information.\n",
    "        *asset_geom*: Shapely geometry representing the spatial coordinates of the asset.\n",
    "        *hazard_intensity*: NumPy array representing the hazard intensities of the curve for the asset type.\n",
    "        *fragility_values*: NumPy array representing the damage factors of the curve for the asset type.\n",
    "        *maxdam_asset*: Maximum damage value for asset.\n",
    "    Returns:\n",
    "        *float*: The calculated damage for the specific asset.\n",
    "    \"\"\"\n",
    "     \n",
    "    # find the exact hazard overlays:\n",
    "    get_hazard_points = hazard_numpified[asset[1]['hazard_point'].values] \n",
    "    get_hazard_points[shapely.intersects(get_hazard_points[:,1],asset_geom)]\n",
    "\n",
    "    # estimate damage\n",
    "    if len(get_hazard_points) == 0: # no overlay of asset with hazard\n",
    "        return 0\n",
    "    \n",
    "    else:\n",
    "        if asset_geom.geom_type == 'LineString':\n",
    "            overlay_meters = shapely.length(shapely.intersection(get_hazard_points[:,1],asset_geom)) # get the length of exposed meters per hazard cell\n",
    "            return np.sum((np.interp(np.float16(get_hazard_points[:,0]),hazard_intensity,fragility_values))*overlay_meters*maxdam_asset) #return asset number, total damage for asset number (damage factor * meters * max. damage)\n",
    "        elif asset_geom.geom_type in ['MultiPolygon','Polygon']:\n",
    "            overlay_m2 = shapely.area(shapely.intersection(get_hazard_points[:,1],asset_geom))\n",
    "            return np.sum((np.interp(np.float16(get_hazard_points[:,0]),hazard_intensity,fragility_values))*overlay_m2*maxdam_asset) #return asset number, total damage for asset number (damage factor * meters * max. damage)\n",
    "        elif asset_geom.geom_type == 'Point':\n",
    "            return np.sum((np.interp(np.float16(get_hazard_points[:,0]),hazard_intensity,fragility_values))*maxdam_asset)\n",
    "\n",
    "def create_pathway_dict(data_path, flood_data_path, eq_data_path, landslide_data_path, cyclone_data_path): \n",
    "\n",
    "    \"\"\"\n",
    "    Create a dictionary containing paths to various hazard datasets.\n",
    "    Arguments:\n",
    "        *data_path* (Path): Base directory path for general data.\n",
    "        *flood_data_path* (Path): Path to flood hazard data.\n",
    "        *eq_data_path* (Path): Path to earthquake hazard data.\n",
    "        *landslide_data_path* (Path): Path to landslide hazard data.\n",
    "        *cyclone_data_path* (Path): Path to tropical cyclone hazard data.\n",
    "    Returns:\n",
    "        *dict*: A dictionary where keys represent a general pathway and different hazard types and values are corresponding paths.\n",
    "    \"\"\"\n",
    "\n",
    "    #create a dictionary\n",
    "    pathway_dict = {'data_path': data_path, \n",
    "                    'fluvial': flood_data_path, \n",
    "                    'pluvial': flood_data_path, \n",
    "                    'windstorm': cyclone_data_path, \n",
    "                    'earthquake': eq_data_path, \n",
    "                    'landslides': landslide_data_path,}\n",
    "\n",
    "    return pathway_dict\n",
    "\n",
    "def read_hazard_data(hazard_data_path,hazard_type):\n",
    "    \"\"\"\n",
    "    Read hazard data files for a specific hazard type.\n",
    "    Arguments:\n",
    "        *hazard_data_path* (Path): Base directory path where hazard data is stored.\n",
    "        *hazard_type* (str): Type of hazard for which data needs to be read ('fluvial', 'pluvial', 'windstorm', 'earthquake', 'landslides').\n",
    "    \n",
    "    Returns:\n",
    "        *list*: A list of Path objects representing individual hazard data files for the specified hazard type.\n",
    "    \"\"\"  \n",
    "\n",
    "    if hazard_type == 'fluvial':\n",
    "        hazard_data = hazard_data_path / 'Jamaica' / 'fluvial_undefended' # need to make country an input\n",
    "        return list(hazard_data.iterdir())\n",
    "\n",
    "    elif hazard_type == 'pluvial':\n",
    "        hazard_data = hazard_data_path / 'Jamaica' / 'pluvial' # need to make country an input\n",
    "        return list(hazard_data.iterdir())\n",
    "\n",
    "    elif hazard_type == 'windstorm':\n",
    "        hazard_data = hazard_data_path \n",
    "        return list(hazard_data.iterdir())\n",
    "\n",
    "    elif hazard_type == 'earthquake':\n",
    "        hazard_data = hazard_data_path\n",
    "        return list(hazard_data.iterdir())\n",
    "\n",
    "    elif hazard_type == 'landslides':\n",
    "        hazard_data = hazard_data_path \n",
    "        return list(hazard_data.iterdir())\n",
    "\n",
    "\n",
    "def read_vul_maxdam_orginal(data_path,hazard_type,infra_type):\n",
    "    \"\"\"\n",
    "    Read vulnerability curves and maximum damage data for a specific hazard and infrastructure type.\n",
    "    Arguments:\n",
    "        *data_path*: The base directory path where vulnerability and maximum damage data files are stored.\n",
    "        *hazard_type*: The type of hazard in string format, such as 'pluvial', 'fluvial', or 'windstorm'.\n",
    "        *infra_type*: The type of infrastructure in string format for which vulnerability curves and maximum damage data are needed.\n",
    "    \n",
    "    Returns:\n",
    "        *tuple*: A tuple containing two DataFrames:\n",
    "            - The first DataFrame contains vulnerability curves specific to the given hazard and infrastructure type.\n",
    "            - The second DataFrame contains maximum damage data for the specified infrastructure type.\n",
    "    \"\"\"\n",
    "\n",
    "    vul_data = data_path / 'Vulnerability'\n",
    "    \n",
    "    # Load assumptions file containing curve - maxdam combinations per infrastructure type\n",
    "    assumptions = pd.read_excel(vul_data / 'S1_Assumptions_Test.xlsx',sheet_name = 'Flooding assumptions',header=[1])\n",
    "    assumptions['Infrastructure type'] = assumptions['Infrastructure type'].str.lower()\n",
    "    if \"_\" in infra_type: infra_type = infra_type.replace('_', ' ')\n",
    "    assump_infra_type = assumptions[assumptions['Infrastructure type'] == infra_type]\n",
    "    assump_curves = ast.literal_eval(assump_infra_type['Vulnerability ID number'].item())\n",
    "    assump_maxdams = ast.literal_eval(assump_infra_type['Maximum damage ID number'].item())\n",
    "    \n",
    "    # Get curves\n",
    "    if hazard_type in ['pluvial','fluvial']:  \n",
    "        curves = pd.read_excel(vul_data / 'Table_D2_Hazard_Fragility_and_Vulnerability_Curves_V1.1.0.xlsx',sheet_name = 'F_Vuln_Depth',index_col=[0],header=[0,1,2,3,4])\n",
    "    elif hazard_type == 'windstorm':\n",
    "        curves = pd.read_excel(vul_data / 'Table_D2_Hazard_Fragility_and_Vulnerability_Curves_V1.1.0.xlsx',sheet_name = 'W_Vuln_V10m',index_col=[0],header=[0,1,2,3,4])\n",
    "    \n",
    "    infra_curves =  curves[assump_curves]\n",
    "    \n",
    "    # get maxdam\n",
    "    maxdam = pd.read_excel(vul_data / 'Table_D3_Costs_V1.1.0.xlsx', sheet_name='Cost_Database',index_col=[0])\n",
    "    infra_maxdam = maxdam[maxdam.index.isin(assump_maxdams)]['Amount'].dropna()\n",
    "    infra_maxdam = infra_maxdam[pd.to_numeric(infra_maxdam, errors='coerce').notnull()]\n",
    "\n",
    "    return infra_curves,infra_maxdam\n",
    "\n",
    "def read_vul_maxdam(data_path,hazard_type,infra_type):\n",
    "    \"\"\"\n",
    "    Read vulnerability curves and maximum damage data for a specific hazard and infrastructure type.\n",
    "    Arguments:\n",
    "        *data_path*: The base directory path where vulnerability and maximum damage data files are stored.\n",
    "        *hazard_type*: The type of hazard in string format, such as 'pluvial', 'fluvial', or 'windstorm'.\n",
    "        *infra_type*: The type of infrastructure in string format for which vulnerability curves and maximum damage data are needed.\n",
    "    \n",
    "    Returns:\n",
    "        *tuple*: A tuple containing two DataFrames:\n",
    "            - The first DataFrame contains vulnerability curves specific to the given hazard and infrastructure type.\n",
    "            - The second DataFrame contains maximum damage data for the specified infrastructure type.\n",
    "    \"\"\"\n",
    "\n",
    "    vul_data = data_path / 'Vulnerability'\n",
    "    \n",
    "    # Load assumptions file containing curve - maxdam combinations per infrastructure type\n",
    "    assumptions = pd.read_excel(vul_data / 'S1_Assumptions_Test.xlsx',sheet_name = 'Flooding assumptions',header=[1])\n",
    "    assumptions['Infrastructure type'] = assumptions['Infrastructure type'].str.lower()\n",
    "    if \"_\" in infra_type: infra_type = infra_type.replace('_', ' ')\n",
    "    assump_infra_type = assumptions[assumptions['Infrastructure type'] == infra_type]\n",
    "    assump_curves = ast.literal_eval(assump_infra_type['Vulnerability ID number'].item())\n",
    "    assump_maxdams = ast.literal_eval(assump_infra_type['Maximum damage ID number'].item())\n",
    "    \n",
    "    # Get curves\n",
    "    if hazard_type in ['pluvial','fluvial']:  \n",
    "        curves = pd.read_excel(vul_data / 'Table_D2_Hazard_Fragility_and_Vulnerability_Curves_V1.1.0.xlsx',sheet_name = 'F_Vuln_Depth',index_col=[0],header=[0,1,2,3,4])\n",
    "    elif hazard_type == 'windstorm':\n",
    "        curves = pd.read_excel(vul_data / 'Table_D2_Hazard_Fragility_and_Vulnerability_Curves_V1.1.0.xlsx',sheet_name = 'W_Vuln_V10m',index_col=[0],header=[0,1,2,3,4])\n",
    "    \n",
    "    infra_curves =  curves[assump_curves]\n",
    "    \n",
    "    # get maxdam\n",
    "    maxdam = pd.read_excel(vul_data / 'Table_D3_Costs_V1.1.0.xlsx', sheet_name='Cost_Database',index_col=[0])\n",
    "    infra_costs = maxdam[maxdam.index.isin(assump_maxdams)][['Amount', 'Unit']].dropna(subset=['Amount'])\n",
    "    infra_maxdam = infra_costs['Amount'][pd.to_numeric(infra_costs['Amount'], errors='coerce').notnull()]\n",
    "    infra_units = infra_costs['Unit'].filter(items=list(infra_maxdam.index), axis=0)\n",
    "\n",
    "    return infra_curves,infra_maxdam,infra_units\n",
    "\n",
    "def read_flood_map(flood_map_path,diameter_distance=0.00083/2):\n",
    "    \"\"\"\n",
    "    Read flood map data from a NetCDF file and process it into a GeoDataFrame.\n",
    "    Arguments:\n",
    "        *flood_map_path* (Path): Path to the NetCDF file containing flood map data.\n",
    "        *diameter_distance* (float, optional): The diameter distance used for creating square geometries around data points. Default is 0.00083/2.\n",
    "    \n",
    "    Returns:\n",
    "        *geopandas.GeoDataFrame*: A GeoDataFrame representing the processed flood map data.\n",
    "    \"\"\"\n",
    "    \n",
    "    flood_map = xr.open_dataset(flood_map_path, engine=\"rasterio\")\n",
    "\n",
    "    flood_map_vector = flood_map['band_data'].to_dataframe().reset_index() #transform to dataframe\n",
    "    \n",
    "    #remove data that will not be used\n",
    "    flood_map_vector = flood_map_vector.loc[(flood_map_vector.band_data > 0) & (flood_map_vector.band_data < 100)]\n",
    "    \n",
    "    # create geometry values and drop lat lon columns\n",
    "    flood_map_vector['geometry'] = [shapely.points(x) for x in list(zip(flood_map_vector['x'],flood_map_vector['y']))]\n",
    "    flood_map_vector = flood_map_vector.drop(['x','y','band','spatial_ref'],axis=1)\n",
    "    \n",
    "    # drop all non values to reduce size\n",
    "    flood_map_vector = flood_map_vector.loc[~flood_map_vector['band_data'].isna()].reset_index(drop=True)\n",
    "    \n",
    "    # and turn them into squares again:\n",
    "    flood_map_vector.geometry= shapely.buffer(flood_map_vector.geometry,distance=diameter_distance,cap_style='square').values \n",
    "\n",
    "    return flood_map_vector\n",
    "\n",
    "def read_windstorm_map(windstorm_map_path,bbox):\n",
    "     \n",
    "    # load data from NetCDF file\n",
    "    with xr.open_dataset(flood_map_path) as ds:\n",
    "        \n",
    "        # convert data to WGS84 CRS\n",
    "        ds.rio.write_crs(4326, inplace=True)\n",
    "        ds = ds.rio.clip_box(minx=bbox[0], miny=bbox[1], maxx=bbox[2], maxy=bbox[3])\n",
    "        #ds['band_data'] = ds['band_data']/0.88*1.11 #convert 10-min sustained wind speed to 3-s gust wind speed\n",
    "    \n",
    "        ds_vector = ds['band_data'].to_dataframe().reset_index() #transform to dataframe\n",
    "        \n",
    "        #remove data that will not be used\n",
    "        ds_vector = ds_vector.loc[(ds_vector.band_data > 0) & (ds_vector.band_data < 100)]\n",
    "        \n",
    "        # create geometry values and drop lat lon columns\n",
    "        ds_vector['geometry'] = [shapely.points(x) for x in list(zip(ds_vector['x'],ds_vector['y']))]\n",
    "        ds_vector = ds_vector.drop(['x','y','band','spatial_ref'],axis=1)\n",
    "        ds_vector['geometry'] = shapely.buffer(ds_vector.geometry, distance=0.1/2, cap_style='square').values\n",
    "    \n",
    "        return ds_vector\n",
    "\n",
    "def combine_columns(a, b):\n",
    "    \"\"\"\n",
    "    Combine values from two input arguments 'a' and 'b' into a single string.\n",
    "    Arguments:\n",
    "    - a (str or None): Value from column 'A'.\n",
    "    - b (str or None): Value from column 'B'.\n",
    "\n",
    "    Returns:\n",
    "    - str or None: A string of 'a', 'b' or combination. If both 'a' and 'b' are None, return None.\n",
    "    \"\"\"\n",
    "    \n",
    "    if pd.notna(a) and pd.notna(b) == False: #if only a contains a string\n",
    "        return f\"{a}\" \n",
    "    elif pd.notna(b) and pd.notna(a) == False: #if only b contains a string\n",
    "        return f\"{b}\"\n",
    "    elif pd.notna(a) and pd.notna(b):  #if both values contain a string\n",
    "        if a == b: \n",
    "            return f\"{a}\"\n",
    "        elif a == 'yes' or b == 'yes':\n",
    "            if a == 'yes':\n",
    "                return  f\"{b}\"\n",
    "            elif b == 'yes':\n",
    "                return  f\"{a}\"\n",
    "        else: \n",
    "            return f\"{a}\" #f\"{a}_{b}\" # assuming that value from column A contains the more detailed information\n",
    "    else: \n",
    "        None # Decision point: If nones are existent, decide on what to do with Nones. Are we sure that these are education facilities? Delete them? Provide another tag to them?\n",
    "\n",
    "def filter_dataframe(assets, column_names_lst):\n",
    "    \"\"\"\n",
    "    Filter a GeoDataFrame by combining information from two specified columns and removing selected columns.\n",
    "    Args:\n",
    "        assets (geopandas.GeoDataFrame): The input GeoDataFrame containing spatial geometries and columns to filter.\n",
    "        column_names_lst (list): A list of two column names whose information needs to be combined to create a new 'asset' column.\n",
    "\n",
    "    Returns:\n",
    "        geopandas.GeoDataFrame: A filtered GeoDataFrame with a new 'asset' column and selected columns dropped, and points converted to polygons.\n",
    "    \"\"\"\n",
    "\n",
    "    if len(column_names_lst) == 2:        \n",
    "        assets['asset'] = assets.apply(lambda row: combine_columns(row[column_names_lst[0]], row[column_names_lst[1]]), axis=1) # create new column based on tag information provided in two columns\n",
    "    elif len(column_names_lst) == 3:\n",
    "        assets['asset_temp'] = assets.apply(lambda row: combine_columns(row[column_names_lst[0]], row[column_names_lst[1]]), axis=1) # create temp column based on tag information provided in two columns\n",
    "        assets['asset'] = assets.apply(lambda row: combine_columns(row['asset_temp'], row[column_names_lst[2]]), axis=1) # create new column based on tag information provided in two columns\n",
    "        column_names_lst.append('asset_temp')        \n",
    "    else:\n",
    "        print(\"Warning: column_names_lst should contain 2 or 3 items\")\n",
    "\n",
    "    assets = assets.drop(columns=column_names_lst, axis=1) # drop columns\n",
    "    assets = remove_contained_assets_and_convert(assets)\n",
    "    \n",
    "    return assets\n",
    "\n",
    "def delete_linestring_data(assets, infra_lst):\n",
    "    \"\"\"\n",
    "    Filter and update a GeoDataFrame by excluding rows with LineString geometries.\n",
    "\n",
    "    Parameters:\n",
    "    - assets (geopandas.GeoDataFrame): The original GeoDataFrame.\n",
    "    - infra_lst (lst): A list with the infrastructure typs to filter.\n",
    "\n",
    "    Returns:\n",
    "    - geopandas.GeoDataFrame: The updated GeoDataFrame with excluded LineString rows.\n",
    "    \"\"\"\n",
    "\n",
    "    for infra_type in infra_lst:\n",
    "        #create subset of data\n",
    "        condition = assets['asset'] == infra_type\n",
    "        subset = assets[condition]\n",
    "        \n",
    "        #delete line data if there is line data (assuming that this function is only for point and polygon data)\n",
    "        subset = subset[subset['geometry'].geom_type.isin(['Point', 'MultiPoint', 'Polygon', 'MultiPolygon'])]  # Keep (multi-) points and polygon geometries\n",
    "    \n",
    "        #update the original Dataframe by excluding rows in the subset\n",
    "        assets = assets[~condition | condition & subset['geometry'].notna()]\n",
    "\n",
    "    return assets\n",
    "\n",
    "def delete_point_and_polygons(assets, infra_lst):\n",
    "    \"\"\"\n",
    "    Filter and update a GeoDataFrame by excluding rows with points and (multi-)polygon geometries.\n",
    "\n",
    "    Parameters:\n",
    "    - assets (geopandas.GeoDataFrame): The original GeoDataFrame.\n",
    "    - infra_lst (lst): A list with the infrastructure typs to filter.\n",
    "\n",
    "    Returns:\n",
    "    - geopandas.GeoDataFrame: The updated GeoDataFrame with excluded points and (multi-)polygon rows.\n",
    "    \"\"\"\n",
    "\n",
    "    for infra_type in infra_lst:\n",
    "        #create subset of data\n",
    "        condition = assets['asset'] == infra_type\n",
    "        subset = assets[condition]\n",
    "        \n",
    "        #delete points and (multi-)polygon data if available\n",
    "        subset = subset[subset['geometry'].geom_type.isin(['LineString', 'MultiLineString'])]  # Keep only LineString geometries\n",
    "\n",
    "\n",
    "        #update the original Dataframe by excluding rows in the subset\n",
    "        assets = assets[~condition | condition & subset['geometry'].notna()]\n",
    "\n",
    "    return assets\n",
    "\n",
    "def remove_polygons_with_contained_points(gdf):\n",
    "    \"\"\"\n",
    "    Remove polygons in a GeoDataFrame if there is a point falling within them.\n",
    "    Arguments:\n",
    "        gdf : GeoDataFrame containing entries with point and (multi-)polygon geometry\n",
    "    Returns:\n",
    "    - geopandas.GeoDataFrame: GeoDataFrame containing entries with point and (multi-)polygon geometry, but without duplicates\n",
    "    \"\"\"\n",
    "    gdf = gdf.reset_index(drop=True)\n",
    "    \n",
    "    ind_poly_with_points = np.unique(gpd.sjoin(gdf[gdf.geometry.type == 'Point'],\n",
    "                                              gdf[gdf.geometry.type.isin(['MultiPolygon', 'Polygon'])],\n",
    "                                              predicate='within').index_right)\n",
    "    \n",
    "    return gdf.drop(index=ind_poly_with_points).reset_index(drop=True)\n",
    "\n",
    "\n",
    "def remove_contained_assets_and_convert(assets):\n",
    "    \"\"\"\n",
    "    Process the geometry of assets, removing contained points and polygons, and converting points to polygons.\n",
    "    Args:\n",
    "        assets (geopandas.GeoDataFrame): Input GeoDataFrame containing asset geometries.\n",
    "\n",
    "    Returns:\n",
    "        geopandas.GeoDataFrame: Processed GeoDataFrame with updated asset geometries.\n",
    "    \"\"\"\n",
    "    \n",
    "    assets =  remove_contained_polys(remove_contained_points(assets)) #remove points and polygons within a (larger) polygon\n",
    "    \n",
    "    #convert points to polygons\n",
    "    if (assets.loc[assets.geom_type == 'MultiPolygon']).empty:\n",
    "        default_distance = 58.776\n",
    "        assets.loc[assets.geom_type == 'Point','geometry'] = assets.loc[assets.geom_type == 'Point'].buffer(distance=default_distance, cap_style='square')\n",
    "    else:    \n",
    "        assets.loc[assets.geom_type == 'Point','geometry'] = assets.loc[assets.geom_type == 'Point'].buffer(\n",
    "                                                                        distance=np.sqrt(assets.loc[assets.geom_type == 'MultiPolygon'].area.median())/2, cap_style='square')\n",
    "\n",
    "    return assets\n",
    "\n",
    "def create_point_from_polygon(gdf):\n",
    "    \"\"\"\n",
    "    Transforms polygons into points\n",
    "    Arguments:\n",
    "        gdf: A geodataframe containing a column geometry\n",
    "    Returns:\n",
    "    - geopandas.GeoDataFrame: The updated GeoDataFrame without polygons but with only point geometries\n",
    "    \"\"\"\n",
    "    gdf['geometry'] = gdf['geometry'].apply(lambda geom: MultiPolygon([geom]) if geom.geom_type == 'Polygon' else geom) #convert to multipolygons in case polygons are in the df\n",
    "    #gdf.loc[gdf.geom_type == 'MultiPolygon','geometry'] = gdf.loc[assets.geom_type == 'MultiPolygon'].centroid #convert polygon to point\n",
    "    gdf.loc[gdf.geom_type == 'MultiPolygon','geometry'] = gdf.loc[gdf.geom_type == 'MultiPolygon'].centroid #convert polygon to point\n",
    "    return gdf\n",
    "    \n",
    "def process_selected_assets(gdf, polygon_types, point_types):\n",
    "    \"\"\"\n",
    "    Process the geometry of selected assets, removing contained points and polygons, and converting non-contained points to polygons.\n",
    "    Args:\n",
    "        gdf (geopandas.GeoDataFrame): Input GeoDataFrame containing asset geometries.\n",
    "        selected_types (list): List of asset types to process.\n",
    "\n",
    "    Returns:\n",
    "        geopandas.GeoDataFrame: Processed GeoDataFrame with updated asset geometries.\n",
    "    \"\"\"\n",
    "    asset_temp = gdf['asset'].tolist()\n",
    "    gdf.insert(1, 'asset_temp', asset_temp) \n",
    "    \n",
    "    # For assets that we need as (multi-)polygons: group by asset type and apply the processing function\n",
    "    filtered_assets = gdf[gdf['asset'].isin(polygon_types)] # Filter only selected asset types\n",
    "    polygon_gdf = (filtered_assets.groupby('asset_temp').apply(remove_contained_assets_and_convert, include_groups=False)).reset_index(drop=True)\n",
    "\n",
    "    # For assets that we need as (multi-)points: group by asset type and apply the processing function\n",
    "    filtered_assets = gdf[gdf['asset'].isin(point_types)] # Filter only selected asset types\n",
    "    #point_gdf = (filtered_assets.groupby('asset').apply(create_point_from_polygon)).reset_index(drop=True)\n",
    "    point_gdf = (filtered_assets.groupby('asset_temp').apply(lambda group: create_point_from_polygon(remove_polygons_with_contained_points(group)), include_groups=False)).reset_index(drop=True)\n",
    "    \n",
    "    # Concatenate the two dataframes along rows\n",
    "    merged_gdf = pd.concat([polygon_gdf, point_gdf], ignore_index=True)\n",
    "    \n",
    "    return merged_gdf\n",
    "\n",
    "def create_damage_csv(damage_output, hazard_type, pathway_dict, country_code, sub_system):\n",
    "    \"\"\"\n",
    "    Create a CSV file containing damage information.\n",
    "    Arguments:\n",
    "        damage_output: A dictionary containing damage information.\n",
    "        hazard_type: The type of hazard (e.g., 'earthquake', 'flood').\n",
    "        pathway_dict: A dictionary containing file paths for different data.\n",
    "        country_code: A string containing information about the country code\n",
    "        sub_system: A string containing information about the subsystem considered\n",
    "\n",
    "    Returns:\n",
    "        None\n",
    "    \"\"\"\n",
    "  \n",
    "    hazard_output_path = pathway_dict['data_path'] / 'damage' / country_code\n",
    "    \n",
    "    # Check if the directory exists\n",
    "    if not hazard_output_path.exists():\n",
    "        # Create the directory\n",
    "        hazard_output_path.mkdir(parents=True, exist_ok=True)\n",
    "    \n",
    "    csv_file_path = hazard_output_path / '{}_{}_{}.csv'.format(country_code, hazard_type, sub_system)\n",
    "    \n",
    "    with open(csv_file_path, 'w', newline='') as csv_file:\n",
    "        csv_writer = csv.writer(csv_file)\n",
    "        \n",
    "        # Write header\n",
    "        csv_writer.writerow(['Country', 'Return period', 'Subsystem', 'Infrastructure type', 'Curve ID number', 'Damage ID number', 'Damage', 'Exposed assets'])\n",
    "        \n",
    "        # Write data\n",
    "        for key, value in damage_output.items():\n",
    "            csv_writer.writerow(list(key) + list(value))\n",
    "    \n",
    "    print(f\"CSV file created at: {csv_file_path}\")"
   ]
  },
  {
   "cell_type": "code",
   "execution_count": 16,
   "id": "fec1c657-fa81-43b5-a278-02d3a42729a3",
   "metadata": {},
   "outputs": [],
   "source": [
    "def country_infrastructure_hazard(pathway_dict, country_code, sub_system, infra_type_lst, hazard_type):\n",
    "\n",
    "    # get country osm data\n",
    "    data_loc = country_download(country_code)\n",
    "    \n",
    "    # get infrastructure data:\n",
    "    print(f'Time to extract OSM data for {sub_system}')\n",
    "    assets = extract_cis(data_loc, sub_system)\n",
    "    \n",
    "    # convert assets to epsg3857 (system in meters)\n",
    "    assets = gpd.GeoDataFrame(assets).set_crs(4326).to_crs(3857)\n",
    "    \n",
    "    if sub_system == 'power':\n",
    "        assets = assets.rename(columns={'power' : 'asset'}).reset_index(drop=True)\n",
    "        \n",
    "        #reclassify assets \n",
    "        mapping_dict = {\n",
    "            \"cable\" : \"cable\", \n",
    "            \"minor_cable\" : \"cable\",\n",
    "            \"line\" : \"transmission_line\", \n",
    "            \"minor_line\" : \"distribution_line\", \n",
    "            \"plant\" : \"plant\", \n",
    "            \"generator\" : \"plant\", \n",
    "            \"substation\" : \"substation\", \n",
    "            \"tower\" : \"power_tower\",\n",
    "            \"pole\" : \"power_pole\",\n",
    "            \"portal\" : \"power_tower\",\n",
    "            \n",
    "        }\n",
    "        assets['asset'] = assets.asset.apply(lambda x : mapping_dict[x])  #reclassification\n",
    "\n",
    "        #filter dataframe\n",
    "        infra_lst = ['plant', 'substation','power_tower','power_pole']\n",
    "        assets = delete_linestring_data(assets, infra_lst) #check for linestring data for specific infrastructure types and delete\n",
    "        infra_lst = ['transmission_line', 'distribution_line', 'cable'] \n",
    "        assets = delete_point_and_polygons(assets, infra_lst) #check for (multi-)polygon and point data and delete\n",
    "\n",
    "        # process geometries according to infra type\n",
    "        polygon_types = ['plant', 'substation']\n",
    "        point_types = ['power_tower', 'power_pole']\n",
    "        assets = process_selected_assets(assets, polygon_types, point_types)\n",
    "    \n",
    "    elif sub_system == 'road':\n",
    "        assets = assets.rename(columns={'highway' : 'asset'})\n",
    "        \n",
    "        #reclassify assets \n",
    "        mapping_dict = {\n",
    "            \"motorway\" : \"motorway\", \n",
    "            \"motorway_link\" : \"motorway\", \n",
    "            \"motorway_junction\" : \"motorway\",\n",
    "            \"trunk\" : \"trunk\",\n",
    "            \"trunk_link\" : \"trunk\",\n",
    "            \"primary\" : \"primary\", \n",
    "            \"primary_link\" : \"primary\", \n",
    "            \"secondary\" : \"secondary\", \n",
    "            \"secondary_link\" : \"secondary\", \n",
    "            \"tertiary\" : \"tertiary\", \n",
    "            \"tertiary_link\" : \"tertiary\", \n",
    "            \"residential\" : \"other\",           \n",
    "            \"road\" : \"other\", \n",
    "            \"unclassified\" : \"other\",\n",
    "            \"living_street\" : \"other\", \n",
    "            \"pedestrian\" : \"other\", \n",
    "            \"bus_guideway\" : \"other\", \n",
    "            \"escape\" : \"other\", \n",
    "            \"raceway\" : \"other\", \n",
    "            \"cycleway\" : \"other\", \n",
    "            \"construction\" : \"other\", \n",
    "            \"bus_stop\" : \"other\", \n",
    "            \"crossing\" : \"other\", \n",
    "            \"mini_roundabout\" : \"other\", \n",
    "            \"passing_place\" : \"other\", \n",
    "            \"rest_area\" : \"other\", \n",
    "            \"turning_circle\" : \"other\",\n",
    "            \"traffic_island\" : \"other\",\n",
    "            \"yes\" : \"other\",\n",
    "            \"emergency_bay\" : \"other\",\n",
    "            \"service\" : \"other\"\n",
    "        }\n",
    "        assets['asset'] = assets.asset.apply(lambda x : mapping_dict[x])  #reclassification\n",
    "    \n",
    "    elif sub_system == 'rail':\n",
    "        assets = assets.rename(columns={'railway' : 'asset'})\n",
    "        \n",
    "        #reclassify assets \n",
    "        mapping_dict = {\n",
    "            \"rail\" : \"railway\", \n",
    "            \"narrow_gauge\" : \"railway\", \n",
    "        }\n",
    "        assets['asset'] = assets.asset.apply(lambda x : mapping_dict[x])  #reclassification\n",
    "    \n",
    "    elif sub_system == 'air':\n",
    "        assets = assets.rename(columns={'aeroway' : 'asset'})   \n",
    "\n",
    "        #reclassify assets \n",
    "        mapping_dict = {\n",
    "            \"aerodrome\" : \"airport\", \n",
    "            \"terminal\" : \"terminal\",\n",
    "            \"runway\" : \"runway\"\n",
    "            }\n",
    "        assets['asset'] = assets.asset.apply(lambda x : mapping_dict[x])  #reclassification\n",
    "\n",
    "    elif sub_system == 'telecom':\n",
    "        #filter dataframe based on conditions \n",
    "        assets = (assets[(assets['man_made'] == 'tower') & (assets['tower_type'] == 'communication') |\n",
    "                (assets['man_made'] == 'mast') & (assets['tower_type'] == 'communication') |\n",
    "                (assets['man_made'] == 'communications_tower')|\n",
    "                (assets['man_made'] == 'mast') & (assets['tower_type'].isna())]).reset_index(drop=True)\n",
    "        assets = assets.drop(['tower_type'], axis=1) #drop columns that are of no further use\n",
    "\n",
    "        #reclassify assets\n",
    "        assets = assets.rename(columns={'man_made' : 'asset'})\n",
    "        mapping_dict = {\n",
    "            \"tower\" : \"communication_tower\", \n",
    "            \"communications_tower\" : \"communication_tower\",\n",
    "            \"mast\" : \"mast\", \n",
    "        }\n",
    "        assets['asset'] = assets.asset.apply(lambda x : mapping_dict[x])  #reclassification\n",
    "        \n",
    "        assets = create_point_from_polygon(remove_polygons_with_contained_points(assets)) #remove duplicates and transform polygons into points\n",
    "\n",
    "    elif sub_system == 'water_supply':\n",
    "        assets = assets.reset_index(drop=True)\n",
    "        assets = assets.rename(columns={'man_made' : 'asset'})\n",
    "        mapping_dict = {\n",
    "            \"water_tower\" : \"water_tower\",\n",
    "            \"water_well\" : \"water_well\",\n",
    "            \"reservoir_covered\" : \"reservoir_covered\",\n",
    "            \"water_works\" : \"water_treatment_plant\",\n",
    "            \"storage_tank\" : \"water_storage_tank\"\n",
    "        }\n",
    "        assets['asset'] = assets.asset.apply(lambda x : mapping_dict[x])  #reclassification\n",
    "        \n",
    "        # process geometries according to infra type\n",
    "        polygon_types = ['reservoir_covered', 'water_treatment_plant']\n",
    "        point_types = ['water_tower', 'water_well', 'storage_tank']\n",
    "        assets = process_selected_assets(assets, polygon_types, point_types)\n",
    "\n",
    "    elif sub_system == 'water':\n",
    "        assets = assets.reset_index(drop=True)\n",
    "        assets = assets.drop(assets[assets['emergency'] == 'fire_hydrant'].index).reset_index(drop=True) #drop linestrings\n",
    "        assets = assets.rename(columns={'man_made' : 'asset'})   \n",
    "\n",
    "    elif sub_system == 'waste_solid':\n",
    "        assets = assets.rename(columns={'amenity' : 'asset'})\n",
    "        assets = remove_contained_assets_and_convert(assets)\n",
    "\n",
    "    elif sub_system == 'waste_water':\n",
    "        assets = assets.rename(columns={'man_made' : 'asset'})\n",
    "        mapping_dict = {\n",
    "            \"wastewater_plant\" : \"wastewater_treatment_plant\", \n",
    "        }\n",
    "        assets['asset'] = assets.asset.apply(lambda x : mapping_dict[x])  #reclassification\n",
    "        assets = remove_contained_assets_and_convert(assets)\n",
    "\n",
    "    elif sub_system == 'wastewater':\n",
    "        column_names_lst = ['man_made', 'amenity']\n",
    "        assets = filter_dataframe(assets, column_names_lst)\n",
    "    \n",
    "    elif sub_system == 'healthcare':\n",
    "        column_names_lst = ['amenity' , 'building', 'healthcare']\n",
    "        assets = filter_dataframe(assets, column_names_lst)\n",
    "        list_of_assets_to_keep = [\"clinic\", \"doctors\", \"hospital\", \"dentist\", \"pharmacy\", \n",
    "                        \"physiotherapist\", \"alternative\", \"laboratory\", \"optometrist\", \"rehabilitation\", \n",
    "                        \"blood_donation\", \"birthing_center\"]\n",
    "        assets = assets.loc[assets.asset.isin(list_of_assets_to_keep)].reset_index(drop=True)\n",
    "    \n",
    "    elif sub_system == 'education':\n",
    "        column_names_lst = ['amenity' , 'building']\n",
    "        assets = filter_dataframe(assets, column_names_lst)\n",
    "        list_of_assets_to_keep =[\"college\", \"kindergarten\", \"library\", \"school\", \"university\"]\n",
    "        assets = assets.loc[assets.asset.isin(list_of_assets_to_keep)].reset_index(drop=True)\n",
    "    \n",
    "    # read hazard data\n",
    "    hazard_data_path = pathway_dict[hazard_type]\n",
    "    hazard_data_list = read_hazard_data(hazard_data_path,hazard_type)\n",
    "\n",
    "    # start analysis \n",
    "    print(f'{country_code} runs for {sub_system} for {hazard_type} for {len(hazard_data_list)} maps')\n",
    "\n",
    "    if hazard_type in ['windstorm','earthquake','landslide']:\n",
    "        # load country geometry file and create geometry to clip\n",
    "        ne_countries = gpd.read_file(data_path / \"natural_earth\" / \"ne_10m_admin_0_countries.shp\") #https://www.naturalearthdata.com/downloads/10m-cultural-vectors/10m-admin-0-countries/\n",
    "        bbox = ne_countries.loc[ne_countries['ISO_A3']==country_code].geometry.envelope.values[0].bounds\n",
    "        \n",
    "    collect_output = {}\n",
    "    for single_footprint in hazard_data_list: #tqdm(hazard_data_list,total=len(hazard_data_list)):\n",
    "    \n",
    "        hazard_name = single_footprint.parts[-1].split('.')[0]\n",
    "        \n",
    "        # load hazard map\n",
    "        if hazard_type in ['pluvial','fluvial']:\n",
    "            hazard_map = read_flood_map(single_footprint)\n",
    "        elif hazard_type in ['windstorm']:\n",
    "             hazard_map = read_windstorm_map(single_footprint,bbox)\n",
    "        elif hazard_type in ['earthquake']:\n",
    "             hazard_map = read_earthquake_map(single_footprint)\n",
    "        elif hazard_type in ['landslide']:\n",
    "             hazard_map = read_landslide_map(single_footprint)\n",
    "         \n",
    "        # convert hazard data to epsg 3857\n",
    "        hazard_map = gpd.GeoDataFrame(hazard_map).set_crs(4326).to_crs(3857)\n",
    "\n",
    "        # Loop through unique infrastructure types within the subsystem\n",
    "        for infra_type in infra_type_lst: \n",
    "            assets_infra_type = assets[assets['asset'] == infra_type].copy().reset_index(drop=True)\n",
    "        \n",
    "            # create dicts for quicker lookup\n",
    "            geom_dict = assets_infra_type['geometry'].to_dict()\n",
    "            type_dict = assets_infra_type['asset'].to_dict()\n",
    "\n",
    "            # read vulnerability and maxdam data:\n",
    "            data_path = pathway_dict['data_path']\n",
    "            infra_curves,maxdams,infra_units = read_vul_maxdam(data_path,hazard_type, infra_type)\n",
    "\n",
    "            # start analysis \n",
    "            print(f'{country_code} runs for {infra_type} for {hazard_type} for {hazard_name} map for {len(infra_curves.T)*len(maxdams)} combinations')\n",
    "    \n",
    "            if not assets_infra_type.empty:\n",
    "                # overlay assets\n",
    "                overlay_assets = pd.DataFrame(overlay_hazard_assets(hazard_map,buffer_assets(assets_infra_type)).T,columns=['asset','hazard_point'])\n",
    "            else: \n",
    "                overlay_assets = pd.DataFrame(columns=['asset','hazard_point']) #empty dataframe\n",
    "    \n",
    "            # convert dataframe to numpy array\n",
    "            hazard_numpified = hazard_map.to_numpy() \n",
    "\n",
    "            for infra_curve in infra_curves:\n",
    "                # get curves\n",
    "                curve = infra_curves[infra_curve[0]]\n",
    "                hazard_intensity = curve.index.values\n",
    "                fragility_values = (np.nan_to_num(curve.values,nan=(np.nanmax(curve.values)))).flatten()\n",
    "\n",
    "                for maxdam in maxdams:\n",
    "                    collect_inb = []\n",
    "                    collect_geom = []\n",
    "                    unit_maxdam = infra_units[maxdams[maxdams == maxdam].index[0]] #get unit maxdam\n",
    "                    \n",
    "                    for asset in tqdm(overlay_assets.groupby('asset'),total=len(overlay_assets.asset.unique())): #group asset items for different hazard points per asset and get total number of unique assets\n",
    "                        asset_geom = geom_dict[asset[0]]\n",
    "                        collect_geom.append(asset_geom.wkt)\n",
    "                        if np.max(fragility_values) == 0: #if exposure does not lead to damage\n",
    "                            collect_inb.append(0)  \n",
    "                        else:\n",
    "                            #collect_inb.append(get_damage_per_asset_og(asset,hazard_numpified,asset_geom,hazard_intensity,fragility_values,maxdam))\n",
    "                            collect_inb.append(get_damage_per_asset(asset,hazard_numpified,asset_geom,hazard_intensity,fragility_values,maxdam,unit_maxdam)) #get list of damages for specific asset\n",
    "                    collect_output[country_code, hazard_name, sub_system, infra_type, infra_curve[0], ((maxdams[maxdams == maxdam]).index)[0]] = np.sum(collect_inb), collect_geom # dictionary to store results for various combinations of hazard maps, infrastructure curves, and maximum damage values.\n",
    "        break #delete after testing, otherwise damage will only be assessed for first hazard map\n",
    "    return collect_output"
   ]
  },
  {
   "cell_type": "code",
   "execution_count": 20,
   "id": "4a399442-b267-48e2-9f40-437d7a228259",
   "metadata": {},
   "outputs": [],
   "source": [
    "# List of critical infrastructure systems to process\n",
    "cis_dict = {\n",
    "    \"energy\": {\"power\": [\"transmission_line\",\"distribution_line\",\"cable\",\"plant\",\"substation\",\n",
    "                        \"power_tower\",\"power_pole\"]},\n",
    "    \"transportation\": {\"road\":  [\"motorway\", \"trunk\", \"primary\", \"secondary\", \"tertiary\", \"other\"], \n",
    "                        \"air\": [\"airport\", \"runway\", \"terminal\"],\n",
    "                        \"rail\": [\"railway\"]},\n",
    "    \"water\": {\"water_supply\": [\"water_tower\", \"water_well\", \"reservoir_covered\",\n",
    "                                \"water_treatment_plant\", \"water_storage_tank\"]},\n",
    "    \"waste\": {\"waste_solid\": [\"waste_transfer_station\"],\n",
    "            \"waste_water\": [\"wastewater_treatment_plant\"]},\n",
    "    \"telecommunication\": {\"telecom\": [\"communication_tower\", \"mast\"]},\n",
    "    \"healthcare\": {\"healthcare\": [\"clinic\", \"doctors\", \"hospital\", \"dentist\", \"pharmacy\", \n",
    "                        \"physiotherapist\", \"alternative\", \"laboratory\", \"optometrist\", \"rehabilitation\", \n",
    "                        \"blood_donation\", \"birthing_center\"]},\n",
    "    \"education\": {\"education\": [\"college\", \"kindergarten\", \"library\", \"school\", \"university\"]}\n",
    "}\n",
    "\n",
    "#cis_dict = {\n",
    "#    \"waste\": {\n",
    "#            \"waste_water\": [\"wastewater_treatment_plant\"]},\n",
    "#}"
   ]
  },
  {
   "cell_type": "code",
   "execution_count": 21,
   "id": "da673ad9-b62f-4b19-898e-e6428afb89a8",
   "metadata": {},
   "outputs": [],
   "source": [
    "hazard_type='pluvial'\n",
    "country_codes=['JAM']"
   ]
  },
  {
   "cell_type": "markdown",
   "id": "be15de89-7df7-4861-8315-03b04dd3bc81",
   "metadata": {},
   "source": [
    "# Run analysis"
   ]
  },
  {
   "cell_type": "code",
   "execution_count": 22,
   "id": "59a52342-2f5d-4a8e-98c4-b3ced83afd21",
   "metadata": {},
   "outputs": [
    {
     "name": "stdout",
     "output_type": "stream",
     "text": [
      "Time to extract OSM data for power\n"
     ]
    },
    {
     "name": "stderr",
     "output_type": "stream",
     "text": [
      "extract points: 100%|████████████████████████████████████████████████████████████| 2176/2176 [00:01<00:00, 1484.63it/s]\n",
      "extract multipolygons: 100%|███████████████████████████████████████████████████████████| 59/59 [00:40<00:00,  1.45it/s]\n",
      "extract lines: 100%|███████████████████████████████████████████████████████████████████| 48/48 [00:04<00:00, 10.63it/s]\n"
     ]
    },
    {
     "name": "stdout",
     "output_type": "stream",
     "text": [
      "JAM runs for power for pluvial for 10 maps\n",
      "JAM runs for transmission_line for pluvial for P_1in10 map for 16 combinations\n"
     ]
    },
    {
     "name": "stderr",
     "output_type": "stream",
     "text": [
      "0it [00:00, ?it/s]\n",
      "0it [00:00, ?it/s]\n",
      "0it [00:00, ?it/s]\n",
      "0it [00:00, ?it/s]\n",
      "0it [00:00, ?it/s]\n",
      "0it [00:00, ?it/s]\n",
      "0it [00:00, ?it/s]\n",
      "0it [00:00, ?it/s]\n",
      "0it [00:00, ?it/s]\n",
      "0it [00:00, ?it/s]\n",
      "0it [00:00, ?it/s]\n",
      "0it [00:00, ?it/s]\n",
      "0it [00:00, ?it/s]\n",
      "0it [00:00, ?it/s]\n",
      "0it [00:00, ?it/s]\n",
      "0it [00:00, ?it/s]\n"
     ]
    },
    {
     "name": "stdout",
     "output_type": "stream",
     "text": [
      "JAM runs for distribution_line for pluvial for P_1in10 map for 6 combinations\n"
     ]
    },
    {
     "name": "stderr",
     "output_type": "stream",
     "text": [
      "0it [00:00, ?it/s]\n",
      "0it [00:00, ?it/s]\n",
      "0it [00:00, ?it/s]\n",
      "0it [00:00, ?it/s]\n",
      "0it [00:00, ?it/s]\n",
      "0it [00:00, ?it/s]\n"
     ]
    },
    {
     "name": "stdout",
     "output_type": "stream",
     "text": [
      "JAM runs for cable for pluvial for P_1in10 map for 3 combinations\n"
     ]
    },
    {
     "name": "stderr",
     "output_type": "stream",
     "text": [
      "0it [00:00, ?it/s]\n",
      "0it [00:00, ?it/s]\n",
      "0it [00:00, ?it/s]\n"
     ]
    },
    {
     "name": "stdout",
     "output_type": "stream",
     "text": [
      "JAM runs for plant for pluvial for P_1in10 map for 49 combinations\n"
     ]
    },
    {
     "name": "stderr",
     "output_type": "stream",
     "text": [
      "100%|█████████████████████████████████████████████████████████████████████████████████| 12/12 [00:00<00:00, 383.77it/s]\n",
      "100%|████████████████████████████████████████████████████████████████████████████████| 12/12 [00:00<00:00, 1707.43it/s]\n",
      "100%|█████████████████████████████████████████████████████████████████████████████████| 12/12 [00:00<00:00, 769.35it/s]\n",
      "100%|█████████████████████████████████████████████████████████████████████████████████| 12/12 [00:00<00:00, 755.56it/s]\n",
      "100%|█████████████████████████████████████████████████████████████████████████████████| 12/12 [00:00<00:00, 762.90it/s]\n",
      "100%|█████████████████████████████████████████████████████████████████████████████████| 12/12 [00:00<00:00, 761.84it/s]\n",
      "100%|█████████████████████████████████████████████████████████████████████████████████| 12/12 [00:00<00:00, 765.86it/s]\n",
      "100%|█████████████████████████████████████████████████████████████████████████████████| 12/12 [00:00<00:00, 767.91it/s]\n",
      "100%|█████████████████████████████████████████████████████████████████████████████████| 12/12 [00:00<00:00, 703.25it/s]\n",
      "100%|██████████████████████████████████████████████████████████████████████████████████████████| 12/12 [00:00<?, ?it/s]\n",
      "100%|████████████████████████████████████████████████████████████████████████████████| 12/12 [00:00<00:00, 1041.01it/s]\n",
      "100%|█████████████████████████████████████████████████████████████████████████████████| 12/12 [00:00<00:00, 378.61it/s]\n",
      "100%|████████████████████████████████████████████████████████████████████████████████| 12/12 [00:00<00:00, 1196.83it/s]\n",
      "100%|█████████████████████████████████████████████████████████████████████████████████| 12/12 [00:00<00:00, 766.78it/s]\n",
      "100%|█████████████████████████████████████████████████████████████████████████████████| 12/12 [00:00<00:00, 747.09it/s]\n",
      "100%|█████████████████████████████████████████████████████████████████████████████████| 12/12 [00:00<00:00, 656.83it/s]\n",
      "100%|█████████████████████████████████████████████████████████████████████████████████| 12/12 [00:00<00:00, 788.69it/s]\n",
      "100%|█████████████████████████████████████████████████████████████████████████████████| 12/12 [00:00<00:00, 916.15it/s]\n",
      "100%|█████████████████████████████████████████████████████████████████████████████████| 12/12 [00:00<00:00, 798.92it/s]\n",
      "100%|█████████████████████████████████████████████████████████████████████████████████| 12/12 [00:00<00:00, 768.93it/s]\n",
      "100%|█████████████████████████████████████████████████████████████████████████████████| 12/12 [00:00<00:00, 540.85it/s]\n",
      "100%|█████████████████████████████████████████████████████████████████████████████████| 12/12 [00:00<00:00, 858.39it/s]\n",
      "100%|█████████████████████████████████████████████████████████████████████████████████| 12/12 [00:00<00:00, 747.55it/s]\n",
      "100%|█████████████████████████████████████████████████████████████████████████████████| 12/12 [00:00<00:00, 766.49it/s]\n",
      "100%|█████████████████████████████████████████████████████████████████████████████████| 12/12 [00:00<00:00, 747.12it/s]\n",
      "100%|█████████████████████████████████████████████████████████████████████████████████| 12/12 [00:00<00:00, 957.69it/s]\n",
      "100%|████████████████████████████████████████████████████████████████████████████████| 12/12 [00:00<00:00, 1256.25it/s]\n",
      "100%|█████████████████████████████████████████████████████████████████████████████████| 12/12 [00:00<00:00, 916.30it/s]\n",
      "100%|██████████████████████████████████████████████████████████████████████████████████████████| 12/12 [00:00<?, ?it/s]\n",
      "100%|█████████████████████████████████████████████████████████████████████████████████| 12/12 [00:00<00:00, 671.10it/s]\n",
      "100%|██████████████████████████████████████████████████████████████████████████████████████████| 12/12 [00:00<?, ?it/s]\n",
      "100%|████████████████████████████████████████████████████████████████████████████████| 12/12 [00:00<00:00, 4471.94it/s]\n",
      "100%|████████████████████████████████████████████████████████████████████████████████| 12/12 [00:00<00:00, 4687.25it/s]\n",
      "100%|█████████████████████████████████████████████████████████████████████████████████| 12/12 [00:00<00:00, 886.46it/s]\n",
      "100%|██████████████████████████████████████████████████████████████████████████████████████████| 12/12 [00:00<?, ?it/s]\n",
      "100%|█████████████████████████████████████████████████████████████████████████████████| 12/12 [00:00<00:00, 766.40it/s]\n",
      "100%|█████████████████████████████████████████████████████████████████████████████████| 12/12 [00:00<00:00, 767.33it/s]\n",
      "100%|█████████████████████████████████████████████████████████████████████████████████| 12/12 [00:00<00:00, 566.40it/s]\n",
      "100%|█████████████████████████████████████████████████████████████████████████████████| 12/12 [00:00<00:00, 762.55it/s]\n",
      "100%|█████████████████████████████████████████████████████████████████████████████████| 12/12 [00:00<00:00, 383.47it/s]\n",
      "100%|█████████████████████████████████████████████████████████████████████████████████| 12/12 [00:00<00:00, 767.94it/s]\n",
      "100%|█████████████████████████████████████████████████████████████████████████████████| 12/12 [00:00<00:00, 760.42it/s]\n",
      "100%|█████████████████████████████████████████████████████████████████████████████████| 12/12 [00:00<00:00, 768.38it/s]\n",
      "100%|█████████████████████████████████████████████████████████████████████████████████| 12/12 [00:00<00:00, 634.17it/s]\n",
      "100%|█████████████████████████████████████████████████████████████████████████████████| 12/12 [00:00<00:00, 955.86it/s]\n",
      "100%|█████████████████████████████████████████████████████████████████████████████████| 12/12 [00:00<00:00, 798.75it/s]\n",
      "100%|█████████████████████████████████████████████████████████████████████████████████| 12/12 [00:00<00:00, 766.61it/s]\n",
      "100%|████████████████████████████████████████████████████████████████████████████████| 12/12 [00:00<00:00, 1138.52it/s]\n",
      "100%|█████████████████████████████████████████████████████████████████████████████████| 12/12 [00:00<00:00, 766.43it/s]\n"
     ]
    },
    {
     "name": "stdout",
     "output_type": "stream",
     "text": [
      "JAM runs for substation for pluvial for P_1in10 map for 12 combinations\n"
     ]
    },
    {
     "name": "stderr",
     "output_type": "stream",
     "text": [
      "100%|████████████████████████████████████████████████████████████████████████████████████████████| 8/8 [00:00<?, ?it/s]\n",
      "100%|████████████████████████████████████████████████████████████████████████████████████████████| 8/8 [00:00<?, ?it/s]\n",
      "100%|███████████████████████████████████████████████████████████████████████████████████| 8/8 [00:00<00:00, 694.03it/s]\n",
      "100%|███████████████████████████████████████████████████████████████████████████████████| 8/8 [00:00<00:00, 507.26it/s]\n",
      "100%|██████████████████████████████████████████████████████████████████████████████████| 8/8 [00:00<00:00, 1137.25it/s]\n",
      "100%|███████████████████████████████████████████████████████████████████████████████████| 8/8 [00:00<00:00, 510.58it/s]\n",
      "100%|███████████████████████████████████████████████████████████████████████████████████| 8/8 [00:00<00:00, 462.30it/s]\n",
      "100%|███████████████████████████████████████████████████████████████████████████████████| 8/8 [00:00<00:00, 570.27it/s]\n",
      "100%|██████████████████████████████████████████████████████████████████████████████████| 8/8 [00:00<00:00, 3074.72it/s]\n",
      "100%|████████████████████████████████████████████████████████████████████████████████████████████| 8/8 [00:00<?, ?it/s]\n",
      "100%|████████████████████████████████████████████████████████████████████████████████████████████| 8/8 [00:00<?, ?it/s]\n",
      "100%|████████████████████████████████████████████████████████████████████████████████████████████| 8/8 [00:00<?, ?it/s]\n"
     ]
    },
    {
     "name": "stdout",
     "output_type": "stream",
     "text": [
      "JAM runs for power_tower for pluvial for P_1in10 map for 2 combinations\n"
     ]
    },
    {
     "name": "stderr",
     "output_type": "stream",
     "text": [
      "100%|██████████████████████████████████████████████████████████████████████████████| 272/272 [00:00<00:00, 8587.51it/s]\n",
      "100%|██████████████████████████████████████████████████████████████████████████████| 272/272 [00:00<00:00, 3262.25it/s]\n"
     ]
    },
    {
     "name": "stdout",
     "output_type": "stream",
     "text": [
      "JAM runs for power_pole for pluvial for P_1in10 map for 6 combinations\n"
     ]
    },
    {
     "name": "stderr",
     "output_type": "stream",
     "text": [
      "100%|██████████████████████████████████████████████████████████████████████████████████████████| 63/63 [00:00<?, ?it/s]\n",
      "100%|████████████████████████████████████████████████████████████████████████████████| 63/63 [00:00<00:00, 4008.15it/s]\n",
      "100%|██████████████████████████████████████████████████████████████████████████████████████████| 63/63 [00:00<?, ?it/s]\n",
      "100%|████████████████████████████████████████████████████████████████████████████████| 63/63 [00:00<00:00, 3938.14it/s]\n",
      "100%|████████████████████████████████████████████████████████████████████████████████| 63/63 [00:00<00:00, 4035.94it/s]\n",
      "100%|████████████████████████████████████████████████████████████████████████████████| 63/63 [00:00<00:00, 4033.48it/s]\n"
     ]
    },
    {
     "name": "stdout",
     "output_type": "stream",
     "text": [
      "CSV file created at: C:\\Projects\\gmhcira\\data\\damage\\JAM\\JAM_pluvial_power.csv\n",
      "Time to extract OSM data for road\n"
     ]
    },
    {
     "name": "stderr",
     "output_type": "stream",
     "text": [
      "extract lines: 100%|███████████████████████████████████████████████████████████| 50388/50388 [00:14<00:00, 3463.69it/s]\n"
     ]
    },
    {
     "name": "stdout",
     "output_type": "stream",
     "text": [
      "JAM runs for road for pluvial for 10 maps\n",
      "JAM runs for motorway for pluvial for P_1in10 map for 20 combinations\n"
     ]
    },
    {
     "name": "stderr",
     "output_type": "stream",
     "text": [
      "100%|████████████████████████████████████████████████████████████████████████████████| 82/82 [00:00<00:00, 1308.16it/s]\n",
      "100%|████████████████████████████████████████████████████████████████████████████████| 82/82 [00:00<00:00, 1309.47it/s]\n",
      "100%|████████████████████████████████████████████████████████████████████████████████| 82/82 [00:00<00:00, 1047.96it/s]\n",
      "100%|█████████████████████████████████████████████████████████████████████████████████| 82/82 [00:00<00:00, 869.99it/s]\n",
      "100%|████████████████████████████████████████████████████████████████████████████████| 82/82 [00:00<00:00, 1292.55it/s]\n",
      "100%|████████████████████████████████████████████████████████████████████████████████| 82/82 [00:00<00:00, 1748.97it/s]\n",
      "100%|████████████████████████████████████████████████████████████████████████████████| 82/82 [00:00<00:00, 1307.52it/s]\n",
      "100%|████████████████████████████████████████████████████████████████████████████████| 82/82 [00:00<00:00, 1295.19it/s]\n",
      "100%|████████████████████████████████████████████████████████████████████████████████| 82/82 [00:00<00:00, 1312.04it/s]\n",
      "100%|████████████████████████████████████████████████████████████████████████████████| 82/82 [00:00<00:00, 1298.02it/s]\n",
      "100%|████████████████████████████████████████████████████████████████████████████████| 82/82 [00:00<00:00, 1296.83it/s]\n",
      "100%|████████████████████████████████████████████████████████████████████████████████| 82/82 [00:00<00:00, 1189.54it/s]\n",
      "100%|████████████████████████████████████████████████████████████████████████████████| 82/82 [00:00<00:00, 1300.16it/s]\n",
      "100%|█████████████████████████████████████████████████████████████████████████████████| 82/82 [00:00<00:00, 747.18it/s]\n",
      "100%|████████████████████████████████████████████████████████████████████████████████| 82/82 [00:00<00:00, 1297.62it/s]\n",
      "100%|████████████████████████████████████████████████████████████████████████████████| 82/82 [00:00<00:00, 1043.29it/s]\n",
      "100%|████████████████████████████████████████████████████████████████████████████████| 82/82 [00:00<00:00, 1743.22it/s]\n",
      "100%|████████████████████████████████████████████████████████████████████████████████| 82/82 [00:00<00:00, 1375.43it/s]\n",
      "100%|████████████████████████████████████████████████████████████████████████████████| 82/82 [00:00<00:00, 1295.98it/s]\n",
      "100%|████████████████████████████████████████████████████████████████████████████████| 82/82 [00:00<00:00, 1301.35it/s]\n"
     ]
    },
    {
     "name": "stdout",
     "output_type": "stream",
     "text": [
      "JAM runs for trunk for pluvial for P_1in10 map for 8 combinations\n"
     ]
    },
    {
     "name": "stderr",
     "output_type": "stream",
     "text": [
      "100%|██████████████████████████████████████████████████████████████████████████████| 128/128 [00:00<00:00, 1163.38it/s]\n",
      "100%|██████████████████████████████████████████████████████████████████████████████| 128/128 [00:00<00:00, 1160.47it/s]\n",
      "100%|██████████████████████████████████████████████████████████████████████████████| 128/128 [00:00<00:00, 1640.06it/s]\n",
      "100%|██████████████████████████████████████████████████████████████████████████████| 128/128 [00:00<00:00, 1446.24it/s]\n",
      "100%|██████████████████████████████████████████████████████████████████████████████| 128/128 [00:00<00:00, 1548.44it/s]\n",
      "100%|██████████████████████████████████████████████████████████████████████████████| 128/128 [00:00<00:00, 1624.37it/s]\n",
      "100%|██████████████████████████████████████████████████████████████████████████████| 128/128 [00:00<00:00, 1623.24it/s]\n",
      "100%|██████████████████████████████████████████████████████████████████████████████| 128/128 [00:00<00:00, 1623.87it/s]\n"
     ]
    },
    {
     "name": "stdout",
     "output_type": "stream",
     "text": [
      "JAM runs for primary for pluvial for P_1in10 map for 4 combinations\n"
     ]
    },
    {
     "name": "stderr",
     "output_type": "stream",
     "text": [
      "100%|██████████████████████████████████████████████████████████████████████████████| 300/300 [00:00<00:00, 1192.35it/s]\n",
      "100%|██████████████████████████████████████████████████████████████████████████████| 300/300 [00:00<00:00, 1004.55it/s]\n",
      "100%|██████████████████████████████████████████████████████████████████████████████| 300/300 [00:00<00:00, 1129.71it/s]\n",
      "100%|██████████████████████████████████████████████████████████████████████████████| 300/300 [00:00<00:00, 1274.19it/s]\n"
     ]
    },
    {
     "name": "stdout",
     "output_type": "stream",
     "text": [
      "JAM runs for secondary for pluvial for P_1in10 map for 6 combinations\n"
     ]
    },
    {
     "name": "stderr",
     "output_type": "stream",
     "text": [
      "100%|███████████████████████████████████████████████████████████████████████████████| 231/231 [00:00<00:00, 639.16it/s]\n",
      "100%|███████████████████████████████████████████████████████████████████████████████| 231/231 [00:00<00:00, 664.20it/s]\n",
      "100%|███████████████████████████████████████████████████████████████████████████████| 231/231 [00:00<00:00, 612.29it/s]\n",
      "100%|███████████████████████████████████████████████████████████████████████████████| 231/231 [00:00<00:00, 733.67it/s]\n",
      "100%|███████████████████████████████████████████████████████████████████████████████| 231/231 [00:00<00:00, 637.33it/s]\n",
      "100%|███████████████████████████████████████████████████████████████████████████████| 231/231 [00:00<00:00, 611.52it/s]\n"
     ]
    },
    {
     "name": "stdout",
     "output_type": "stream",
     "text": [
      "JAM runs for tertiary for pluvial for P_1in10 map for 2 combinations\n"
     ]
    },
    {
     "name": "stderr",
     "output_type": "stream",
     "text": [
      "100%|███████████████████████████████████████████████████████████████████████████████| 326/326 [00:00<00:00, 855.16it/s]\n",
      "100%|███████████████████████████████████████████████████████████████████████████████| 326/326 [00:00<00:00, 627.90it/s]\n"
     ]
    },
    {
     "name": "stdout",
     "output_type": "stream",
     "text": [
      "JAM runs for other for pluvial for P_1in10 map for 6 combinations\n"
     ]
    },
    {
     "name": "stderr",
     "output_type": "stream",
     "text": [
      "100%|████████████████████████████████████████████████████████████████████████████| 9006/9006 [00:06<00:00, 1411.93it/s]\n",
      "100%|████████████████████████████████████████████████████████████████████████████| 9006/9006 [00:06<00:00, 1428.71it/s]\n",
      "100%|████████████████████████████████████████████████████████████████████████████| 9006/9006 [00:07<00:00, 1261.81it/s]\n",
      "100%|████████████████████████████████████████████████████████████████████████████| 9006/9006 [00:06<00:00, 1430.90it/s]\n",
      "100%|████████████████████████████████████████████████████████████████████████████| 9006/9006 [00:05<00:00, 1576.54it/s]\n",
      "100%|████████████████████████████████████████████████████████████████████████████| 9006/9006 [00:05<00:00, 1568.17it/s]\n"
     ]
    },
    {
     "name": "stdout",
     "output_type": "stream",
     "text": [
      "CSV file created at: C:\\Projects\\gmhcira\\data\\damage\\JAM\\JAM_pluvial_road.csv\n",
      "Time to extract OSM data for air\n"
     ]
    },
    {
     "name": "stderr",
     "output_type": "stream",
     "text": [
      "extract multipolygons: 100%|███████████████████████████████████████████████████████████| 11/11 [00:19<00:00,  1.77s/it]\n",
      "extract lines: 100%|███████████████████████████████████████████████████████████████████| 23/23 [00:03<00:00,  6.83it/s]\n"
     ]
    },
    {
     "name": "stdout",
     "output_type": "stream",
     "text": [
      "JAM runs for air for pluvial for 10 maps\n",
      "JAM runs for airport for pluvial for P_1in10 map for 9 combinations\n"
     ]
    },
    {
     "name": "stderr",
     "output_type": "stream",
     "text": [
      "100%|████████████████████████████████████████████████████████████████████████████████████████████| 3/3 [00:00<?, ?it/s]\n",
      "100%|████████████████████████████████████████████████████████████████████████████████████████████| 3/3 [00:00<?, ?it/s]\n",
      "100%|███████████████████████████████████████████████████████████████████████████████████| 3/3 [00:00<00:00, 193.01it/s]\n",
      "100%|███████████████████████████████████████████████████████████████████████████████████| 3/3 [00:00<00:00, 426.19it/s]\n",
      "100%|███████████████████████████████████████████████████████████████████████████████████| 3/3 [00:00<00:00, 190.65it/s]\n",
      "100%|███████████████████████████████████████████████████████████████████████████████████| 3/3 [00:00<00:00, 192.89it/s]\n",
      "100%|███████████████████████████████████████████████████████████████████████████████████| 3/3 [00:00<00:00, 192.19it/s]\n",
      "100%|███████████████████████████████████████████████████████████████████████████████████| 3/3 [00:00<00:00, 192.03it/s]\n",
      "100%|███████████████████████████████████████████████████████████████████████████████████| 3/3 [00:00<00:00, 191.99it/s]\n"
     ]
    },
    {
     "name": "stdout",
     "output_type": "stream",
     "text": [
      "JAM runs for runway for pluvial for P_1in10 map for 12 combinations\n"
     ]
    },
    {
     "name": "stderr",
     "output_type": "stream",
     "text": [
      "100%|██████████████████████████████████████████████████████████████████████████████████| 9/9 [00:00<00:00, 1490.69it/s]\n",
      "100%|████████████████████████████████████████████████████████████████████████████████████████████| 9/9 [00:00<?, ?it/s]\n",
      "100%|███████████████████████████████████████████████████████████████████████████████████| 9/9 [00:00<00:00, 778.16it/s]\n",
      "100%|███████████████████████████████████████████████████████████████████████████████████| 9/9 [00:00<00:00, 571.81it/s]\n",
      "100%|███████████████████████████████████████████████████████████████████████████████████| 9/9 [00:00<00:00, 579.05it/s]\n",
      "100%|███████████████████████████████████████████████████████████████████████████████████| 9/9 [00:00<00:00, 579.61it/s]\n",
      "100%|███████████████████████████████████████████████████████████████████████████████████| 9/9 [00:00<00:00, 574.35it/s]\n",
      "100%|███████████████████████████████████████████████████████████████████████████████████| 9/9 [00:00<00:00, 573.15it/s]\n",
      "100%|███████████████████████████████████████████████████████████████████████████████████| 9/9 [00:00<00:00, 575.87it/s]\n",
      "100%|███████████████████████████████████████████████████████████████████████████████████| 9/9 [00:00<00:00, 576.46it/s]\n",
      "100%|███████████████████████████████████████████████████████████████████████████████████| 9/9 [00:00<00:00, 575.87it/s]\n",
      "100%|██████████████████████████████████████████████████████████████████████████████████| 9/9 [00:00<00:00, 1361.59it/s]\n"
     ]
    },
    {
     "name": "stdout",
     "output_type": "stream",
     "text": [
      "JAM runs for terminal for pluvial for P_1in10 map for 9 combinations\n"
     ]
    },
    {
     "name": "stderr",
     "output_type": "stream",
     "text": [
      "100%|████████████████████████████████████████████████████████████████████████████████████████████| 1/1 [00:00<?, ?it/s]\n",
      "100%|████████████████████████████████████████████████████████████████████████████████████████████| 1/1 [00:00<?, ?it/s]\n",
      "100%|████████████████████████████████████████████████████████████████████████████████████| 1/1 [00:00<00:00, 63.99it/s]\n",
      "100%|████████████████████████████████████████████████████████████████████████████████████████████| 1/1 [00:00<?, ?it/s]\n",
      "100%|████████████████████████████████████████████████████████████████████████████████████████████| 1/1 [00:00<?, ?it/s]\n",
      "100%|████████████████████████████████████████████████████████████████████████████████████| 1/1 [00:00<00:00, 63.96it/s]\n",
      "100%|████████████████████████████████████████████████████████████████████████████████████████████| 1/1 [00:00<?, ?it/s]\n",
      "100%|████████████████████████████████████████████████████████████████████████████████████████████| 1/1 [00:00<?, ?it/s]\n",
      "100%|████████████████████████████████████████████████████████████████████████████████████████████| 1/1 [00:00<?, ?it/s]\n"
     ]
    },
    {
     "name": "stdout",
     "output_type": "stream",
     "text": [
      "CSV file created at: C:\\Projects\\gmhcira\\data\\damage\\JAM\\JAM_pluvial_air.csv\n",
      "Time to extract OSM data for rail\n"
     ]
    },
    {
     "name": "stderr",
     "output_type": "stream",
     "text": [
      "extract lines: 100%|███████████████████████████████████████████████████████████████████| 42/42 [00:03<00:00, 11.99it/s]\n"
     ]
    },
    {
     "name": "stdout",
     "output_type": "stream",
     "text": [
      "JAM runs for rail for pluvial for 10 maps\n",
      "JAM runs for railway for pluvial for P_1in10 map for 108 combinations\n"
     ]
    },
    {
     "name": "stderr",
     "output_type": "stream",
     "text": [
      "100%|█████████████████████████████████████████████████████████████████████████████████| 16/16 [00:00<00:00, 612.05it/s]\n",
      "100%|█████████████████████████████████████████████████████████████████████████████████| 16/16 [00:00<00:00, 932.70it/s]\n",
      "100%|█████████████████████████████████████████████████████████████████████████████████| 16/16 [00:00<00:00, 804.30it/s]\n",
      "100%|█████████████████████████████████████████████████████████████████████████████████| 16/16 [00:00<00:00, 754.83it/s]\n",
      "100%|█████████████████████████████████████████████████████████████████████████████████| 16/16 [00:00<00:00, 634.06it/s]\n",
      "100%|█████████████████████████████████████████████████████████████████████████████████| 16/16 [00:00<00:00, 603.93it/s]\n",
      "100%|█████████████████████████████████████████████████████████████████████████████████| 16/16 [00:00<00:00, 813.86it/s]\n",
      "100%|█████████████████████████████████████████████████████████████████████████████████| 16/16 [00:00<00:00, 618.13it/s]\n",
      "100%|█████████████████████████████████████████████████████████████████████████████████| 16/16 [00:00<00:00, 560.87it/s]\n",
      "100%|█████████████████████████████████████████████████████████████████████████████████| 16/16 [00:00<00:00, 576.25it/s]\n",
      "100%|█████████████████████████████████████████████████████████████████████████████████| 16/16 [00:00<00:00, 586.31it/s]\n",
      "100%|█████████████████████████████████████████████████████████████████████████████████| 16/16 [00:00<00:00, 476.21it/s]\n",
      "100%|█████████████████████████████████████████████████████████████████████████████████| 16/16 [00:00<00:00, 470.15it/s]\n",
      "100%|█████████████████████████████████████████████████████████████████████████████████| 16/16 [00:00<00:00, 477.78it/s]\n",
      "100%|█████████████████████████████████████████████████████████████████████████████████| 16/16 [00:00<00:00, 476.71it/s]\n",
      "100%|█████████████████████████████████████████████████████████████████████████████████| 16/16 [00:00<00:00, 733.80it/s]\n",
      "100%|█████████████████████████████████████████████████████████████████████████████████| 16/16 [00:00<00:00, 421.07it/s]\n",
      "100%|█████████████████████████████████████████████████████████████████████████████████| 16/16 [00:00<00:00, 527.08it/s]\n",
      "100%|█████████████████████████████████████████████████████████████████████████████████| 16/16 [00:00<00:00, 584.37it/s]\n",
      "100%|█████████████████████████████████████████████████████████████████████████████████| 16/16 [00:00<00:00, 405.33it/s]\n",
      "100%|█████████████████████████████████████████████████████████████████████████████████| 16/16 [00:00<00:00, 688.59it/s]\n",
      "100%|█████████████████████████████████████████████████████████████████████████████████| 16/16 [00:00<00:00, 547.48it/s]\n",
      "100%|█████████████████████████████████████████████████████████████████████████████████| 16/16 [00:00<00:00, 723.60it/s]\n",
      "100%|█████████████████████████████████████████████████████████████████████████████████| 16/16 [00:00<00:00, 549.04it/s]\n",
      "100%|█████████████████████████████████████████████████████████████████████████████████| 16/16 [00:00<00:00, 605.05it/s]\n",
      "100%|█████████████████████████████████████████████████████████████████████████████████| 16/16 [00:00<00:00, 605.34it/s]\n",
      "100%|█████████████████████████████████████████████████████████████████████████████████| 16/16 [00:00<00:00, 642.65it/s]\n",
      "100%|█████████████████████████████████████████████████████████████████████████████████| 16/16 [00:00<00:00, 631.97it/s]\n",
      "100%|█████████████████████████████████████████████████████████████████████████████████| 16/16 [00:00<00:00, 533.37it/s]\n",
      "100%|█████████████████████████████████████████████████████████████████████████████████| 16/16 [00:00<00:00, 470.45it/s]\n",
      "100%|█████████████████████████████████████████████████████████████████████████████████| 16/16 [00:00<00:00, 565.38it/s]\n",
      "100%|█████████████████████████████████████████████████████████████████████████████████| 16/16 [00:00<00:00, 625.27it/s]\n",
      "100%|█████████████████████████████████████████████████████████████████████████████████| 16/16 [00:00<00:00, 512.08it/s]\n",
      "100%|█████████████████████████████████████████████████████████████████████████████████| 16/16 [00:00<00:00, 670.28it/s]\n",
      "100%|█████████████████████████████████████████████████████████████████████████████████| 16/16 [00:00<00:00, 482.24it/s]\n",
      "100%|█████████████████████████████████████████████████████████████████████████████████| 16/16 [00:00<00:00, 421.85it/s]\n",
      "100%|█████████████████████████████████████████████████████████████████████████████████| 16/16 [00:00<00:00, 666.13it/s]\n",
      "100%|█████████████████████████████████████████████████████████████████████████████████| 16/16 [00:00<00:00, 659.03it/s]\n",
      "100%|█████████████████████████████████████████████████████████████████████████████████| 16/16 [00:00<00:00, 543.72it/s]\n",
      "100%|█████████████████████████████████████████████████████████████████████████████████| 16/16 [00:00<00:00, 679.66it/s]\n",
      "100%|█████████████████████████████████████████████████████████████████████████████████| 16/16 [00:00<00:00, 431.66it/s]\n",
      "100%|█████████████████████████████████████████████████████████████████████████████████| 16/16 [00:00<00:00, 622.37it/s]\n",
      "100%|█████████████████████████████████████████████████████████████████████████████████| 16/16 [00:00<00:00, 638.60it/s]\n",
      "100%|█████████████████████████████████████████████████████████████████████████████████| 16/16 [00:00<00:00, 488.95it/s]\n",
      "100%|█████████████████████████████████████████████████████████████████████████████████| 16/16 [00:00<00:00, 678.00it/s]\n",
      "100%|█████████████████████████████████████████████████████████████████████████████████| 16/16 [00:00<00:00, 632.68it/s]\n",
      "100%|█████████████████████████████████████████████████████████████████████████████████| 16/16 [00:00<00:00, 627.80it/s]\n",
      "100%|█████████████████████████████████████████████████████████████████████████████████| 16/16 [00:00<00:00, 591.59it/s]\n",
      "100%|█████████████████████████████████████████████████████████████████████████████████| 16/16 [00:00<00:00, 646.50it/s]\n",
      "100%|█████████████████████████████████████████████████████████████████████████████████| 16/16 [00:00<00:00, 608.85it/s]\n",
      "100%|█████████████████████████████████████████████████████████████████████████████████| 16/16 [00:00<00:00, 606.68it/s]\n",
      "100%|█████████████████████████████████████████████████████████████████████████████████| 16/16 [00:00<00:00, 612.72it/s]\n",
      "100%|█████████████████████████████████████████████████████████████████████████████████| 16/16 [00:00<00:00, 483.34it/s]\n",
      "100%|█████████████████████████████████████████████████████████████████████████████████| 16/16 [00:00<00:00, 407.20it/s]\n",
      "100%|█████████████████████████████████████████████████████████████████████████████████| 16/16 [00:00<00:00, 416.29it/s]\n",
      "100%|█████████████████████████████████████████████████████████████████████████████████| 16/16 [00:00<00:00, 478.91it/s]\n",
      "100%|█████████████████████████████████████████████████████████████████████████████████| 16/16 [00:00<00:00, 507.75it/s]\n",
      "100%|█████████████████████████████████████████████████████████████████████████████████| 16/16 [00:00<00:00, 580.31it/s]\n",
      "100%|█████████████████████████████████████████████████████████████████████████████████| 16/16 [00:00<00:00, 511.11it/s]\n",
      "100%|█████████████████████████████████████████████████████████████████████████████████| 16/16 [00:00<00:00, 122.47it/s]\n",
      "100%|████████████████████████████████████████████████████████████████████████████████| 16/16 [00:00<00:00, 1022.38it/s]\n",
      "100%|█████████████████████████████████████████████████████████████████████████████████| 16/16 [00:00<00:00, 501.83it/s]\n",
      "100%|█████████████████████████████████████████████████████████████████████████████████| 16/16 [00:00<00:00, 591.65it/s]\n",
      "100%|█████████████████████████████████████████████████████████████████████████████████| 16/16 [00:00<00:00, 575.53it/s]\n",
      "100%|█████████████████████████████████████████████████████████████████████████████████| 16/16 [00:00<00:00, 837.45it/s]\n",
      "100%|█████████████████████████████████████████████████████████████████████████████████| 16/16 [00:00<00:00, 615.33it/s]\n",
      "100%|█████████████████████████████████████████████████████████████████████████████████| 16/16 [00:00<00:00, 499.40it/s]\n",
      "100%|█████████████████████████████████████████████████████████████████████████████████| 16/16 [00:00<00:00, 587.76it/s]\n",
      "100%|█████████████████████████████████████████████████████████████████████████████████| 16/16 [00:00<00:00, 607.15it/s]\n",
      "100%|█████████████████████████████████████████████████████████████████████████████████| 16/16 [00:00<00:00, 664.69it/s]\n",
      "100%|█████████████████████████████████████████████████████████████████████████████████| 16/16 [00:00<00:00, 638.59it/s]\n",
      "100%|█████████████████████████████████████████████████████████████████████████████████| 16/16 [00:00<00:00, 630.89it/s]\n",
      "100%|█████████████████████████████████████████████████████████████████████████████████| 16/16 [00:00<00:00, 592.99it/s]\n",
      "100%|█████████████████████████████████████████████████████████████████████████████████| 16/16 [00:00<00:00, 615.58it/s]\n",
      "100%|█████████████████████████████████████████████████████████████████████████████████| 16/16 [00:00<00:00, 665.34it/s]\n",
      "100%|█████████████████████████████████████████████████████████████████████████████████| 16/16 [00:00<00:00, 582.31it/s]\n",
      "100%|█████████████████████████████████████████████████████████████████████████████████| 16/16 [00:00<00:00, 464.08it/s]\n",
      "100%|█████████████████████████████████████████████████████████████████████████████████| 16/16 [00:00<00:00, 527.47it/s]\n",
      "100%|█████████████████████████████████████████████████████████████████████████████████| 16/16 [00:00<00:00, 681.05it/s]\n",
      "100%|█████████████████████████████████████████████████████████████████████████████████| 16/16 [00:00<00:00, 469.11it/s]\n",
      "100%|█████████████████████████████████████████████████████████████████████████████████| 16/16 [00:00<00:00, 602.91it/s]\n",
      "100%|█████████████████████████████████████████████████████████████████████████████████| 16/16 [00:00<00:00, 674.87it/s]\n",
      "100%|█████████████████████████████████████████████████████████████████████████████████| 16/16 [00:00<00:00, 577.56it/s]\n",
      "100%|█████████████████████████████████████████████████████████████████████████████████| 16/16 [00:00<00:00, 567.14it/s]\n",
      "100%|█████████████████████████████████████████████████████████████████████████████████| 16/16 [00:00<00:00, 470.42it/s]\n",
      "100%|█████████████████████████████████████████████████████████████████████████████████| 16/16 [00:00<00:00, 627.94it/s]\n",
      "100%|█████████████████████████████████████████████████████████████████████████████████| 16/16 [00:00<00:00, 523.90it/s]\n",
      "100%|█████████████████████████████████████████████████████████████████████████████████| 16/16 [00:00<00:00, 517.78it/s]\n",
      "100%|█████████████████████████████████████████████████████████████████████████████████| 16/16 [00:00<00:00, 477.13it/s]\n",
      "100%|█████████████████████████████████████████████████████████████████████████████████| 16/16 [00:00<00:00, 568.81it/s]\n",
      "100%|█████████████████████████████████████████████████████████████████████████████████| 16/16 [00:00<00:00, 863.76it/s]\n",
      "100%|█████████████████████████████████████████████████████████████████████████████████| 16/16 [00:00<00:00, 666.58it/s]\n",
      "100%|████████████████████████████████████████████████████████████████████████████████| 16/16 [00:00<00:00, 1098.76it/s]\n",
      "100%|█████████████████████████████████████████████████████████████████████████████████| 16/16 [00:00<00:00, 666.56it/s]\n",
      "100%|█████████████████████████████████████████████████████████████████████████████████| 16/16 [00:00<00:00, 448.20it/s]\n",
      "100%|█████████████████████████████████████████████████████████████████████████████████| 16/16 [00:00<00:00, 596.91it/s]\n",
      "100%|█████████████████████████████████████████████████████████████████████████████████| 16/16 [00:00<00:00, 428.33it/s]\n",
      "100%|█████████████████████████████████████████████████████████████████████████████████| 16/16 [00:00<00:00, 328.27it/s]\n",
      "100%|█████████████████████████████████████████████████████████████████████████████████| 16/16 [00:00<00:00, 372.88it/s]\n",
      "100%|█████████████████████████████████████████████████████████████████████████████████| 16/16 [00:00<00:00, 379.90it/s]\n",
      "100%|█████████████████████████████████████████████████████████████████████████████████| 16/16 [00:00<00:00, 369.11it/s]\n",
      "100%|████████████████████████████████████████████████████████████████████████████████| 16/16 [00:00<00:00, 1027.06it/s]\n",
      "100%|█████████████████████████████████████████████████████████████████████████████████| 16/16 [00:00<00:00, 531.64it/s]\n",
      "100%|█████████████████████████████████████████████████████████████████████████████████| 16/16 [00:00<00:00, 808.75it/s]\n",
      "100%|█████████████████████████████████████████████████████████████████████████████████| 16/16 [00:00<00:00, 484.99it/s]\n",
      "100%|█████████████████████████████████████████████████████████████████████████████████| 16/16 [00:00<00:00, 555.70it/s]\n",
      "100%|█████████████████████████████████████████████████████████████████████████████████| 16/16 [00:00<00:00, 451.53it/s]\n",
      "100%|█████████████████████████████████████████████████████████████████████████████████| 16/16 [00:00<00:00, 689.34it/s]\n"
     ]
    },
    {
     "name": "stdout",
     "output_type": "stream",
     "text": [
      "CSV file created at: C:\\Projects\\gmhcira\\data\\damage\\JAM\\JAM_pluvial_rail.csv\n",
      "Time to extract OSM data for water_supply\n"
     ]
    },
    {
     "name": "stderr",
     "output_type": "stream",
     "text": [
      "extract points: 100%|████████████████████████████████████████████████████████████████████| 8/8 [00:01<00:00,  7.96it/s]\n",
      "extract multipolygons: 100%|█████████████████████████████████████████████████████████████| 2/2 [00:25<00:00, 12.74s/it]\n"
     ]
    },
    {
     "name": "stdout",
     "output_type": "stream",
     "text": [
      "JAM runs for water_supply for pluvial for 10 maps\n",
      "JAM runs for water_tower for pluvial for P_1in10 map for 1 combinations\n"
     ]
    },
    {
     "name": "stderr",
     "output_type": "stream",
     "text": [
      "0it [00:00, ?it/s]\n"
     ]
    },
    {
     "name": "stdout",
     "output_type": "stream",
     "text": [
      "JAM runs for water_well for pluvial for P_1in10 map for 1 combinations\n"
     ]
    },
    {
     "name": "stderr",
     "output_type": "stream",
     "text": [
      "0it [00:00, ?it/s]\n"
     ]
    },
    {
     "name": "stdout",
     "output_type": "stream",
     "text": [
      "JAM runs for reservoir_covered for pluvial for P_1in10 map for 25 combinations\n"
     ]
    },
    {
     "name": "stderr",
     "output_type": "stream",
     "text": [
      "0it [00:00, ?it/s]\n",
      "0it [00:00, ?it/s]\n",
      "0it [00:00, ?it/s]\n",
      "0it [00:00, ?it/s]\n",
      "0it [00:00, ?it/s]\n",
      "0it [00:00, ?it/s]\n",
      "0it [00:00, ?it/s]\n",
      "0it [00:00, ?it/s]\n",
      "0it [00:00, ?it/s]\n",
      "0it [00:00, ?it/s]\n",
      "0it [00:00, ?it/s]\n",
      "0it [00:00, ?it/s]\n",
      "0it [00:00, ?it/s]\n",
      "0it [00:00, ?it/s]\n",
      "0it [00:00, ?it/s]\n",
      "0it [00:00, ?it/s]\n",
      "0it [00:00, ?it/s]\n",
      "0it [00:00, ?it/s]\n",
      "0it [00:00, ?it/s]\n",
      "0it [00:00, ?it/s]\n",
      "0it [00:00, ?it/s]\n",
      "0it [00:00, ?it/s]\n",
      "0it [00:00, ?it/s]\n",
      "0it [00:00, ?it/s]\n",
      "0it [00:00, ?it/s]\n"
     ]
    },
    {
     "name": "stdout",
     "output_type": "stream",
     "text": [
      "JAM runs for water_treatment_plant for pluvial for P_1in10 map for 30 combinations\n"
     ]
    },
    {
     "name": "stderr",
     "output_type": "stream",
     "text": [
      "100%|███████████████████████████████████████████████████████████████████████████████████| 2/2 [00:00<00:00, 239.61it/s]\n",
      "100%|████████████████████████████████████████████████████████████████████████████████████████████| 2/2 [00:00<?, ?it/s]\n",
      "100%|███████████████████████████████████████████████████████████████████████████████████| 2/2 [00:00<00:00, 127.15it/s]\n",
      "100%|████████████████████████████████████████████████████████████████████████████████████████████| 2/2 [00:00<?, ?it/s]\n",
      "100%|████████████████████████████████████████████████████████████████████████████████████████████| 2/2 [00:00<?, ?it/s]\n",
      "100%|████████████████████████████████████████████████████████████████████████████████████████████| 2/2 [00:00<?, ?it/s]\n",
      "100%|███████████████████████████████████████████████████████████████████████████████████| 2/2 [00:00<00:00, 127.98it/s]\n",
      "100%|████████████████████████████████████████████████████████████████████████████████████████████| 2/2 [00:00<?, ?it/s]\n",
      "100%|████████████████████████████████████████████████████████████████████████████████████████████| 2/2 [00:00<?, ?it/s]\n",
      "100%|████████████████████████████████████████████████████████████████████████████████████████████| 2/2 [00:00<?, ?it/s]\n",
      "100%|████████████████████████████████████████████████████████████████████████████████████████████| 2/2 [00:00<?, ?it/s]\n",
      "100%|████████████████████████████████████████████████████████████████████████████████████████████| 2/2 [00:00<?, ?it/s]\n",
      "100%|████████████████████████████████████████████████████████████████████████████████████████████| 2/2 [00:00<?, ?it/s]\n",
      "100%|████████████████████████████████████████████████████████████████████████████████████████████| 2/2 [00:00<?, ?it/s]\n",
      "100%|████████████████████████████████████████████████████████████████████████████████████████████| 2/2 [00:00<?, ?it/s]\n",
      "100%|████████████████████████████████████████████████████████████████████████████████████████████| 2/2 [00:00<?, ?it/s]\n",
      "100%|███████████████████████████████████████████████████████████████████████████████████| 2/2 [00:00<00:00, 127.98it/s]\n",
      "100%|████████████████████████████████████████████████████████████████████████████████████████████| 2/2 [00:00<?, ?it/s]\n",
      "100%|████████████████████████████████████████████████████████████████████████████████████████████| 2/2 [00:00<?, ?it/s]\n",
      "100%|████████████████████████████████████████████████████████████████████████████████████████████| 2/2 [00:00<?, ?it/s]\n",
      "100%|████████████████████████████████████████████████████████████████████████████████████████████| 2/2 [00:00<?, ?it/s]\n",
      "100%|███████████████████████████████████████████████████████████████████████████████████| 2/2 [00:00<00:00, 172.23it/s]\n",
      "100%|████████████████████████████████████████████████████████████████████████████████████████████| 2/2 [00:00<?, ?it/s]\n",
      "100%|███████████████████████████████████████████████████████████████████████████████████| 2/2 [00:00<00:00, 125.95it/s]\n",
      "100%|████████████████████████████████████████████████████████████████████████████████████████████| 2/2 [00:00<?, ?it/s]\n",
      "100%|████████████████████████████████████████████████████████████████████████████████████████████| 2/2 [00:00<?, ?it/s]\n",
      "100%|███████████████████████████████████████████████████████████████████████████████████| 2/2 [00:00<00:00, 128.00it/s]\n",
      "100%|███████████████████████████████████████████████████████████████████████████████████| 2/2 [00:00<00:00, 127.89it/s]\n",
      "100%|████████████████████████████████████████████████████████████████████████████████████████████| 2/2 [00:00<?, ?it/s]\n",
      "100%|████████████████████████████████████████████████████████████████████████████████████████████| 2/2 [00:00<?, ?it/s]\n"
     ]
    },
    {
     "name": "stdout",
     "output_type": "stream",
     "text": [
      "JAM runs for water_storage_tank for pluvial for P_1in10 map for 20 combinations\n"
     ]
    },
    {
     "name": "stderr",
     "output_type": "stream",
     "text": [
      "0it [00:00, ?it/s]\n",
      "0it [00:00, ?it/s]\n",
      "0it [00:00, ?it/s]\n",
      "0it [00:00, ?it/s]\n",
      "0it [00:00, ?it/s]\n",
      "0it [00:00, ?it/s]\n",
      "0it [00:00, ?it/s]\n",
      "0it [00:00, ?it/s]\n",
      "0it [00:00, ?it/s]\n",
      "0it [00:00, ?it/s]\n",
      "0it [00:00, ?it/s]\n",
      "0it [00:00, ?it/s]\n",
      "0it [00:00, ?it/s]\n",
      "0it [00:00, ?it/s]\n",
      "0it [00:00, ?it/s]\n",
      "0it [00:00, ?it/s]\n",
      "0it [00:00, ?it/s]\n",
      "0it [00:00, ?it/s]\n",
      "0it [00:00, ?it/s]\n",
      "0it [00:00, ?it/s]\n"
     ]
    },
    {
     "name": "stdout",
     "output_type": "stream",
     "text": [
      "CSV file created at: C:\\Projects\\gmhcira\\data\\damage\\JAM\\JAM_pluvial_water_supply.csv\n",
      "Time to extract OSM data for waste_solid\n"
     ]
    },
    {
     "name": "stderr",
     "output_type": "stream",
     "text": [
      "extract points: 100%|████████████████████████████████████████████████████████████████████| 1/1 [00:00<00:00,  1.27it/s]\n",
      "extract multipolygons: 0it [00:15, ?it/s]\n"
     ]
    },
    {
     "name": "stdout",
     "output_type": "stream",
     "text": [
      "JAM runs for waste_solid for pluvial for 10 maps\n",
      "JAM runs for waste_transfer_station for pluvial for P_1in10 map for 1 combinations\n"
     ]
    },
    {
     "name": "stderr",
     "output_type": "stream",
     "text": [
      "0it [00:00, ?it/s]\n"
     ]
    },
    {
     "name": "stdout",
     "output_type": "stream",
     "text": [
      "CSV file created at: C:\\Projects\\gmhcira\\data\\damage\\JAM\\JAM_pluvial_waste_solid.csv\n",
      "Time to extract OSM data for waste_water\n"
     ]
    },
    {
     "name": "stderr",
     "output_type": "stream",
     "text": [
      "extract points: 100%|████████████████████████████████████████████████████████████████████| 1/1 [00:00<00:00,  1.30it/s]\n",
      "extract multipolygons: 100%|███████████████████████████████████████████████████████████| 24/24 [00:15<00:00,  1.59it/s]\n"
     ]
    },
    {
     "name": "stdout",
     "output_type": "stream",
     "text": [
      "JAM runs for waste_water for pluvial for 10 maps\n",
      "JAM runs for wastewater_treatment_plant for pluvial for P_1in10 map for 12 combinations\n"
     ]
    },
    {
     "name": "stderr",
     "output_type": "stream",
     "text": [
      "100%|█████████████████████████████████████████████████████████████████████████████████| 10/10 [00:00<00:00, 640.86it/s]\n",
      "100%|█████████████████████████████████████████████████████████████████████████████████| 10/10 [00:00<00:00, 635.54it/s]\n",
      "100%|█████████████████████████████████████████████████████████████████████████████████| 10/10 [00:00<00:00, 636.03it/s]\n",
      "100%|█████████████████████████████████████████████████████████████████████████████████| 10/10 [00:00<00:00, 898.91it/s]\n",
      "100%|█████████████████████████████████████████████████████████████████████████████████| 10/10 [00:00<00:00, 640.19it/s]\n",
      "100%|█████████████████████████████████████████████████████████████████████████████████| 10/10 [00:00<00:00, 612.00it/s]\n",
      "100%|█████████████████████████████████████████████████████████████████████████████████| 10/10 [00:00<00:00, 586.32it/s]\n",
      "100%|█████████████████████████████████████████████████████████████████████████████████| 10/10 [00:00<00:00, 637.01it/s]\n",
      "100%|█████████████████████████████████████████████████████████████████████████████████| 10/10 [00:00<00:00, 641.79it/s]\n",
      "100%|█████████████████████████████████████████████████████████████████████████████████| 10/10 [00:00<00:00, 940.95it/s]\n",
      "100%|█████████████████████████████████████████████████████████████████████████████████| 10/10 [00:00<00:00, 640.20it/s]\n",
      "100%|█████████████████████████████████████████████████████████████████████████████████| 10/10 [00:00<00:00, 635.45it/s]\n"
     ]
    },
    {
     "name": "stdout",
     "output_type": "stream",
     "text": [
      "CSV file created at: C:\\Projects\\gmhcira\\data\\damage\\JAM\\JAM_pluvial_waste_water.csv\n",
      "Time to extract OSM data for telecom\n"
     ]
    },
    {
     "name": "stderr",
     "output_type": "stream",
     "text": [
      "extract points: 100%|███████████████████████████████████████████████████████████████| 154/154 [00:00<00:00, 169.54it/s]\n",
      "extract multipolygons: 100%|█████████████████████████████████████████████████████████████| 2/2 [00:20<00:00, 10.07s/it]\n"
     ]
    },
    {
     "name": "stdout",
     "output_type": "stream",
     "text": [
      "JAM runs for telecom for pluvial for 10 maps\n",
      "JAM runs for communication_tower for pluvial for P_1in10 map for 2 combinations\n"
     ]
    },
    {
     "name": "stderr",
     "output_type": "stream",
     "text": [
      "100%|███████████████████████████████████████████████████████████████████████████████████| 2/2 [00:00<00:00, 128.08it/s]\n",
      "100%|████████████████████████████████████████████████████████████████████████████████████████████| 2/2 [00:00<?, ?it/s]\n"
     ]
    },
    {
     "name": "stdout",
     "output_type": "stream",
     "text": [
      "JAM runs for mast for pluvial for P_1in10 map for 1 combinations\n"
     ]
    },
    {
     "name": "stderr",
     "output_type": "stream",
     "text": [
      "100%|████████████████████████████████████████████████████████████████████████████████████████████| 1/1 [00:00<?, ?it/s]\n"
     ]
    },
    {
     "name": "stdout",
     "output_type": "stream",
     "text": [
      "CSV file created at: C:\\Projects\\gmhcira\\data\\damage\\JAM\\JAM_pluvial_telecom.csv\n",
      "Time to extract OSM data for healthcare\n"
     ]
    },
    {
     "name": "stderr",
     "output_type": "stream",
     "text": [
      "extract points: 100%|███████████████████████████████████████████████████████████████| 135/135 [00:01<00:00, 103.43it/s]\n",
      "extract multipolygons: 100%|█████████████████████████████████████████████████████████| 214/214 [00:48<00:00,  4.40it/s]\n"
     ]
    },
    {
     "name": "stdout",
     "output_type": "stream",
     "text": [
      "JAM runs for healthcare for pluvial for 10 maps\n",
      "JAM runs for clinic for pluvial for P_1in10 map for 12 combinations\n"
     ]
    },
    {
     "name": "stderr",
     "output_type": "stream",
     "text": [
      "100%|███████████████████████████████████████████████████████████████████████████████████| 8/8 [00:00<00:00, 360.24it/s]\n",
      "100%|███████████████████████████████████████████████████████████████████████████████████| 8/8 [00:00<00:00, 832.78it/s]\n",
      "100%|███████████████████████████████████████████████████████████████████████████████████| 8/8 [00:00<00:00, 510.98it/s]\n",
      "100%|████████████████████████████████████████████████████████████████████████████████████████████| 8/8 [00:00<?, ?it/s]\n",
      "100%|███████████████████████████████████████████████████████████████████████████████████| 8/8 [00:00<00:00, 510.39it/s]\n",
      "100%|████████████████████████████████████████████████████████████████████████████████████████████| 8/8 [00:00<?, ?it/s]\n",
      "100%|████████████████████████████████████████████████████████████████████████████████████████████| 8/8 [00:00<?, ?it/s]\n",
      "100%|████████████████████████████████████████████████████████████████████████████████████████████| 8/8 [00:00<?, ?it/s]\n",
      "100%|███████████████████████████████████████████████████████████████████████████████████| 8/8 [00:00<00:00, 511.08it/s]\n",
      "100%|████████████████████████████████████████████████████████████████████████████████████████████| 8/8 [00:00<?, ?it/s]\n",
      "100%|████████████████████████████████████████████████████████████████████████████████████████████| 8/8 [00:00<?, ?it/s]\n",
      "100%|████████████████████████████████████████████████████████████████████████████████████████████| 8/8 [00:00<?, ?it/s]\n"
     ]
    },
    {
     "name": "stdout",
     "output_type": "stream",
     "text": [
      "JAM runs for doctors for pluvial for P_1in10 map for 12 combinations\n"
     ]
    },
    {
     "name": "stderr",
     "output_type": "stream",
     "text": [
      "100%|████████████████████████████████████████████████████████████████████████████████████████████| 2/2 [00:00<?, ?it/s]\n",
      "100%|███████████████████████████████████████████████████████████████████████████████████| 2/2 [00:00<00:00, 128.85it/s]\n",
      "100%|████████████████████████████████████████████████████████████████████████████████████████████| 2/2 [00:00<?, ?it/s]\n",
      "100%|████████████████████████████████████████████████████████████████████████████████████████████| 2/2 [00:00<?, ?it/s]\n",
      "100%|███████████████████████████████████████████████████████████████████████████████████| 2/2 [00:00<00:00, 266.04it/s]\n",
      "100%|███████████████████████████████████████████████████████████████████████████████████| 2/2 [00:00<00:00, 231.83it/s]\n",
      "100%|████████████████████████████████████████████████████████████████████████████████████████████| 2/2 [00:00<?, ?it/s]\n",
      "100%|████████████████████████████████████████████████████████████████████████████████████████████| 2/2 [00:00<?, ?it/s]\n",
      "100%|████████████████████████████████████████████████████████████████████████████████████████████| 2/2 [00:00<?, ?it/s]\n",
      "100%|███████████████████████████████████████████████████████████████████████████████████| 2/2 [00:00<00:00, 128.00it/s]\n",
      "100%|████████████████████████████████████████████████████████████████████████████████████████████| 2/2 [00:00<?, ?it/s]\n",
      "100%|████████████████████████████████████████████████████████████████████████████████████████████| 2/2 [00:00<?, ?it/s]\n"
     ]
    },
    {
     "name": "stdout",
     "output_type": "stream",
     "text": [
      "JAM runs for hospital for pluvial for P_1in10 map for 12 combinations\n"
     ]
    },
    {
     "name": "stderr",
     "output_type": "stream",
     "text": [
      "100%|███████████████████████████████████████████████████████████████████████████████████| 8/8 [00:00<00:00, 508.42it/s]\n",
      "100%|███████████████████████████████████████████████████████████████████████████████████| 8/8 [00:00<00:00, 511.99it/s]\n",
      "100%|███████████████████████████████████████████████████████████████████████████████████| 8/8 [00:00<00:00, 491.90it/s]\n",
      "100%|███████████████████████████████████████████████████████████████████████████████████| 8/8 [00:00<00:00, 570.53it/s]\n",
      "100%|███████████████████████████████████████████████████████████████████████████████████| 8/8 [00:00<00:00, 511.23it/s]\n",
      "100%|███████████████████████████████████████████████████████████████████████████████████| 8/8 [00:00<00:00, 447.97it/s]\n",
      "100%|███████████████████████████████████████████████████████████████████████████████████| 8/8 [00:00<00:00, 567.10it/s]\n",
      "100%|███████████████████████████████████████████████████████████████████████████████████| 8/8 [00:00<00:00, 511.27it/s]\n",
      "100%|███████████████████████████████████████████████████████████████████████████████████| 8/8 [00:00<00:00, 512.10it/s]\n",
      "100%|███████████████████████████████████████████████████████████████████████████████████| 8/8 [00:00<00:00, 510.26it/s]\n",
      "100%|████████████████████████████████████████████████████████████████████████████████████████████| 8/8 [00:00<?, ?it/s]\n",
      "100%|███████████████████████████████████████████████████████████████████████████████████| 8/8 [00:00<00:00, 986.72it/s]\n"
     ]
    },
    {
     "name": "stdout",
     "output_type": "stream",
     "text": [
      "JAM runs for dentist for pluvial for P_1in10 map for 12 combinations\n"
     ]
    },
    {
     "name": "stderr",
     "output_type": "stream",
     "text": [
      "100%|████████████████████████████████████████████████████████████████████████████████████████████| 1/1 [00:00<?, ?it/s]\n",
      "100%|████████████████████████████████████████████████████████████████████████████████████████████| 1/1 [00:00<?, ?it/s]\n",
      "100%|████████████████████████████████████████████████████████████████████████████████████████████| 1/1 [00:00<?, ?it/s]\n",
      "100%|███████████████████████████████████████████████████████████████████████████████████| 1/1 [00:00<00:00, 291.29it/s]\n",
      "100%|████████████████████████████████████████████████████████████████████████████████████| 1/1 [00:00<00:00, 99.19it/s]\n",
      "100%|████████████████████████████████████████████████████████████████████████████████████████████| 1/1 [00:00<?, ?it/s]\n",
      "100%|████████████████████████████████████████████████████████████████████████████████████████████| 1/1 [00:00<?, ?it/s]\n",
      "100%|████████████████████████████████████████████████████████████████████████████████████| 1/1 [00:00<00:00, 62.32it/s]\n",
      "100%|████████████████████████████████████████████████████████████████████████████████████████████| 1/1 [00:00<?, ?it/s]\n",
      "100%|████████████████████████████████████████████████████████████████████████████████████████████| 1/1 [00:00<?, ?it/s]\n",
      "100%|████████████████████████████████████████████████████████████████████████████████████| 1/1 [00:00<00:00, 63.66it/s]\n",
      "100%|████████████████████████████████████████████████████████████████████████████████████████████| 1/1 [00:00<?, ?it/s]\n"
     ]
    },
    {
     "name": "stdout",
     "output_type": "stream",
     "text": [
      "JAM runs for pharmacy for pluvial for P_1in10 map for 12 combinations\n"
     ]
    },
    {
     "name": "stderr",
     "output_type": "stream",
     "text": [
      "100%|████████████████████████████████████████████████████████████████████████████████| 18/18 [00:00<00:00, 1140.43it/s]\n",
      "100%|████████████████████████████████████████████████████████████████████████████████| 18/18 [00:00<00:00, 1162.59it/s]\n",
      "100%|█████████████████████████████████████████████████████████████████████████████████| 18/18 [00:00<00:00, 886.50it/s]\n",
      "100%|████████████████████████████████████████████████████████████████████████████████| 18/18 [00:00<00:00, 1549.37it/s]\n",
      "100%|██████████████████████████████████████████████████████████████████████████████████████████| 18/18 [00:00<?, ?it/s]\n",
      "100%|████████████████████████████████████████████████████████████████████████████████| 18/18 [00:00<00:00, 1153.27it/s]\n",
      "100%|████████████████████████████████████████████████████████████████████████████████| 18/18 [00:00<00:00, 1696.31it/s]\n",
      "100%|████████████████████████████████████████████████████████████████████████████████| 18/18 [00:00<00:00, 1144.53it/s]\n",
      "100%|████████████████████████████████████████████████████████████████████████████████| 18/18 [00:00<00:00, 2753.77it/s]\n",
      "100%|██████████████████████████████████████████████████████████████████████████████████████████| 18/18 [00:00<?, ?it/s]\n",
      "100%|████████████████████████████████████████████████████████████████████████████████| 18/18 [00:00<00:00, 1145.43it/s]\n",
      "100%|████████████████████████████████████████████████████████████████████████████████| 18/18 [00:00<00:00, 1158.22it/s]\n"
     ]
    },
    {
     "name": "stdout",
     "output_type": "stream",
     "text": [
      "JAM runs for physiotherapist for pluvial for P_1in10 map for 12 combinations\n"
     ]
    },
    {
     "name": "stderr",
     "output_type": "stream",
     "text": [
      "0it [00:00, ?it/s]\n",
      "0it [00:00, ?it/s]\n",
      "0it [00:00, ?it/s]\n",
      "0it [00:00, ?it/s]\n",
      "0it [00:00, ?it/s]\n",
      "0it [00:00, ?it/s]\n",
      "0it [00:00, ?it/s]\n",
      "0it [00:00, ?it/s]\n",
      "0it [00:00, ?it/s]\n",
      "0it [00:00, ?it/s]\n",
      "0it [00:00, ?it/s]\n",
      "0it [00:00, ?it/s]\n"
     ]
    },
    {
     "name": "stdout",
     "output_type": "stream",
     "text": [
      "JAM runs for alternative for pluvial for P_1in10 map for 12 combinations\n"
     ]
    },
    {
     "name": "stderr",
     "output_type": "stream",
     "text": [
      "0it [00:00, ?it/s]\n",
      "0it [00:00, ?it/s]\n",
      "0it [00:00, ?it/s]\n",
      "0it [00:00, ?it/s]\n",
      "0it [00:00, ?it/s]\n",
      "0it [00:00, ?it/s]\n",
      "0it [00:00, ?it/s]\n",
      "0it [00:00, ?it/s]\n",
      "0it [00:00, ?it/s]\n",
      "0it [00:00, ?it/s]\n",
      "0it [00:00, ?it/s]\n",
      "0it [00:00, ?it/s]\n"
     ]
    },
    {
     "name": "stdout",
     "output_type": "stream",
     "text": [
      "JAM runs for laboratory for pluvial for P_1in10 map for 12 combinations\n"
     ]
    },
    {
     "name": "stderr",
     "output_type": "stream",
     "text": [
      "0it [00:00, ?it/s]\n",
      "0it [00:00, ?it/s]\n",
      "0it [00:00, ?it/s]\n",
      "0it [00:00, ?it/s]\n",
      "0it [00:00, ?it/s]\n",
      "0it [00:00, ?it/s]\n",
      "0it [00:00, ?it/s]\n",
      "0it [00:00, ?it/s]\n",
      "0it [00:00, ?it/s]\n",
      "0it [00:00, ?it/s]\n",
      "0it [00:00, ?it/s]\n",
      "0it [00:00, ?it/s]\n"
     ]
    },
    {
     "name": "stdout",
     "output_type": "stream",
     "text": [
      "JAM runs for optometrist for pluvial for P_1in10 map for 12 combinations\n"
     ]
    },
    {
     "name": "stderr",
     "output_type": "stream",
     "text": [
      "0it [00:00, ?it/s]\n",
      "0it [00:00, ?it/s]\n",
      "0it [00:00, ?it/s]\n",
      "0it [00:00, ?it/s]\n",
      "0it [00:00, ?it/s]\n",
      "0it [00:00, ?it/s]\n",
      "0it [00:00, ?it/s]\n",
      "0it [00:00, ?it/s]\n",
      "0it [00:00, ?it/s]\n",
      "0it [00:00, ?it/s]\n",
      "0it [00:00, ?it/s]\n",
      "0it [00:00, ?it/s]\n"
     ]
    },
    {
     "name": "stdout",
     "output_type": "stream",
     "text": [
      "JAM runs for rehabilitation for pluvial for P_1in10 map for 12 combinations\n"
     ]
    },
    {
     "name": "stderr",
     "output_type": "stream",
     "text": [
      "0it [00:00, ?it/s]\n",
      "0it [00:00, ?it/s]\n",
      "0it [00:00, ?it/s]\n",
      "0it [00:00, ?it/s]\n",
      "0it [00:00, ?it/s]\n",
      "0it [00:00, ?it/s]\n",
      "0it [00:00, ?it/s]\n",
      "0it [00:00, ?it/s]\n",
      "0it [00:00, ?it/s]\n",
      "0it [00:00, ?it/s]\n",
      "0it [00:00, ?it/s]\n",
      "0it [00:00, ?it/s]\n"
     ]
    },
    {
     "name": "stdout",
     "output_type": "stream",
     "text": [
      "JAM runs for blood_donation for pluvial for P_1in10 map for 12 combinations\n"
     ]
    },
    {
     "name": "stderr",
     "output_type": "stream",
     "text": [
      "0it [00:00, ?it/s]\n",
      "0it [00:00, ?it/s]\n",
      "0it [00:00, ?it/s]\n",
      "0it [00:00, ?it/s]\n",
      "0it [00:00, ?it/s]\n",
      "0it [00:00, ?it/s]\n",
      "0it [00:00, ?it/s]\n",
      "0it [00:00, ?it/s]\n",
      "0it [00:00, ?it/s]\n",
      "0it [00:00, ?it/s]\n",
      "0it [00:00, ?it/s]\n",
      "0it [00:00, ?it/s]\n"
     ]
    },
    {
     "name": "stdout",
     "output_type": "stream",
     "text": [
      "JAM runs for birthing_center for pluvial for P_1in10 map for 12 combinations\n"
     ]
    },
    {
     "name": "stderr",
     "output_type": "stream",
     "text": [
      "0it [00:00, ?it/s]\n",
      "0it [00:00, ?it/s]\n",
      "0it [00:00, ?it/s]\n",
      "0it [00:00, ?it/s]\n",
      "0it [00:00, ?it/s]\n",
      "0it [00:00, ?it/s]\n",
      "0it [00:00, ?it/s]\n",
      "0it [00:00, ?it/s]\n",
      "0it [00:00, ?it/s]\n",
      "0it [00:00, ?it/s]\n",
      "0it [00:00, ?it/s]\n",
      "0it [00:00, ?it/s]\n"
     ]
    },
    {
     "name": "stdout",
     "output_type": "stream",
     "text": [
      "CSV file created at: C:\\Projects\\gmhcira\\data\\damage\\JAM\\JAM_pluvial_healthcare.csv\n",
      "Time to extract OSM data for education\n"
     ]
    },
    {
     "name": "stderr",
     "output_type": "stream",
     "text": [
      "extract points: 100%|███████████████████████████████████████████████████████████████| 196/196 [00:01<00:00, 179.23it/s]\n",
      "extract multipolygons: 100%|█████████████████████████████████████████████████████████| 805/805 [00:33<00:00, 23.84it/s]\n"
     ]
    },
    {
     "name": "stdout",
     "output_type": "stream",
     "text": [
      "JAM runs for education for pluvial for 10 maps\n",
      "JAM runs for college for pluvial for P_1in10 map for 24 combinations\n"
     ]
    },
    {
     "name": "stderr",
     "output_type": "stream",
     "text": [
      "100%|████████████████████████████████████████████████████████████████████████████████████████████| 1/1 [00:00<?, ?it/s]\n",
      "100%|████████████████████████████████████████████████████████████████████████████████████████████| 1/1 [00:00<?, ?it/s]\n",
      "100%|████████████████████████████████████████████████████████████████████████████████████| 1/1 [00:00<00:00, 64.00it/s]\n",
      "100%|████████████████████████████████████████████████████████████████████████████████████████████| 1/1 [00:00<?, ?it/s]\n",
      "100%|███████████████████████████████████████████████████████████████████████████████████| 1/1 [00:00<00:00, 153.44it/s]\n",
      "100%|████████████████████████████████████████████████████████████████████████████████████████████| 1/1 [00:00<?, ?it/s]\n",
      "100%|████████████████████████████████████████████████████████████████████████████████████████████| 1/1 [00:00<?, ?it/s]\n",
      "100%|████████████████████████████████████████████████████████████████████████████████████████████| 1/1 [00:00<?, ?it/s]\n",
      "100%|████████████████████████████████████████████████████████████████████████████████████████████| 1/1 [00:00<?, ?it/s]\n",
      "100%|████████████████████████████████████████████████████████████████████████████████████████████| 1/1 [00:00<?, ?it/s]\n",
      "100%|████████████████████████████████████████████████████████████████████████████████████████████| 1/1 [00:00<?, ?it/s]\n",
      "100%|████████████████████████████████████████████████████████████████████████████████████████████| 1/1 [00:00<?, ?it/s]\n",
      "100%|████████████████████████████████████████████████████████████████████████████████████████████| 1/1 [00:00<?, ?it/s]\n",
      "100%|████████████████████████████████████████████████████████████████████████████████████████████| 1/1 [00:00<?, ?it/s]\n",
      "100%|███████████████████████████████████████████████████████████████████████████████████| 1/1 [00:00<00:00, 229.52it/s]\n",
      "100%|████████████████████████████████████████████████████████████████████████████████████████████| 1/1 [00:00<?, ?it/s]\n",
      "100%|████████████████████████████████████████████████████████████████████████████████████████████| 1/1 [00:00<?, ?it/s]\n",
      "100%|████████████████████████████████████████████████████████████████████████████████████| 1/1 [00:00<00:00, 63.88it/s]\n",
      "100%|████████████████████████████████████████████████████████████████████████████████████████████| 1/1 [00:00<?, ?it/s]\n",
      "100%|████████████████████████████████████████████████████████████████████████████████████████████| 1/1 [00:00<?, ?it/s]\n",
      "100%|████████████████████████████████████████████████████████████████████████████████████| 1/1 [00:00<00:00, 62.46it/s]\n",
      "100%|████████████████████████████████████████████████████████████████████████████████████████████| 1/1 [00:00<?, ?it/s]\n",
      "100%|████████████████████████████████████████████████████████████████████████████████████████████| 1/1 [00:00<?, ?it/s]\n",
      "100%|████████████████████████████████████████████████████████████████████████████████████████████| 1/1 [00:00<?, ?it/s]\n"
     ]
    },
    {
     "name": "stdout",
     "output_type": "stream",
     "text": [
      "JAM runs for kindergarten for pluvial for P_1in10 map for 24 combinations\n"
     ]
    },
    {
     "name": "stderr",
     "output_type": "stream",
     "text": [
      "100%|████████████████████████████████████████████████████████████████████████████████████████████| 2/2 [00:00<?, ?it/s]\n",
      "100%|███████████████████████████████████████████████████████████████████████████████████| 2/2 [00:00<00:00, 127.85it/s]\n",
      "100%|████████████████████████████████████████████████████████████████████████████████████████████| 2/2 [00:00<?, ?it/s]\n",
      "100%|████████████████████████████████████████████████████████████████████████████████████████████| 2/2 [00:00<?, ?it/s]\n",
      "100%|████████████████████████████████████████████████████████████████████████████████████████████| 2/2 [00:00<?, ?it/s]\n",
      "100%|███████████████████████████████████████████████████████████████████████████████████| 2/2 [00:00<00:00, 128.74it/s]\n",
      "100%|████████████████████████████████████████████████████████████████████████████████████████████| 2/2 [00:00<?, ?it/s]\n",
      "100%|███████████████████████████████████████████████████████████████████████████████████| 2/2 [00:00<00:00, 285.12it/s]\n",
      "100%|███████████████████████████████████████████████████████████████████████████████████| 2/2 [00:00<00:00, 221.81it/s]\n",
      "100%|████████████████████████████████████████████████████████████████████████████████████████████| 2/2 [00:00<?, ?it/s]\n",
      "100%|████████████████████████████████████████████████████████████████████████████████████████████| 2/2 [00:00<?, ?it/s]\n",
      "100%|████████████████████████████████████████████████████████████████████████████████████████████| 2/2 [00:00<?, ?it/s]\n",
      "100%|████████████████████████████████████████████████████████████████████████████████████████████| 2/2 [00:00<?, ?it/s]\n",
      "100%|████████████████████████████████████████████████████████████████████████████████████████████| 2/2 [00:00<?, ?it/s]\n",
      "100%|████████████████████████████████████████████████████████████████████████████████████████████| 2/2 [00:00<?, ?it/s]\n",
      "100%|███████████████████████████████████████████████████████████████████████████████████| 2/2 [00:00<00:00, 128.05it/s]\n",
      "100%|████████████████████████████████████████████████████████████████████████████████████████████| 2/2 [00:00<?, ?it/s]\n",
      "100%|████████████████████████████████████████████████████████████████████████████████████████████| 2/2 [00:00<?, ?it/s]\n",
      "100%|██████████████████████████████████████████████████████████████████████████████████| 2/2 [00:00<00:00, 1321.25it/s]\n",
      "100%|████████████████████████████████████████████████████████████████████████████████████████████| 2/2 [00:00<?, ?it/s]\n",
      "100%|████████████████████████████████████████████████████████████████████████████████████████████| 2/2 [00:00<?, ?it/s]\n",
      "100%|████████████████████████████████████████████████████████████████████████████████████████████| 2/2 [00:00<?, ?it/s]\n",
      "100%|███████████████████████████████████████████████████████████████████████████████████| 2/2 [00:00<00:00, 128.64it/s]\n",
      "100%|████████████████████████████████████████████████████████████████████████████████████████████| 2/2 [00:00<?, ?it/s]\n"
     ]
    },
    {
     "name": "stdout",
     "output_type": "stream",
     "text": [
      "JAM runs for library for pluvial for P_1in10 map for 24 combinations\n"
     ]
    },
    {
     "name": "stderr",
     "output_type": "stream",
     "text": [
      "100%|████████████████████████████████████████████████████████████████████████████████████████████| 1/1 [00:00<?, ?it/s]\n",
      "100%|████████████████████████████████████████████████████████████████████████████████████| 1/1 [00:00<00:00, 63.89it/s]\n",
      "100%|████████████████████████████████████████████████████████████████████████████████████████████| 1/1 [00:00<?, ?it/s]\n",
      "100%|████████████████████████████████████████████████████████████████████████████████████████████| 1/1 [00:00<?, ?it/s]\n",
      "100%|████████████████████████████████████████████████████████████████████████████████████| 1/1 [00:00<00:00, 66.54it/s]\n",
      "100%|████████████████████████████████████████████████████████████████████████████████████████████| 1/1 [00:00<?, ?it/s]\n",
      "100%|████████████████████████████████████████████████████████████████████████████████████████████| 1/1 [00:00<?, ?it/s]\n",
      "100%|████████████████████████████████████████████████████████████████████████████████████| 1/1 [00:00<00:00, 63.78it/s]\n",
      "100%|████████████████████████████████████████████████████████████████████████████████████████████| 1/1 [00:00<?, ?it/s]\n",
      "100%|████████████████████████████████████████████████████████████████████████████████████████████| 1/1 [00:00<?, ?it/s]\n",
      "100%|████████████████████████████████████████████████████████████████████████████████████| 1/1 [00:00<00:00, 68.47it/s]\n",
      "100%|████████████████████████████████████████████████████████████████████████████████████████████| 1/1 [00:00<?, ?it/s]\n",
      "100%|████████████████████████████████████████████████████████████████████████████████████████████| 1/1 [00:00<?, ?it/s]\n",
      "100%|████████████████████████████████████████████████████████████████████████████████████| 1/1 [00:00<00:00, 64.03it/s]\n",
      "100%|████████████████████████████████████████████████████████████████████████████████████████████| 1/1 [00:00<?, ?it/s]\n",
      "100%|████████████████████████████████████████████████████████████████████████████████████████████| 1/1 [00:00<?, ?it/s]\n",
      "100%|████████████████████████████████████████████████████████████████████████████████████| 1/1 [00:00<00:00, 66.55it/s]\n",
      "100%|████████████████████████████████████████████████████████████████████████████████████| 1/1 [00:00<00:00, 82.55it/s]\n",
      "100%|████████████████████████████████████████████████████████████████████████████████████████████| 1/1 [00:00<?, ?it/s]\n",
      "100%|████████████████████████████████████████████████████████████████████████████████████| 1/1 [00:00<00:00, 63.86it/s]\n",
      "100%|████████████████████████████████████████████████████████████████████████████████████████████| 1/1 [00:00<?, ?it/s]\n",
      "100%|████████████████████████████████████████████████████████████████████████████████████████████| 1/1 [00:00<?, ?it/s]\n",
      "100%|████████████████████████████████████████████████████████████████████████████████████| 1/1 [00:00<00:00, 63.65it/s]\n",
      "100%|████████████████████████████████████████████████████████████████████████████████████████████| 1/1 [00:00<?, ?it/s]\n"
     ]
    },
    {
     "name": "stdout",
     "output_type": "stream",
     "text": [
      "JAM runs for school for pluvial for P_1in10 map for 24 combinations\n"
     ]
    },
    {
     "name": "stderr",
     "output_type": "stream",
     "text": [
      "100%|████████████████████████████████████████████████████████████████████████████████| 76/76 [00:00<00:00, 1727.79it/s]\n",
      "100%|████████████████████████████████████████████████████████████████████████████████| 76/76 [00:00<00:00, 1600.61it/s]\n",
      "100%|████████████████████████████████████████████████████████████████████████████████| 76/76 [00:00<00:00, 1622.60it/s]\n",
      "100%|████████████████████████████████████████████████████████████████████████████████| 76/76 [00:00<00:00, 1617.47it/s]\n",
      "100%|████████████████████████████████████████████████████████████████████████████████| 76/76 [00:00<00:00, 1418.74it/s]\n",
      "100%|████████████████████████████████████████████████████████████████████████████████| 76/76 [00:00<00:00, 1543.00it/s]\n",
      "100%|████████████████████████████████████████████████████████████████████████████████| 76/76 [00:00<00:00, 1247.95it/s]\n",
      "100%|████████████████████████████████████████████████████████████████████████████████| 76/76 [00:00<00:00, 1216.10it/s]\n",
      "100%|████████████████████████████████████████████████████████████████████████████████| 76/76 [00:00<00:00, 1204.86it/s]\n",
      "100%|████████████████████████████████████████████████████████████████████████████████| 76/76 [00:00<00:00, 1203.27it/s]\n",
      "100%|████████████████████████████████████████████████████████████████████████████████| 76/76 [00:00<00:00, 1213.58it/s]\n",
      "100%|████████████████████████████████████████████████████████████████████████████████| 76/76 [00:00<00:00, 1211.49it/s]\n",
      "100%|████████████████████████████████████████████████████████████████████████████████| 76/76 [00:00<00:00, 1216.26it/s]\n",
      "100%|████████████████████████████████████████████████████████████████████████████████| 76/76 [00:00<00:00, 1832.30it/s]\n",
      "100%|████████████████████████████████████████████████████████████████████████████████| 76/76 [00:00<00:00, 1609.51it/s]\n",
      "100%|████████████████████████████████████████████████████████████████████████████████| 76/76 [00:00<00:00, 1620.05it/s]\n",
      "100%|████████████████████████████████████████████████████████████████████████████████| 76/76 [00:00<00:00, 1593.17it/s]\n",
      "100%|████████████████████████████████████████████████████████████████████████████████| 76/76 [00:00<00:00, 1084.10it/s]\n",
      "100%|████████████████████████████████████████████████████████████████████████████████| 76/76 [00:00<00:00, 1617.75it/s]\n",
      "100%|████████████████████████████████████████████████████████████████████████████████| 76/76 [00:00<00:00, 1592.40it/s]\n",
      "100%|████████████████████████████████████████████████████████████████████████████████| 76/76 [00:00<00:00, 1216.20it/s]\n",
      "100%|████████████████████████████████████████████████████████████████████████████████| 76/76 [00:00<00:00, 1202.14it/s]\n",
      "100%|████████████████████████████████████████████████████████████████████████████████| 76/76 [00:00<00:00, 1189.84it/s]\n",
      "100%|████████████████████████████████████████████████████████████████████████████████| 76/76 [00:00<00:00, 1671.35it/s]\n"
     ]
    },
    {
     "name": "stdout",
     "output_type": "stream",
     "text": [
      "JAM runs for university for pluvial for P_1in10 map for 24 combinations\n"
     ]
    },
    {
     "name": "stderr",
     "output_type": "stream",
     "text": [
      "0it [00:00, ?it/s]\n",
      "0it [00:00, ?it/s]\n",
      "0it [00:00, ?it/s]\n",
      "0it [00:00, ?it/s]\n",
      "0it [00:00, ?it/s]\n",
      "0it [00:00, ?it/s]\n",
      "0it [00:00, ?it/s]\n",
      "0it [00:00, ?it/s]\n",
      "0it [00:00, ?it/s]\n",
      "0it [00:00, ?it/s]\n",
      "0it [00:00, ?it/s]\n",
      "0it [00:00, ?it/s]\n",
      "0it [00:00, ?it/s]\n",
      "0it [00:00, ?it/s]\n",
      "0it [00:00, ?it/s]\n",
      "0it [00:00, ?it/s]\n",
      "0it [00:00, ?it/s]\n",
      "0it [00:00, ?it/s]\n",
      "0it [00:00, ?it/s]\n",
      "0it [00:00, ?it/s]\n",
      "0it [00:00, ?it/s]\n",
      "0it [00:00, ?it/s]\n",
      "0it [00:00, ?it/s]\n",
      "0it [00:00, ?it/s]\n"
     ]
    },
    {
     "name": "stdout",
     "output_type": "stream",
     "text": [
      "CSV file created at: C:\\Projects\\gmhcira\\data\\damage\\JAM\\JAM_pluvial_education.csv\n"
     ]
    }
   ],
   "source": [
    "pathway_dict = create_pathway_dict(data_path, flood_data_path, eq_data_path, landslide_data_path, cyclone_data_path)\n",
    "for country_code in country_codes: \n",
    "    for ci_system in cis_dict: \n",
    "        for sub_system in cis_dict[ci_system]:\n",
    "            infra_type_lst = cis_dict[ci_system][sub_system]\n",
    "            test = country_infrastructure_hazard(pathway_dict, country_code, sub_system, infra_type_lst, hazard_type)\n",
    "            create_damage_csv(test, hazard_type, pathway_dict, country_code, sub_system)"
   ]
  },
  {
   "cell_type": "code",
   "execution_count": 19,
   "id": "1643cd45-e4d5-4e08-8c9d-8fb4bdec2bd6",
   "metadata": {
    "scrolled": true
   },
   "outputs": [
    {
     "data": {
      "text/plain": [
       "{('JAM', 'P_1in10', 'education', 'college', 'F21.6', 8): 6633.918668619526,\n",
       " ('JAM', 'P_1in10', 'education', 'college', 'F21.6', 9): 94397.99580727497,\n",
       " ('JAM', 'P_1in10', 'education', 'college', 'F21.6', 91): 109008.6931806091,\n",
       " ('JAM', 'P_1in10', 'education', 'college', 'F21.6', 92): 25678.500818421366,\n",
       " ('JAM', 'P_1in10', 'education', 'college', 'F21.7', 8): 1025.9792635472677,\n",
       " ('JAM', 'P_1in10', 'education', 'college', 'F21.7', 9): 14599.272474776959,\n",
       " ('JAM', 'P_1in10', 'education', 'college', 'F21.7', 91): 16858.91316074345,\n",
       " ('JAM', 'P_1in10', 'education', 'college', 'F21.7', 92): 3971.349465483304,\n",
       " ('JAM', 'P_1in10', 'education', 'college', 'F21.8', 8): 4103.917054189071,\n",
       " ('JAM', 'P_1in10', 'education', 'college', 'F21.8', 9): 58397.089899107836,\n",
       " ('JAM', 'P_1in10', 'education', 'college', 'F21.8', 91): 67435.6526429738,\n",
       " ('JAM', 'P_1in10', 'education', 'college', 'F21.8', 92): 15885.397861933216,\n",
       " ('JAM', 'P_1in10', 'education', 'college', 'F21.10', 8): 512.9896317736338,\n",
       " ('JAM', 'P_1in10', 'education', 'college', 'F21.10', 9): 7299.6362373884795,\n",
       " ('JAM', 'P_1in10', 'education', 'college', 'F21.10', 91): 8429.456580371725,\n",
       " ('JAM', 'P_1in10', 'education', 'college', 'F21.10', 92): 1985.674732741652,\n",
       " ('JAM', 'P_1in10', 'education', 'college', 'F21.11', 8): 4616.9066859627055,\n",
       " ('JAM', 'P_1in10', 'education', 'college', 'F21.11', 9): 65696.72613649632,\n",
       " ('JAM', 'P_1in10', 'education', 'college', 'F21.11', 91): 75865.10922334554,\n",
       " ('JAM', 'P_1in10', 'education', 'college', 'F21.11', 92): 17871.07259467487,\n",
       " ('JAM', 'P_1in10', 'education', 'college', 'F21.13', 8): 4918.063864467837,\n",
       " ('JAM', 'P_1in10', 'education', 'college', 'F21.13', 9): 69982.07172089946,\n",
       " ('JAM', 'P_1in10', 'education', 'college', 'F21.13', 91): 80813.73040950719,\n",
       " ('JAM', 'P_1in10', 'education', 'college', 'F21.13', 92): 19036.7885524689,\n",
       " ('JAM',\n",
       "  'P_1in10',\n",
       "  'education',\n",
       "  'kindergarten',\n",
       "  'F21.6',\n",
       "  8): 76580.35873861582,\n",
       " ('JAM',\n",
       "  'P_1in10',\n",
       "  'education',\n",
       "  'kindergarten',\n",
       "  'F21.6',\n",
       "  9): 1089707.7194091952,\n",
       " ('JAM',\n",
       "  'P_1in10',\n",
       "  'education',\n",
       "  'kindergarten',\n",
       "  'F21.6',\n",
       "  91): 1258370.0895953095,\n",
       " ('JAM', 'P_1in10', 'education', 'kindergarten', 'F21.6', 92): 296426.42648704,\n",
       " ('JAM',\n",
       "  'P_1in10',\n",
       "  'education',\n",
       "  'kindergarten',\n",
       "  'F21.7',\n",
       "  8): 16112.910827935102,\n",
       " ('JAM',\n",
       "  'P_1in10',\n",
       "  'education',\n",
       "  'kindergarten',\n",
       "  'F21.7',\n",
       "  9): 229280.24366251822,\n",
       " ('JAM',\n",
       "  'P_1in10',\n",
       "  'education',\n",
       "  'kindergarten',\n",
       "  'F21.7',\n",
       "  91): 264767.6946956597,\n",
       " ('JAM',\n",
       "  'P_1in10',\n",
       "  'education',\n",
       "  'kindergarten',\n",
       "  'F21.7',\n",
       "  92): 62369.681413109894,\n",
       " ('JAM',\n",
       "  'P_1in10',\n",
       "  'education',\n",
       "  'kindergarten',\n",
       "  'F21.8',\n",
       "  8): 48610.12175225258,\n",
       " ('JAM',\n",
       "  'P_1in10',\n",
       "  'education',\n",
       "  'kindergarten',\n",
       "  'F21.8',\n",
       "  9): 691702.4911785875,\n",
       " ('JAM',\n",
       "  'P_1in10',\n",
       "  'education',\n",
       "  'kindergarten',\n",
       "  'F21.8',\n",
       "  91): 798762.5583395981,\n",
       " ('JAM',\n",
       "  'P_1in10',\n",
       "  'education',\n",
       "  'kindergarten',\n",
       "  'F21.8',\n",
       "  92): 188159.53489199607,\n",
       " ('JAM',\n",
       "  'P_1in10',\n",
       "  'education',\n",
       "  'kindergarten',\n",
       "  'F21.10',\n",
       "  8): 13480.42358153668,\n",
       " ('JAM',\n",
       "  'P_1in10',\n",
       "  'education',\n",
       "  'kindergarten',\n",
       "  'F21.10',\n",
       "  9): 191821.0084108544,\n",
       " ('JAM',\n",
       "  'P_1in10',\n",
       "  'education',\n",
       "  'kindergarten',\n",
       "  'F21.10',\n",
       "  91): 221510.60806571043,\n",
       " ('JAM',\n",
       "  'P_1in10',\n",
       "  'education',\n",
       "  'kindergarten',\n",
       "  'F21.10',\n",
       "  92): 52179.8781779743,\n",
       " ('JAM',\n",
       "  'P_1in10',\n",
       "  'education',\n",
       "  'kindergarten',\n",
       "  'F21.11',\n",
       "  8): 52976.33137931657,\n",
       " ('JAM',\n",
       "  'P_1in10',\n",
       "  'education',\n",
       "  'kindergarten',\n",
       "  'F21.11',\n",
       "  9): 753831.8989476217,\n",
       " ('JAM',\n",
       "  'P_1in10',\n",
       "  'education',\n",
       "  'kindergarten',\n",
       "  'F21.11',\n",
       "  91): 870508.2081393544,\n",
       " ('JAM',\n",
       "  'P_1in10',\n",
       "  'education',\n",
       "  'kindergarten',\n",
       "  'F21.11',\n",
       "  92): 205060.21201550585,\n",
       " ('JAM',\n",
       "  'P_1in10',\n",
       "  'education',\n",
       "  'kindergarten',\n",
       "  'F21.13',\n",
       "  8): 74679.56929213888,\n",
       " ('JAM',\n",
       "  'P_1in10',\n",
       "  'education',\n",
       "  'kindergarten',\n",
       "  'F21.13',\n",
       "  9): 1062660.2497065892,\n",
       " ('JAM',\n",
       "  'P_1in10',\n",
       "  'education',\n",
       "  'kindergarten',\n",
       "  'F21.13',\n",
       "  91): 1227136.2768336192,\n",
       " ('JAM',\n",
       "  'P_1in10',\n",
       "  'education',\n",
       "  'kindergarten',\n",
       "  'F21.13',\n",
       "  92): 289068.8712025762,\n",
       " ('JAM', 'P_1in10', 'education', 'library', 'F21.6', 8): 1695.4817705945313,\n",
       " ('JAM', 'P_1in10', 'education', 'library', 'F21.6', 9): 24126.02400885314,\n",
       " ('JAM', 'P_1in10', 'education', 'library', 'F21.6', 91): 27860.192648776534,\n",
       " ('JAM', 'P_1in10', 'education', 'library', 'F21.6', 92): 6562.852547435591,\n",
       " ('JAM', 'P_1in10', 'education', 'library', 'F21.7', 8): 262.2174351610464,\n",
       " ('JAM', 'P_1in10', 'education', 'library', 'F21.7', 9): 3731.248690463332,\n",
       " ('JAM', 'P_1in10', 'education', 'library', 'F21.7', 91): 4308.762492263852,\n",
       " ('JAM', 'P_1in10', 'education', 'library', 'F21.7', 92): 1014.988419324177,\n",
       " ('JAM', 'P_1in10', 'education', 'library', 'F21.8', 8): 1048.8697406441856,\n",
       " ('JAM', 'P_1in10', 'education', 'library', 'F21.8', 9): 14924.994761853328,\n",
       " ('JAM', 'P_1in10', 'education', 'library', 'F21.8', 91): 17235.04996905541,\n",
       " ('JAM', 'P_1in10', 'education', 'library', 'F21.8', 92): 4059.953677296708,\n",
       " ('JAM', 'P_1in10', 'education', 'library', 'F21.10', 8): 131.10871758052318,\n",
       " ('JAM', 'P_1in10', 'education', 'library', 'F21.10', 9): 1865.6243452316655,\n",
       " ('JAM', 'P_1in10', 'education', 'library', 'F21.10', 91): 2154.3812461319258,\n",
       " ('JAM', 'P_1in10', 'education', 'library', 'F21.10', 92): 507.4942096620884,\n",
       " ('JAM', 'P_1in10', 'education', 'library', 'F21.11', 8): 1179.9784582247084,\n",
       " ('JAM', 'P_1in10', 'education', 'library', 'F21.11', 9): 16790.61910708499,\n",
       " ('JAM', 'P_1in10', 'education', 'library', 'F21.11', 91): 19389.43121518733,\n",
       " ('JAM', 'P_1in10', 'education', 'library', 'F21.11', 92): 4567.447886958796,\n",
       " ('JAM', 'P_1in10', 'education', 'library', 'F21.13', 8): 1872.9816797217595,\n",
       " ('JAM', 'P_1in10', 'education', 'library', 'F21.13', 9): 26651.77636045236,\n",
       " ('JAM', 'P_1in10', 'education', 'library', 'F21.13', 91): 30776.874944741794,\n",
       " ('JAM', 'P_1in10', 'education', 'library', 'F21.13', 92): 7249.917280886976,\n",
       " ('JAM', 'P_1in10', 'education', 'school', 'F21.6', 8): 4636744.523647439,\n",
       " ('JAM', 'P_1in10', 'education', 'school', 'F21.6', 9): 65979010.59190381,\n",
       " ('JAM', 'P_1in10', 'education', 'school', 'F21.6', 91): 76191084.99567014,\n",
       " ('JAM', 'P_1in10', 'education', 'school', 'F21.6', 92): 17947860.682782244,\n",
       " ('JAM', 'P_1in10', 'education', 'school', 'F21.7', 8): 978638.8543647315,\n",
       " ('JAM', 'P_1in10', 'education', 'school', 'F21.7', 9): 13925637.483038707,\n",
       " ('JAM', 'P_1in10', 'education', 'school', 'F21.7', 91): 16081014.546454672,\n",
       " ('JAM', 'P_1in10', 'education', 'school', 'F21.7', 92): 3788104.7203090126,\n",
       " ('JAM', 'P_1in10', 'education', 'school', 'F21.8', 8): 2961423.279117365,\n",
       " ('JAM', 'P_1in10', 'education', 'school', 'F21.8', 9): 42139862.76438032,\n",
       " ('JAM', 'P_1in10', 'education', 'school', 'F21.8', 91): 48662170.54156243,\n",
       " ('JAM', 'P_1in10', 'education', 'school', 'F21.8', 92): 11463045.282153238,\n",
       " ('JAM', 'P_1in10', 'education', 'school', 'F21.10', 8): 643149.7413797333,\n",
       " ('JAM', 'P_1in10', 'education', 'school', 'F21.10', 9): 9151762.272486202,\n",
       " ('JAM', 'P_1in10', 'education', 'school', 'F21.10', 91): 10568250.280017475,\n",
       " ('JAM', 'P_1in10', 'education', 'school', 'F21.10', 92): 2489497.0808895463,\n",
       " ('JAM', 'P_1in10', 'education', 'school', 'F21.11', 8): 3299675.378728626,\n",
       " ('JAM', 'P_1in10', 'education', 'school', 'F21.11', 9): 46953054.163899,\n",
       " ('JAM', 'P_1in10', 'education', 'school', 'F21.11', 91): 54220336.263225354,\n",
       " ('JAM', 'P_1in10', 'education', 'school', 'F21.11', 92): 12772347.860399645,\n",
       " ('JAM', 'P_1in10', 'education', 'school', 'F21.13', 8): 4310445.94272442,\n",
       " ('JAM', 'P_1in10', 'education', 'school', 'F21.13', 9): 61335912.95798293,\n",
       " ('JAM', 'P_1in10', 'education', 'school', 'F21.13', 91): 70829339.74827063,\n",
       " ('JAM', 'P_1in10', 'education', 'school', 'F21.13', 92): 16684827.655724492,\n",
       " ('JAM', 'P_1in10', 'education', 'university', 'F21.6', 8): 0.0,\n",
       " ('JAM', 'P_1in10', 'education', 'university', 'F21.6', 9): 0.0,\n",
       " ('JAM', 'P_1in10', 'education', 'university', 'F21.6', 91): 0.0,\n",
       " ('JAM', 'P_1in10', 'education', 'university', 'F21.6', 92): 0.0,\n",
       " ('JAM', 'P_1in10', 'education', 'university', 'F21.7', 8): 0.0,\n",
       " ('JAM', 'P_1in10', 'education', 'university', 'F21.7', 9): 0.0,\n",
       " ('JAM', 'P_1in10', 'education', 'university', 'F21.7', 91): 0.0,\n",
       " ('JAM', 'P_1in10', 'education', 'university', 'F21.7', 92): 0.0,\n",
       " ('JAM', 'P_1in10', 'education', 'university', 'F21.8', 8): 0.0,\n",
       " ('JAM', 'P_1in10', 'education', 'university', 'F21.8', 9): 0.0,\n",
       " ('JAM', 'P_1in10', 'education', 'university', 'F21.8', 91): 0.0,\n",
       " ('JAM', 'P_1in10', 'education', 'university', 'F21.8', 92): 0.0,\n",
       " ('JAM', 'P_1in10', 'education', 'university', 'F21.10', 8): 0.0,\n",
       " ('JAM', 'P_1in10', 'education', 'university', 'F21.10', 9): 0.0,\n",
       " ('JAM', 'P_1in10', 'education', 'university', 'F21.10', 91): 0.0,\n",
       " ('JAM', 'P_1in10', 'education', 'university', 'F21.10', 92): 0.0,\n",
       " ('JAM', 'P_1in10', 'education', 'university', 'F21.11', 8): 0.0,\n",
       " ('JAM', 'P_1in10', 'education', 'university', 'F21.11', 9): 0.0,\n",
       " ('JAM', 'P_1in10', 'education', 'university', 'F21.11', 91): 0.0,\n",
       " ('JAM', 'P_1in10', 'education', 'university', 'F21.11', 92): 0.0,\n",
       " ('JAM', 'P_1in10', 'education', 'university', 'F21.13', 8): 0.0,\n",
       " ('JAM', 'P_1in10', 'education', 'university', 'F21.13', 9): 0.0,\n",
       " ('JAM', 'P_1in10', 'education', 'university', 'F21.13', 91): 0.0,\n",
       " ('JAM', 'P_1in10', 'education', 'university', 'F21.13', 92): 0.0}"
      ]
     },
     "execution_count": 19,
     "metadata": {},
     "output_type": "execute_result"
    }
   ],
   "source": [
    "test"
   ]
  },
  {
   "cell_type": "code",
   "execution_count": null,
   "id": "60f44ffd-3f59-421e-956b-8ce7a928f8cd",
   "metadata": {},
   "outputs": [],
   "source": []
  },
  {
   "cell_type": "markdown",
   "id": "2a1bce41-236d-43ea-82ae-361dc5a5af11",
   "metadata": {},
   "source": [
    "## Code to extract infra - testing"
   ]
  },
  {
   "cell_type": "code",
   "execution_count": 12,
   "id": "28e24ca8-d979-4398-b7a4-f425739a4020",
   "metadata": {},
   "outputs": [],
   "source": [
    "sub_system = 'waste_water'\n",
    "country_code = 'JAM'\n",
    "\n",
    "cis_dict = {\n",
    "    \"waste\": {\n",
    "            \"waste_water\": [\"wastewater_treatment_plant\"]},\n",
    "}"
   ]
  },
  {
   "cell_type": "code",
   "execution_count": 13,
   "id": "f3db2525-3072-463c-9eec-7bc21a73dd52",
   "metadata": {},
   "outputs": [
    {
     "name": "stdout",
     "output_type": "stream",
     "text": [
      "Time to extract OSM data for waste_water\n"
     ]
    },
    {
     "name": "stderr",
     "output_type": "stream",
     "text": [
      "extract points: 100%|████████████████████████████████████████████████████████████████████| 1/1 [00:00<00:00,  1.28it/s]\n",
      "extract multipolygons: 100%|███████████████████████████████████████████████████████████| 24/24 [00:52<00:00,  2.17s/it]\n"
     ]
    }
   ],
   "source": [
    "    # get country osm data\n",
    "    data_loc = country_download(country_code)\n",
    "    \n",
    "    # get infrastructure data:\n",
    "    print(f'Time to extract OSM data for {sub_system}')\n",
    "    assets = extract_cis(data_loc, sub_system)\n",
    "    \n",
    "    # convert assets to epsg3857 (system in meters)\n",
    "    assets = gpd.GeoDataFrame(assets).set_crs(4326).to_crs(3857)\n",
    "\n",
    "    if sub_system == 'waste_water':\n",
    "        assets = assets.rename(columns={'man_made' : 'asset'})\n",
    "        mapping_dict = {\n",
    "            \"wastewater_plant\" : \"wastewater_treatment_plant\", \n",
    "        }\n",
    "        assets['asset'] = assets.asset.apply(lambda x : mapping_dict[x])  #reclassification\n",
    "        assets = remove_contained_assets_and_convert(assets)"
   ]
  },
  {
   "cell_type": "code",
   "execution_count": 14,
   "id": "b3c7daef-8236-42e8-93c2-fd8fa3cd3043",
   "metadata": {},
   "outputs": [
    {
     "data": {
      "text/plain": [
       "asset\n",
       "wastewater_treatment_plant    25\n",
       "Name: count, dtype: int64"
      ]
     },
     "execution_count": 14,
     "metadata": {},
     "output_type": "execute_result"
    }
   ],
   "source": [
    "assets['asset'].value_counts()"
   ]
  },
  {
   "cell_type": "code",
   "execution_count": 160,
   "id": "407d6da0-e398-4045-901e-4f7ca8fb4aeb",
   "metadata": {},
   "outputs": [
    {
     "data": {
      "text/html": [
       "<div>\n",
       "<style scoped>\n",
       "    .dataframe tbody tr th:only-of-type {\n",
       "        vertical-align: middle;\n",
       "    }\n",
       "\n",
       "    .dataframe tbody tr th {\n",
       "        vertical-align: top;\n",
       "    }\n",
       "\n",
       "    .dataframe thead th {\n",
       "        text-align: right;\n",
       "    }\n",
       "</style>\n",
       "<table border=\"1\" class=\"dataframe\">\n",
       "  <thead>\n",
       "    <tr style=\"text-align: right;\">\n",
       "      <th></th>\n",
       "      <th>osm_id</th>\n",
       "      <th>asset</th>\n",
       "      <th>name</th>\n",
       "      <th>geometry</th>\n",
       "    </tr>\n",
       "  </thead>\n",
       "  <tbody>\n",
       "    <tr>\n",
       "      <th>0</th>\n",
       "      <td>5158038559</td>\n",
       "      <td>wastewater_treatment_plant</td>\n",
       "      <td>Sewage plant</td>\n",
       "      <td>POLYGON ((-8589962.133 2087392.501, -8589962.1...</td>\n",
       "    </tr>\n",
       "    <tr>\n",
       "      <th>1</th>\n",
       "      <td>None</td>\n",
       "      <td>wastewater_treatment_plant</td>\n",
       "      <td>Bogue Sewage</td>\n",
       "      <td>MULTIPOLYGON (((-8675097.917 2089635.631, -867...</td>\n",
       "    </tr>\n",
       "    <tr>\n",
       "      <th>2</th>\n",
       "      <td>None</td>\n",
       "      <td>wastewater_treatment_plant</td>\n",
       "      <td>Bogue Sewage</td>\n",
       "      <td>MULTIPOLYGON (((-8674472.313 2090344.857, -867...</td>\n",
       "    </tr>\n",
       "    <tr>\n",
       "      <th>3</th>\n",
       "      <td>None</td>\n",
       "      <td>wastewater_treatment_plant</td>\n",
       "      <td>Bogue Sewage</td>\n",
       "      <td>MULTIPOLYGON (((-8674752.615 2089739.484, -867...</td>\n",
       "    </tr>\n",
       "    <tr>\n",
       "      <th>4</th>\n",
       "      <td>None</td>\n",
       "      <td>wastewater_treatment_plant</td>\n",
       "      <td>Bogue Sewage</td>\n",
       "      <td>MULTIPOLYGON (((-8674887.501 2090498.189, -867...</td>\n",
       "    </tr>\n",
       "    <tr>\n",
       "      <th>5</th>\n",
       "      <td>None</td>\n",
       "      <td>wastewater_treatment_plant</td>\n",
       "      <td>Bogue Sewage</td>\n",
       "      <td>MULTIPOLYGON (((-8674619.199 2090015.641, -867...</td>\n",
       "    </tr>\n",
       "    <tr>\n",
       "      <th>6</th>\n",
       "      <td>None</td>\n",
       "      <td>wastewater_treatment_plant</td>\n",
       "      <td>Bogue Sewage</td>\n",
       "      <td>MULTIPOLYGON (((-8674805.859 2089485.966, -867...</td>\n",
       "    </tr>\n",
       "    <tr>\n",
       "      <th>7</th>\n",
       "      <td>None</td>\n",
       "      <td>wastewater_treatment_plant</td>\n",
       "      <td>Negril Wastewater Treatment</td>\n",
       "      <td>MULTIPOLYGON (((-8718321.527 2070891.309, -871...</td>\n",
       "    </tr>\n",
       "    <tr>\n",
       "      <th>8</th>\n",
       "      <td>None</td>\n",
       "      <td>wastewater_treatment_plant</td>\n",
       "      <td>None</td>\n",
       "      <td>MULTIPOLYGON (((-8584709.574 2085567.849, -858...</td>\n",
       "    </tr>\n",
       "    <tr>\n",
       "      <th>9</th>\n",
       "      <td>None</td>\n",
       "      <td>wastewater_treatment_plant</td>\n",
       "      <td>National Water Commission</td>\n",
       "      <td>MULTIPOLYGON (((-8674178.140 2091966.792, -867...</td>\n",
       "    </tr>\n",
       "    <tr>\n",
       "      <th>10</th>\n",
       "      <td>None</td>\n",
       "      <td>wastewater_treatment_plant</td>\n",
       "      <td>Soapberry</td>\n",
       "      <td>MULTIPOLYGON (((-8557115.966 2037534.417, -855...</td>\n",
       "    </tr>\n",
       "    <tr>\n",
       "      <th>11</th>\n",
       "      <td>None</td>\n",
       "      <td>wastewater_treatment_plant</td>\n",
       "      <td>None</td>\n",
       "      <td>MULTIPOLYGON (((-8561147.223 2029080.096, -856...</td>\n",
       "    </tr>\n",
       "    <tr>\n",
       "      <th>12</th>\n",
       "      <td>None</td>\n",
       "      <td>wastewater_treatment_plant</td>\n",
       "      <td>Twin Palms Estate Sewage Treatment Plant</td>\n",
       "      <td>MULTIPOLYGON (((-8593338.771 2030973.166, -859...</td>\n",
       "    </tr>\n",
       "    <tr>\n",
       "      <th>13</th>\n",
       "      <td>None</td>\n",
       "      <td>wastewater_treatment_plant</td>\n",
       "      <td>South-Boro Sewage Plant</td>\n",
       "      <td>MULTIPOLYGON (((-8558668.182 2033131.113, -855...</td>\n",
       "    </tr>\n",
       "    <tr>\n",
       "      <th>14</th>\n",
       "      <td>None</td>\n",
       "      <td>wastewater_treatment_plant</td>\n",
       "      <td>UWI Tertiary Wastewater Treatment Plant</td>\n",
       "      <td>MULTIPOLYGON (((-8543099.395 2037162.757, -854...</td>\n",
       "    </tr>\n",
       "    <tr>\n",
       "      <th>15</th>\n",
       "      <td>None</td>\n",
       "      <td>wastewater_treatment_plant</td>\n",
       "      <td>Mona Treatment Plant</td>\n",
       "      <td>MULTIPOLYGON (((-8544850.383 2038649.542, -854...</td>\n",
       "    </tr>\n",
       "    <tr>\n",
       "      <th>16</th>\n",
       "      <td>None</td>\n",
       "      <td>wastewater_treatment_plant</td>\n",
       "      <td>None</td>\n",
       "      <td>MULTIPOLYGON (((-8681796.256 2090055.141, -868...</td>\n",
       "    </tr>\n",
       "    <tr>\n",
       "      <th>17</th>\n",
       "      <td>None</td>\n",
       "      <td>wastewater_treatment_plant</td>\n",
       "      <td>None</td>\n",
       "      <td>MULTIPOLYGON (((-8583412.179 2031647.663, -858...</td>\n",
       "    </tr>\n",
       "    <tr>\n",
       "      <th>18</th>\n",
       "      <td>None</td>\n",
       "      <td>wastewater_treatment_plant</td>\n",
       "      <td>None</td>\n",
       "      <td>MULTIPOLYGON (((-8564301.483 2035241.208, -856...</td>\n",
       "    </tr>\n",
       "    <tr>\n",
       "      <th>19</th>\n",
       "      <td>None</td>\n",
       "      <td>wastewater_treatment_plant</td>\n",
       "      <td>None</td>\n",
       "      <td>MULTIPOLYGON (((-8699535.885 2091013.479, -869...</td>\n",
       "    </tr>\n",
       "    <tr>\n",
       "      <th>20</th>\n",
       "      <td>None</td>\n",
       "      <td>wastewater_treatment_plant</td>\n",
       "      <td>None</td>\n",
       "      <td>MULTIPOLYGON (((-8561290.658 2036936.520, -856...</td>\n",
       "    </tr>\n",
       "    <tr>\n",
       "      <th>21</th>\n",
       "      <td>None</td>\n",
       "      <td>wastewater_treatment_plant</td>\n",
       "      <td>None</td>\n",
       "      <td>MULTIPOLYGON (((-8561284.391 2036927.847, -856...</td>\n",
       "    </tr>\n",
       "    <tr>\n",
       "      <th>22</th>\n",
       "      <td>None</td>\n",
       "      <td>wastewater_treatment_plant</td>\n",
       "      <td>None</td>\n",
       "      <td>MULTIPOLYGON (((-8561304.439 2036934.156, -856...</td>\n",
       "    </tr>\n",
       "    <tr>\n",
       "      <th>23</th>\n",
       "      <td>None</td>\n",
       "      <td>wastewater_treatment_plant</td>\n",
       "      <td>None</td>\n",
       "      <td>MULTIPOLYGON (((-8561279.671 2036917.114, -856...</td>\n",
       "    </tr>\n",
       "    <tr>\n",
       "      <th>24</th>\n",
       "      <td>None</td>\n",
       "      <td>wastewater_treatment_plant</td>\n",
       "      <td>None</td>\n",
       "      <td>MULTIPOLYGON (((-8561317.943 2036925.132, -856...</td>\n",
       "    </tr>\n",
       "  </tbody>\n",
       "</table>\n",
       "</div>"
      ],
      "text/plain": [
       "        osm_id                       asset  \\\n",
       "0   5158038559  wastewater_treatment_plant   \n",
       "1         None  wastewater_treatment_plant   \n",
       "2         None  wastewater_treatment_plant   \n",
       "3         None  wastewater_treatment_plant   \n",
       "4         None  wastewater_treatment_plant   \n",
       "5         None  wastewater_treatment_plant   \n",
       "6         None  wastewater_treatment_plant   \n",
       "7         None  wastewater_treatment_plant   \n",
       "8         None  wastewater_treatment_plant   \n",
       "9         None  wastewater_treatment_plant   \n",
       "10        None  wastewater_treatment_plant   \n",
       "11        None  wastewater_treatment_plant   \n",
       "12        None  wastewater_treatment_plant   \n",
       "13        None  wastewater_treatment_plant   \n",
       "14        None  wastewater_treatment_plant   \n",
       "15        None  wastewater_treatment_plant   \n",
       "16        None  wastewater_treatment_plant   \n",
       "17        None  wastewater_treatment_plant   \n",
       "18        None  wastewater_treatment_plant   \n",
       "19        None  wastewater_treatment_plant   \n",
       "20        None  wastewater_treatment_plant   \n",
       "21        None  wastewater_treatment_plant   \n",
       "22        None  wastewater_treatment_plant   \n",
       "23        None  wastewater_treatment_plant   \n",
       "24        None  wastewater_treatment_plant   \n",
       "\n",
       "                                        name  \\\n",
       "0                               Sewage plant   \n",
       "1                               Bogue Sewage   \n",
       "2                               Bogue Sewage   \n",
       "3                               Bogue Sewage   \n",
       "4                               Bogue Sewage   \n",
       "5                               Bogue Sewage   \n",
       "6                               Bogue Sewage   \n",
       "7                Negril Wastewater Treatment   \n",
       "8                                       None   \n",
       "9                  National Water Commission   \n",
       "10                                 Soapberry   \n",
       "11                                      None   \n",
       "12  Twin Palms Estate Sewage Treatment Plant   \n",
       "13                   South-Boro Sewage Plant   \n",
       "14   UWI Tertiary Wastewater Treatment Plant   \n",
       "15                      Mona Treatment Plant   \n",
       "16                                      None   \n",
       "17                                      None   \n",
       "18                                      None   \n",
       "19                                      None   \n",
       "20                                      None   \n",
       "21                                      None   \n",
       "22                                      None   \n",
       "23                                      None   \n",
       "24                                      None   \n",
       "\n",
       "                                             geometry  \n",
       "0   POLYGON ((-8589962.133 2087392.501, -8589962.1...  \n",
       "1   MULTIPOLYGON (((-8675097.917 2089635.631, -867...  \n",
       "2   MULTIPOLYGON (((-8674472.313 2090344.857, -867...  \n",
       "3   MULTIPOLYGON (((-8674752.615 2089739.484, -867...  \n",
       "4   MULTIPOLYGON (((-8674887.501 2090498.189, -867...  \n",
       "5   MULTIPOLYGON (((-8674619.199 2090015.641, -867...  \n",
       "6   MULTIPOLYGON (((-8674805.859 2089485.966, -867...  \n",
       "7   MULTIPOLYGON (((-8718321.527 2070891.309, -871...  \n",
       "8   MULTIPOLYGON (((-8584709.574 2085567.849, -858...  \n",
       "9   MULTIPOLYGON (((-8674178.140 2091966.792, -867...  \n",
       "10  MULTIPOLYGON (((-8557115.966 2037534.417, -855...  \n",
       "11  MULTIPOLYGON (((-8561147.223 2029080.096, -856...  \n",
       "12  MULTIPOLYGON (((-8593338.771 2030973.166, -859...  \n",
       "13  MULTIPOLYGON (((-8558668.182 2033131.113, -855...  \n",
       "14  MULTIPOLYGON (((-8543099.395 2037162.757, -854...  \n",
       "15  MULTIPOLYGON (((-8544850.383 2038649.542, -854...  \n",
       "16  MULTIPOLYGON (((-8681796.256 2090055.141, -868...  \n",
       "17  MULTIPOLYGON (((-8583412.179 2031647.663, -858...  \n",
       "18  MULTIPOLYGON (((-8564301.483 2035241.208, -856...  \n",
       "19  MULTIPOLYGON (((-8699535.885 2091013.479, -869...  \n",
       "20  MULTIPOLYGON (((-8561290.658 2036936.520, -856...  \n",
       "21  MULTIPOLYGON (((-8561284.391 2036927.847, -856...  \n",
       "22  MULTIPOLYGON (((-8561304.439 2036934.156, -856...  \n",
       "23  MULTIPOLYGON (((-8561279.671 2036917.114, -856...  \n",
       "24  MULTIPOLYGON (((-8561317.943 2036925.132, -856...  "
      ]
     },
     "execution_count": 160,
     "metadata": {},
     "output_type": "execute_result"
    }
   ],
   "source": [
    "assets"
   ]
  },
  {
   "cell_type": "code",
   "execution_count": 168,
   "id": "79919f52-7959-4f78-986f-dd849550bbec",
   "metadata": {},
   "outputs": [
    {
     "name": "stdout",
     "output_type": "stream",
     "text": [
      "JAM runs for waste_water for pluvial for 10 maps\n",
      "JAM runs for wastewater_treatment_plant for pluvial for P_1in10 map for 12 combinations\n",
      "102\n"
     ]
    },
    {
     "name": "stderr",
     "output_type": "stream",
     "text": [
      "100%|█████████████████████████████████████████████████████████████████████████████████| 10/10 [00:00<00:00, 548.76it/s]\n"
     ]
    },
    {
     "name": "stdout",
     "output_type": "stream",
     "text": [
      "103\n"
     ]
    },
    {
     "name": "stderr",
     "output_type": "stream",
     "text": [
      "100%|████████████████████████████████████████████████████████████████████████████████| 10/10 [00:00<00:00, 1029.96it/s]\n"
     ]
    },
    {
     "name": "stdout",
     "output_type": "stream",
     "text": [
      "102\n"
     ]
    },
    {
     "name": "stderr",
     "output_type": "stream",
     "text": [
      "100%|█████████████████████████████████████████████████████████████████████████████████| 10/10 [00:00<00:00, 472.53it/s]\n"
     ]
    },
    {
     "name": "stdout",
     "output_type": "stream",
     "text": [
      "103\n"
     ]
    },
    {
     "name": "stderr",
     "output_type": "stream",
     "text": [
      "100%|█████████████████████████████████████████████████████████████████████████████████| 10/10 [00:00<00:00, 533.98it/s]\n"
     ]
    },
    {
     "name": "stdout",
     "output_type": "stream",
     "text": [
      "102\n"
     ]
    },
    {
     "name": "stderr",
     "output_type": "stream",
     "text": [
      "100%|█████████████████████████████████████████████████████████████████████████████████| 10/10 [00:00<00:00, 580.14it/s]\n"
     ]
    },
    {
     "name": "stdout",
     "output_type": "stream",
     "text": [
      "103\n"
     ]
    },
    {
     "name": "stderr",
     "output_type": "stream",
     "text": [
      "100%|█████████████████████████████████████████████████████████████████████████████████| 10/10 [00:00<00:00, 475.00it/s]\n"
     ]
    },
    {
     "name": "stdout",
     "output_type": "stream",
     "text": [
      "102\n"
     ]
    },
    {
     "name": "stderr",
     "output_type": "stream",
     "text": [
      "100%|█████████████████████████████████████████████████████████████████████████████████| 10/10 [00:00<00:00, 593.74it/s]\n"
     ]
    },
    {
     "name": "stdout",
     "output_type": "stream",
     "text": [
      "103\n"
     ]
    },
    {
     "name": "stderr",
     "output_type": "stream",
     "text": [
      "100%|█████████████████████████████████████████████████████████████████████████████████| 10/10 [00:00<00:00, 534.38it/s]\n"
     ]
    },
    {
     "name": "stdout",
     "output_type": "stream",
     "text": [
      "102\n"
     ]
    },
    {
     "name": "stderr",
     "output_type": "stream",
     "text": [
      "100%|█████████████████████████████████████████████████████████████████████████████████| 10/10 [00:00<00:00, 507.85it/s]\n"
     ]
    },
    {
     "name": "stdout",
     "output_type": "stream",
     "text": [
      "103\n"
     ]
    },
    {
     "name": "stderr",
     "output_type": "stream",
     "text": [
      "100%|█████████████████████████████████████████████████████████████████████████████████| 10/10 [00:00<00:00, 561.61it/s]\n"
     ]
    },
    {
     "name": "stdout",
     "output_type": "stream",
     "text": [
      "102\n"
     ]
    },
    {
     "name": "stderr",
     "output_type": "stream",
     "text": [
      "100%|█████████████████████████████████████████████████████████████████████████████████| 10/10 [00:00<00:00, 530.13it/s]\n"
     ]
    },
    {
     "name": "stdout",
     "output_type": "stream",
     "text": [
      "103\n"
     ]
    },
    {
     "name": "stderr",
     "output_type": "stream",
     "text": [
      "100%|████████████████████████████████████████████████████████████████████████████████| 10/10 [00:00<00:00, 1144.98it/s]\n"
     ]
    }
   ],
   "source": [
    "    # read hazard data\n",
    "    hazard_data_path = pathway_dict[hazard_type]\n",
    "    hazard_data_list = read_hazard_data(hazard_data_path,hazard_type)\n",
    "\n",
    "    # start analysis \n",
    "    print(f'{country_code} runs for {sub_system} for {hazard_type} for {len(hazard_data_list)} maps')\n",
    "\n",
    "    if hazard_type in ['windstorm','earthquake','landslide']:\n",
    "        # load country geometry file and create geometry to clip\n",
    "        ne_countries = gpd.read_file(data_path / \"natural_earth\" / \"ne_10m_admin_0_countries.shp\") #https://www.naturalearthdata.com/downloads/10m-cultural-vectors/10m-admin-0-countries/\n",
    "        bbox = ne_countries.loc[ne_countries['ISO_A3']==country_code].geometry.envelope.values[0].bounds\n",
    "        \n",
    "    collect_output = {}\n",
    "    for single_footprint in hazard_data_list: #tqdm(hazard_data_list,total=len(hazard_data_list)):\n",
    "    \n",
    "        hazard_name = single_footprint.parts[-1].split('.')[0]\n",
    "        \n",
    "        # load hazard map\n",
    "        if hazard_type in ['pluvial','fluvial']:\n",
    "            hazard_map = read_flood_map(single_footprint)\n",
    "        elif hazard_type in ['windstorm']:\n",
    "             hazard_map = read_windstorm_map(single_footprint,bbox)\n",
    "        elif hazard_type in ['earthquake']:\n",
    "             hazard_map = read_earthquake_map(single_footprint)\n",
    "        elif hazard_type in ['landslide']:\n",
    "             hazard_map = read_landslide_map(single_footprint)\n",
    "         \n",
    "        # convert hazard data to epsg 3857\n",
    "        hazard_map = gpd.GeoDataFrame(hazard_map).set_crs(4326).to_crs(3857)\n",
    "\n",
    "        # Loop through unique infrastructure types within the subsystem\n",
    "        for infra_type in infra_type_lst: \n",
    "            assets_infra_type = assets[assets['asset'] == infra_type].copy().reset_index(drop=True)\n",
    "        \n",
    "            # create dicts for quicker lookup\n",
    "            geom_dict = assets_infra_type['geometry'].to_dict()\n",
    "            type_dict = assets_infra_type['asset'].to_dict()\n",
    "\n",
    "            # read vulnerability and maxdam data:\n",
    "            data_path = pathway_dict['data_path']\n",
    "            infra_curves,maxdams,infra_units = read_vul_maxdam(data_path,hazard_type, infra_type)\n",
    "\n",
    "            # start analysis \n",
    "            print(f'{country_code} runs for {infra_type} for {hazard_type} for {hazard_name} map for {len(infra_curves.T)*len(maxdams)} combinations')\n",
    "    \n",
    "            if not assets_infra_type.empty:\n",
    "                overlay_assets = pd.DataFrame(overlay_hazard_assets(hazard_map,buffer_assets(assets_infra_type)).T,columns=['asset','hazard_point']) #overlay assets\n",
    "            else: \n",
    "                overlay_assets = pd.DataFrame(columns=['asset','hazard_point']) #empty dataframe\n",
    "    \n",
    "            # convert dataframe to numpy array\n",
    "            hazard_numpified = hazard_map.to_numpy() \n",
    "\n",
    "            for infra_curve in infra_curves:\n",
    "                # get curves\n",
    "                curve = infra_curves[infra_curve[0]]\n",
    "                hazard_intensity = curve.index.values\n",
    "                fragility_values = (np.nan_to_num(curve.values,nan=(np.nanmax(curve.values)))).flatten()\n",
    "\n",
    "                for maxdam in maxdams:\n",
    "                    collect_inb = []\n",
    "                    collect_geom = []\n",
    "                    unit_maxdam = infra_units[maxdams[maxdams == maxdam].index[0]] #get unit maxdam\n",
    "\n",
    "                    print(maxdams[maxdams == maxdam].index[0])\n",
    "                    \n",
    "                    for asset in tqdm(overlay_assets.groupby('asset'),total=len(overlay_assets.asset.unique())): #group asset items for different hazard points per asset and get total number of unique assets\n",
    "                        asset_geom = geom_dict[asset[0]]\n",
    "                        collect_geom.append(asset_geom.wkt)\n",
    "                        if np.max(fragility_values) == 0: #if exposure does not lead to damage\n",
    "                            collect_inb.append(0)\n",
    "                        else:\n",
    "                            collect_inb.append(get_damage_per_asset(asset,hazard_numpified,asset_geom,hazard_intensity,fragility_values,maxdam, unit_maxdam)) #get list of damages for specific asset\n",
    "                    collect_output[country_code, hazard_name, sub_system, infra_type, infra_curve[0], ((maxdams[maxdams == maxdam]).index)[0]] = np.sum(collect_inb), collect_geom # dictionary to store results for various combinations of hazard maps, infrastructure curves, and maximum damage values.\n",
    "        break #delete after testing, otherwise damage will only be assessed for first hazard map"
   ]
  },
  {
   "cell_type": "code",
   "execution_count": 169,
   "id": "d668a5c0-5427-41c7-8711-1934f5e60949",
   "metadata": {},
   "outputs": [
    {
     "data": {
      "text/plain": [
       "{('JAM',\n",
       "  'P_1in10',\n",
       "  'waste_water',\n",
       "  'wastewater_treatment_plant',\n",
       "  'F18.1',\n",
       "  102): (2056846.247320038,\n",
       "  ['MULTIPOLYGON (((-8675097.916917041 2089635.630817368, -8675093.887151472 2089627.991494782, -8675079.014867503 2089618.28686028, -8675023.967379306 2089591.0270715489, -8674985.005557528 2089570.8902904582, -8674956.953045849 2089557.043331449, -8674942.503775943 2089555.236186653, -8674899.75709148 2089554.520369603, -8674862.197895287 2089553.077000875, -8674843.151130412 2089553.2882255607, -8674833.521994459 2089553.640266708, -8674829.892979058 2089560.3290496753, -8674812.482610699 2089678.6504668125, -8674811.73677011 2089690.3852480098, -8674817.903869899 2089697.8016332488, -8674860.260936147 2089720.1212141481, -8674907.671907274 2089744.3066554181, -8674918.570085423 2089747.9444487067, -8674925.694532834 2089747.510260441, -8675022.94323999 2089713.819626501, -8675064.955215817 2089699.7261387247, -8675072.747580172 2089694.4102795334, -8675079.371089876 2089678.439240814, -8675095.078270026 2089646.6849574796, -8675097.916917041 2089635.630817368)))',\n",
       "   'MULTIPOLYGON (((-8674472.312510733 2090344.8565454355, -8674485.75990522 2090315.014041281, -8674484.758029804 2090306.799439164, -8674474.28286572 2090301.4130090224, -8674380.1956321 2090289.4901099491, -8674268.308411906 2090272.3920278226, -8674260.605103143 2090273.5303348296, -8674253.792350305 2090282.3668852276, -8674211.067929737 2090416.1595380676, -8674198.822785752 2090444.629170775, -8674187.924607601 2090466.210258807, -8674160.885103289 2090547.934610236, -8674163.011305561 2090556.6069869103, -8674174.29910193 2090560.9842501679, -8674267.184085047 2090572.825162779, -8674356.217413783 2090584.231876057, -8674366.748237612 2090580.8169025779, -8674372.692698421 2090571.8511330353, -8674383.423897333 2090547.981551371, -8674444.337922696 2090403.6028703065, -8674472.312510733 2090344.8565454355)))',\n",
       "   'MULTIPOLYGON (((-8674752.614988549 2089739.4836466196, -8674753.917426592 2089727.924858937, -8674744.076783605 2089719.7809048959, -8674668.490849357 2089680.9739529477, -8674594.418860184 2089642.5895269436, -8674584.311050419 2089640.864517769, -8674576.084540049 2089648.1283329097, -8674539.861177744 2089708.668050726, -8674523.263441667 2089738.6152704614, -8674508.825303713 2089757.1680178589, -8674492.817560935 2089773.6085122693, -8674454.868746525 2089836.284353073, -8674411.99961062 2089910.237636606, -8674415.550702376 2089921.761324072, -8674429.54356237 2089927.0772432187, -8674587.327808619 2089952.7767396627, -8674633.091251284 2089961.6718241465, -8674647.05071543 2089962.3993905978, -8674657.0917335 2089951.8144748213, -8674674.001164151 2089911.0590805048, -8674704.2466698 2089843.9237545943, -8674752.614988549 2089739.4836466196)))',\n",
       "   'MULTIPOLYGON (((-8674887.500815542 2090498.1888031445, -8674878.11658247 2090423.8461002307, -8674873.608143093 2090385.8827263096, -8674866.338980343 2090373.373018142, -8674771.862128507 2090289.5135802159, -8674725.697935676 2090251.5504593423, -8674629.172805209 2090163.3026154228, -8674619.73291239 2090158.115719598, -8674611.684513206 2090161.718382393, -8674573.991733622 2090233.6544225253, -8674524.632671405 2090336.7475476023, -8674447.688639367 2090499.3623286728, -8674445.451117605 2090509.6306799592, -8674453.777815513 2090517.6223946952, -8674578.12168673 2090602.8323431427, -8674660.531505765 2090661.8493331287, -8674722.091184173 2090706.4906549319, -8674731.887299364 2090710.8914215064, -8674738.032135256 2090707.2065128963, -8674758.637373002 2090676.9996759978, -8674802.07423831 2090618.5342019082, -8674868.331599228 2090526.6350811964, -8674887.500815542 2090498.1888031445)))',\n",
       "   'MULTIPOLYGON (((-8674619.198578835 2090015.6408971518, -8674606.218726207 2090002.7558998584, -8674400.85652959 2089969.7924060223, -8674388.956476023 2089976.1058086422, -8674348.057695108 2090045.3773431096, -8674317.166536411 2090100.1798268727, -8674299.232966445 2090148.5751205839, -8674300.62446008 2090163.1383245839, -8674325.90511644 2090227.4113498142, -8674333.742008591 2090245.589023674, -8674345.230180042 2090251.374432673, -8674436.723669525 2090261.8421545974, -8674512.187152334 2090265.855565118, -8674520.959128208 2090258.6267327107, -8674557.037775174 2090177.431632538, -8674618.486134093 2090035.0505534324, -8674619.198578835 2090015.6408971518)))',\n",
       "   'MULTIPOLYGON (((-8674805.859100996 2089485.9663364764, -8674812.33789536 2089449.6827830186, -8674811.135644859 2089442.2547544152, -8674803.911009908 2089435.401725714, -8674784.697265796 2089423.6436236787, -8674763.535430595 2089410.1957429298, -8674746.336569268 2089397.0999095645, -8674732.28804953 2089390.4698538024, -8674724.428893479 2089393.6381987615, -8674717.749724032 2089402.321813426, -8674647.841083813 2089498.8040647553, -8674643.67773486 2089507.4407860036, -8674643.366040284 2089521.0060784775, -8674641.250969961 2089530.8749518348, -8674613.265249973 2089581.216842351, -8674611.98507583 2089590.05308925, -8674619.187446885 2089596.1668825324, -8674697.46731281 2089635.959390447, -8674759.082650965 2089668.3355997817, -8674766.4853971 2089668.4060084124, -8674771.639489526 2089662.550358126, -8674774.48926849 2089642.2961580262, -8674779.743548455 2089603.1842521548, -8674785.654613417 2089565.7387512075, -8674787.602704505 2089540.5326054685, -8674794.927527 2089527.354544613, -8674801.406321364 2089518.799957626, -8674805.859100996 2089485.9663364764)))',\n",
       "   'MULTIPOLYGON (((-8718321.527476063 2070891.3085036245, -8718309.972512918 2070124.7210809567, -8718070.847114746 2070130.547636626, -8718086.465239303 2070896.1621956464, -8718321.527476063 2070891.3085036245)))',\n",
       "   'MULTIPOLYGON (((-8557115.965731738 2037534.4170329424, -8557132.685919255 2037509.345332454, -8556701.523267515 2036804.6814777583, -8556657.340561619 2036725.8641839137, -8556625.091305137 2036711.5263509527, -8556277.685438268 2036860.956320129, -8556208.077360675 2036890.943102022, -8555831.461259423 2037032.2046053784, -8555802.796490544 2037062.0628859724, -8555891.774159536 2037389.9098813583, -8555955.070422001 2037880.7771472936, -8555993.28640319 2037876.0015028024, -8556072.401165295 2037845.1705304075, -8557000.11553767 2037576.226677781, -8557115.965731738 2037534.4170329424)))',\n",
       "   'MULTIPOLYGON (((-8561147.222979631 2029080.0958636438, -8561113.960715782 2029107.1346549294, -8561093.166234903 2029080.0958636438, -8560951.757085748 2029181.991691713, -8560735.496710984 2028897.1081732332, -8560826.990200466 2028828.4882059232, -8560893.536992064 2028917.8989566888, -8560974.633241106 2028857.5975521994, -8561147.222979631 2029080.0958636438)))',\n",
       "   'MULTIPOLYGON (((-8583412.178673448 2031647.6631905665, -8583304.632913394 2031630.8247639462, -8583315.642411033 2031513.552932925, -8583383.669751858 2031525.2192387758, -8583412.178673448 2031647.6631905665)))']),\n",
       " ('JAM',\n",
       "  'P_1in10',\n",
       "  'waste_water',\n",
       "  'wastewater_treatment_plant',\n",
       "  'F18.1',\n",
       "  103): (39464595.7309347,\n",
       "  ['MULTIPOLYGON (((-8675097.916917041 2089635.630817368, -8675093.887151472 2089627.991494782, -8675079.014867503 2089618.28686028, -8675023.967379306 2089591.0270715489, -8674985.005557528 2089570.8902904582, -8674956.953045849 2089557.043331449, -8674942.503775943 2089555.236186653, -8674899.75709148 2089554.520369603, -8674862.197895287 2089553.077000875, -8674843.151130412 2089553.2882255607, -8674833.521994459 2089553.640266708, -8674829.892979058 2089560.3290496753, -8674812.482610699 2089678.6504668125, -8674811.73677011 2089690.3852480098, -8674817.903869899 2089697.8016332488, -8674860.260936147 2089720.1212141481, -8674907.671907274 2089744.3066554181, -8674918.570085423 2089747.9444487067, -8674925.694532834 2089747.510260441, -8675022.94323999 2089713.819626501, -8675064.955215817 2089699.7261387247, -8675072.747580172 2089694.4102795334, -8675079.371089876 2089678.439240814, -8675095.078270026 2089646.6849574796, -8675097.916917041 2089635.630817368)))',\n",
       "   'MULTIPOLYGON (((-8674472.312510733 2090344.8565454355, -8674485.75990522 2090315.014041281, -8674484.758029804 2090306.799439164, -8674474.28286572 2090301.4130090224, -8674380.1956321 2090289.4901099491, -8674268.308411906 2090272.3920278226, -8674260.605103143 2090273.5303348296, -8674253.792350305 2090282.3668852276, -8674211.067929737 2090416.1595380676, -8674198.822785752 2090444.629170775, -8674187.924607601 2090466.210258807, -8674160.885103289 2090547.934610236, -8674163.011305561 2090556.6069869103, -8674174.29910193 2090560.9842501679, -8674267.184085047 2090572.825162779, -8674356.217413783 2090584.231876057, -8674366.748237612 2090580.8169025779, -8674372.692698421 2090571.8511330353, -8674383.423897333 2090547.981551371, -8674444.337922696 2090403.6028703065, -8674472.312510733 2090344.8565454355)))',\n",
       "   'MULTIPOLYGON (((-8674752.614988549 2089739.4836466196, -8674753.917426592 2089727.924858937, -8674744.076783605 2089719.7809048959, -8674668.490849357 2089680.9739529477, -8674594.418860184 2089642.5895269436, -8674584.311050419 2089640.864517769, -8674576.084540049 2089648.1283329097, -8674539.861177744 2089708.668050726, -8674523.263441667 2089738.6152704614, -8674508.825303713 2089757.1680178589, -8674492.817560935 2089773.6085122693, -8674454.868746525 2089836.284353073, -8674411.99961062 2089910.237636606, -8674415.550702376 2089921.761324072, -8674429.54356237 2089927.0772432187, -8674587.327808619 2089952.7767396627, -8674633.091251284 2089961.6718241465, -8674647.05071543 2089962.3993905978, -8674657.0917335 2089951.8144748213, -8674674.001164151 2089911.0590805048, -8674704.2466698 2089843.9237545943, -8674752.614988549 2089739.4836466196)))',\n",
       "   'MULTIPOLYGON (((-8674887.500815542 2090498.1888031445, -8674878.11658247 2090423.8461002307, -8674873.608143093 2090385.8827263096, -8674866.338980343 2090373.373018142, -8674771.862128507 2090289.5135802159, -8674725.697935676 2090251.5504593423, -8674629.172805209 2090163.3026154228, -8674619.73291239 2090158.115719598, -8674611.684513206 2090161.718382393, -8674573.991733622 2090233.6544225253, -8674524.632671405 2090336.7475476023, -8674447.688639367 2090499.3623286728, -8674445.451117605 2090509.6306799592, -8674453.777815513 2090517.6223946952, -8674578.12168673 2090602.8323431427, -8674660.531505765 2090661.8493331287, -8674722.091184173 2090706.4906549319, -8674731.887299364 2090710.8914215064, -8674738.032135256 2090707.2065128963, -8674758.637373002 2090676.9996759978, -8674802.07423831 2090618.5342019082, -8674868.331599228 2090526.6350811964, -8674887.500815542 2090498.1888031445)))',\n",
       "   'MULTIPOLYGON (((-8674619.198578835 2090015.6408971518, -8674606.218726207 2090002.7558998584, -8674400.85652959 2089969.7924060223, -8674388.956476023 2089976.1058086422, -8674348.057695108 2090045.3773431096, -8674317.166536411 2090100.1798268727, -8674299.232966445 2090148.5751205839, -8674300.62446008 2090163.1383245839, -8674325.90511644 2090227.4113498142, -8674333.742008591 2090245.589023674, -8674345.230180042 2090251.374432673, -8674436.723669525 2090261.8421545974, -8674512.187152334 2090265.855565118, -8674520.959128208 2090258.6267327107, -8674557.037775174 2090177.431632538, -8674618.486134093 2090035.0505534324, -8674619.198578835 2090015.6408971518)))',\n",
       "   'MULTIPOLYGON (((-8674805.859100996 2089485.9663364764, -8674812.33789536 2089449.6827830186, -8674811.135644859 2089442.2547544152, -8674803.911009908 2089435.401725714, -8674784.697265796 2089423.6436236787, -8674763.535430595 2089410.1957429298, -8674746.336569268 2089397.0999095645, -8674732.28804953 2089390.4698538024, -8674724.428893479 2089393.6381987615, -8674717.749724032 2089402.321813426, -8674647.841083813 2089498.8040647553, -8674643.67773486 2089507.4407860036, -8674643.366040284 2089521.0060784775, -8674641.250969961 2089530.8749518348, -8674613.265249973 2089581.216842351, -8674611.98507583 2089590.05308925, -8674619.187446885 2089596.1668825324, -8674697.46731281 2089635.959390447, -8674759.082650965 2089668.3355997817, -8674766.4853971 2089668.4060084124, -8674771.639489526 2089662.550358126, -8674774.48926849 2089642.2961580262, -8674779.743548455 2089603.1842521548, -8674785.654613417 2089565.7387512075, -8674787.602704505 2089540.5326054685, -8674794.927527 2089527.354544613, -8674801.406321364 2089518.799957626, -8674805.859100996 2089485.9663364764)))',\n",
       "   'MULTIPOLYGON (((-8718321.527476063 2070891.3085036245, -8718309.972512918 2070124.7210809567, -8718070.847114746 2070130.547636626, -8718086.465239303 2070896.1621956464, -8718321.527476063 2070891.3085036245)))',\n",
       "   'MULTIPOLYGON (((-8557115.965731738 2037534.4170329424, -8557132.685919255 2037509.345332454, -8556701.523267515 2036804.6814777583, -8556657.340561619 2036725.8641839137, -8556625.091305137 2036711.5263509527, -8556277.685438268 2036860.956320129, -8556208.077360675 2036890.943102022, -8555831.461259423 2037032.2046053784, -8555802.796490544 2037062.0628859724, -8555891.774159536 2037389.9098813583, -8555955.070422001 2037880.7771472936, -8555993.28640319 2037876.0015028024, -8556072.401165295 2037845.1705304075, -8557000.11553767 2037576.226677781, -8557115.965731738 2037534.4170329424)))',\n",
       "   'MULTIPOLYGON (((-8561147.222979631 2029080.0958636438, -8561113.960715782 2029107.1346549294, -8561093.166234903 2029080.0958636438, -8560951.757085748 2029181.991691713, -8560735.496710984 2028897.1081732332, -8560826.990200466 2028828.4882059232, -8560893.536992064 2028917.8989566888, -8560974.633241106 2028857.5975521994, -8561147.222979631 2029080.0958636438)))',\n",
       "   'MULTIPOLYGON (((-8583412.178673448 2031647.6631905665, -8583304.632913394 2031630.8247639462, -8583315.642411033 2031513.552932925, -8583383.669751858 2031525.2192387758, -8583412.178673448 2031647.6631905665)))']),\n",
       " ('JAM',\n",
       "  'P_1in10',\n",
       "  'waste_water',\n",
       "  'wastewater_treatment_plant',\n",
       "  'F18.2',\n",
       "  102): (2056846.247320038,\n",
       "  ['MULTIPOLYGON (((-8675097.916917041 2089635.630817368, -8675093.887151472 2089627.991494782, -8675079.014867503 2089618.28686028, -8675023.967379306 2089591.0270715489, -8674985.005557528 2089570.8902904582, -8674956.953045849 2089557.043331449, -8674942.503775943 2089555.236186653, -8674899.75709148 2089554.520369603, -8674862.197895287 2089553.077000875, -8674843.151130412 2089553.2882255607, -8674833.521994459 2089553.640266708, -8674829.892979058 2089560.3290496753, -8674812.482610699 2089678.6504668125, -8674811.73677011 2089690.3852480098, -8674817.903869899 2089697.8016332488, -8674860.260936147 2089720.1212141481, -8674907.671907274 2089744.3066554181, -8674918.570085423 2089747.9444487067, -8674925.694532834 2089747.510260441, -8675022.94323999 2089713.819626501, -8675064.955215817 2089699.7261387247, -8675072.747580172 2089694.4102795334, -8675079.371089876 2089678.439240814, -8675095.078270026 2089646.6849574796, -8675097.916917041 2089635.630817368)))',\n",
       "   'MULTIPOLYGON (((-8674472.312510733 2090344.8565454355, -8674485.75990522 2090315.014041281, -8674484.758029804 2090306.799439164, -8674474.28286572 2090301.4130090224, -8674380.1956321 2090289.4901099491, -8674268.308411906 2090272.3920278226, -8674260.605103143 2090273.5303348296, -8674253.792350305 2090282.3668852276, -8674211.067929737 2090416.1595380676, -8674198.822785752 2090444.629170775, -8674187.924607601 2090466.210258807, -8674160.885103289 2090547.934610236, -8674163.011305561 2090556.6069869103, -8674174.29910193 2090560.9842501679, -8674267.184085047 2090572.825162779, -8674356.217413783 2090584.231876057, -8674366.748237612 2090580.8169025779, -8674372.692698421 2090571.8511330353, -8674383.423897333 2090547.981551371, -8674444.337922696 2090403.6028703065, -8674472.312510733 2090344.8565454355)))',\n",
       "   'MULTIPOLYGON (((-8674752.614988549 2089739.4836466196, -8674753.917426592 2089727.924858937, -8674744.076783605 2089719.7809048959, -8674668.490849357 2089680.9739529477, -8674594.418860184 2089642.5895269436, -8674584.311050419 2089640.864517769, -8674576.084540049 2089648.1283329097, -8674539.861177744 2089708.668050726, -8674523.263441667 2089738.6152704614, -8674508.825303713 2089757.1680178589, -8674492.817560935 2089773.6085122693, -8674454.868746525 2089836.284353073, -8674411.99961062 2089910.237636606, -8674415.550702376 2089921.761324072, -8674429.54356237 2089927.0772432187, -8674587.327808619 2089952.7767396627, -8674633.091251284 2089961.6718241465, -8674647.05071543 2089962.3993905978, -8674657.0917335 2089951.8144748213, -8674674.001164151 2089911.0590805048, -8674704.2466698 2089843.9237545943, -8674752.614988549 2089739.4836466196)))',\n",
       "   'MULTIPOLYGON (((-8674887.500815542 2090498.1888031445, -8674878.11658247 2090423.8461002307, -8674873.608143093 2090385.8827263096, -8674866.338980343 2090373.373018142, -8674771.862128507 2090289.5135802159, -8674725.697935676 2090251.5504593423, -8674629.172805209 2090163.3026154228, -8674619.73291239 2090158.115719598, -8674611.684513206 2090161.718382393, -8674573.991733622 2090233.6544225253, -8674524.632671405 2090336.7475476023, -8674447.688639367 2090499.3623286728, -8674445.451117605 2090509.6306799592, -8674453.777815513 2090517.6223946952, -8674578.12168673 2090602.8323431427, -8674660.531505765 2090661.8493331287, -8674722.091184173 2090706.4906549319, -8674731.887299364 2090710.8914215064, -8674738.032135256 2090707.2065128963, -8674758.637373002 2090676.9996759978, -8674802.07423831 2090618.5342019082, -8674868.331599228 2090526.6350811964, -8674887.500815542 2090498.1888031445)))',\n",
       "   'MULTIPOLYGON (((-8674619.198578835 2090015.6408971518, -8674606.218726207 2090002.7558998584, -8674400.85652959 2089969.7924060223, -8674388.956476023 2089976.1058086422, -8674348.057695108 2090045.3773431096, -8674317.166536411 2090100.1798268727, -8674299.232966445 2090148.5751205839, -8674300.62446008 2090163.1383245839, -8674325.90511644 2090227.4113498142, -8674333.742008591 2090245.589023674, -8674345.230180042 2090251.374432673, -8674436.723669525 2090261.8421545974, -8674512.187152334 2090265.855565118, -8674520.959128208 2090258.6267327107, -8674557.037775174 2090177.431632538, -8674618.486134093 2090035.0505534324, -8674619.198578835 2090015.6408971518)))',\n",
       "   'MULTIPOLYGON (((-8674805.859100996 2089485.9663364764, -8674812.33789536 2089449.6827830186, -8674811.135644859 2089442.2547544152, -8674803.911009908 2089435.401725714, -8674784.697265796 2089423.6436236787, -8674763.535430595 2089410.1957429298, -8674746.336569268 2089397.0999095645, -8674732.28804953 2089390.4698538024, -8674724.428893479 2089393.6381987615, -8674717.749724032 2089402.321813426, -8674647.841083813 2089498.8040647553, -8674643.67773486 2089507.4407860036, -8674643.366040284 2089521.0060784775, -8674641.250969961 2089530.8749518348, -8674613.265249973 2089581.216842351, -8674611.98507583 2089590.05308925, -8674619.187446885 2089596.1668825324, -8674697.46731281 2089635.959390447, -8674759.082650965 2089668.3355997817, -8674766.4853971 2089668.4060084124, -8674771.639489526 2089662.550358126, -8674774.48926849 2089642.2961580262, -8674779.743548455 2089603.1842521548, -8674785.654613417 2089565.7387512075, -8674787.602704505 2089540.5326054685, -8674794.927527 2089527.354544613, -8674801.406321364 2089518.799957626, -8674805.859100996 2089485.9663364764)))',\n",
       "   'MULTIPOLYGON (((-8718321.527476063 2070891.3085036245, -8718309.972512918 2070124.7210809567, -8718070.847114746 2070130.547636626, -8718086.465239303 2070896.1621956464, -8718321.527476063 2070891.3085036245)))',\n",
       "   'MULTIPOLYGON (((-8557115.965731738 2037534.4170329424, -8557132.685919255 2037509.345332454, -8556701.523267515 2036804.6814777583, -8556657.340561619 2036725.8641839137, -8556625.091305137 2036711.5263509527, -8556277.685438268 2036860.956320129, -8556208.077360675 2036890.943102022, -8555831.461259423 2037032.2046053784, -8555802.796490544 2037062.0628859724, -8555891.774159536 2037389.9098813583, -8555955.070422001 2037880.7771472936, -8555993.28640319 2037876.0015028024, -8556072.401165295 2037845.1705304075, -8557000.11553767 2037576.226677781, -8557115.965731738 2037534.4170329424)))',\n",
       "   'MULTIPOLYGON (((-8561147.222979631 2029080.0958636438, -8561113.960715782 2029107.1346549294, -8561093.166234903 2029080.0958636438, -8560951.757085748 2029181.991691713, -8560735.496710984 2028897.1081732332, -8560826.990200466 2028828.4882059232, -8560893.536992064 2028917.8989566888, -8560974.633241106 2028857.5975521994, -8561147.222979631 2029080.0958636438)))',\n",
       "   'MULTIPOLYGON (((-8583412.178673448 2031647.6631905665, -8583304.632913394 2031630.8247639462, -8583315.642411033 2031513.552932925, -8583383.669751858 2031525.2192387758, -8583412.178673448 2031647.6631905665)))']),\n",
       " ('JAM',\n",
       "  'P_1in10',\n",
       "  'waste_water',\n",
       "  'wastewater_treatment_plant',\n",
       "  'F18.2',\n",
       "  103): (39464595.7309347,\n",
       "  ['MULTIPOLYGON (((-8675097.916917041 2089635.630817368, -8675093.887151472 2089627.991494782, -8675079.014867503 2089618.28686028, -8675023.967379306 2089591.0270715489, -8674985.005557528 2089570.8902904582, -8674956.953045849 2089557.043331449, -8674942.503775943 2089555.236186653, -8674899.75709148 2089554.520369603, -8674862.197895287 2089553.077000875, -8674843.151130412 2089553.2882255607, -8674833.521994459 2089553.640266708, -8674829.892979058 2089560.3290496753, -8674812.482610699 2089678.6504668125, -8674811.73677011 2089690.3852480098, -8674817.903869899 2089697.8016332488, -8674860.260936147 2089720.1212141481, -8674907.671907274 2089744.3066554181, -8674918.570085423 2089747.9444487067, -8674925.694532834 2089747.510260441, -8675022.94323999 2089713.819626501, -8675064.955215817 2089699.7261387247, -8675072.747580172 2089694.4102795334, -8675079.371089876 2089678.439240814, -8675095.078270026 2089646.6849574796, -8675097.916917041 2089635.630817368)))',\n",
       "   'MULTIPOLYGON (((-8674472.312510733 2090344.8565454355, -8674485.75990522 2090315.014041281, -8674484.758029804 2090306.799439164, -8674474.28286572 2090301.4130090224, -8674380.1956321 2090289.4901099491, -8674268.308411906 2090272.3920278226, -8674260.605103143 2090273.5303348296, -8674253.792350305 2090282.3668852276, -8674211.067929737 2090416.1595380676, -8674198.822785752 2090444.629170775, -8674187.924607601 2090466.210258807, -8674160.885103289 2090547.934610236, -8674163.011305561 2090556.6069869103, -8674174.29910193 2090560.9842501679, -8674267.184085047 2090572.825162779, -8674356.217413783 2090584.231876057, -8674366.748237612 2090580.8169025779, -8674372.692698421 2090571.8511330353, -8674383.423897333 2090547.981551371, -8674444.337922696 2090403.6028703065, -8674472.312510733 2090344.8565454355)))',\n",
       "   'MULTIPOLYGON (((-8674752.614988549 2089739.4836466196, -8674753.917426592 2089727.924858937, -8674744.076783605 2089719.7809048959, -8674668.490849357 2089680.9739529477, -8674594.418860184 2089642.5895269436, -8674584.311050419 2089640.864517769, -8674576.084540049 2089648.1283329097, -8674539.861177744 2089708.668050726, -8674523.263441667 2089738.6152704614, -8674508.825303713 2089757.1680178589, -8674492.817560935 2089773.6085122693, -8674454.868746525 2089836.284353073, -8674411.99961062 2089910.237636606, -8674415.550702376 2089921.761324072, -8674429.54356237 2089927.0772432187, -8674587.327808619 2089952.7767396627, -8674633.091251284 2089961.6718241465, -8674647.05071543 2089962.3993905978, -8674657.0917335 2089951.8144748213, -8674674.001164151 2089911.0590805048, -8674704.2466698 2089843.9237545943, -8674752.614988549 2089739.4836466196)))',\n",
       "   'MULTIPOLYGON (((-8674887.500815542 2090498.1888031445, -8674878.11658247 2090423.8461002307, -8674873.608143093 2090385.8827263096, -8674866.338980343 2090373.373018142, -8674771.862128507 2090289.5135802159, -8674725.697935676 2090251.5504593423, -8674629.172805209 2090163.3026154228, -8674619.73291239 2090158.115719598, -8674611.684513206 2090161.718382393, -8674573.991733622 2090233.6544225253, -8674524.632671405 2090336.7475476023, -8674447.688639367 2090499.3623286728, -8674445.451117605 2090509.6306799592, -8674453.777815513 2090517.6223946952, -8674578.12168673 2090602.8323431427, -8674660.531505765 2090661.8493331287, -8674722.091184173 2090706.4906549319, -8674731.887299364 2090710.8914215064, -8674738.032135256 2090707.2065128963, -8674758.637373002 2090676.9996759978, -8674802.07423831 2090618.5342019082, -8674868.331599228 2090526.6350811964, -8674887.500815542 2090498.1888031445)))',\n",
       "   'MULTIPOLYGON (((-8674619.198578835 2090015.6408971518, -8674606.218726207 2090002.7558998584, -8674400.85652959 2089969.7924060223, -8674388.956476023 2089976.1058086422, -8674348.057695108 2090045.3773431096, -8674317.166536411 2090100.1798268727, -8674299.232966445 2090148.5751205839, -8674300.62446008 2090163.1383245839, -8674325.90511644 2090227.4113498142, -8674333.742008591 2090245.589023674, -8674345.230180042 2090251.374432673, -8674436.723669525 2090261.8421545974, -8674512.187152334 2090265.855565118, -8674520.959128208 2090258.6267327107, -8674557.037775174 2090177.431632538, -8674618.486134093 2090035.0505534324, -8674619.198578835 2090015.6408971518)))',\n",
       "   'MULTIPOLYGON (((-8674805.859100996 2089485.9663364764, -8674812.33789536 2089449.6827830186, -8674811.135644859 2089442.2547544152, -8674803.911009908 2089435.401725714, -8674784.697265796 2089423.6436236787, -8674763.535430595 2089410.1957429298, -8674746.336569268 2089397.0999095645, -8674732.28804953 2089390.4698538024, -8674724.428893479 2089393.6381987615, -8674717.749724032 2089402.321813426, -8674647.841083813 2089498.8040647553, -8674643.67773486 2089507.4407860036, -8674643.366040284 2089521.0060784775, -8674641.250969961 2089530.8749518348, -8674613.265249973 2089581.216842351, -8674611.98507583 2089590.05308925, -8674619.187446885 2089596.1668825324, -8674697.46731281 2089635.959390447, -8674759.082650965 2089668.3355997817, -8674766.4853971 2089668.4060084124, -8674771.639489526 2089662.550358126, -8674774.48926849 2089642.2961580262, -8674779.743548455 2089603.1842521548, -8674785.654613417 2089565.7387512075, -8674787.602704505 2089540.5326054685, -8674794.927527 2089527.354544613, -8674801.406321364 2089518.799957626, -8674805.859100996 2089485.9663364764)))',\n",
       "   'MULTIPOLYGON (((-8718321.527476063 2070891.3085036245, -8718309.972512918 2070124.7210809567, -8718070.847114746 2070130.547636626, -8718086.465239303 2070896.1621956464, -8718321.527476063 2070891.3085036245)))',\n",
       "   'MULTIPOLYGON (((-8557115.965731738 2037534.4170329424, -8557132.685919255 2037509.345332454, -8556701.523267515 2036804.6814777583, -8556657.340561619 2036725.8641839137, -8556625.091305137 2036711.5263509527, -8556277.685438268 2036860.956320129, -8556208.077360675 2036890.943102022, -8555831.461259423 2037032.2046053784, -8555802.796490544 2037062.0628859724, -8555891.774159536 2037389.9098813583, -8555955.070422001 2037880.7771472936, -8555993.28640319 2037876.0015028024, -8556072.401165295 2037845.1705304075, -8557000.11553767 2037576.226677781, -8557115.965731738 2037534.4170329424)))',\n",
       "   'MULTIPOLYGON (((-8561147.222979631 2029080.0958636438, -8561113.960715782 2029107.1346549294, -8561093.166234903 2029080.0958636438, -8560951.757085748 2029181.991691713, -8560735.496710984 2028897.1081732332, -8560826.990200466 2028828.4882059232, -8560893.536992064 2028917.8989566888, -8560974.633241106 2028857.5975521994, -8561147.222979631 2029080.0958636438)))',\n",
       "   'MULTIPOLYGON (((-8583412.178673448 2031647.6631905665, -8583304.632913394 2031630.8247639462, -8583315.642411033 2031513.552932925, -8583383.669751858 2031525.2192387758, -8583412.178673448 2031647.6631905665)))']),\n",
       " ('JAM',\n",
       "  'P_1in10',\n",
       "  'waste_water',\n",
       "  'wastewater_treatment_plant',\n",
       "  'F18.3',\n",
       "  102): (2056846.247320038,\n",
       "  ['MULTIPOLYGON (((-8675097.916917041 2089635.630817368, -8675093.887151472 2089627.991494782, -8675079.014867503 2089618.28686028, -8675023.967379306 2089591.0270715489, -8674985.005557528 2089570.8902904582, -8674956.953045849 2089557.043331449, -8674942.503775943 2089555.236186653, -8674899.75709148 2089554.520369603, -8674862.197895287 2089553.077000875, -8674843.151130412 2089553.2882255607, -8674833.521994459 2089553.640266708, -8674829.892979058 2089560.3290496753, -8674812.482610699 2089678.6504668125, -8674811.73677011 2089690.3852480098, -8674817.903869899 2089697.8016332488, -8674860.260936147 2089720.1212141481, -8674907.671907274 2089744.3066554181, -8674918.570085423 2089747.9444487067, -8674925.694532834 2089747.510260441, -8675022.94323999 2089713.819626501, -8675064.955215817 2089699.7261387247, -8675072.747580172 2089694.4102795334, -8675079.371089876 2089678.439240814, -8675095.078270026 2089646.6849574796, -8675097.916917041 2089635.630817368)))',\n",
       "   'MULTIPOLYGON (((-8674472.312510733 2090344.8565454355, -8674485.75990522 2090315.014041281, -8674484.758029804 2090306.799439164, -8674474.28286572 2090301.4130090224, -8674380.1956321 2090289.4901099491, -8674268.308411906 2090272.3920278226, -8674260.605103143 2090273.5303348296, -8674253.792350305 2090282.3668852276, -8674211.067929737 2090416.1595380676, -8674198.822785752 2090444.629170775, -8674187.924607601 2090466.210258807, -8674160.885103289 2090547.934610236, -8674163.011305561 2090556.6069869103, -8674174.29910193 2090560.9842501679, -8674267.184085047 2090572.825162779, -8674356.217413783 2090584.231876057, -8674366.748237612 2090580.8169025779, -8674372.692698421 2090571.8511330353, -8674383.423897333 2090547.981551371, -8674444.337922696 2090403.6028703065, -8674472.312510733 2090344.8565454355)))',\n",
       "   'MULTIPOLYGON (((-8674752.614988549 2089739.4836466196, -8674753.917426592 2089727.924858937, -8674744.076783605 2089719.7809048959, -8674668.490849357 2089680.9739529477, -8674594.418860184 2089642.5895269436, -8674584.311050419 2089640.864517769, -8674576.084540049 2089648.1283329097, -8674539.861177744 2089708.668050726, -8674523.263441667 2089738.6152704614, -8674508.825303713 2089757.1680178589, -8674492.817560935 2089773.6085122693, -8674454.868746525 2089836.284353073, -8674411.99961062 2089910.237636606, -8674415.550702376 2089921.761324072, -8674429.54356237 2089927.0772432187, -8674587.327808619 2089952.7767396627, -8674633.091251284 2089961.6718241465, -8674647.05071543 2089962.3993905978, -8674657.0917335 2089951.8144748213, -8674674.001164151 2089911.0590805048, -8674704.2466698 2089843.9237545943, -8674752.614988549 2089739.4836466196)))',\n",
       "   'MULTIPOLYGON (((-8674887.500815542 2090498.1888031445, -8674878.11658247 2090423.8461002307, -8674873.608143093 2090385.8827263096, -8674866.338980343 2090373.373018142, -8674771.862128507 2090289.5135802159, -8674725.697935676 2090251.5504593423, -8674629.172805209 2090163.3026154228, -8674619.73291239 2090158.115719598, -8674611.684513206 2090161.718382393, -8674573.991733622 2090233.6544225253, -8674524.632671405 2090336.7475476023, -8674447.688639367 2090499.3623286728, -8674445.451117605 2090509.6306799592, -8674453.777815513 2090517.6223946952, -8674578.12168673 2090602.8323431427, -8674660.531505765 2090661.8493331287, -8674722.091184173 2090706.4906549319, -8674731.887299364 2090710.8914215064, -8674738.032135256 2090707.2065128963, -8674758.637373002 2090676.9996759978, -8674802.07423831 2090618.5342019082, -8674868.331599228 2090526.6350811964, -8674887.500815542 2090498.1888031445)))',\n",
       "   'MULTIPOLYGON (((-8674619.198578835 2090015.6408971518, -8674606.218726207 2090002.7558998584, -8674400.85652959 2089969.7924060223, -8674388.956476023 2089976.1058086422, -8674348.057695108 2090045.3773431096, -8674317.166536411 2090100.1798268727, -8674299.232966445 2090148.5751205839, -8674300.62446008 2090163.1383245839, -8674325.90511644 2090227.4113498142, -8674333.742008591 2090245.589023674, -8674345.230180042 2090251.374432673, -8674436.723669525 2090261.8421545974, -8674512.187152334 2090265.855565118, -8674520.959128208 2090258.6267327107, -8674557.037775174 2090177.431632538, -8674618.486134093 2090035.0505534324, -8674619.198578835 2090015.6408971518)))',\n",
       "   'MULTIPOLYGON (((-8674805.859100996 2089485.9663364764, -8674812.33789536 2089449.6827830186, -8674811.135644859 2089442.2547544152, -8674803.911009908 2089435.401725714, -8674784.697265796 2089423.6436236787, -8674763.535430595 2089410.1957429298, -8674746.336569268 2089397.0999095645, -8674732.28804953 2089390.4698538024, -8674724.428893479 2089393.6381987615, -8674717.749724032 2089402.321813426, -8674647.841083813 2089498.8040647553, -8674643.67773486 2089507.4407860036, -8674643.366040284 2089521.0060784775, -8674641.250969961 2089530.8749518348, -8674613.265249973 2089581.216842351, -8674611.98507583 2089590.05308925, -8674619.187446885 2089596.1668825324, -8674697.46731281 2089635.959390447, -8674759.082650965 2089668.3355997817, -8674766.4853971 2089668.4060084124, -8674771.639489526 2089662.550358126, -8674774.48926849 2089642.2961580262, -8674779.743548455 2089603.1842521548, -8674785.654613417 2089565.7387512075, -8674787.602704505 2089540.5326054685, -8674794.927527 2089527.354544613, -8674801.406321364 2089518.799957626, -8674805.859100996 2089485.9663364764)))',\n",
       "   'MULTIPOLYGON (((-8718321.527476063 2070891.3085036245, -8718309.972512918 2070124.7210809567, -8718070.847114746 2070130.547636626, -8718086.465239303 2070896.1621956464, -8718321.527476063 2070891.3085036245)))',\n",
       "   'MULTIPOLYGON (((-8557115.965731738 2037534.4170329424, -8557132.685919255 2037509.345332454, -8556701.523267515 2036804.6814777583, -8556657.340561619 2036725.8641839137, -8556625.091305137 2036711.5263509527, -8556277.685438268 2036860.956320129, -8556208.077360675 2036890.943102022, -8555831.461259423 2037032.2046053784, -8555802.796490544 2037062.0628859724, -8555891.774159536 2037389.9098813583, -8555955.070422001 2037880.7771472936, -8555993.28640319 2037876.0015028024, -8556072.401165295 2037845.1705304075, -8557000.11553767 2037576.226677781, -8557115.965731738 2037534.4170329424)))',\n",
       "   'MULTIPOLYGON (((-8561147.222979631 2029080.0958636438, -8561113.960715782 2029107.1346549294, -8561093.166234903 2029080.0958636438, -8560951.757085748 2029181.991691713, -8560735.496710984 2028897.1081732332, -8560826.990200466 2028828.4882059232, -8560893.536992064 2028917.8989566888, -8560974.633241106 2028857.5975521994, -8561147.222979631 2029080.0958636438)))',\n",
       "   'MULTIPOLYGON (((-8583412.178673448 2031647.6631905665, -8583304.632913394 2031630.8247639462, -8583315.642411033 2031513.552932925, -8583383.669751858 2031525.2192387758, -8583412.178673448 2031647.6631905665)))']),\n",
       " ('JAM',\n",
       "  'P_1in10',\n",
       "  'waste_water',\n",
       "  'wastewater_treatment_plant',\n",
       "  'F18.3',\n",
       "  103): (39464595.7309347,\n",
       "  ['MULTIPOLYGON (((-8675097.916917041 2089635.630817368, -8675093.887151472 2089627.991494782, -8675079.014867503 2089618.28686028, -8675023.967379306 2089591.0270715489, -8674985.005557528 2089570.8902904582, -8674956.953045849 2089557.043331449, -8674942.503775943 2089555.236186653, -8674899.75709148 2089554.520369603, -8674862.197895287 2089553.077000875, -8674843.151130412 2089553.2882255607, -8674833.521994459 2089553.640266708, -8674829.892979058 2089560.3290496753, -8674812.482610699 2089678.6504668125, -8674811.73677011 2089690.3852480098, -8674817.903869899 2089697.8016332488, -8674860.260936147 2089720.1212141481, -8674907.671907274 2089744.3066554181, -8674918.570085423 2089747.9444487067, -8674925.694532834 2089747.510260441, -8675022.94323999 2089713.819626501, -8675064.955215817 2089699.7261387247, -8675072.747580172 2089694.4102795334, -8675079.371089876 2089678.439240814, -8675095.078270026 2089646.6849574796, -8675097.916917041 2089635.630817368)))',\n",
       "   'MULTIPOLYGON (((-8674472.312510733 2090344.8565454355, -8674485.75990522 2090315.014041281, -8674484.758029804 2090306.799439164, -8674474.28286572 2090301.4130090224, -8674380.1956321 2090289.4901099491, -8674268.308411906 2090272.3920278226, -8674260.605103143 2090273.5303348296, -8674253.792350305 2090282.3668852276, -8674211.067929737 2090416.1595380676, -8674198.822785752 2090444.629170775, -8674187.924607601 2090466.210258807, -8674160.885103289 2090547.934610236, -8674163.011305561 2090556.6069869103, -8674174.29910193 2090560.9842501679, -8674267.184085047 2090572.825162779, -8674356.217413783 2090584.231876057, -8674366.748237612 2090580.8169025779, -8674372.692698421 2090571.8511330353, -8674383.423897333 2090547.981551371, -8674444.337922696 2090403.6028703065, -8674472.312510733 2090344.8565454355)))',\n",
       "   'MULTIPOLYGON (((-8674752.614988549 2089739.4836466196, -8674753.917426592 2089727.924858937, -8674744.076783605 2089719.7809048959, -8674668.490849357 2089680.9739529477, -8674594.418860184 2089642.5895269436, -8674584.311050419 2089640.864517769, -8674576.084540049 2089648.1283329097, -8674539.861177744 2089708.668050726, -8674523.263441667 2089738.6152704614, -8674508.825303713 2089757.1680178589, -8674492.817560935 2089773.6085122693, -8674454.868746525 2089836.284353073, -8674411.99961062 2089910.237636606, -8674415.550702376 2089921.761324072, -8674429.54356237 2089927.0772432187, -8674587.327808619 2089952.7767396627, -8674633.091251284 2089961.6718241465, -8674647.05071543 2089962.3993905978, -8674657.0917335 2089951.8144748213, -8674674.001164151 2089911.0590805048, -8674704.2466698 2089843.9237545943, -8674752.614988549 2089739.4836466196)))',\n",
       "   'MULTIPOLYGON (((-8674887.500815542 2090498.1888031445, -8674878.11658247 2090423.8461002307, -8674873.608143093 2090385.8827263096, -8674866.338980343 2090373.373018142, -8674771.862128507 2090289.5135802159, -8674725.697935676 2090251.5504593423, -8674629.172805209 2090163.3026154228, -8674619.73291239 2090158.115719598, -8674611.684513206 2090161.718382393, -8674573.991733622 2090233.6544225253, -8674524.632671405 2090336.7475476023, -8674447.688639367 2090499.3623286728, -8674445.451117605 2090509.6306799592, -8674453.777815513 2090517.6223946952, -8674578.12168673 2090602.8323431427, -8674660.531505765 2090661.8493331287, -8674722.091184173 2090706.4906549319, -8674731.887299364 2090710.8914215064, -8674738.032135256 2090707.2065128963, -8674758.637373002 2090676.9996759978, -8674802.07423831 2090618.5342019082, -8674868.331599228 2090526.6350811964, -8674887.500815542 2090498.1888031445)))',\n",
       "   'MULTIPOLYGON (((-8674619.198578835 2090015.6408971518, -8674606.218726207 2090002.7558998584, -8674400.85652959 2089969.7924060223, -8674388.956476023 2089976.1058086422, -8674348.057695108 2090045.3773431096, -8674317.166536411 2090100.1798268727, -8674299.232966445 2090148.5751205839, -8674300.62446008 2090163.1383245839, -8674325.90511644 2090227.4113498142, -8674333.742008591 2090245.589023674, -8674345.230180042 2090251.374432673, -8674436.723669525 2090261.8421545974, -8674512.187152334 2090265.855565118, -8674520.959128208 2090258.6267327107, -8674557.037775174 2090177.431632538, -8674618.486134093 2090035.0505534324, -8674619.198578835 2090015.6408971518)))',\n",
       "   'MULTIPOLYGON (((-8674805.859100996 2089485.9663364764, -8674812.33789536 2089449.6827830186, -8674811.135644859 2089442.2547544152, -8674803.911009908 2089435.401725714, -8674784.697265796 2089423.6436236787, -8674763.535430595 2089410.1957429298, -8674746.336569268 2089397.0999095645, -8674732.28804953 2089390.4698538024, -8674724.428893479 2089393.6381987615, -8674717.749724032 2089402.321813426, -8674647.841083813 2089498.8040647553, -8674643.67773486 2089507.4407860036, -8674643.366040284 2089521.0060784775, -8674641.250969961 2089530.8749518348, -8674613.265249973 2089581.216842351, -8674611.98507583 2089590.05308925, -8674619.187446885 2089596.1668825324, -8674697.46731281 2089635.959390447, -8674759.082650965 2089668.3355997817, -8674766.4853971 2089668.4060084124, -8674771.639489526 2089662.550358126, -8674774.48926849 2089642.2961580262, -8674779.743548455 2089603.1842521548, -8674785.654613417 2089565.7387512075, -8674787.602704505 2089540.5326054685, -8674794.927527 2089527.354544613, -8674801.406321364 2089518.799957626, -8674805.859100996 2089485.9663364764)))',\n",
       "   'MULTIPOLYGON (((-8718321.527476063 2070891.3085036245, -8718309.972512918 2070124.7210809567, -8718070.847114746 2070130.547636626, -8718086.465239303 2070896.1621956464, -8718321.527476063 2070891.3085036245)))',\n",
       "   'MULTIPOLYGON (((-8557115.965731738 2037534.4170329424, -8557132.685919255 2037509.345332454, -8556701.523267515 2036804.6814777583, -8556657.340561619 2036725.8641839137, -8556625.091305137 2036711.5263509527, -8556277.685438268 2036860.956320129, -8556208.077360675 2036890.943102022, -8555831.461259423 2037032.2046053784, -8555802.796490544 2037062.0628859724, -8555891.774159536 2037389.9098813583, -8555955.070422001 2037880.7771472936, -8555993.28640319 2037876.0015028024, -8556072.401165295 2037845.1705304075, -8557000.11553767 2037576.226677781, -8557115.965731738 2037534.4170329424)))',\n",
       "   'MULTIPOLYGON (((-8561147.222979631 2029080.0958636438, -8561113.960715782 2029107.1346549294, -8561093.166234903 2029080.0958636438, -8560951.757085748 2029181.991691713, -8560735.496710984 2028897.1081732332, -8560826.990200466 2028828.4882059232, -8560893.536992064 2028917.8989566888, -8560974.633241106 2028857.5975521994, -8561147.222979631 2029080.0958636438)))',\n",
       "   'MULTIPOLYGON (((-8583412.178673448 2031647.6631905665, -8583304.632913394 2031630.8247639462, -8583315.642411033 2031513.552932925, -8583383.669751858 2031525.2192387758, -8583412.178673448 2031647.6631905665)))']),\n",
       " ('JAM',\n",
       "  'P_1in10',\n",
       "  'waste_water',\n",
       "  'wastewater_treatment_plant',\n",
       "  'F18.4',\n",
       "  102): (1190780.8859932153,\n",
       "  ['MULTIPOLYGON (((-8675097.916917041 2089635.630817368, -8675093.887151472 2089627.991494782, -8675079.014867503 2089618.28686028, -8675023.967379306 2089591.0270715489, -8674985.005557528 2089570.8902904582, -8674956.953045849 2089557.043331449, -8674942.503775943 2089555.236186653, -8674899.75709148 2089554.520369603, -8674862.197895287 2089553.077000875, -8674843.151130412 2089553.2882255607, -8674833.521994459 2089553.640266708, -8674829.892979058 2089560.3290496753, -8674812.482610699 2089678.6504668125, -8674811.73677011 2089690.3852480098, -8674817.903869899 2089697.8016332488, -8674860.260936147 2089720.1212141481, -8674907.671907274 2089744.3066554181, -8674918.570085423 2089747.9444487067, -8674925.694532834 2089747.510260441, -8675022.94323999 2089713.819626501, -8675064.955215817 2089699.7261387247, -8675072.747580172 2089694.4102795334, -8675079.371089876 2089678.439240814, -8675095.078270026 2089646.6849574796, -8675097.916917041 2089635.630817368)))',\n",
       "   'MULTIPOLYGON (((-8674472.312510733 2090344.8565454355, -8674485.75990522 2090315.014041281, -8674484.758029804 2090306.799439164, -8674474.28286572 2090301.4130090224, -8674380.1956321 2090289.4901099491, -8674268.308411906 2090272.3920278226, -8674260.605103143 2090273.5303348296, -8674253.792350305 2090282.3668852276, -8674211.067929737 2090416.1595380676, -8674198.822785752 2090444.629170775, -8674187.924607601 2090466.210258807, -8674160.885103289 2090547.934610236, -8674163.011305561 2090556.6069869103, -8674174.29910193 2090560.9842501679, -8674267.184085047 2090572.825162779, -8674356.217413783 2090584.231876057, -8674366.748237612 2090580.8169025779, -8674372.692698421 2090571.8511330353, -8674383.423897333 2090547.981551371, -8674444.337922696 2090403.6028703065, -8674472.312510733 2090344.8565454355)))',\n",
       "   'MULTIPOLYGON (((-8674752.614988549 2089739.4836466196, -8674753.917426592 2089727.924858937, -8674744.076783605 2089719.7809048959, -8674668.490849357 2089680.9739529477, -8674594.418860184 2089642.5895269436, -8674584.311050419 2089640.864517769, -8674576.084540049 2089648.1283329097, -8674539.861177744 2089708.668050726, -8674523.263441667 2089738.6152704614, -8674508.825303713 2089757.1680178589, -8674492.817560935 2089773.6085122693, -8674454.868746525 2089836.284353073, -8674411.99961062 2089910.237636606, -8674415.550702376 2089921.761324072, -8674429.54356237 2089927.0772432187, -8674587.327808619 2089952.7767396627, -8674633.091251284 2089961.6718241465, -8674647.05071543 2089962.3993905978, -8674657.0917335 2089951.8144748213, -8674674.001164151 2089911.0590805048, -8674704.2466698 2089843.9237545943, -8674752.614988549 2089739.4836466196)))',\n",
       "   'MULTIPOLYGON (((-8674887.500815542 2090498.1888031445, -8674878.11658247 2090423.8461002307, -8674873.608143093 2090385.8827263096, -8674866.338980343 2090373.373018142, -8674771.862128507 2090289.5135802159, -8674725.697935676 2090251.5504593423, -8674629.172805209 2090163.3026154228, -8674619.73291239 2090158.115719598, -8674611.684513206 2090161.718382393, -8674573.991733622 2090233.6544225253, -8674524.632671405 2090336.7475476023, -8674447.688639367 2090499.3623286728, -8674445.451117605 2090509.6306799592, -8674453.777815513 2090517.6223946952, -8674578.12168673 2090602.8323431427, -8674660.531505765 2090661.8493331287, -8674722.091184173 2090706.4906549319, -8674731.887299364 2090710.8914215064, -8674738.032135256 2090707.2065128963, -8674758.637373002 2090676.9996759978, -8674802.07423831 2090618.5342019082, -8674868.331599228 2090526.6350811964, -8674887.500815542 2090498.1888031445)))',\n",
       "   'MULTIPOLYGON (((-8674619.198578835 2090015.6408971518, -8674606.218726207 2090002.7558998584, -8674400.85652959 2089969.7924060223, -8674388.956476023 2089976.1058086422, -8674348.057695108 2090045.3773431096, -8674317.166536411 2090100.1798268727, -8674299.232966445 2090148.5751205839, -8674300.62446008 2090163.1383245839, -8674325.90511644 2090227.4113498142, -8674333.742008591 2090245.589023674, -8674345.230180042 2090251.374432673, -8674436.723669525 2090261.8421545974, -8674512.187152334 2090265.855565118, -8674520.959128208 2090258.6267327107, -8674557.037775174 2090177.431632538, -8674618.486134093 2090035.0505534324, -8674619.198578835 2090015.6408971518)))',\n",
       "   'MULTIPOLYGON (((-8674805.859100996 2089485.9663364764, -8674812.33789536 2089449.6827830186, -8674811.135644859 2089442.2547544152, -8674803.911009908 2089435.401725714, -8674784.697265796 2089423.6436236787, -8674763.535430595 2089410.1957429298, -8674746.336569268 2089397.0999095645, -8674732.28804953 2089390.4698538024, -8674724.428893479 2089393.6381987615, -8674717.749724032 2089402.321813426, -8674647.841083813 2089498.8040647553, -8674643.67773486 2089507.4407860036, -8674643.366040284 2089521.0060784775, -8674641.250969961 2089530.8749518348, -8674613.265249973 2089581.216842351, -8674611.98507583 2089590.05308925, -8674619.187446885 2089596.1668825324, -8674697.46731281 2089635.959390447, -8674759.082650965 2089668.3355997817, -8674766.4853971 2089668.4060084124, -8674771.639489526 2089662.550358126, -8674774.48926849 2089642.2961580262, -8674779.743548455 2089603.1842521548, -8674785.654613417 2089565.7387512075, -8674787.602704505 2089540.5326054685, -8674794.927527 2089527.354544613, -8674801.406321364 2089518.799957626, -8674805.859100996 2089485.9663364764)))',\n",
       "   'MULTIPOLYGON (((-8718321.527476063 2070891.3085036245, -8718309.972512918 2070124.7210809567, -8718070.847114746 2070130.547636626, -8718086.465239303 2070896.1621956464, -8718321.527476063 2070891.3085036245)))',\n",
       "   'MULTIPOLYGON (((-8557115.965731738 2037534.4170329424, -8557132.685919255 2037509.345332454, -8556701.523267515 2036804.6814777583, -8556657.340561619 2036725.8641839137, -8556625.091305137 2036711.5263509527, -8556277.685438268 2036860.956320129, -8556208.077360675 2036890.943102022, -8555831.461259423 2037032.2046053784, -8555802.796490544 2037062.0628859724, -8555891.774159536 2037389.9098813583, -8555955.070422001 2037880.7771472936, -8555993.28640319 2037876.0015028024, -8556072.401165295 2037845.1705304075, -8557000.11553767 2037576.226677781, -8557115.965731738 2037534.4170329424)))',\n",
       "   'MULTIPOLYGON (((-8561147.222979631 2029080.0958636438, -8561113.960715782 2029107.1346549294, -8561093.166234903 2029080.0958636438, -8560951.757085748 2029181.991691713, -8560735.496710984 2028897.1081732332, -8560826.990200466 2028828.4882059232, -8560893.536992064 2028917.8989566888, -8560974.633241106 2028857.5975521994, -8561147.222979631 2029080.0958636438)))',\n",
       "   'MULTIPOLYGON (((-8583412.178673448 2031647.6631905665, -8583304.632913394 2031630.8247639462, -8583315.642411033 2031513.552932925, -8583383.669751858 2031525.2192387758, -8583412.178673448 2031647.6631905665)))']),\n",
       " ('JAM',\n",
       "  'P_1in10',\n",
       "  'waste_water',\n",
       "  'wastewater_treatment_plant',\n",
       "  'F18.4',\n",
       "  103): (22847447.314585023,\n",
       "  ['MULTIPOLYGON (((-8675097.916917041 2089635.630817368, -8675093.887151472 2089627.991494782, -8675079.014867503 2089618.28686028, -8675023.967379306 2089591.0270715489, -8674985.005557528 2089570.8902904582, -8674956.953045849 2089557.043331449, -8674942.503775943 2089555.236186653, -8674899.75709148 2089554.520369603, -8674862.197895287 2089553.077000875, -8674843.151130412 2089553.2882255607, -8674833.521994459 2089553.640266708, -8674829.892979058 2089560.3290496753, -8674812.482610699 2089678.6504668125, -8674811.73677011 2089690.3852480098, -8674817.903869899 2089697.8016332488, -8674860.260936147 2089720.1212141481, -8674907.671907274 2089744.3066554181, -8674918.570085423 2089747.9444487067, -8674925.694532834 2089747.510260441, -8675022.94323999 2089713.819626501, -8675064.955215817 2089699.7261387247, -8675072.747580172 2089694.4102795334, -8675079.371089876 2089678.439240814, -8675095.078270026 2089646.6849574796, -8675097.916917041 2089635.630817368)))',\n",
       "   'MULTIPOLYGON (((-8674472.312510733 2090344.8565454355, -8674485.75990522 2090315.014041281, -8674484.758029804 2090306.799439164, -8674474.28286572 2090301.4130090224, -8674380.1956321 2090289.4901099491, -8674268.308411906 2090272.3920278226, -8674260.605103143 2090273.5303348296, -8674253.792350305 2090282.3668852276, -8674211.067929737 2090416.1595380676, -8674198.822785752 2090444.629170775, -8674187.924607601 2090466.210258807, -8674160.885103289 2090547.934610236, -8674163.011305561 2090556.6069869103, -8674174.29910193 2090560.9842501679, -8674267.184085047 2090572.825162779, -8674356.217413783 2090584.231876057, -8674366.748237612 2090580.8169025779, -8674372.692698421 2090571.8511330353, -8674383.423897333 2090547.981551371, -8674444.337922696 2090403.6028703065, -8674472.312510733 2090344.8565454355)))',\n",
       "   'MULTIPOLYGON (((-8674752.614988549 2089739.4836466196, -8674753.917426592 2089727.924858937, -8674744.076783605 2089719.7809048959, -8674668.490849357 2089680.9739529477, -8674594.418860184 2089642.5895269436, -8674584.311050419 2089640.864517769, -8674576.084540049 2089648.1283329097, -8674539.861177744 2089708.668050726, -8674523.263441667 2089738.6152704614, -8674508.825303713 2089757.1680178589, -8674492.817560935 2089773.6085122693, -8674454.868746525 2089836.284353073, -8674411.99961062 2089910.237636606, -8674415.550702376 2089921.761324072, -8674429.54356237 2089927.0772432187, -8674587.327808619 2089952.7767396627, -8674633.091251284 2089961.6718241465, -8674647.05071543 2089962.3993905978, -8674657.0917335 2089951.8144748213, -8674674.001164151 2089911.0590805048, -8674704.2466698 2089843.9237545943, -8674752.614988549 2089739.4836466196)))',\n",
       "   'MULTIPOLYGON (((-8674887.500815542 2090498.1888031445, -8674878.11658247 2090423.8461002307, -8674873.608143093 2090385.8827263096, -8674866.338980343 2090373.373018142, -8674771.862128507 2090289.5135802159, -8674725.697935676 2090251.5504593423, -8674629.172805209 2090163.3026154228, -8674619.73291239 2090158.115719598, -8674611.684513206 2090161.718382393, -8674573.991733622 2090233.6544225253, -8674524.632671405 2090336.7475476023, -8674447.688639367 2090499.3623286728, -8674445.451117605 2090509.6306799592, -8674453.777815513 2090517.6223946952, -8674578.12168673 2090602.8323431427, -8674660.531505765 2090661.8493331287, -8674722.091184173 2090706.4906549319, -8674731.887299364 2090710.8914215064, -8674738.032135256 2090707.2065128963, -8674758.637373002 2090676.9996759978, -8674802.07423831 2090618.5342019082, -8674868.331599228 2090526.6350811964, -8674887.500815542 2090498.1888031445)))',\n",
       "   'MULTIPOLYGON (((-8674619.198578835 2090015.6408971518, -8674606.218726207 2090002.7558998584, -8674400.85652959 2089969.7924060223, -8674388.956476023 2089976.1058086422, -8674348.057695108 2090045.3773431096, -8674317.166536411 2090100.1798268727, -8674299.232966445 2090148.5751205839, -8674300.62446008 2090163.1383245839, -8674325.90511644 2090227.4113498142, -8674333.742008591 2090245.589023674, -8674345.230180042 2090251.374432673, -8674436.723669525 2090261.8421545974, -8674512.187152334 2090265.855565118, -8674520.959128208 2090258.6267327107, -8674557.037775174 2090177.431632538, -8674618.486134093 2090035.0505534324, -8674619.198578835 2090015.6408971518)))',\n",
       "   'MULTIPOLYGON (((-8674805.859100996 2089485.9663364764, -8674812.33789536 2089449.6827830186, -8674811.135644859 2089442.2547544152, -8674803.911009908 2089435.401725714, -8674784.697265796 2089423.6436236787, -8674763.535430595 2089410.1957429298, -8674746.336569268 2089397.0999095645, -8674732.28804953 2089390.4698538024, -8674724.428893479 2089393.6381987615, -8674717.749724032 2089402.321813426, -8674647.841083813 2089498.8040647553, -8674643.67773486 2089507.4407860036, -8674643.366040284 2089521.0060784775, -8674641.250969961 2089530.8749518348, -8674613.265249973 2089581.216842351, -8674611.98507583 2089590.05308925, -8674619.187446885 2089596.1668825324, -8674697.46731281 2089635.959390447, -8674759.082650965 2089668.3355997817, -8674766.4853971 2089668.4060084124, -8674771.639489526 2089662.550358126, -8674774.48926849 2089642.2961580262, -8674779.743548455 2089603.1842521548, -8674785.654613417 2089565.7387512075, -8674787.602704505 2089540.5326054685, -8674794.927527 2089527.354544613, -8674801.406321364 2089518.799957626, -8674805.859100996 2089485.9663364764)))',\n",
       "   'MULTIPOLYGON (((-8718321.527476063 2070891.3085036245, -8718309.972512918 2070124.7210809567, -8718070.847114746 2070130.547636626, -8718086.465239303 2070896.1621956464, -8718321.527476063 2070891.3085036245)))',\n",
       "   'MULTIPOLYGON (((-8557115.965731738 2037534.4170329424, -8557132.685919255 2037509.345332454, -8556701.523267515 2036804.6814777583, -8556657.340561619 2036725.8641839137, -8556625.091305137 2036711.5263509527, -8556277.685438268 2036860.956320129, -8556208.077360675 2036890.943102022, -8555831.461259423 2037032.2046053784, -8555802.796490544 2037062.0628859724, -8555891.774159536 2037389.9098813583, -8555955.070422001 2037880.7771472936, -8555993.28640319 2037876.0015028024, -8556072.401165295 2037845.1705304075, -8557000.11553767 2037576.226677781, -8557115.965731738 2037534.4170329424)))',\n",
       "   'MULTIPOLYGON (((-8561147.222979631 2029080.0958636438, -8561113.960715782 2029107.1346549294, -8561093.166234903 2029080.0958636438, -8560951.757085748 2029181.991691713, -8560735.496710984 2028897.1081732332, -8560826.990200466 2028828.4882059232, -8560893.536992064 2028917.8989566888, -8560974.633241106 2028857.5975521994, -8561147.222979631 2029080.0958636438)))',\n",
       "   'MULTIPOLYGON (((-8583412.178673448 2031647.6631905665, -8583304.632913394 2031630.8247639462, -8583315.642411033 2031513.552932925, -8583383.669751858 2031525.2192387758, -8583412.178673448 2031647.6631905665)))']),\n",
       " ('JAM',\n",
       "  'P_1in10',\n",
       "  'waste_water',\n",
       "  'wastewater_treatment_plant',\n",
       "  'F18.5',\n",
       "  102): (3395614.7200173475,\n",
       "  ['MULTIPOLYGON (((-8675097.916917041 2089635.630817368, -8675093.887151472 2089627.991494782, -8675079.014867503 2089618.28686028, -8675023.967379306 2089591.0270715489, -8674985.005557528 2089570.8902904582, -8674956.953045849 2089557.043331449, -8674942.503775943 2089555.236186653, -8674899.75709148 2089554.520369603, -8674862.197895287 2089553.077000875, -8674843.151130412 2089553.2882255607, -8674833.521994459 2089553.640266708, -8674829.892979058 2089560.3290496753, -8674812.482610699 2089678.6504668125, -8674811.73677011 2089690.3852480098, -8674817.903869899 2089697.8016332488, -8674860.260936147 2089720.1212141481, -8674907.671907274 2089744.3066554181, -8674918.570085423 2089747.9444487067, -8674925.694532834 2089747.510260441, -8675022.94323999 2089713.819626501, -8675064.955215817 2089699.7261387247, -8675072.747580172 2089694.4102795334, -8675079.371089876 2089678.439240814, -8675095.078270026 2089646.6849574796, -8675097.916917041 2089635.630817368)))',\n",
       "   'MULTIPOLYGON (((-8674472.312510733 2090344.8565454355, -8674485.75990522 2090315.014041281, -8674484.758029804 2090306.799439164, -8674474.28286572 2090301.4130090224, -8674380.1956321 2090289.4901099491, -8674268.308411906 2090272.3920278226, -8674260.605103143 2090273.5303348296, -8674253.792350305 2090282.3668852276, -8674211.067929737 2090416.1595380676, -8674198.822785752 2090444.629170775, -8674187.924607601 2090466.210258807, -8674160.885103289 2090547.934610236, -8674163.011305561 2090556.6069869103, -8674174.29910193 2090560.9842501679, -8674267.184085047 2090572.825162779, -8674356.217413783 2090584.231876057, -8674366.748237612 2090580.8169025779, -8674372.692698421 2090571.8511330353, -8674383.423897333 2090547.981551371, -8674444.337922696 2090403.6028703065, -8674472.312510733 2090344.8565454355)))',\n",
       "   'MULTIPOLYGON (((-8674752.614988549 2089739.4836466196, -8674753.917426592 2089727.924858937, -8674744.076783605 2089719.7809048959, -8674668.490849357 2089680.9739529477, -8674594.418860184 2089642.5895269436, -8674584.311050419 2089640.864517769, -8674576.084540049 2089648.1283329097, -8674539.861177744 2089708.668050726, -8674523.263441667 2089738.6152704614, -8674508.825303713 2089757.1680178589, -8674492.817560935 2089773.6085122693, -8674454.868746525 2089836.284353073, -8674411.99961062 2089910.237636606, -8674415.550702376 2089921.761324072, -8674429.54356237 2089927.0772432187, -8674587.327808619 2089952.7767396627, -8674633.091251284 2089961.6718241465, -8674647.05071543 2089962.3993905978, -8674657.0917335 2089951.8144748213, -8674674.001164151 2089911.0590805048, -8674704.2466698 2089843.9237545943, -8674752.614988549 2089739.4836466196)))',\n",
       "   'MULTIPOLYGON (((-8674887.500815542 2090498.1888031445, -8674878.11658247 2090423.8461002307, -8674873.608143093 2090385.8827263096, -8674866.338980343 2090373.373018142, -8674771.862128507 2090289.5135802159, -8674725.697935676 2090251.5504593423, -8674629.172805209 2090163.3026154228, -8674619.73291239 2090158.115719598, -8674611.684513206 2090161.718382393, -8674573.991733622 2090233.6544225253, -8674524.632671405 2090336.7475476023, -8674447.688639367 2090499.3623286728, -8674445.451117605 2090509.6306799592, -8674453.777815513 2090517.6223946952, -8674578.12168673 2090602.8323431427, -8674660.531505765 2090661.8493331287, -8674722.091184173 2090706.4906549319, -8674731.887299364 2090710.8914215064, -8674738.032135256 2090707.2065128963, -8674758.637373002 2090676.9996759978, -8674802.07423831 2090618.5342019082, -8674868.331599228 2090526.6350811964, -8674887.500815542 2090498.1888031445)))',\n",
       "   'MULTIPOLYGON (((-8674619.198578835 2090015.6408971518, -8674606.218726207 2090002.7558998584, -8674400.85652959 2089969.7924060223, -8674388.956476023 2089976.1058086422, -8674348.057695108 2090045.3773431096, -8674317.166536411 2090100.1798268727, -8674299.232966445 2090148.5751205839, -8674300.62446008 2090163.1383245839, -8674325.90511644 2090227.4113498142, -8674333.742008591 2090245.589023674, -8674345.230180042 2090251.374432673, -8674436.723669525 2090261.8421545974, -8674512.187152334 2090265.855565118, -8674520.959128208 2090258.6267327107, -8674557.037775174 2090177.431632538, -8674618.486134093 2090035.0505534324, -8674619.198578835 2090015.6408971518)))',\n",
       "   'MULTIPOLYGON (((-8674805.859100996 2089485.9663364764, -8674812.33789536 2089449.6827830186, -8674811.135644859 2089442.2547544152, -8674803.911009908 2089435.401725714, -8674784.697265796 2089423.6436236787, -8674763.535430595 2089410.1957429298, -8674746.336569268 2089397.0999095645, -8674732.28804953 2089390.4698538024, -8674724.428893479 2089393.6381987615, -8674717.749724032 2089402.321813426, -8674647.841083813 2089498.8040647553, -8674643.67773486 2089507.4407860036, -8674643.366040284 2089521.0060784775, -8674641.250969961 2089530.8749518348, -8674613.265249973 2089581.216842351, -8674611.98507583 2089590.05308925, -8674619.187446885 2089596.1668825324, -8674697.46731281 2089635.959390447, -8674759.082650965 2089668.3355997817, -8674766.4853971 2089668.4060084124, -8674771.639489526 2089662.550358126, -8674774.48926849 2089642.2961580262, -8674779.743548455 2089603.1842521548, -8674785.654613417 2089565.7387512075, -8674787.602704505 2089540.5326054685, -8674794.927527 2089527.354544613, -8674801.406321364 2089518.799957626, -8674805.859100996 2089485.9663364764)))',\n",
       "   'MULTIPOLYGON (((-8718321.527476063 2070891.3085036245, -8718309.972512918 2070124.7210809567, -8718070.847114746 2070130.547636626, -8718086.465239303 2070896.1621956464, -8718321.527476063 2070891.3085036245)))',\n",
       "   'MULTIPOLYGON (((-8557115.965731738 2037534.4170329424, -8557132.685919255 2037509.345332454, -8556701.523267515 2036804.6814777583, -8556657.340561619 2036725.8641839137, -8556625.091305137 2036711.5263509527, -8556277.685438268 2036860.956320129, -8556208.077360675 2036890.943102022, -8555831.461259423 2037032.2046053784, -8555802.796490544 2037062.0628859724, -8555891.774159536 2037389.9098813583, -8555955.070422001 2037880.7771472936, -8555993.28640319 2037876.0015028024, -8556072.401165295 2037845.1705304075, -8557000.11553767 2037576.226677781, -8557115.965731738 2037534.4170329424)))',\n",
       "   'MULTIPOLYGON (((-8561147.222979631 2029080.0958636438, -8561113.960715782 2029107.1346549294, -8561093.166234903 2029080.0958636438, -8560951.757085748 2029181.991691713, -8560735.496710984 2028897.1081732332, -8560826.990200466 2028828.4882059232, -8560893.536992064 2028917.8989566888, -8560974.633241106 2028857.5975521994, -8561147.222979631 2029080.0958636438)))',\n",
       "   'MULTIPOLYGON (((-8583412.178673448 2031647.6631905665, -8583304.632913394 2031630.8247639462, -8583315.642411033 2031513.552932925, -8583383.669751858 2031525.2192387758, -8583412.178673448 2031647.6631905665)))']),\n",
       " ('JAM',\n",
       "  'P_1in10',\n",
       "  'waste_water',\n",
       "  'wastewater_treatment_plant',\n",
       "  'F18.5',\n",
       "  103): (65151472.72582922,\n",
       "  ['MULTIPOLYGON (((-8675097.916917041 2089635.630817368, -8675093.887151472 2089627.991494782, -8675079.014867503 2089618.28686028, -8675023.967379306 2089591.0270715489, -8674985.005557528 2089570.8902904582, -8674956.953045849 2089557.043331449, -8674942.503775943 2089555.236186653, -8674899.75709148 2089554.520369603, -8674862.197895287 2089553.077000875, -8674843.151130412 2089553.2882255607, -8674833.521994459 2089553.640266708, -8674829.892979058 2089560.3290496753, -8674812.482610699 2089678.6504668125, -8674811.73677011 2089690.3852480098, -8674817.903869899 2089697.8016332488, -8674860.260936147 2089720.1212141481, -8674907.671907274 2089744.3066554181, -8674918.570085423 2089747.9444487067, -8674925.694532834 2089747.510260441, -8675022.94323999 2089713.819626501, -8675064.955215817 2089699.7261387247, -8675072.747580172 2089694.4102795334, -8675079.371089876 2089678.439240814, -8675095.078270026 2089646.6849574796, -8675097.916917041 2089635.630817368)))',\n",
       "   'MULTIPOLYGON (((-8674472.312510733 2090344.8565454355, -8674485.75990522 2090315.014041281, -8674484.758029804 2090306.799439164, -8674474.28286572 2090301.4130090224, -8674380.1956321 2090289.4901099491, -8674268.308411906 2090272.3920278226, -8674260.605103143 2090273.5303348296, -8674253.792350305 2090282.3668852276, -8674211.067929737 2090416.1595380676, -8674198.822785752 2090444.629170775, -8674187.924607601 2090466.210258807, -8674160.885103289 2090547.934610236, -8674163.011305561 2090556.6069869103, -8674174.29910193 2090560.9842501679, -8674267.184085047 2090572.825162779, -8674356.217413783 2090584.231876057, -8674366.748237612 2090580.8169025779, -8674372.692698421 2090571.8511330353, -8674383.423897333 2090547.981551371, -8674444.337922696 2090403.6028703065, -8674472.312510733 2090344.8565454355)))',\n",
       "   'MULTIPOLYGON (((-8674752.614988549 2089739.4836466196, -8674753.917426592 2089727.924858937, -8674744.076783605 2089719.7809048959, -8674668.490849357 2089680.9739529477, -8674594.418860184 2089642.5895269436, -8674584.311050419 2089640.864517769, -8674576.084540049 2089648.1283329097, -8674539.861177744 2089708.668050726, -8674523.263441667 2089738.6152704614, -8674508.825303713 2089757.1680178589, -8674492.817560935 2089773.6085122693, -8674454.868746525 2089836.284353073, -8674411.99961062 2089910.237636606, -8674415.550702376 2089921.761324072, -8674429.54356237 2089927.0772432187, -8674587.327808619 2089952.7767396627, -8674633.091251284 2089961.6718241465, -8674647.05071543 2089962.3993905978, -8674657.0917335 2089951.8144748213, -8674674.001164151 2089911.0590805048, -8674704.2466698 2089843.9237545943, -8674752.614988549 2089739.4836466196)))',\n",
       "   'MULTIPOLYGON (((-8674887.500815542 2090498.1888031445, -8674878.11658247 2090423.8461002307, -8674873.608143093 2090385.8827263096, -8674866.338980343 2090373.373018142, -8674771.862128507 2090289.5135802159, -8674725.697935676 2090251.5504593423, -8674629.172805209 2090163.3026154228, -8674619.73291239 2090158.115719598, -8674611.684513206 2090161.718382393, -8674573.991733622 2090233.6544225253, -8674524.632671405 2090336.7475476023, -8674447.688639367 2090499.3623286728, -8674445.451117605 2090509.6306799592, -8674453.777815513 2090517.6223946952, -8674578.12168673 2090602.8323431427, -8674660.531505765 2090661.8493331287, -8674722.091184173 2090706.4906549319, -8674731.887299364 2090710.8914215064, -8674738.032135256 2090707.2065128963, -8674758.637373002 2090676.9996759978, -8674802.07423831 2090618.5342019082, -8674868.331599228 2090526.6350811964, -8674887.500815542 2090498.1888031445)))',\n",
       "   'MULTIPOLYGON (((-8674619.198578835 2090015.6408971518, -8674606.218726207 2090002.7558998584, -8674400.85652959 2089969.7924060223, -8674388.956476023 2089976.1058086422, -8674348.057695108 2090045.3773431096, -8674317.166536411 2090100.1798268727, -8674299.232966445 2090148.5751205839, -8674300.62446008 2090163.1383245839, -8674325.90511644 2090227.4113498142, -8674333.742008591 2090245.589023674, -8674345.230180042 2090251.374432673, -8674436.723669525 2090261.8421545974, -8674512.187152334 2090265.855565118, -8674520.959128208 2090258.6267327107, -8674557.037775174 2090177.431632538, -8674618.486134093 2090035.0505534324, -8674619.198578835 2090015.6408971518)))',\n",
       "   'MULTIPOLYGON (((-8674805.859100996 2089485.9663364764, -8674812.33789536 2089449.6827830186, -8674811.135644859 2089442.2547544152, -8674803.911009908 2089435.401725714, -8674784.697265796 2089423.6436236787, -8674763.535430595 2089410.1957429298, -8674746.336569268 2089397.0999095645, -8674732.28804953 2089390.4698538024, -8674724.428893479 2089393.6381987615, -8674717.749724032 2089402.321813426, -8674647.841083813 2089498.8040647553, -8674643.67773486 2089507.4407860036, -8674643.366040284 2089521.0060784775, -8674641.250969961 2089530.8749518348, -8674613.265249973 2089581.216842351, -8674611.98507583 2089590.05308925, -8674619.187446885 2089596.1668825324, -8674697.46731281 2089635.959390447, -8674759.082650965 2089668.3355997817, -8674766.4853971 2089668.4060084124, -8674771.639489526 2089662.550358126, -8674774.48926849 2089642.2961580262, -8674779.743548455 2089603.1842521548, -8674785.654613417 2089565.7387512075, -8674787.602704505 2089540.5326054685, -8674794.927527 2089527.354544613, -8674801.406321364 2089518.799957626, -8674805.859100996 2089485.9663364764)))',\n",
       "   'MULTIPOLYGON (((-8718321.527476063 2070891.3085036245, -8718309.972512918 2070124.7210809567, -8718070.847114746 2070130.547636626, -8718086.465239303 2070896.1621956464, -8718321.527476063 2070891.3085036245)))',\n",
       "   'MULTIPOLYGON (((-8557115.965731738 2037534.4170329424, -8557132.685919255 2037509.345332454, -8556701.523267515 2036804.6814777583, -8556657.340561619 2036725.8641839137, -8556625.091305137 2036711.5263509527, -8556277.685438268 2036860.956320129, -8556208.077360675 2036890.943102022, -8555831.461259423 2037032.2046053784, -8555802.796490544 2037062.0628859724, -8555891.774159536 2037389.9098813583, -8555955.070422001 2037880.7771472936, -8555993.28640319 2037876.0015028024, -8556072.401165295 2037845.1705304075, -8557000.11553767 2037576.226677781, -8557115.965731738 2037534.4170329424)))',\n",
       "   'MULTIPOLYGON (((-8561147.222979631 2029080.0958636438, -8561113.960715782 2029107.1346549294, -8561093.166234903 2029080.0958636438, -8560951.757085748 2029181.991691713, -8560735.496710984 2028897.1081732332, -8560826.990200466 2028828.4882059232, -8560893.536992064 2028917.8989566888, -8560974.633241106 2028857.5975521994, -8561147.222979631 2029080.0958636438)))',\n",
       "   'MULTIPOLYGON (((-8583412.178673448 2031647.6631905665, -8583304.632913394 2031630.8247639462, -8583315.642411033 2031513.552932925, -8583383.669751858 2031525.2192387758, -8583412.178673448 2031647.6631905665)))']),\n",
       " ('JAM',\n",
       "  'P_1in10',\n",
       "  'waste_water',\n",
       "  'wastewater_treatment_plant',\n",
       "  'F18.6',\n",
       "  102): (7987251.460967692,\n",
       "  ['MULTIPOLYGON (((-8675097.916917041 2089635.630817368, -8675093.887151472 2089627.991494782, -8675079.014867503 2089618.28686028, -8675023.967379306 2089591.0270715489, -8674985.005557528 2089570.8902904582, -8674956.953045849 2089557.043331449, -8674942.503775943 2089555.236186653, -8674899.75709148 2089554.520369603, -8674862.197895287 2089553.077000875, -8674843.151130412 2089553.2882255607, -8674833.521994459 2089553.640266708, -8674829.892979058 2089560.3290496753, -8674812.482610699 2089678.6504668125, -8674811.73677011 2089690.3852480098, -8674817.903869899 2089697.8016332488, -8674860.260936147 2089720.1212141481, -8674907.671907274 2089744.3066554181, -8674918.570085423 2089747.9444487067, -8674925.694532834 2089747.510260441, -8675022.94323999 2089713.819626501, -8675064.955215817 2089699.7261387247, -8675072.747580172 2089694.4102795334, -8675079.371089876 2089678.439240814, -8675095.078270026 2089646.6849574796, -8675097.916917041 2089635.630817368)))',\n",
       "   'MULTIPOLYGON (((-8674472.312510733 2090344.8565454355, -8674485.75990522 2090315.014041281, -8674484.758029804 2090306.799439164, -8674474.28286572 2090301.4130090224, -8674380.1956321 2090289.4901099491, -8674268.308411906 2090272.3920278226, -8674260.605103143 2090273.5303348296, -8674253.792350305 2090282.3668852276, -8674211.067929737 2090416.1595380676, -8674198.822785752 2090444.629170775, -8674187.924607601 2090466.210258807, -8674160.885103289 2090547.934610236, -8674163.011305561 2090556.6069869103, -8674174.29910193 2090560.9842501679, -8674267.184085047 2090572.825162779, -8674356.217413783 2090584.231876057, -8674366.748237612 2090580.8169025779, -8674372.692698421 2090571.8511330353, -8674383.423897333 2090547.981551371, -8674444.337922696 2090403.6028703065, -8674472.312510733 2090344.8565454355)))',\n",
       "   'MULTIPOLYGON (((-8674752.614988549 2089739.4836466196, -8674753.917426592 2089727.924858937, -8674744.076783605 2089719.7809048959, -8674668.490849357 2089680.9739529477, -8674594.418860184 2089642.5895269436, -8674584.311050419 2089640.864517769, -8674576.084540049 2089648.1283329097, -8674539.861177744 2089708.668050726, -8674523.263441667 2089738.6152704614, -8674508.825303713 2089757.1680178589, -8674492.817560935 2089773.6085122693, -8674454.868746525 2089836.284353073, -8674411.99961062 2089910.237636606, -8674415.550702376 2089921.761324072, -8674429.54356237 2089927.0772432187, -8674587.327808619 2089952.7767396627, -8674633.091251284 2089961.6718241465, -8674647.05071543 2089962.3993905978, -8674657.0917335 2089951.8144748213, -8674674.001164151 2089911.0590805048, -8674704.2466698 2089843.9237545943, -8674752.614988549 2089739.4836466196)))',\n",
       "   'MULTIPOLYGON (((-8674887.500815542 2090498.1888031445, -8674878.11658247 2090423.8461002307, -8674873.608143093 2090385.8827263096, -8674866.338980343 2090373.373018142, -8674771.862128507 2090289.5135802159, -8674725.697935676 2090251.5504593423, -8674629.172805209 2090163.3026154228, -8674619.73291239 2090158.115719598, -8674611.684513206 2090161.718382393, -8674573.991733622 2090233.6544225253, -8674524.632671405 2090336.7475476023, -8674447.688639367 2090499.3623286728, -8674445.451117605 2090509.6306799592, -8674453.777815513 2090517.6223946952, -8674578.12168673 2090602.8323431427, -8674660.531505765 2090661.8493331287, -8674722.091184173 2090706.4906549319, -8674731.887299364 2090710.8914215064, -8674738.032135256 2090707.2065128963, -8674758.637373002 2090676.9996759978, -8674802.07423831 2090618.5342019082, -8674868.331599228 2090526.6350811964, -8674887.500815542 2090498.1888031445)))',\n",
       "   'MULTIPOLYGON (((-8674619.198578835 2090015.6408971518, -8674606.218726207 2090002.7558998584, -8674400.85652959 2089969.7924060223, -8674388.956476023 2089976.1058086422, -8674348.057695108 2090045.3773431096, -8674317.166536411 2090100.1798268727, -8674299.232966445 2090148.5751205839, -8674300.62446008 2090163.1383245839, -8674325.90511644 2090227.4113498142, -8674333.742008591 2090245.589023674, -8674345.230180042 2090251.374432673, -8674436.723669525 2090261.8421545974, -8674512.187152334 2090265.855565118, -8674520.959128208 2090258.6267327107, -8674557.037775174 2090177.431632538, -8674618.486134093 2090035.0505534324, -8674619.198578835 2090015.6408971518)))',\n",
       "   'MULTIPOLYGON (((-8674805.859100996 2089485.9663364764, -8674812.33789536 2089449.6827830186, -8674811.135644859 2089442.2547544152, -8674803.911009908 2089435.401725714, -8674784.697265796 2089423.6436236787, -8674763.535430595 2089410.1957429298, -8674746.336569268 2089397.0999095645, -8674732.28804953 2089390.4698538024, -8674724.428893479 2089393.6381987615, -8674717.749724032 2089402.321813426, -8674647.841083813 2089498.8040647553, -8674643.67773486 2089507.4407860036, -8674643.366040284 2089521.0060784775, -8674641.250969961 2089530.8749518348, -8674613.265249973 2089581.216842351, -8674611.98507583 2089590.05308925, -8674619.187446885 2089596.1668825324, -8674697.46731281 2089635.959390447, -8674759.082650965 2089668.3355997817, -8674766.4853971 2089668.4060084124, -8674771.639489526 2089662.550358126, -8674774.48926849 2089642.2961580262, -8674779.743548455 2089603.1842521548, -8674785.654613417 2089565.7387512075, -8674787.602704505 2089540.5326054685, -8674794.927527 2089527.354544613, -8674801.406321364 2089518.799957626, -8674805.859100996 2089485.9663364764)))',\n",
       "   'MULTIPOLYGON (((-8718321.527476063 2070891.3085036245, -8718309.972512918 2070124.7210809567, -8718070.847114746 2070130.547636626, -8718086.465239303 2070896.1621956464, -8718321.527476063 2070891.3085036245)))',\n",
       "   'MULTIPOLYGON (((-8557115.965731738 2037534.4170329424, -8557132.685919255 2037509.345332454, -8556701.523267515 2036804.6814777583, -8556657.340561619 2036725.8641839137, -8556625.091305137 2036711.5263509527, -8556277.685438268 2036860.956320129, -8556208.077360675 2036890.943102022, -8555831.461259423 2037032.2046053784, -8555802.796490544 2037062.0628859724, -8555891.774159536 2037389.9098813583, -8555955.070422001 2037880.7771472936, -8555993.28640319 2037876.0015028024, -8556072.401165295 2037845.1705304075, -8557000.11553767 2037576.226677781, -8557115.965731738 2037534.4170329424)))',\n",
       "   'MULTIPOLYGON (((-8561147.222979631 2029080.0958636438, -8561113.960715782 2029107.1346549294, -8561093.166234903 2029080.0958636438, -8560951.757085748 2029181.991691713, -8560735.496710984 2028897.1081732332, -8560826.990200466 2028828.4882059232, -8560893.536992064 2028917.8989566888, -8560974.633241106 2028857.5975521994, -8561147.222979631 2029080.0958636438)))',\n",
       "   'MULTIPOLYGON (((-8583412.178673448 2031647.6631905665, -8583304.632913394 2031630.8247639462, -8583315.642411033 2031513.552932925, -8583383.669751858 2031525.2192387758, -8583412.178673448 2031647.6631905665)))']),\n",
       " ('JAM',\n",
       "  'P_1in10',\n",
       "  'waste_water',\n",
       "  'wastewater_treatment_plant',\n",
       "  'F18.6',\n",
       "  103): (153250954.13384166,\n",
       "  ['MULTIPOLYGON (((-8675097.916917041 2089635.630817368, -8675093.887151472 2089627.991494782, -8675079.014867503 2089618.28686028, -8675023.967379306 2089591.0270715489, -8674985.005557528 2089570.8902904582, -8674956.953045849 2089557.043331449, -8674942.503775943 2089555.236186653, -8674899.75709148 2089554.520369603, -8674862.197895287 2089553.077000875, -8674843.151130412 2089553.2882255607, -8674833.521994459 2089553.640266708, -8674829.892979058 2089560.3290496753, -8674812.482610699 2089678.6504668125, -8674811.73677011 2089690.3852480098, -8674817.903869899 2089697.8016332488, -8674860.260936147 2089720.1212141481, -8674907.671907274 2089744.3066554181, -8674918.570085423 2089747.9444487067, -8674925.694532834 2089747.510260441, -8675022.94323999 2089713.819626501, -8675064.955215817 2089699.7261387247, -8675072.747580172 2089694.4102795334, -8675079.371089876 2089678.439240814, -8675095.078270026 2089646.6849574796, -8675097.916917041 2089635.630817368)))',\n",
       "   'MULTIPOLYGON (((-8674472.312510733 2090344.8565454355, -8674485.75990522 2090315.014041281, -8674484.758029804 2090306.799439164, -8674474.28286572 2090301.4130090224, -8674380.1956321 2090289.4901099491, -8674268.308411906 2090272.3920278226, -8674260.605103143 2090273.5303348296, -8674253.792350305 2090282.3668852276, -8674211.067929737 2090416.1595380676, -8674198.822785752 2090444.629170775, -8674187.924607601 2090466.210258807, -8674160.885103289 2090547.934610236, -8674163.011305561 2090556.6069869103, -8674174.29910193 2090560.9842501679, -8674267.184085047 2090572.825162779, -8674356.217413783 2090584.231876057, -8674366.748237612 2090580.8169025779, -8674372.692698421 2090571.8511330353, -8674383.423897333 2090547.981551371, -8674444.337922696 2090403.6028703065, -8674472.312510733 2090344.8565454355)))',\n",
       "   'MULTIPOLYGON (((-8674752.614988549 2089739.4836466196, -8674753.917426592 2089727.924858937, -8674744.076783605 2089719.7809048959, -8674668.490849357 2089680.9739529477, -8674594.418860184 2089642.5895269436, -8674584.311050419 2089640.864517769, -8674576.084540049 2089648.1283329097, -8674539.861177744 2089708.668050726, -8674523.263441667 2089738.6152704614, -8674508.825303713 2089757.1680178589, -8674492.817560935 2089773.6085122693, -8674454.868746525 2089836.284353073, -8674411.99961062 2089910.237636606, -8674415.550702376 2089921.761324072, -8674429.54356237 2089927.0772432187, -8674587.327808619 2089952.7767396627, -8674633.091251284 2089961.6718241465, -8674647.05071543 2089962.3993905978, -8674657.0917335 2089951.8144748213, -8674674.001164151 2089911.0590805048, -8674704.2466698 2089843.9237545943, -8674752.614988549 2089739.4836466196)))',\n",
       "   'MULTIPOLYGON (((-8674887.500815542 2090498.1888031445, -8674878.11658247 2090423.8461002307, -8674873.608143093 2090385.8827263096, -8674866.338980343 2090373.373018142, -8674771.862128507 2090289.5135802159, -8674725.697935676 2090251.5504593423, -8674629.172805209 2090163.3026154228, -8674619.73291239 2090158.115719598, -8674611.684513206 2090161.718382393, -8674573.991733622 2090233.6544225253, -8674524.632671405 2090336.7475476023, -8674447.688639367 2090499.3623286728, -8674445.451117605 2090509.6306799592, -8674453.777815513 2090517.6223946952, -8674578.12168673 2090602.8323431427, -8674660.531505765 2090661.8493331287, -8674722.091184173 2090706.4906549319, -8674731.887299364 2090710.8914215064, -8674738.032135256 2090707.2065128963, -8674758.637373002 2090676.9996759978, -8674802.07423831 2090618.5342019082, -8674868.331599228 2090526.6350811964, -8674887.500815542 2090498.1888031445)))',\n",
       "   'MULTIPOLYGON (((-8674619.198578835 2090015.6408971518, -8674606.218726207 2090002.7558998584, -8674400.85652959 2089969.7924060223, -8674388.956476023 2089976.1058086422, -8674348.057695108 2090045.3773431096, -8674317.166536411 2090100.1798268727, -8674299.232966445 2090148.5751205839, -8674300.62446008 2090163.1383245839, -8674325.90511644 2090227.4113498142, -8674333.742008591 2090245.589023674, -8674345.230180042 2090251.374432673, -8674436.723669525 2090261.8421545974, -8674512.187152334 2090265.855565118, -8674520.959128208 2090258.6267327107, -8674557.037775174 2090177.431632538, -8674618.486134093 2090035.0505534324, -8674619.198578835 2090015.6408971518)))',\n",
       "   'MULTIPOLYGON (((-8674805.859100996 2089485.9663364764, -8674812.33789536 2089449.6827830186, -8674811.135644859 2089442.2547544152, -8674803.911009908 2089435.401725714, -8674784.697265796 2089423.6436236787, -8674763.535430595 2089410.1957429298, -8674746.336569268 2089397.0999095645, -8674732.28804953 2089390.4698538024, -8674724.428893479 2089393.6381987615, -8674717.749724032 2089402.321813426, -8674647.841083813 2089498.8040647553, -8674643.67773486 2089507.4407860036, -8674643.366040284 2089521.0060784775, -8674641.250969961 2089530.8749518348, -8674613.265249973 2089581.216842351, -8674611.98507583 2089590.05308925, -8674619.187446885 2089596.1668825324, -8674697.46731281 2089635.959390447, -8674759.082650965 2089668.3355997817, -8674766.4853971 2089668.4060084124, -8674771.639489526 2089662.550358126, -8674774.48926849 2089642.2961580262, -8674779.743548455 2089603.1842521548, -8674785.654613417 2089565.7387512075, -8674787.602704505 2089540.5326054685, -8674794.927527 2089527.354544613, -8674801.406321364 2089518.799957626, -8674805.859100996 2089485.9663364764)))',\n",
       "   'MULTIPOLYGON (((-8718321.527476063 2070891.3085036245, -8718309.972512918 2070124.7210809567, -8718070.847114746 2070130.547636626, -8718086.465239303 2070896.1621956464, -8718321.527476063 2070891.3085036245)))',\n",
       "   'MULTIPOLYGON (((-8557115.965731738 2037534.4170329424, -8557132.685919255 2037509.345332454, -8556701.523267515 2036804.6814777583, -8556657.340561619 2036725.8641839137, -8556625.091305137 2036711.5263509527, -8556277.685438268 2036860.956320129, -8556208.077360675 2036890.943102022, -8555831.461259423 2037032.2046053784, -8555802.796490544 2037062.0628859724, -8555891.774159536 2037389.9098813583, -8555955.070422001 2037880.7771472936, -8555993.28640319 2037876.0015028024, -8556072.401165295 2037845.1705304075, -8557000.11553767 2037576.226677781, -8557115.965731738 2037534.4170329424)))',\n",
       "   'MULTIPOLYGON (((-8561147.222979631 2029080.0958636438, -8561113.960715782 2029107.1346549294, -8561093.166234903 2029080.0958636438, -8560951.757085748 2029181.991691713, -8560735.496710984 2028897.1081732332, -8560826.990200466 2028828.4882059232, -8560893.536992064 2028917.8989566888, -8560974.633241106 2028857.5975521994, -8561147.222979631 2029080.0958636438)))',\n",
       "   'MULTIPOLYGON (((-8583412.178673448 2031647.6631905665, -8583304.632913394 2031630.8247639462, -8583315.642411033 2031513.552932925, -8583383.669751858 2031525.2192387758, -8583412.178673448 2031647.6631905665)))'])}"
      ]
     },
     "execution_count": 169,
     "metadata": {},
     "output_type": "execute_result"
    }
   ],
   "source": [
    "collect_output"
   ]
  },
  {
   "cell_type": "code",
   "execution_count": 150,
   "id": "4fcc12f1-3294-4288-b53b-d264696e1a9c",
   "metadata": {},
   "outputs": [],
   "source": [
    "def get_damage_per_asset(asset,hazard_numpified,asset_geom,hazard_intensity,fragility_values,maxdam_asset,unit_maxdam):\n",
    "    \"\"\"\n",
    "    Calculate damage for a given asset based on hazard information.\n",
    "    Arguments:\n",
    "        *asset*: Tuple containing information about the asset. It includes:\n",
    "            - Index or identifier of the asset (asset[0]).\n",
    "            - The specific hazard points in which asset is exposed (asset[1]['hazard_point']).\n",
    "        *hazard_numpified*: NumPy array representing hazard information.\n",
    "        *asset_geom*: Shapely geometry representing the spatial coordinates of the asset.\n",
    "        *hazard_intensity*: NumPy array representing the hazard intensities of the curve for the asset type.\n",
    "        *fragility_values*: NumPy array representing the damage factors of the curve for the asset type.\n",
    "        *maxdam_asset*: Maximum damage value for asset.\n",
    "        *unit_maxdam*: The unit of maximum damage value for asset.\n",
    "    Returns:\n",
    "        *float*: The calculated damage for the specific asset.\n",
    "    \"\"\"\n",
    "     \n",
    "    # find the exact hazard overlays:\n",
    "    get_hazard_points = hazard_numpified[asset[1]['hazard_point'].values] \n",
    "    get_hazard_points[shapely.intersects(get_hazard_points[:,1],asset_geom)]\n",
    "\n",
    "    # estimate damage\n",
    "    if len(get_hazard_points) == 0: # no overlay of asset with hazard\n",
    "        return 0\n",
    "    \n",
    "    else:\n",
    "        if asset_geom.geom_type == 'LineString':\n",
    "            overlay_meters = shapely.length(shapely.intersection(get_hazard_points[:,1],asset_geom)) # get the length of exposed meters per hazard cell\n",
    "            return np.sum((np.interp(np.float16(get_hazard_points[:,0]),hazard_intensity,fragility_values))*overlay_meters*maxdam_asset) #return asset number, total damage for asset number (damage factor * meters * max. damage)\n",
    "        elif asset_geom.geom_type in ['MultiPolygon','Polygon']:\n",
    "            overlay_m2 = shapely.area(shapely.intersection(get_hazard_points[:,1],asset_geom))\n",
    "            if '/unit' in unit_maxdam:\n",
    "                converted_maxdam = maxdam / shapely.area(asset_geom) #convert to maxdam/m2\n",
    "                return np.sum((np.interp(np.float16(get_hazard_points[:,0]),hazard_intensity,fragility_values))*overlay_m2*converted_maxdam)\n",
    "            else:\n",
    "                return np.sum((np.interp(np.float16(get_hazard_points[:,0]),hazard_intensity,fragility_values))*overlay_m2*maxdam) #return asset number, total damage for asset number (damage factor * meters * max. damage)\n",
    "        elif asset_geom.geom_type == 'Point':\n",
    "            return np.sum((np.interp(np.float16(get_hazard_points[:,0]),hazard_intensity,fragility_values))*maxdam_asset)"
   ]
  },
  {
   "cell_type": "code",
   "execution_count": 149,
   "id": "09a7e196-83e0-495b-adf8-8c7f8fbf90f0",
   "metadata": {},
   "outputs": [
    {
     "name": "stdout",
     "output_type": "stream",
     "text": [
      "yes\n",
      "11299397.673807528\n"
     ]
    }
   ],
   "source": [
    "    # find the exact hazard overlays:\n",
    "    get_hazard_points = hazard_numpified[asset[1]['hazard_point'].values] \n",
    "    get_hazard_points[shapely.intersects(get_hazard_points[:,1],asset_geom)]\n",
    "\n",
    "    # estimate damage\n",
    "    if len(get_hazard_points) == 0: # no overlay of asset with hazard\n",
    "        print(0)\n",
    "    \n",
    "    else:\n",
    "        if asset_geom.geom_type == 'LineString':\n",
    "            overlay_meters = shapely.length(shapely.intersection(get_hazard_points[:,1],asset_geom)) # get the length of exposed meters per hazard cell\n",
    "            print(np.sum((np.interp(np.float16(get_hazard_points[:,0]),hazard_intensity,fragility_values))*overlay_meters*maxdam)) #return asset number, total damage for asset number (damage factor * meters * max. damage)\n",
    "        elif asset_geom.geom_type in ['MultiPolygon','Polygon']:\n",
    "            overlay_m2 = shapely.area(shapely.intersection(get_hazard_points[:,1],asset_geom))\n",
    "            if '/unit' in unit_maxdam:\n",
    "                converted_maxdam = maxdam / shapely.area(asset_geom) #convert to maxdam/m2\n",
    "                print(np.sum((np.interp(np.float16(get_hazard_points[:,0]),hazard_intensity,fragility_values))*overlay_m2*converted_maxdam))\n",
    "            else:\n",
    "                print(np.sum((np.interp(np.float16(get_hazard_points[:,0]),hazard_intensity,fragility_values))*overlay_m2*maxdam)) #return asset number, total damage for asset number (damage factor * meters * max. damage)\n",
    "        elif asset_geom.geom_type == 'Point':\n",
    "            print(np.sum((np.interp(np.float16(get_hazard_points[:,0]),hazard_intensity,fragility_values))*maxdam))"
   ]
  },
  {
   "cell_type": "code",
   "execution_count": 144,
   "id": "75787357-cbb3-4e8a-96e8-42e27d88f979",
   "metadata": {},
   "outputs": [
    {
     "data": {
      "text/plain": [
       "10397.206729997113"
      ]
     },
     "execution_count": 144,
     "metadata": {},
     "output_type": "execute_result"
    }
   ],
   "source": [
    "shapely.area(asset_geom)"
   ]
  },
  {
   "cell_type": "code",
   "execution_count": 146,
   "id": "7fa33b19-77a6-4bce-a9d1-8af8883c4631",
   "metadata": {},
   "outputs": [
    {
     "data": {
      "text/plain": [
       "7312.977025451343"
      ]
     },
     "execution_count": 146,
     "metadata": {},
     "output_type": "execute_result"
    }
   ],
   "source": [
    "sum(overlay_m2)"
   ]
  },
  {
   "cell_type": "code",
   "execution_count": 148,
   "id": "0c33b100-0cc6-4bc6-ba45-03eb7190de59",
   "metadata": {},
   "outputs": [
    {
     "data": {
      "text/plain": [
       "11889.102507681147"
      ]
     },
     "execution_count": 148,
     "metadata": {},
     "output_type": "execute_result"
    }
   ],
   "source": []
  },
  {
   "cell_type": "code",
   "execution_count": 147,
   "id": "9e84f8e2-e1ea-4854-b7b1-7d8b7aced24a",
   "metadata": {},
   "outputs": [
    {
     "data": {
      "text/plain": [
       "16903.30164805335"
      ]
     },
     "execution_count": 147,
     "metadata": {},
     "output_type": "execute_result"
    }
   ],
   "source": [
    "maxdam / sum(overlay_m2) "
   ]
  },
  {
   "cell_type": "code",
   "execution_count": 124,
   "id": "6cb4bfae-ad69-49f6-b950-fdeea861bc61",
   "metadata": {},
   "outputs": [
    {
     "data": {
      "text/plain": [
       "array([1477.42421786, 5835.5528076 ])"
      ]
     },
     "execution_count": 124,
     "metadata": {},
     "output_type": "execute_result"
    }
   ],
   "source": [
    "overlay_m2"
   ]
  },
  {
   "cell_type": "code",
   "execution_count": 127,
   "id": "437e83c5-57fe-4579-bbe0-3481ac89f379",
   "metadata": {},
   "outputs": [
    {
     "data": {
      "text/plain": [
       "array([<POLYGON ((-8583335.906 2031550.498, -8583335.906 2031453.377, -8583428.301 ...>,\n",
       "       <POLYGON ((-8583335.906 2031648.01, -8583335.906 2031550.888, -8583428.301 2...>],\n",
       "      dtype=object)"
      ]
     },
     "execution_count": 127,
     "metadata": {},
     "output_type": "execute_result"
    }
   ],
   "source": [
    "get_hazard_points[:,1]"
   ]
  },
  {
   "cell_type": "code",
   "execution_count": 125,
   "id": "acc1c6b3-3c9a-4c87-8b2f-7b4623369694",
   "metadata": {},
   "outputs": [
    {
     "data": {
      "text/plain": [
       "array([1.1219062805175781, 0.06495094299316406], dtype=object)"
      ]
     },
     "execution_count": 125,
     "metadata": {},
     "output_type": "execute_result"
    }
   ],
   "source": [
    "get_hazard_points[:,0]"
   ]
  },
  {
   "cell_type": "code",
   "execution_count": 129,
   "id": "746fdc4b-05b0-4959-b7df-c438169ad7bd",
   "metadata": {},
   "outputs": [
    {
     "data": {
      "text/plain": [
       "array([0.  , 0.05, 0.1 , 0.15, 0.2 , 0.25, 0.3 , 0.35, 0.4 , 0.45, 0.5 ,\n",
       "       0.55, 0.6 , 0.65, 0.7 , 0.75, 0.8 , 0.85, 0.9 , 0.95, 1.  , 1.05,\n",
       "       1.1 , 1.15, 1.2 , 1.25, 1.3 , 1.35, 1.4 , 1.45, 1.5 , 1.55, 1.6 ,\n",
       "       1.65, 1.7 , 1.75, 1.8 , 1.85, 1.9 , 1.95, 2.  , 2.05, 2.1 , 2.15,\n",
       "       2.2 , 2.25, 2.3 , 2.35, 2.4 , 2.45, 2.5 , 2.55, 2.6 , 2.65, 2.7 ,\n",
       "       2.75, 2.8 , 2.85, 2.9 , 2.95, 3.  , 3.05, 3.1 , 3.15, 3.2 , 3.25,\n",
       "       3.3 , 3.35, 3.4 , 3.45, 3.5 , 3.55, 3.6 , 3.65, 3.7 , 3.75, 3.8 ,\n",
       "       3.85, 3.9 , 3.95, 4.  , 4.05, 4.1 , 4.15, 4.2 , 4.25, 4.3 , 4.35,\n",
       "       4.4 , 4.45, 4.5 , 4.55, 4.6 , 4.65, 4.7 , 4.75, 4.8 , 4.85, 4.9 ,\n",
       "       4.95, 5.  , 5.05, 5.1 , 5.15, 5.2 , 5.25, 5.3 , 5.35, 5.4 , 5.45,\n",
       "       5.5 , 5.55, 5.6 , 5.65, 5.7 , 5.75, 5.8 , 5.85, 5.9 , 5.95, 6.  ,\n",
       "       6.05, 6.1 , 6.15, 6.2 , 6.25, 6.3 , 6.35, 6.4 , 6.45, 6.5 ])"
      ]
     },
     "execution_count": 129,
     "metadata": {},
     "output_type": "execute_result"
    }
   ],
   "source": [
    "hazard_intensity"
   ]
  },
  {
   "cell_type": "code",
   "execution_count": 130,
   "id": "812a35ce-adcc-4666-b6d6-b98b55954f13",
   "metadata": {},
   "outputs": [
    {
     "data": {
      "text/plain": [
       "array([0.    , 0.04  , 0.08  , 0.12  , 0.16  , 0.2   , 0.24  , 0.2605,\n",
       "       0.272 , 0.2835, 0.295 , 0.3065, 0.318 , 0.3295, 0.341 , 0.3525,\n",
       "       0.364 , 0.3755, 0.387 , 0.3985, 0.41  , 0.4215, 0.433 , 0.4445,\n",
       "       0.456 , 0.4675, 0.479 , 0.4905, 0.502 , 0.5135, 0.525 , 0.5365,\n",
       "       0.548 , 0.5595, 0.571 , 0.5825, 0.594 , 0.6055, 0.617 , 0.6285,\n",
       "       0.64  , 0.6515, 0.663 , 0.6745, 0.686 , 0.6975, 0.709 , 0.7205,\n",
       "       0.732 , 0.7435, 0.755 , 0.7665, 0.778 , 0.785 , 0.79  , 0.795 ,\n",
       "       0.8   , 0.805 , 0.81  , 0.815 , 0.82  , 0.825 , 0.83  , 0.835 ,\n",
       "       0.84  , 0.845 , 0.85  , 0.855 , 0.86  , 0.865 , 0.87  , 0.875 ,\n",
       "       0.88  , 0.885 , 0.89  , 0.895 , 0.9   , 0.905 , 0.91  , 0.915 ,\n",
       "       0.92  , 0.925 , 0.93  , 0.935 , 0.94  , 0.945 , 0.95  , 0.955 ,\n",
       "       0.96  , 0.965 , 0.97  , 0.975 , 0.98  , 0.985 , 0.99  , 0.995 ,\n",
       "       1.    , 1.    , 1.    , 1.    , 1.    , 1.    , 1.    , 1.    ,\n",
       "       1.    , 1.    , 1.    , 1.    , 1.    , 1.    , 1.    , 1.    ,\n",
       "       1.    , 1.    , 1.    , 1.    , 1.    , 1.    , 1.    , 1.    ,\n",
       "       1.    , 1.    , 1.    , 1.    , 1.    , 1.    , 1.    , 1.    ,\n",
       "       1.    , 1.    , 1.    ])"
      ]
     },
     "execution_count": 130,
     "metadata": {},
     "output_type": "execute_result"
    }
   ],
   "source": [
    "fragility_values"
   ]
  },
  {
   "cell_type": "code",
   "execution_count": 112,
   "id": "9541a6b2-3fad-4507-bc2d-8c6d12ee534e",
   "metadata": {},
   "outputs": [
    {
     "data": {
      "text/plain": [
       "'MultiPolygon'"
      ]
     },
     "execution_count": 112,
     "metadata": {},
     "output_type": "execute_result"
    }
   ],
   "source": [
    "asset_geom.geom_type"
   ]
  },
  {
   "cell_type": "code",
   "execution_count": 113,
   "id": "9f79531b-d977-4deb-863b-b03a80cefc47",
   "metadata": {},
   "outputs": [
    {
     "name": "stdout",
     "output_type": "stream",
     "text": [
      "6442581.499447968\n",
      "102\n",
      "euro/unit\n",
      "yes\n",
      "123613456.60648797\n",
      "103\n",
      "euro/unit\n",
      "yes\n",
      "6442581.499447968\n",
      "102\n",
      "euro/unit\n",
      "yes\n",
      "123613456.60648797\n",
      "103\n",
      "euro/unit\n",
      "yes\n",
      "6442581.499447968\n",
      "102\n",
      "euro/unit\n",
      "yes\n",
      "123613456.60648797\n",
      "103\n",
      "euro/unit\n",
      "yes\n",
      "6442581.499447968\n",
      "102\n",
      "euro/unit\n",
      "yes\n",
      "123613456.60648797\n",
      "103\n",
      "euro/unit\n",
      "yes\n",
      "6442581.499447968\n",
      "102\n",
      "euro/unit\n",
      "yes\n",
      "123613456.60648797\n",
      "103\n",
      "euro/unit\n",
      "yes\n",
      "6442581.499447968\n",
      "102\n",
      "euro/unit\n",
      "yes\n",
      "123613456.60648797\n",
      "103\n",
      "euro/unit\n",
      "yes\n"
     ]
    }
   ],
   "source": [
    "            for infra_curve in infra_curves:\n",
    "                for maxdam in maxdams:\n",
    "                    print(maxdam)\n",
    "                    print(maxdams[maxdams == maxdam].index[0]) #cost ID number\n",
    "                    print(infra_units[maxdams[maxdams == maxdam].index[0]]) #unit\n",
    "                    unit_maxdam = infra_units[maxdams[maxdams == maxdam].index[0]]\n",
    "                    if '/unit' in unit_maxdam:\n",
    "                        print('yes')\n",
    "                    "
   ]
  },
  {
   "cell_type": "code",
   "execution_count": null,
   "id": "a0e69438-caf6-4a27-901a-0cbb63402fe5",
   "metadata": {},
   "outputs": [],
   "source": []
  },
  {
   "cell_type": "code",
   "execution_count": 107,
   "id": "2cb5d0cc-4ed7-43f0-8892-1bc74fd4819d",
   "metadata": {},
   "outputs": [
    {
     "name": "stdout",
     "output_type": "stream",
     "text": [
      "yes\n"
     ]
    }
   ],
   "source": []
  },
  {
   "cell_type": "code",
   "execution_count": 87,
   "id": "c5776651-f8e0-4808-a8fd-6c9921cbf380",
   "metadata": {},
   "outputs": [
    {
     "data": {
      "text/plain": [
       "123613456.60648797"
      ]
     },
     "execution_count": 87,
     "metadata": {},
     "output_type": "execute_result"
    }
   ],
   "source": [
    "maxdam"
   ]
  },
  {
   "cell_type": "code",
   "execution_count": 80,
   "id": "0c24c79e-b747-4a5a-a687-f3d0073d0508",
   "metadata": {},
   "outputs": [
    {
     "data": {
      "text/plain": [
       "cost ID number\n",
       "102      6442581.499448\n",
       "103    123613456.606488\n",
       "Name: Amount, dtype: object"
      ]
     },
     "execution_count": 80,
     "metadata": {},
     "output_type": "execute_result"
    }
   ],
   "source": [
    "maxdams"
   ]
  },
  {
   "cell_type": "code",
   "execution_count": null,
   "id": "d1c21edd-4e87-4c9e-abd3-084516b98c0d",
   "metadata": {},
   "outputs": [],
   "source": []
  },
  {
   "cell_type": "code",
   "execution_count": null,
   "id": "bf65a8b1-dd65-43dc-9600-d6f277954fff",
   "metadata": {},
   "outputs": [],
   "source": []
  },
  {
   "cell_type": "code",
   "execution_count": null,
   "id": "5827c2f1-766c-4c5e-9ef0-f105c4117311",
   "metadata": {},
   "outputs": [],
   "source": [
    "#import matplotlib.pyplot as plt\n",
    "fig, ax = plt.subplots(1, 1,figsize=(12,10))\n",
    "\n",
    "\n",
    "assets.plot(column='asset',legend=True,ax=ax,legend_kwds={'loc': 'lower right'});\n",
    "\n",
    "\n",
    "# remove the ax labels\n",
    "ax.set_xticks([])\n",
    "ax.set_yticks([])\n",
    "ax.set_axis_off()"
   ]
  },
  {
   "cell_type": "code",
   "execution_count": null,
   "id": "e4facd42-3af3-4112-a50c-fca9faab00de",
   "metadata": {},
   "outputs": [],
   "source": [
    "# Merge DataFrames with indicator=True\n",
    "merged_df = pd.merge(assets, asset_polys, how='outer', indicator=True)\n",
    "\n",
    "# Select rows where the indicator is 'left_only' (only in df1)\n",
    "missing_rows_df = merged_df[merged_df['_merge'] == 'left_only'].drop(columns=['_merge'])\n",
    "\n",
    "missing_rows_df\n",
    "\n",
    "# Save to GeoPackage\n",
    "#assets.to_file('assets_education', driver='GPKG')\n",
    "missing_rows_df.to_file('polys_assets_education', driver='GPKG')"
   ]
  },
  {
   "cell_type": "code",
   "execution_count": null,
   "id": "c26018c2-04af-4d44-abcb-b4ba2b7200a7",
   "metadata": {},
   "outputs": [],
   "source": [
    "\n"
   ]
  },
  {
   "cell_type": "code",
   "execution_count": null,
   "id": "5f33e809-9a7d-4193-baac-50a86c9f07b6",
   "metadata": {},
   "outputs": [],
   "source": [
    "import osm_flex\n",
    "osm_flex.config.DICT_CIS_OSM.keys()"
   ]
  },
  {
   "cell_type": "code",
   "execution_count": null,
   "id": "000f5336-22f5-4ad6-a79f-09c2e7e9e412",
   "metadata": {},
   "outputs": [],
   "source": [
    "help(ex.extract_cis)"
   ]
  },
  {
   "cell_type": "code",
   "execution_count": null,
   "id": "a8bf99de-e5da-44bf-85ca-274645a59b86",
   "metadata": {},
   "outputs": [],
   "source": [
    "help(ex.DICT_CIS_OSM)"
   ]
  },
  {
   "cell_type": "code",
   "execution_count": null,
   "id": "241550d5-5765-494b-89ea-c7b3b277db51",
   "metadata": {},
   "outputs": [],
   "source": []
  }
 ],
 "metadata": {
  "kernelspec": {
   "display_name": "Python 3 (ipykernel)",
   "language": "python",
   "name": "python3"
  },
  "language_info": {
   "codemirror_mode": {
    "name": "ipython",
    "version": 3
   },
   "file_extension": ".py",
   "mimetype": "text/x-python",
   "name": "python",
   "nbconvert_exporter": "python",
   "pygments_lexer": "ipython3",
   "version": "3.11.9"
  }
 },
 "nbformat": 4,
 "nbformat_minor": 5
}
