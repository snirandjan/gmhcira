{
 "cells": [
  {
   "cell_type": "code",
   "execution_count": 1,
   "id": "5a5263e9-087d-4863-a4e5-839dc33017bd",
   "metadata": {
    "tags": []
   },
   "outputs": [],
   "source": [
    "import os,sys\n",
    "os.environ['USE_PYGEOS'] = '0'\n",
    "import geopandas as gpd\n",
    "import pandas as pd\n",
    "from osgeo import ogr,gdal\n",
    "import xarray as xr\n",
    "import rasterio\n",
    "import numpy as np\n",
    "import pyproj\n",
    "from pygeos import from_wkb,from_wkt\n",
    "import pygeos\n",
    "from tqdm import tqdm\n",
    "from shapely.wkb import loads\n",
    "from pathlib import Path\n",
    "import glob\n",
    "from shapely.geometry import mapping\n",
    "pd.options.mode.chained_assignment = None\n",
    "from rasterio.mask import mask\n",
    "import rioxarray\n",
    "import matplotlib.pyplot as plt\n",
    "from scipy import integrate\n",
    "from collections.abc import Iterable\n",
    "import openpyxl\n",
    "from openpyxl import Workbook\n",
    "\n",
    "import warnings\n",
    "warnings.filterwarnings(\"ignore\")\n",
    "\n",
    "from scipy import integrate\n",
    "from sklearn.preprocessing import MinMaxScaler"
   ]
  },
  {
   "cell_type": "markdown",
   "id": "70bf45fe-9093-4812-9712-bf2982dfb542",
   "metadata": {},
   "source": [
    "## Set pathways"
   ]
  },
  {
   "cell_type": "code",
   "execution_count": 3,
   "id": "e31f3d3d-60ce-4348-9742-427aafa4f804",
   "metadata": {},
   "outputs": [],
   "source": [
    "# change paths to make it work on your own machine\n",
    "\n",
    "# Set path to inputdata\n",
    "hazard_data_path = os.path.abspath(r'\\\\labsdfs.labs.vu.nl\\labsdfs\\BETA-IVM-BAZIS\\data_catalogue\\open_street_map\\global_hazards')\n",
    "fathom_data_path = os.path.abspath(r'\\\\labsdfs.labs.vu.nl\\labsdfs\\BETA-IVM-BAZIS\\eks510\\fathom-global')\n",
    "shapes_file = 'global_countries_advanced.geofeather'\n",
    "country_shapefile_path = os.path.join(os.path.abspath(r'\\\\labsdfs.labs.vu.nl\\labsdfs\\BETA-IVM-BAZIS\\snn490\\Datasets\\Administrative_boundaries\\global_countries_buffer'), shapes_file)\n",
    "#country_shapefile_path = os.path.abspath(os.path.join(local_path,'Datasets','Administrative_boundaries', 'global_countries_buffer', shapes_file)) #shapefiles with buffer around country\n",
    "\n",
    "# path to our python scripts\n",
    "sys.path.append(os.path.join('..','scripts'))"
   ]
  },
  {
   "cell_type": "markdown",
   "id": "e079f44f-c211-4f5e-95c3-67534d36fbbd",
   "metadata": {},
   "source": [
    "## Set variables"
   ]
  },
  {
   "cell_type": "code",
   "execution_count": 4,
   "id": "75678664-7845-4ecf-b2b5-dab7ab8d9a5b",
   "metadata": {},
   "outputs": [
    {
     "ename": "NameError",
     "evalue": "name 'from_geofeather' is not defined",
     "output_type": "error",
     "traceback": [
      "\u001b[1;31m---------------------------------------------------------------------------\u001b[0m",
      "\u001b[1;31mNameError\u001b[0m                                 Traceback (most recent call last)",
      "Cell \u001b[1;32mIn[4], line 8\u001b[0m\n\u001b[0;32m      1\u001b[0m hazard_dct \u001b[38;5;241m=\u001b[39m {\u001b[38;5;124m'\u001b[39m\u001b[38;5;124mcoastal_flooding\u001b[39m\u001b[38;5;124m'\u001b[39m: [\u001b[38;5;241m2\u001b[39m, \u001b[38;5;241m5\u001b[39m, \u001b[38;5;241m10\u001b[39m, \u001b[38;5;241m25\u001b[39m, \u001b[38;5;241m50\u001b[39m, \u001b[38;5;241m100\u001b[39m, \u001b[38;5;241m250\u001b[39m, \u001b[38;5;241m500\u001b[39m, \u001b[38;5;241m1000\u001b[39m], \n\u001b[0;32m      2\u001b[0m               \u001b[38;5;124m'\u001b[39m\u001b[38;5;124mfluvial_flooding\u001b[39m\u001b[38;5;124m'\u001b[39m: [\u001b[38;5;241m5\u001b[39m, \u001b[38;5;241m10\u001b[39m, \u001b[38;5;241m20\u001b[39m, \u001b[38;5;241m50\u001b[39m, \u001b[38;5;241m75\u001b[39m, \u001b[38;5;241m100\u001b[39m, \u001b[38;5;241m200\u001b[39m, \u001b[38;5;241m250\u001b[39m, \u001b[38;5;241m500\u001b[39m, \u001b[38;5;241m1000\u001b[39m], \n\u001b[0;32m      3\u001b[0m               \u001b[38;5;124m'\u001b[39m\u001b[38;5;124mearthquakes\u001b[39m\u001b[38;5;124m'\u001b[39m: [\u001b[38;5;241m250\u001b[39m, \u001b[38;5;241m475\u001b[39m, \u001b[38;5;241m975\u001b[39m, \u001b[38;5;241m1500\u001b[39m, \u001b[38;5;241m2475\u001b[39m], \n\u001b[0;32m      4\u001b[0m               \u001b[38;5;124m'\u001b[39m\u001b[38;5;124mtropical_cyclones\u001b[39m\u001b[38;5;124m'\u001b[39m: [\u001b[38;5;241m10\u001b[39m, \u001b[38;5;241m20\u001b[39m , \u001b[38;5;241m50\u001b[39m, \u001b[38;5;241m100\u001b[39m, \u001b[38;5;241m200\u001b[39m, \u001b[38;5;241m1000\u001b[39m, \u001b[38;5;241m2000\u001b[39m, \u001b[38;5;241m5000\u001b[39m, \u001b[38;5;241m10000\u001b[39m], \n\u001b[0;32m      5\u001b[0m               \u001b[38;5;124m'\u001b[39m\u001b[38;5;124mlandslides\u001b[39m\u001b[38;5;124m'\u001b[39m: [\u001b[38;5;28;01mNone\u001b[39;00m]} \u001b[38;5;66;03m#keys are hazards, lists are return periods associated with hazard\u001b[39;00m\n\u001b[0;32m      7\u001b[0m \u001b[38;5;66;03m#and open country geometry file\u001b[39;00m\n\u001b[1;32m----> 8\u001b[0m shape_countries \u001b[38;5;241m=\u001b[39m \u001b[43mfrom_geofeather\u001b[49m(country_shapefile_path) \u001b[38;5;66;03m#open as geofeather\u001b[39;00m\n",
      "\u001b[1;31mNameError\u001b[0m: name 'from_geofeather' is not defined"
     ]
    }
   ],
   "source": [
    "hazard_dct = {'coastal_flooding': [2, 5, 10, 25, 50, 100, 250, 500, 1000], \n",
    "              'fluvial_flooding': [5, 10, 20, 50, 75, 100, 200, 250, 500, 1000], \n",
    "              'earthquakes': [250, 475, 975, 1500, 2475], \n",
    "              'tropical_cyclones': [10, 20 , 50, 100, 200, 1000, 2000, 5000, 10000], \n",
    "              'landslides': [None]} #keys are hazards, lists are return periods associated with hazard\n",
    "\n",
    "#and open country geometry file\n",
    "shape_countries = from_geofeather(country_shapefile_path) #open as geofeather"
   ]
  },
  {
   "cell_type": "code",
   "execution_count": null,
   "id": "4da5ec4b-1300-444e-8900-5f025ebab92d",
   "metadata": {},
   "outputs": [],
   "source": [
    "def soft_overlay():\n",
    "    shape_countries = from_geofeather(country_shapefile_path) #open as geofeather\n",
    "    country_shape = shape_countries[shape_countries['ISO_3digit'] == country]\n",
    "    if country_shape.empty == False: #if ISO_3digit in shape_countries\n",
    "        spat_tree = pygeos.STRtree(grid_data.geometry)\n",
    "        grid_data_area = (grid_data.loc[spat_tree.query(country_shape.geometry.iloc[0],predicate='intersects').tolist()]).sort_index(ascending=True) #get grids that overlap with cover_box\n",
    "        grid_data_area = grid_data_area.reset_index().rename(columns = {'index':'grid_number'}) #get index as column and name column grid_number"
   ]
  },
  {
   "cell_type": "markdown",
   "id": "ed628934-cd0f-4a46-a074-ba6261818181",
   "metadata": {},
   "source": [
    "## Flood data (coastal, fluvial and pluvial) - Fathom"
   ]
  },
  {
   "cell_type": "code",
   "execution_count": null,
   "id": "c6137d84-f279-4569-9b43-d2c0591311e2",
   "metadata": {},
   "outputs": [],
   "source": [
    "for country_full in country_lst:\n",
    "    file_path_lst = os.path.abspath(os.path.join(dathom_data_path, country_full, 'fluvial_undefended', 'FU_1in{}'.format(rp))) #pathway to file\n",
    "    hazard_country_df = transform_raster_to_vectorgrid.core(file_path, hazard_type)"
   ]
  },
  {
   "cell_type": "markdown",
   "id": "55c68ed3-b275-446a-97be-61d7d1fddbbd",
   "metadata": {},
   "source": [
    "## Tropical cyclone data - STORM"
   ]
  },
  {
   "cell_type": "code",
   "execution_count": null,
   "id": "90f6c966-64f8-453a-b28f-23cb2d4c6f60",
   "metadata": {},
   "outputs": [],
   "source": [
    "basins = ['EP', 'NA', 'NI', 'SI', 'SP', 'WP']\n",
    "for basin in basins: \n",
    "    file_path = os.path.abspath(os.path.join(hazard_data_path, hazard_type, 'STORM_FIXED_RETURN_PERIODS_{}.nc'.format(basin))) #pathway to file\n",
    "    \n",
    "    #open file\n",
    "    #transform to vector files\n",
    "    #clip per country\n",
    "    #save as feather"
   ]
  },
  {
   "cell_type": "markdown",
   "id": "fd1d11e8-2eb6-4dbf-8d36-e287c2916244",
   "metadata": {},
   "source": [
    "## Earthquakes - GEM"
   ]
  },
  {
   "cell_type": "code",
   "execution_count": null,
   "id": "c0346840-fcaf-4c09-9b17-937413b53d42",
   "metadata": {},
   "outputs": [],
   "source": [
    "file_path_lst = [os.path.abspath(os.path.join(hazard_data_path, hazard_type, 'rp_'.format(rp), 'gar17pga{}.tif'.format(rp))) for rp in hazard_dct[hazard_type]] #pathway to file\n",
    "\n",
    "#transform to vector data\n",
    "for file_path in file_path_lst:\n",
    "    hazard_df = transform_raster_to_vectorgrid(file_path,hazard_type)\n",
    "    print('Hazard data for has been loaded in polygon format for the following hazard type: {}'.format(hazard_type))\n",
    "\n",
    "    #soft overlay of hazard data with countries\n",
    "    country_shape = shape_countries[shape_countries['ISO_3digit'] == country]\n",
    "    if country_shape.empty == False: #if ISO_3digit in shape_countries\n",
    "        print(\"Time to overlay and output '{}' hazard data for the following country: {}\".format(hazard_type, country))\n",
    "        spat_tree = pygeos.STRtree(hazard_df.geometry)\n",
    "        hazard_country_df = (hazard_df.loc[spat_tree.query(country_shape.geometry.iloc[0],predicate='intersects').tolist()]).sort_index(ascending=True) #get grids that overlap with country\n",
    "        hazard_country_df = hazard_country_df.reset_index() #.rename(columns = {'index':'grid_number'}) #get index as column and name column grid_number\n",
    "\n",
    "        #save data\n",
    "        rp = str(hazard_dct[hazard_type][file_path_lst.index(file_path)]) #get return period using index\n",
    "        Path(os.path.abspath(os.path.join(hazard_data_path, hazard_type, rp))).mkdir(parents=True, exist_ok=True) \n",
    "        to_geofeather(hazard_country_df, os.path.join(hazard_data_path, hazard_type, rp, '{}_{}_{}.feather'.format(hazard_type, rp, country)), crs=\"EPSG:4326\") #save as geofeather #save file for each country\n",
    "        #to_geofeather(hazard_country_df, os.path.join(hazard_data_path, hazard_type, rp, '{}_{}_{}.feather'.format(hazard_type, rp, country)), crs=\"EPSG:4326\") #save as geofeather #save file for each country\n",
    "        temp_df = functions.transform_to_gpd(hazard_country_df) #transform df to gpd with shapely geometries\n",
    "        temp_df.to_file(os.path.join(hazard_data_path, hazard_type, rp, '{}_{}_{}.gpkg'.format(hazard_type, rp, country)), layer=' ', driver=\"GPKG\")              \n",
    "    else:\n",
    "        print(\"Country '{}' not specified in file containing shapefiles of countries with ISO_3digit codes. Please check inconsistency\".format(country))"
   ]
  },
  {
   "cell_type": "markdown",
   "id": "a98e53d4-3987-4547-9c85-72e269dc8395",
   "metadata": {},
   "source": [
    "## Landslides - ThinkHazard!"
   ]
  },
  {
   "cell_type": "code",
   "execution_count": null,
   "id": "4bd74560-aeb4-4fac-b941-550a804f1b72",
   "metadata": {},
   "outputs": [],
   "source": [
    "landslide_methods = ['LS_RF_Mean','LS_RF_Median','LS_EQ'] #RF = rainfaill triggered, EQ = earthquake-triggered landslides\n",
    "methods = ['mean', 'median']\n",
    "for method in methods:\n",
    "    file_path = os.path.abspath(os.path.join(hazard_data_path, hazard_type, 'LS_RF_{}_1980-2018_COG.tif'.format(method))) #pathway to file\n",
    "    \n",
    "    #open file\n",
    "    #transform to vector files\n",
    "    #clip per country\n",
    "    #save as feather"
   ]
  }
 ],
 "metadata": {
  "kernelspec": {
   "display_name": "Python 3 (ipykernel)",
   "language": "python",
   "name": "python3"
  },
  "language_info": {
   "codemirror_mode": {
    "name": "ipython",
    "version": 3
   },
   "file_extension": ".py",
   "mimetype": "text/x-python",
   "name": "python",
   "nbconvert_exporter": "python",
   "pygments_lexer": "ipython3",
   "version": "3.10.12"
  }
 },
 "nbformat": 4,
 "nbformat_minor": 5
}
