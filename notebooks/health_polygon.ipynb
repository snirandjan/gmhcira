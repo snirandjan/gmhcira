{
 "cells": [
  {
   "cell_type": "markdown",
   "metadata": {},
   "source": [
    "## Load package and seth path"
   ]
  },
  {
   "cell_type": "code",
   "execution_count": 2,
   "metadata": {},
   "outputs": [],
   "source": [
    "%matplotlib inline\n",
    "\n",
    "import os,sys\n",
    "import pandas as pd\n",
    "import numpy as np\n",
    "import geopandas as gpd\n",
    "import rasterio\n",
    "#!pip install geopy\n",
    "#!pip install boltons\n",
    "from pathlib import Path\n",
    "from geofeather.pygeos import to_geofeather, from_geofeather\n",
    "from tqdm import tqdm\n",
    "from mpl_toolkits.axes_grid1 import make_axes_locatable\n",
    "from rasterio.plot import show\n",
    "from IPython.display import display #when printing geodataframes, put it in columns -> use display(df)\n",
    "from matplotlib.ticker import (MultipleLocator, FormatStrFormatter,\n",
    "                               AutoMinorLocator, LinearLocator, MaxNLocator)\n",
    "import pygeos\n",
    "from pgpkg import Geopackage\n",
    "import matplotlib.pyplot as plt\n",
    "import copy\n",
    "\n",
    "sys.path.append(\"C:\\Projects\\Coastal_Infrastructure\\scripts\")\n",
    "import fetch\n",
    "import cisi\n",
    "import extract\n",
    "import cisi_exposure\n",
    "plt.rcParams['figure.figsize'] = [20, 20]\n",
    "\n",
    "from osgeo import gdal\n",
    "gdal.SetConfigOption(\"OSM_CONFIG_FILE\", os.path.join(\"..\",\"osmconf.ini\"))\n",
    "\n"
   ]
  },
  {
   "cell_type": "markdown",
   "metadata": {},
   "source": [
    "### Set pathways"
   ]
  },
  {
   "cell_type": "code",
   "execution_count": 3,
   "metadata": {},
   "outputs": [],
   "source": [
    "base_path = os.path.abspath('C:/Users/snn490/surfdrive/Outputs/Exposure/health_polygons') #this path contains all data that's needed as input and will contain directories to export outputs\n",
    "\n",
    "# Set path to inputdata\n",
    "osm_data_path = os.path.abspath(os.path.join('C:/Users/snn490/surfdrive/Datasets/OpenStreetMap')) #path to map with infra-gpkg's \n",
    "\n",
    "# path to save outputs - automatically made, not necessary to change output pathways\n",
    "output_infra_path = os.path.abspath(os.path.join(base_path, 'extract')) #save interim calculations\n",
    "\n",
    "# path to our python scripts\n",
    "sys.path.append(os.path.join('..','scripts'))\n",
    "\n",
    "#Create folders for outputs (GPKGs and pngs)\n",
    "Path(output_infra_path).mkdir(parents=True, exist_ok=True)"
   ]
  },
  {
   "cell_type": "markdown",
   "metadata": {},
   "source": [
    "## Extract health data"
   ]
  },
  {
   "cell_type": "code",
   "execution_count": 34,
   "metadata": {},
   "outputs": [
    {
     "name": "stdout",
     "output_type": "stream",
     "text": [
      "query is finished, lets start the loop\n"
     ]
    },
    {
     "name": "stderr",
     "output_type": "stream",
     "text": [
      "100%|█████████████████████████████████████████████████████████████████████| 2112895/2112895 [01:40<00:00, 20931.87it/s]\n"
     ]
    },
    {
     "name": "stdout",
     "output_type": "stream",
     "text": [
      "query is finished, lets start the loop\n"
     ]
    },
    {
     "name": "stderr",
     "output_type": "stream",
     "text": [
      "100%|████████████████████████████████████████████████████████████████████████████████| 116/116 [00:48<00:00,  2.39it/s]\n"
     ]
    },
    {
     "name": "stdout",
     "output_type": "stream",
     "text": [
      "query is finished, lets start the loop\n"
     ]
    },
    {
     "name": "stderr",
     "output_type": "stream",
     "text": [
      "100%|█████████████████████████████████████████████████████████████████████| 1773220/1773220 [02:33<00:00, 11568.17it/s]\n"
     ]
    }
   ],
   "source": [
    "areas = [\"Zuid-Holland\"]\n",
    "for area in areas:\n",
    "    data = '{}.osm.pbf'.format(area) #make directory to data\n",
    "    df_point = extract.social_infrastructure_point(os.path.join(osm_data_path, data))\n",
    "    df_polygon = extract.social_infrastructure_polygon(os.path.join(osm_data_path, data))"
   ]
  },
  {
   "cell_type": "code",
   "execution_count": 47,
   "metadata": {},
   "outputs": [],
   "source": [
    "#print(\"Extraction of requested infrastructure is complete for group '{}' in area '{}'. This data will now be exported as geofeather...\".format(group, area))\n",
    "to_geofeather(df_polygon, os.path.join(output_infra_path, '{}_{}.feather'.format(area, 'df_polygon')), crs=\"EPSG:4326\") #save as geofeather\n",
    "#Export fetched exposure data as geopackage\n",
    "temp_df = cisi_exposure.transform_to_gpd(df_polygon)\n",
    "temp_df.to_file(os.path.join(output_infra_path, '{}_{}.gpkg'.format(area,'df_polygon')), layer=' ', driver=\"GPKG\")\n",
    "#with Geopackage(os.path.join(fetched_infra_path, '{}_{}.gpkg'.format(area,group)), 'w') as out:\n",
    "#    out.add_layer(fetched_data_dict[group], name=' ', crs='EPSG:4326')\n"
   ]
  },
  {
   "cell_type": "markdown",
   "metadata": {},
   "source": [
    "## calculate average area per infrastructure type"
   ]
  },
  {
   "cell_type": "code",
   "execution_count": 4,
   "metadata": {},
   "outputs": [],
   "source": [
    "def compare_point_to_polygon(df_point, df_polygon):\n",
    "    \"\"\"\n",
    "    Function that removes points with overlapping polygons if asset type is similar    \n",
    "    Arguments:\n",
    "        *df_point* : a geopandas GeoDataFrame with specified unique healthcare point data.\n",
    "        *df_polygon* : a geopandas GeoDataFrame with specified unique healthcare polygons.       \n",
    "    Returns:\n",
    "        *GeoDataFrame* : a geopandas GeoDataFrame with unique healthcare assets (point data)\n",
    "    \"\"\"   \n",
    "\n",
    "    #check for each polygon which points are overlaying with it \n",
    "    df_polygon['geometry'] = pygeos.buffer(df_polygon.geometry,0) #avoid intersection\n",
    "    spat_tree = pygeos.STRtree(df_polygon.geometry) # https://pygeos.readthedocs.io/en/latest/strtree.html\n",
    "    for point_row in df_point.itertuples():\n",
    "        df_polygon_overlap = (df_polygon.loc[spat_tree.query(point_row.geometry,predicate='intersects').tolist()]).sort_index(ascending=True) #get point that overlaps with polygon\n",
    "        if not df_polygon_overlap.empty:\n",
    "            #if point_row.asset in df_polygon_overlap['asset'].tolist(): #check if infrastructure type is the same\n",
    "            df_point = df_point.drop(point_row.Index)\n",
    "    \n",
    "    return df_point.reset_index(drop=True)"
   ]
  },
  {
   "cell_type": "code",
   "execution_count": 10,
   "metadata": {},
   "outputs": [],
   "source": [
    "#import data\n",
    "area = 'Zuid-Holland'\n",
    "df_point = from_geofeather(os.path.join(output_infra_path, '{}_{}.feather'.format(area,'health_point'))) #open as geofeather \n",
    "df_polygon = from_geofeather(os.path.join(output_infra_path, '{}_{}.feather'.format(area,'health_polygon'))) #open as geofeather \n",
    "\n",
    "#remove duplicates\n",
    "df_point_filtered = compare_point_to_polygon(df_point, df_polygon) #remove duplicates from point data\n",
    "\n",
    "#area calculations for polygons\n",
    "df_polygon.insert(1, \"area_degrees\", \"\") #add assettype as column after first column for length calculations\n",
    "if not df_polygon.empty:\n",
    "    df_polygon[\"area_degrees\"] = pygeos.area(df_polygon.geometry) #calculate area in degrees per object and put in dataframe\n",
    "area_per_type = df_polygon.groupby(['asset'])['area_degrees'].mean() #get mean area per infrastructure type\n",
    "\n",
    "#assign mean area to infrastructure type point data\n",
    "df_point_filtered.insert(1, \"area_degrees\", \"\")#create area deree column df point_filtered data\n",
    "poly_types = area_per_type.index.tolist() #all polygon infra types to list\n",
    "point_types = df_point_filtered.asset.unique().tolist() #all point infra types to list\n",
    "\n",
    "for infra_type in poly_types:\n",
    "    if infra_type in point_types:\n",
    "        df_point_filtered.loc[df_point_filtered['asset'] == infra_type, 'area_degrees'] = area_per_type.loc[infra_type]\n",
    "        \n",
    "#assign area to infrastructure types that are absent in polygon dataset\n",
    "missing_infra_types_lst = list(set(point_types) - set(poly_types)) #get infra types that are in point_types but not poly_types\n",
    "mean_value = area_per_type.drop(['hospital', 'clinic']).mean() #get mean area of health facilities neglecting area of hospitals\n",
    "\n",
    "for infra_type in missing_infra_types_lst:\n",
    "    df_point_filtered.loc[df_point_filtered['asset'] == infra_type, 'area_degrees'] = mean_value\n",
    "    \n",
    "#create polygon out of point data (see https://stackoverflow.com/questions/57507739/python-how-to-create-square-buffers-around-points-with-a-distance-in-meters)\n",
    "df_point_filtered = df_point_filtered.rename(columns={'geometry' : 'geometry_point'})\n",
    "df_point_filtered.insert(1, \"geometry\", \"\") #add geometry column to store polygon geometries\n",
    "df_point_filtered['radius_degrees'] = (df_point_filtered['area_degrees']**(1/2))/2\n",
    "\n",
    "for row in df_point_filtered.itertuples():\n",
    "    df_point_filtered['geometry'].loc[row.Index] = pygeos.buffer(row.geometry_point, row.radius_degrees, cap_style='square')\n",
    "    \n",
    "#combine health point and polygon df's\n",
    "df_point_filtered = df_point_filtered.drop(columns=['geometry_point', 'radius_degrees','area_degrees'])\n",
    "df_polygon = df_polygon.drop(columns=['area_degrees'])\n",
    "df_health = df_polygon.append(df_point_filtered).reset_index(drop=True)\n",
    "\n",
    "#print(\"Extraction of requested infrastructure is complete for group '{}' in area '{}'. This data will now be exported as geofeather...\".format(group, area))\n",
    "to_geofeather(df_health, os.path.join(base_path, '{}_{}.feather'.format(area, 'health')), crs=\"EPSG:4326\") #save as geofeather\n",
    "#Export fetched exposure data as geopackage\n",
    "temp_df = cisi_exposure.transform_to_gpd(df_health)\n",
    "temp_df.to_file(os.path.join(base_path, '{}_{}.gpkg'.format(area,'health')), layer=' ', driver=\"GPKG\")\n",
    "#with Geopackage(os.path.join(fetched_infra_path, '{}_{}.gpkg'.format(area,group)), 'w') as out:\n",
    "#    out.add_layer(fetched_data_dict[group], name=' ', crs='EPSG:4326')\n"
   ]
  },
  {
   "cell_type": "code",
   "execution_count": 11,
   "metadata": {},
   "outputs": [],
   "source": [
    "def extended_health_data(area,fetched_infra_path,base_path):\n",
    "    \"\"\"function to extent health infrastrastructure data for an area, by transforming point data into polygon data and append it to polygon dataset. \n",
    "\n",
    "    Args:\n",
    "        *area* (str): area to be analyzed\n",
    "        *fetched_infra_path* (str): directory to output location of the extracted infrastructure data \n",
    "        *base_path* (str): directory to base folder\n",
    "    \"\"\"\n",
    "    \n",
    "    #import data\n",
    "    df_point = from_geofeather(os.path.join(fetched_infra_path, '{}_{}.feather'.format(area,'health_point'))) #open as geofeather \n",
    "    df_polygon = from_geofeather(os.path.join(fetched_infra_path, '{}_{}.feather'.format(area,'health_polygon'))) #open as geofeather \n",
    "\n",
    "    #remove duplicates\n",
    "    df_point_filtered = compare_point_to_polygon(df_point, df_polygon) #remove duplicates from point data\n",
    "\n",
    "    #area calculations for polygons\n",
    "    df_polygon.insert(1, \"area_degrees\", \"\") #add assettype as column after first column for length calculations\n",
    "    if not df_polygon.empty:\n",
    "        df_polygon[\"area_degrees\"] = pygeos.area(df_polygon.geometry) #calculate area in degrees per object and put in dataframe\n",
    "    area_per_type = df_polygon.groupby(['asset'])['area_degrees'].mean() #get mean area per infrastructure type\n",
    "\n",
    "    #assign mean area to infrastructure type point data\n",
    "    df_point_filtered.insert(1, \"area_degrees\", \"\")#create area deree column df point_filtered data\n",
    "    poly_types = area_per_type.index.tolist() #all polygon infra types to list\n",
    "    point_types = df_point_filtered.asset.unique().tolist() #all point infra types to list\n",
    "\n",
    "    for infra_type in poly_types:\n",
    "        if infra_type in point_types:\n",
    "            df_point_filtered.loc[df_point_filtered['asset'] == infra_type, 'area_degrees'] = area_per_type.loc[infra_type]\n",
    "\n",
    "    #assign area to infrastructure types that are absent in polygon dataset\n",
    "    missing_infra_types_lst = list(set(point_types) - set(poly_types)) #get infra types that are in point_types but not poly_types\n",
    "    mean_value = area_per_type.drop(['hospital', 'clinic']).mean() #get mean area of health facilities neglecting area of hospitals\n",
    "\n",
    "    for infra_type in missing_infra_types_lst:\n",
    "        df_point_filtered.loc[df_point_filtered['asset'] == infra_type, 'area_degrees'] = mean_value\n",
    "\n",
    "    #create polygon out of point data (see https://stackoverflow.com/questions/57507739/python-how-to-create-square-buffers-around-points-with-a-distance-in-meters)\n",
    "    df_point_filtered = df_point_filtered.rename(columns={'geometry' : 'geometry_point'})\n",
    "    df_point_filtered.insert(1, \"geometry\", \"\") #add geometry column to store polygon geometries\n",
    "    df_point_filtered['radius_degrees'] = (df_point_filtered['area_degrees']**(1/2))/2\n",
    "\n",
    "    for row in df_point_filtered.itertuples():\n",
    "        df_point_filtered['geometry'].loc[row.Index] = pygeos.buffer(row.geometry_point, row.radius_degrees, cap_style='square')\n",
    "\n",
    "    #combine health point and polygon df's\n",
    "    df_point_filtered = df_point_filtered.drop(columns=['geometry_point', 'radius_degrees','area_degrees'])\n",
    "    df_polygon = df_polygon.drop(columns=['area_degrees'])\n",
    "    df_health = df_polygon.append(df_point_filtered).reset_index(drop=True)\n",
    "\n",
    "    #print(\"Extraction of requested infrastructure is complete for group '{}' in area '{}'. This data will now be exported as geofeather...\".format(group, area))\n",
    "    to_geofeather(df_health, os.path.join(base_path, '{}_{}.feather'.format(area, 'health')), crs=\"EPSG:4326\") #save as geofeather\n",
    "    #Export fetched exposure data as geopackage\n",
    "    temp_df = cisi_exposure.transform_to_gpd(df_health)\n",
    "    temp_df.to_file(os.path.join(base_path, '{}_{}.gpkg'.format(area,'health')), layer=' ', driver=\"GPKG\")\n",
    "    #with Geopackage(os.path.join(fetched_infra_path, '{}_{}.gpkg'.format(area,group)), 'w') as out:\n",
    "    #    out.add_layer(fetched_data_dict[group], name=' ', crs='EPSG:4326')\n"
   ]
  },
  {
   "cell_type": "code",
   "execution_count": 13,
   "metadata": {},
   "outputs": [],
   "source": []
  },
  {
   "cell_type": "code",
   "execution_count": 107,
   "metadata": {},
   "outputs": [],
   "source": [
    "\n",
    "    "
   ]
  },
  {
   "cell_type": "code",
   "execution_count": 120,
   "metadata": {},
   "outputs": [
    {
     "data": {
      "text/html": [
       "<div>\n",
       "<style scoped>\n",
       "    .dataframe tbody tr th:only-of-type {\n",
       "        vertical-align: middle;\n",
       "    }\n",
       "\n",
       "    .dataframe tbody tr th {\n",
       "        vertical-align: top;\n",
       "    }\n",
       "\n",
       "    .dataframe thead th {\n",
       "        text-align: right;\n",
       "    }\n",
       "</style>\n",
       "<table border=\"1\" class=\"dataframe\">\n",
       "  <thead>\n",
       "    <tr style=\"text-align: right;\">\n",
       "      <th></th>\n",
       "      <th>osm_id</th>\n",
       "      <th>geometry</th>\n",
       "      <th>area_degrees</th>\n",
       "      <th>asset</th>\n",
       "      <th>geometry_point</th>\n",
       "      <th>radius_degrees</th>\n",
       "    </tr>\n",
       "  </thead>\n",
       "  <tbody>\n",
       "    <tr>\n",
       "      <th>0</th>\n",
       "      <td>95702648</td>\n",
       "      <td>POLYGON ((4.78 51.9, 4.78 51.9, 4.78 51.9, 4.7...</td>\n",
       "      <td>6.60982e-08</td>\n",
       "      <td>pharmacy</td>\n",
       "      <td>POINT (4.78 51.9)</td>\n",
       "      <td>0.000128548</td>\n",
       "    </tr>\n",
       "    <tr>\n",
       "      <th>1</th>\n",
       "      <td>206392665</td>\n",
       "      <td>POLYGON ((4.38 51.9, 4.38 51.9, 4.38 51.9, 4.3...</td>\n",
       "      <td>6.66196e-06</td>\n",
       "      <td>hospital</td>\n",
       "      <td>POINT (4.38 51.9)</td>\n",
       "      <td>0.00129054</td>\n",
       "    </tr>\n",
       "    <tr>\n",
       "      <th>2</th>\n",
       "      <td>278013448</td>\n",
       "      <td>POLYGON ((4.3 52, 4.3 52, 4.3 52, 4.3 52, 4.3 ...</td>\n",
       "      <td>6.60982e-08</td>\n",
       "      <td>pharmacy</td>\n",
       "      <td>POINT (4.3 52)</td>\n",
       "      <td>0.000128548</td>\n",
       "    </tr>\n",
       "    <tr>\n",
       "      <th>3</th>\n",
       "      <td>298488442</td>\n",
       "      <td>POLYGON ((4.61 51.9, 4.61 51.9, 4.61 51.9, 4.6...</td>\n",
       "      <td>6.60982e-08</td>\n",
       "      <td>pharmacy</td>\n",
       "      <td>POINT (4.61 51.9)</td>\n",
       "      <td>0.000128548</td>\n",
       "    </tr>\n",
       "    <tr>\n",
       "      <th>4</th>\n",
       "      <td>321558290</td>\n",
       "      <td>POLYGON ((4.5 52.2, 4.5 52.2, 4.5 52.2, 4.5 52...</td>\n",
       "      <td>6.60982e-08</td>\n",
       "      <td>pharmacy</td>\n",
       "      <td>POINT (4.5 52.2)</td>\n",
       "      <td>0.000128548</td>\n",
       "    </tr>\n",
       "    <tr>\n",
       "      <th>...</th>\n",
       "      <td>...</td>\n",
       "      <td>...</td>\n",
       "      <td>...</td>\n",
       "      <td>...</td>\n",
       "      <td>...</td>\n",
       "      <td>...</td>\n",
       "    </tr>\n",
       "    <tr>\n",
       "      <th>979</th>\n",
       "      <td>7274106713</td>\n",
       "      <td>POLYGON ((4.25 52, 4.25 52, 4.25 52, 4.25 52, ...</td>\n",
       "      <td>7.92404e-08</td>\n",
       "      <td>doctors</td>\n",
       "      <td>POINT (4.25 52)</td>\n",
       "      <td>0.000140748</td>\n",
       "    </tr>\n",
       "    <tr>\n",
       "      <th>980</th>\n",
       "      <td>7308912055</td>\n",
       "      <td>POLYGON ((4.54 52.2, 4.54 52.2, 4.54 52.2, 4.5...</td>\n",
       "      <td>7.92404e-08</td>\n",
       "      <td>doctors</td>\n",
       "      <td>POINT (4.54 52.2)</td>\n",
       "      <td>0.000140748</td>\n",
       "    </tr>\n",
       "    <tr>\n",
       "      <th>981</th>\n",
       "      <td>7398324056</td>\n",
       "      <td>POLYGON ((4.35 52, 4.35 52, 4.35 52, 4.35 52, ...</td>\n",
       "      <td>3.10408e-08</td>\n",
       "      <td>physiotherapist</td>\n",
       "      <td>POINT (4.35 52)</td>\n",
       "      <td>8.80921e-05</td>\n",
       "    </tr>\n",
       "    <tr>\n",
       "      <th>982</th>\n",
       "      <td>7495438552</td>\n",
       "      <td>POLYGON ((4.49 52.2, 4.49 52.2, 4.49 52.2, 4.4...</td>\n",
       "      <td>3.10408e-08</td>\n",
       "      <td>physiotherapist</td>\n",
       "      <td>POINT (4.49 52.2)</td>\n",
       "      <td>8.80921e-05</td>\n",
       "    </tr>\n",
       "    <tr>\n",
       "      <th>983</th>\n",
       "      <td>7619460301</td>\n",
       "      <td>POLYGON ((4.68 51.8, 4.68 51.8, 4.68 51.8, 4.6...</td>\n",
       "      <td>7.02123e-08</td>\n",
       "      <td>laboratory</td>\n",
       "      <td>POINT (4.68 51.8)</td>\n",
       "      <td>0.000132488</td>\n",
       "    </tr>\n",
       "  </tbody>\n",
       "</table>\n",
       "<p>984 rows × 6 columns</p>\n",
       "</div>"
      ],
      "text/plain": [
       "         osm_id                                           geometry  \\\n",
       "0      95702648  POLYGON ((4.78 51.9, 4.78 51.9, 4.78 51.9, 4.7...   \n",
       "1     206392665  POLYGON ((4.38 51.9, 4.38 51.9, 4.38 51.9, 4.3...   \n",
       "2     278013448  POLYGON ((4.3 52, 4.3 52, 4.3 52, 4.3 52, 4.3 ...   \n",
       "3     298488442  POLYGON ((4.61 51.9, 4.61 51.9, 4.61 51.9, 4.6...   \n",
       "4     321558290  POLYGON ((4.5 52.2, 4.5 52.2, 4.5 52.2, 4.5 52...   \n",
       "..          ...                                                ...   \n",
       "979  7274106713  POLYGON ((4.25 52, 4.25 52, 4.25 52, 4.25 52, ...   \n",
       "980  7308912055  POLYGON ((4.54 52.2, 4.54 52.2, 4.54 52.2, 4.5...   \n",
       "981  7398324056  POLYGON ((4.35 52, 4.35 52, 4.35 52, 4.35 52, ...   \n",
       "982  7495438552  POLYGON ((4.49 52.2, 4.49 52.2, 4.49 52.2, 4.4...   \n",
       "983  7619460301  POLYGON ((4.68 51.8, 4.68 51.8, 4.68 51.8, 4.6...   \n",
       "\n",
       "    area_degrees            asset     geometry_point radius_degrees  \n",
       "0    6.60982e-08         pharmacy  POINT (4.78 51.9)    0.000128548  \n",
       "1    6.66196e-06         hospital  POINT (4.38 51.9)     0.00129054  \n",
       "2    6.60982e-08         pharmacy     POINT (4.3 52)    0.000128548  \n",
       "3    6.60982e-08         pharmacy  POINT (4.61 51.9)    0.000128548  \n",
       "4    6.60982e-08         pharmacy   POINT (4.5 52.2)    0.000128548  \n",
       "..           ...              ...                ...            ...  \n",
       "979  7.92404e-08          doctors    POINT (4.25 52)    0.000140748  \n",
       "980  7.92404e-08          doctors  POINT (4.54 52.2)    0.000140748  \n",
       "981  3.10408e-08  physiotherapist    POINT (4.35 52)    8.80921e-05  \n",
       "982  3.10408e-08  physiotherapist  POINT (4.49 52.2)    8.80921e-05  \n",
       "983  7.02123e-08       laboratory  POINT (4.68 51.8)    0.000132488  \n",
       "\n",
       "[984 rows x 6 columns]"
      ]
     },
     "execution_count": 120,
     "metadata": {},
     "output_type": "execute_result"
    }
   ],
   "source": [
    "df_point_filtered"
   ]
  },
  {
   "cell_type": "code",
   "execution_count": 121,
   "metadata": {},
   "outputs": [
    {
     "data": {
      "text/plain": [
       "<matplotlib.axes._subplots.AxesSubplot at 0x1e16b1e1100>"
      ]
     },
     "execution_count": 121,
     "metadata": {},
     "output_type": "execute_result"
    },
    {
     "data": {
      "image/png": "[encoded data removed]",
      "text/plain": [
       "<Figure size 1440x1440 with 1 Axes>"
      ]
     },
     "metadata": {
      "needs_background": "light"
     },
     "output_type": "display_data"
    }
   ],
   "source": [
    "temp_df = cisi_exposure.transform_to_gpd(df_point_filtered)\n",
    "temp_df.plot(column='asset')"
   ]
  },
  {
   "cell_type": "code",
   "execution_count": 14,
   "metadata": {},
   "outputs": [],
   "source": [
    "check = from_geofeather(os.path.join(r'\\\\labsdfs.labs.vu.nl\\labsdfs\\BETA-IVM-BAZIS\\snn490\\Outputs\\Exposure\\CISI_reclass_roads\\Fetched_infrastructure', 'ITA_roads.feather'))"
   ]
  },
  {
   "cell_type": "code",
   "execution_count": null,
   "metadata": {},
   "outputs": [],
   "source": [
    "check"
   ]
  }
 ],
 "metadata": {
  "kernelspec": {
   "display_name": "Python 3",
   "language": "python",
   "name": "python3"
  },
  "language_info": {
   "codemirror_mode": {
    "name": "ipython",
    "version": 3
   },
   "file_extension": ".py",
   "mimetype": "text/x-python",
   "name": "python",
   "nbconvert_exporter": "python",
   "pygments_lexer": "ipython3",
   "version": "3.8.3"
  }
 },
 "nbformat": 4,
 "nbformat_minor": 4
}
