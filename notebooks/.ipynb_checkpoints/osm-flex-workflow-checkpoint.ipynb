{
 "cells": [
  {
   "cell_type": "code",
   "execution_count": 1,
   "id": "65ecaf68-e384-4f31-be3a-d675b7be61ca",
   "metadata": {},
   "outputs": [],
   "source": [
    "import os\n",
    "import geopandas as gpd\n",
    "import pandas as pd\n",
    "import xarray as xr\n",
    "import numpy as np \n",
    "import shapely \n",
    "\n",
    "import osm_flex.download as dl\n",
    "import osm_flex.extract as ex\n",
    "from osm_flex.config import OSM_DATA_DIR\n",
    "\n",
    "from tqdm import tqdm\n",
    "\n",
    "from lonboard import viz\n",
    "from lonboard.colormap import apply_continuous_cmap\n",
    "from palettable.colorbrewer.sequential import Blues_9\n",
    "\n",
    "from pathlib import Path\n",
    "import pathlib"
   ]
  },
  {
   "cell_type": "code",
   "execution_count": 2,
   "id": "1017b90c-6b11-47ef-90a1-dfe7f5c8c0ae",
   "metadata": {},
   "outputs": [],
   "source": [
    "#define paths\n",
    "p = Path('..')\n",
    "data_path = Path(pathlib.Path.home().parts[0]) / 'Projects' / 'gmhcira' / 'data'\n",
    "flood_data = Path(os.path.abspath(r'\\\\labsdfs.labs.vu.nl\\labsdfs\\BETA-IVM-BAZIS\\eks510\\fathom-global')) # 'Flood_data'\n",
    "vul_data = data_path / 'Vulnerability'"
   ]
  },
  {
   "cell_type": "markdown",
   "id": "c8b6bffb-cd9b-49df-a5fd-40bd12182a14",
   "metadata": {},
   "source": [
    "### LOAD OSM DATA"
   ]
  },
  {
   "cell_type": "code",
   "execution_count": 3,
   "id": "3a92974e-6427-46e1-b759-f1d442c3faef",
   "metadata": {},
   "outputs": [
    {
     "name": "stderr",
     "output_type": "stream",
     "text": [
      "C:\\Users\\snn490\\AppData\\Local\\miniforge3\\envs\\py311\\Lib\\site-packages\\osgeo\\ogr.py:560: FutureWarning: Neither ogr.UseExceptions() nor ogr.DontUseExceptions() has been explicitly called. In GDAL 4.0, exceptions will be enabled by default.\n",
      "  warnings.warn(\n",
      "extract points: 0it [00:00, ?it/s]\n",
      "extract multipolygons: 100%|█████████████████████████████████████████████████████████████| 2/2 [00:16<00:00,  8.41s/it]\n",
      "extract lines: 100%|███████████████████████████████████████████████████████████| 39974/39974 [00:10<00:00, 3772.22it/s]\n"
     ]
    }
   ],
   "source": [
    "iso3 = 'JAM' # Set the ISO3 country code\n",
    "dl.get_country_geofabrik(iso3) # Use the download library to get the geofabrik data for the specified country\n",
    "\n",
    "data_loc = OSM_DATA_DIR.joinpath('jamaica-latest.osm.pbf') # Specify the location of the OpenStreetMap (OSM) data file for Jamaica\n",
    "\n",
    "assets = ex.extract_cis(data_loc, 'road') # Extract assets related to roads from the OSM data using the extraction module\n",
    "assets = assets.loc[assets.geometry.geom_type == 'LineString'] # Filter assets to include only LineString geometries (roads)\n",
    "roads = assets.rename(columns={'highway' : 'asset'}) # Rename the 'highway' column to 'asset' for better clarity"
   ]
  },
  {
   "cell_type": "code",
   "execution_count": 4,
   "id": "28f68ff5-00fb-4318-b220-587829ce5aed",
   "metadata": {
    "scrolled": true
   },
   "outputs": [
    {
     "data": {
      "application/vnd.jupyter.widget-view+json": {
       "model_id": "c8de60bb59914157a7662296e21c685d",
       "version_major": 2,
       "version_minor": 0
      },
      "text/plain": [
       "Map(layers=[PathLayer(table=pyarrow.Table\n",
       "osm_id: string\n",
       "highway: string\n",
       "name: string\n",
       "maxspeed: string\n",
       "lanes: …"
      ]
     },
     "execution_count": 4,
     "metadata": {},
     "output_type": "execute_result"
    }
   ],
   "source": [
    "viz(assets,width_min_pixels =1)"
   ]
  },
  {
   "cell_type": "markdown",
   "id": "1fb2454a-f2bd-4b6d-9e85-74a498feba54",
   "metadata": {},
   "source": [
    "### LOAD HAZARD DATA"
   ]
  },
  {
   "cell_type": "code",
   "execution_count": 5,
   "id": "3fd8dc9e-e50c-49d1-ac53-e9bee7121f62",
   "metadata": {},
   "outputs": [],
   "source": [
    "fluvial_data = flood_data / 'Jamaica' / 'fluvial_undefended'"
   ]
  },
  {
   "cell_type": "code",
   "execution_count": 6,
   "id": "2e82f33a-365e-4a06-954f-62817c97c91c",
   "metadata": {},
   "outputs": [],
   "source": [
    "fluvial_flood = list(fluvial_data.iterdir())[2] # get second item of list with data layers"
   ]
  },
  {
   "cell_type": "code",
   "execution_count": 7,
   "id": "cb067561-f98d-46a5-9eda-e0b94562afd4",
   "metadata": {},
   "outputs": [],
   "source": [
    "flood_map = xr.open_dataset(fluvial_flood, engine=\"rasterio\")"
   ]
  },
  {
   "cell_type": "code",
   "execution_count": 8,
   "id": "e584ec99-b67c-4f84-a106-c23034c5f8cb",
   "metadata": {},
   "outputs": [],
   "source": [
    "flood_map_vector = flood_map['band_data'].to_dataframe().reset_index() #transform to dataframe\n",
    "\n",
    "#remove data that will not be used\n",
    "flood_map_vector = flood_map_vector.loc[(flood_map_vector.band_data > 0) & (flood_map_vector.band_data < 100)]\n",
    "\n",
    "# create geometry values and drop lat lon columns\n",
    "flood_map_vector['geometry'] = [shapely.points(x) for x in list(zip(flood_map_vector['x'],flood_map_vector['y']))]\n",
    "flood_map_vector = flood_map_vector.drop(['x','y','band','spatial_ref'],axis=1)\n",
    "\n",
    "# drop all non values to reduce size\n",
    "flood_map_vector = flood_map_vector.loc[~flood_map_vector['band_data'].isna()].reset_index(drop=True)\n",
    "\n",
    "# and turn them into squares again:\n",
    "flood_map_vector.geometry= shapely.buffer(flood_map_vector.geometry,distance=0.00083/2,cap_style='square').values"
   ]
  },
  {
   "cell_type": "code",
   "execution_count": 9,
   "id": "fe7a7344-1ab3-41df-a3ce-234215169632",
   "metadata": {},
   "outputs": [
    {
     "data": {
      "application/vnd.jupyter.widget-view+json": {
       "model_id": "0f1ad1957a494e91ae76c49f314c7f2f",
       "version_major": 2,
       "version_minor": 0
      },
      "text/plain": [
       "Map(layers=[SolidPolygonLayer(get_fill_color=<pyarrow.lib.FixedSizeListArray object at 0x000001ADACF495A0>\n",
       "[\n",
       " …"
      ]
     },
     "execution_count": 9,
     "metadata": {},
     "output_type": "execute_result"
    }
   ],
   "source": [
    "viz(gpd.GeoDataFrame(flood_map_vector.copy()),\n",
    "   get_fill_color = apply_continuous_cmap(flood_map_vector.band_data, Blues_9))"
   ]
  },
  {
   "cell_type": "markdown",
   "id": "9825dacb-081d-425e-a131-2e158d118d87",
   "metadata": {},
   "source": [
    "### LOAD VULNERABILITY DATA"
   ]
  },
  {
   "cell_type": "code",
   "execution_count": 10,
   "id": "7e7bdd23-49d9-4782-b9b1-949f4a3abba2",
   "metadata": {},
   "outputs": [],
   "source": [
    "curves = pd.read_excel(vul_data / 'Table_D2_Multi-Hazard_Fragility_and_Vulnerability_Curves_V1.0.0.xlsx',sheet_name = 'F_Vuln_Depth',index_col=[0],header=[0,1,2,3,4])\n",
    "infra_curves = curves.loc[:, curves.columns.get_level_values('Infrastructure description').str.contains('Roads')]"
   ]
  },
  {
   "cell_type": "code",
   "execution_count": 11,
   "id": "9179ae5c-074f-4991-8fda-9329ac769cf2",
   "metadata": {},
   "outputs": [],
   "source": [
    "maxdam = pd.read_excel(vul_data / 'Table_D3_Costs_V1.0.0.xlsx',sheet_name='Cost_Database',index_col=[0])"
   ]
  },
  {
   "cell_type": "markdown",
   "id": "ccda35c8-0be3-4cb1-90c1-1f619034a375",
   "metadata": {},
   "source": [
    "### PERFORM DAMAGE ASSESSMENT"
   ]
  },
  {
   "cell_type": "code",
   "execution_count": 12,
   "id": "faab6a8d-8b72-4603-8223-95e58dee7ed5",
   "metadata": {},
   "outputs": [],
   "source": [
    "def overlay_hazard_assets(df_ds,assets):\n",
    "    \"\"\"\n",
    "    Overlay hazard assets on a dataframe of spatial geometries.\n",
    "    Arguments:\n",
    "        *df_ds*: GeoDataFrame containing the spatial geometries of the hazard data. \n",
    "        *assets*: GeoDataFrame containing the infrastructure assets.\n",
    "    Returns:\n",
    "        *geopandas.GeoSeries*: A GeoSeries containing the spatial geometries of df_ds that intersect with the infrastructure assets.\n",
    "    \"\"\"\n",
    "    #overlay \n",
    "    hazard_tree = shapely.STRtree(df_ds.geometry.values)\n",
    "    if (shapely.get_type_id(assets.iloc[0].geometry) == 3) | (shapely.get_type_id(assets.iloc[0].geometry) == 6): # id types 3 and 6 stand for polygon and multipolygon\n",
    "        return  hazard_tree.query(assets.geometry,predicate='intersects')    \n",
    "    else:\n",
    "        return  hazard_tree.query(assets.buffered,predicate='intersects')\n",
    "\n",
    "def buffer_assets(assets,buffer_size=0.00083):\n",
    "    \"\"\"\n",
    "    Buffer spatial assets in a GeoDataFrame.\n",
    "    Arguments:\n",
    "        *assets*: GeoDataFrame containing spatial geometries to be buffered.\n",
    "        *buffer_size* (float, optional): The distance by which to buffer the geometries. Default is 0.00083.\n",
    "    Returns:\n",
    "        *GeoDataFrame*: A new GeoDataFrame with an additional 'buffered' column containing the buffered geometries.\n",
    "    \"\"\"\n",
    "    assets['buffered'] = shapely.buffer(assets.geometry.values,distance=buffer_size)\n",
    "    return assets\n",
    "\n",
    "def get_damage_per_asset(asset,flood_numpified,asset_geom,asset_type,curve,maxdam):\n",
    "    \"\"\"\n",
    "    Calculate damage for a given asset based on hazard information.\n",
    "    Arguments:\n",
    "        *asset*: Tuple containing information about the asset. It includes:\n",
    "            - Index or identifier of the asset (asset[0]).\n",
    "            - Asset-specific information, including hazard points (asset[1]['hazard_point']).\n",
    "        *flood_numpified*: NumPy array representing flood hazard information.\n",
    "        *asset_geom*: Shapely geometry representing the spatial coordinates of the asset.\n",
    "        *asset_type*: String representing type of asset.\n",
    "        *curve*: Pandas DataFrame representing the curve for the asset type.\n",
    "        *maxdam*: Maximum damage value.\n",
    "    Returns:\n",
    "        *tuple*: A tuple containing the asset index or identifier and the calculated damage.\n",
    "    \"\"\"\n",
    "    \n",
    "    # find the exact hazard overlays:\n",
    "    get_hazard_points = flood_numpified[asset[1]['hazard_point'].values] \n",
    "    get_hazard_points[shapely.intersects(get_hazard_points[:,1],asset_geom)]\n",
    "\n",
    "    # get maxdam and curves\n",
    "    maxdam_asset = maxdam\n",
    "    hazard_intensity = curve.index.values\n",
    "    fragility_values = curve.iloc[:,0].values\n",
    "\n",
    "    # estimate damage\n",
    "    if len(get_hazard_points) == 0: # no overlay of asset with hazard\n",
    "        return asset[0],0\n",
    "    else:\n",
    "        overlay_meters = shapely.length(shapely.intersection(get_hazard_points[:,1],asset_geom)) # get the length of exposed meters per hazard cell\n",
    "        return asset[0],np.sum((np.interp(np.float16(get_hazard_points[:,0]),hazard_intensity,fragility_values))*overlay_meters*maxdam_asset) #return asset number, total damage for asset number (damage factor * meters * max. damage)"
   ]
  },
  {
   "cell_type": "code",
   "execution_count": 13,
   "id": "0b730e39-3301-4ca1-a76d-0e307f27d9fb",
   "metadata": {},
   "outputs": [
    {
     "name": "stdout",
     "output_type": "stream",
     "text": [
      "CPU times: total: 11.1 s\n",
      "Wall time: 11.4 s\n"
     ]
    }
   ],
   "source": [
    "%%time\n",
    "overlay_roads = pd.DataFrame(overlay_hazard_assets(flood_map_vector,buffer_assets(roads)).T,columns=['asset','hazard_point'])"
   ]
  },
  {
   "cell_type": "code",
   "execution_count": 14,
   "id": "da671451-edb1-4b50-8c9d-f5e934882a02",
   "metadata": {},
   "outputs": [],
   "source": [
    "maxdams = maxdam.loc['Roads','Amount'].dropna()[:10]"
   ]
  },
  {
   "cell_type": "code",
   "execution_count": 15,
   "id": "1dd29e81-8b36-412b-b1d2-b9c3d8bbcbc4",
   "metadata": {},
   "outputs": [
    {
     "name": "stderr",
     "output_type": "stream",
     "text": [
      "polyline damage calculation for F7.1 with a max dam of 909.3454827565133: 100%|███| 3243/3243 [00:03<00:00, 979.71it/s]\n",
      "polyline damage calculation for F7.1 with a max dam of 909.3454827565133: 100%|██| 3243/3243 [00:03<00:00, 1041.56it/s]\n",
      "polyline damage calculation for F7.1 with a max dam of 7.7971745573977564: 100%|█| 3243/3243 [00:02<00:00, 1128.40it/s]\n",
      "polyline damage calculation for F7.1 with a max dam of 5746.447358140652: 100%|███| 3243/3243 [00:03<00:00, 960.62it/s]\n",
      "polyline damage calculation for F7.1 with a max dam of 1340.8377168994855: 100%|█| 3243/3243 [00:02<00:00, 1207.03it/s]\n",
      "polyline damage calculation for F7.1 with a max dam of 660.841446186175: 100%|███| 3243/3243 [00:02<00:00, 1173.03it/s]\n",
      "polyline damage calculation for F7.1 with a max dam of 95.77412263567753: 100%|███| 3243/3243 [00:03<00:00, 893.56it/s]\n",
      "polyline damage calculation for F7.1 with a max dam of 114.92894716281305: 100%|██| 3243/3243 [00:03<00:00, 910.19it/s]\n",
      "polyline damage calculation for F7.1 with a max dam of 221597.82214470676: 100%|█| 3243/3243 [00:02<00:00, 1132.42it/s]\n",
      "polyline damage calculation for F7.1 with a max dam of 22159.782214470677: 100%|██| 3243/3243 [00:03<00:00, 888.75it/s]\n",
      "polyline damage calculation for F7.2 with a max dam of 909.3454827565133: 100%|██| 3243/3243 [00:02<00:00, 1130.01it/s]\n",
      "polyline damage calculation for F7.2 with a max dam of 909.3454827565133: 100%|██| 3243/3243 [00:02<00:00, 1233.87it/s]\n",
      "polyline damage calculation for F7.2 with a max dam of 7.7971745573977564: 100%|█| 3243/3243 [00:02<00:00, 1203.24it/s]\n",
      "polyline damage calculation for F7.2 with a max dam of 5746.447358140652: 100%|██| 3243/3243 [00:02<00:00, 1135.50it/s]\n",
      "polyline damage calculation for F7.2 with a max dam of 1340.8377168994855: 100%|█| 3243/3243 [00:02<00:00, 1124.71it/s]\n",
      "polyline damage calculation for F7.2 with a max dam of 660.841446186175: 100%|███| 3243/3243 [00:02<00:00, 1178.47it/s]\n",
      "polyline damage calculation for F7.2 with a max dam of 95.77412263567753: 100%|██| 3243/3243 [00:02<00:00, 1222.18it/s]\n",
      "polyline damage calculation for F7.2 with a max dam of 114.92894716281305: 100%|█| 3243/3243 [00:02<00:00, 1250.64it/s]\n",
      "polyline damage calculation for F7.2 with a max dam of 221597.82214470676: 100%|█| 3243/3243 [00:02<00:00, 1252.30it/s]\n",
      "polyline damage calculation for F7.2 with a max dam of 22159.782214470677: 100%|█| 3243/3243 [00:02<00:00, 1230.01it/s]\n",
      "polyline damage calculation for F7.2a (lower boundary) with a max dam of 909.3454827565133: 100%|█| 3243/3243 [00:02<00\n",
      "polyline damage calculation for F7.2a (lower boundary) with a max dam of 909.3454827565133: 100%|█| 3243/3243 [00:02<00\n",
      "polyline damage calculation for F7.2a (lower boundary) with a max dam of 7.7971745573977564: 100%|█| 3243/3243 [00:03<0\n",
      "polyline damage calculation for F7.2a (lower boundary) with a max dam of 5746.447358140652: 100%|█| 3243/3243 [00:03<00\n",
      "polyline damage calculation for F7.2a (lower boundary) with a max dam of 1340.8377168994855: 100%|█| 3243/3243 [00:03<0\n",
      "polyline damage calculation for F7.2a (lower boundary) with a max dam of 660.841446186175: 100%|█| 3243/3243 [00:02<00:\n",
      "polyline damage calculation for F7.2a (lower boundary) with a max dam of 95.77412263567753: 100%|█| 3243/3243 [00:02<00\n",
      "polyline damage calculation for F7.2a (lower boundary) with a max dam of 114.92894716281305: 100%|█| 3243/3243 [00:02<0\n",
      "polyline damage calculation for F7.2a (lower boundary) with a max dam of 221597.82214470676: 100%|█| 3243/3243 [00:02<0\n",
      "polyline damage calculation for F7.2a (lower boundary) with a max dam of 22159.782214470677: 100%|█| 3243/3243 [00:02<0\n",
      "polyline damage calculation for F7.2b (upper boundary) with a max dam of 909.3454827565133: 100%|█| 3243/3243 [00:02<00\n",
      "polyline damage calculation for F7.2b (upper boundary) with a max dam of 909.3454827565133: 100%|█| 3243/3243 [00:02<00\n",
      "polyline damage calculation for F7.2b (upper boundary) with a max dam of 7.7971745573977564: 100%|█| 3243/3243 [00:03<0\n",
      "polyline damage calculation for F7.2b (upper boundary) with a max dam of 5746.447358140652: 100%|█| 3243/3243 [00:03<00\n",
      "polyline damage calculation for F7.2b (upper boundary) with a max dam of 1340.8377168994855: 100%|█| 3243/3243 [00:03<0\n",
      "polyline damage calculation for F7.2b (upper boundary) with a max dam of 660.841446186175: 100%|█| 3243/3243 [00:03<00:\n",
      "polyline damage calculation for F7.2b (upper boundary) with a max dam of 95.77412263567753: 100%|█| 3243/3243 [00:02<00\n",
      "polyline damage calculation for F7.2b (upper boundary) with a max dam of 114.92894716281305: 100%|█| 3243/3243 [00:02<0\n",
      "polyline damage calculation for F7.2b (upper boundary) with a max dam of 221597.82214470676: 100%|█| 3243/3243 [00:03<0\n",
      "polyline damage calculation for F7.2b (upper boundary) with a max dam of 22159.782214470677: 100%|█| 3243/3243 [00:03<0\n",
      "polyline damage calculation for F7.3 with a max dam of 909.3454827565133: 100%|██| 3243/3243 [00:02<00:00, 1168.72it/s]\n",
      "polyline damage calculation for F7.3 with a max dam of 909.3454827565133: 100%|██| 3243/3243 [00:02<00:00, 1236.85it/s]\n",
      "polyline damage calculation for F7.3 with a max dam of 7.7971745573977564: 100%|█| 3243/3243 [00:02<00:00, 1253.43it/s]\n",
      "polyline damage calculation for F7.3 with a max dam of 5746.447358140652: 100%|██| 3243/3243 [00:02<00:00, 1252.80it/s]\n",
      "polyline damage calculation for F7.3 with a max dam of 1340.8377168994855: 100%|█| 3243/3243 [00:02<00:00, 1195.50it/s]\n",
      "polyline damage calculation for F7.3 with a max dam of 660.841446186175: 100%|███| 3243/3243 [00:02<00:00, 1234.22it/s]\n",
      "polyline damage calculation for F7.3 with a max dam of 95.77412263567753: 100%|██| 3243/3243 [00:02<00:00, 1255.54it/s]\n",
      "polyline damage calculation for F7.3 with a max dam of 114.92894716281305: 100%|█| 3243/3243 [00:02<00:00, 1218.32it/s]\n",
      "polyline damage calculation for F7.3 with a max dam of 221597.82214470676: 100%|█| 3243/3243 [00:02<00:00, 1247.32it/s]\n",
      "polyline damage calculation for F7.3 with a max dam of 22159.782214470677: 100%|█| 3243/3243 [00:02<00:00, 1136.98it/s]\n",
      "polyline damage calculation for F7.4 with a max dam of 909.3454827565133: 100%|██| 3243/3243 [00:02<00:00, 1241.98it/s]\n",
      "polyline damage calculation for F7.4 with a max dam of 909.3454827565133: 100%|██| 3243/3243 [00:02<00:00, 1159.45it/s]\n",
      "polyline damage calculation for F7.4 with a max dam of 7.7971745573977564: 100%|█| 3243/3243 [00:02<00:00, 1240.30it/s]\n",
      "polyline damage calculation for F7.4 with a max dam of 5746.447358140652: 100%|██| 3243/3243 [00:02<00:00, 1238.58it/s]\n",
      "polyline damage calculation for F7.4 with a max dam of 1340.8377168994855: 100%|█| 3243/3243 [00:02<00:00, 1239.56it/s]\n",
      "polyline damage calculation for F7.4 with a max dam of 660.841446186175: 100%|███| 3243/3243 [00:02<00:00, 1170.50it/s]\n",
      "polyline damage calculation for F7.4 with a max dam of 95.77412263567753: 100%|██| 3243/3243 [00:02<00:00, 1247.48it/s]\n",
      "polyline damage calculation for F7.4 with a max dam of 114.92894716281305: 100%|█| 3243/3243 [00:02<00:00, 1242.39it/s]\n",
      "polyline damage calculation for F7.4 with a max dam of 221597.82214470676: 100%|█| 3243/3243 [00:02<00:00, 1168.74it/s]\n",
      "polyline damage calculation for F7.4 with a max dam of 22159.782214470677: 100%|█| 3243/3243 [00:02<00:00, 1250.25it/s]\n",
      "polyline damage calculation for F7.5 with a max dam of 909.3454827565133: 100%|██| 3243/3243 [00:02<00:00, 1231.97it/s]\n",
      "polyline damage calculation for F7.5 with a max dam of 909.3454827565133: 100%|██| 3243/3243 [00:02<00:00, 1239.96it/s]\n",
      "polyline damage calculation for F7.5 with a max dam of 7.7971745573977564: 100%|█| 3243/3243 [00:02<00:00, 1250.02it/s]\n",
      "polyline damage calculation for F7.5 with a max dam of 5746.447358140652: 100%|██| 3243/3243 [00:02<00:00, 1241.57it/s]\n",
      "polyline damage calculation for F7.5 with a max dam of 1340.8377168994855: 100%|█| 3243/3243 [00:02<00:00, 1242.17it/s]\n",
      "polyline damage calculation for F7.5 with a max dam of 660.841446186175: 100%|███| 3243/3243 [00:02<00:00, 1179.20it/s]\n",
      "polyline damage calculation for F7.5 with a max dam of 95.77412263567753: 100%|██| 3243/3243 [00:02<00:00, 1224.54it/s]\n",
      "polyline damage calculation for F7.5 with a max dam of 114.92894716281305: 100%|█| 3243/3243 [00:02<00:00, 1215.94it/s]\n",
      "polyline damage calculation for F7.5 with a max dam of 221597.82214470676: 100%|█| 3243/3243 [00:02<00:00, 1240.81it/s]\n",
      "polyline damage calculation for F7.5 with a max dam of 22159.782214470677: 100%|█| 3243/3243 [00:02<00:00, 1225.18it/s]\n",
      "polyline damage calculation for F7.6 with a max dam of 909.3454827565133: 100%|██| 3243/3243 [00:02<00:00, 1239.88it/s]\n",
      "polyline damage calculation for F7.6 with a max dam of 909.3454827565133: 100%|██| 3243/3243 [00:02<00:00, 1187.21it/s]\n",
      "polyline damage calculation for F7.6 with a max dam of 7.7971745573977564: 100%|█| 3243/3243 [00:02<00:00, 1244.17it/s]\n",
      "polyline damage calculation for F7.6 with a max dam of 5746.447358140652: 100%|██| 3243/3243 [00:02<00:00, 1244.81it/s]\n",
      "polyline damage calculation for F7.6 with a max dam of 1340.8377168994855: 100%|█| 3243/3243 [00:02<00:00, 1199.84it/s]\n",
      "polyline damage calculation for F7.6 with a max dam of 660.841446186175: 100%|███| 3243/3243 [00:02<00:00, 1219.79it/s]\n",
      "polyline damage calculation for F7.6 with a max dam of 95.77412263567753: 100%|██| 3243/3243 [00:02<00:00, 1244.82it/s]\n",
      "polyline damage calculation for F7.6 with a max dam of 114.92894716281305: 100%|█| 3243/3243 [00:02<00:00, 1249.03it/s]\n",
      "polyline damage calculation for F7.6 with a max dam of 221597.82214470676: 100%|█| 3243/3243 [00:02<00:00, 1125.92it/s]\n",
      "polyline damage calculation for F7.6 with a max dam of 22159.782214470677: 100%|█| 3243/3243 [00:02<00:00, 1218.96it/s]\n",
      "polyline damage calculation for F7.7 with a max dam of 909.3454827565133: 100%|██| 3243/3243 [00:02<00:00, 1224.43it/s]\n",
      "polyline damage calculation for F7.7 with a max dam of 909.3454827565133: 100%|██| 3243/3243 [00:02<00:00, 1229.45it/s]\n",
      "polyline damage calculation for F7.7 with a max dam of 7.7971745573977564: 100%|█| 3243/3243 [00:02<00:00, 1227.29it/s]\n",
      "polyline damage calculation for F7.7 with a max dam of 5746.447358140652: 100%|██| 3243/3243 [00:02<00:00, 1239.87it/s]\n",
      "polyline damage calculation for F7.7 with a max dam of 1340.8377168994855: 100%|█| 3243/3243 [00:02<00:00, 1157.96it/s]\n",
      "polyline damage calculation for F7.7 with a max dam of 660.841446186175: 100%|███| 3243/3243 [00:02<00:00, 1224.37it/s]\n",
      "polyline damage calculation for F7.7 with a max dam of 95.77412263567753: 100%|██| 3243/3243 [00:02<00:00, 1165.76it/s]\n",
      "polyline damage calculation for F7.7 with a max dam of 114.92894716281305: 100%|█| 3243/3243 [00:02<00:00, 1241.76it/s]\n",
      "polyline damage calculation for F7.7 with a max dam of 221597.82214470676: 100%|█| 3243/3243 [00:02<00:00, 1232.15it/s]\n",
      "polyline damage calculation for F7.7 with a max dam of 22159.782214470677: 100%|█| 3243/3243 [00:02<00:00, 1237.70it/s]\n",
      "polyline damage calculation for F7.8 with a max dam of 909.3454827565133: 100%|██| 3243/3243 [00:02<00:00, 1193.86it/s]\n",
      "polyline damage calculation for F7.8 with a max dam of 909.3454827565133: 100%|██| 3243/3243 [00:02<00:00, 1224.32it/s]\n",
      "polyline damage calculation for F7.8 with a max dam of 7.7971745573977564: 100%|█| 3243/3243 [00:02<00:00, 1239.84it/s]\n",
      "polyline damage calculation for F7.8 with a max dam of 5746.447358140652: 100%|██| 3243/3243 [00:02<00:00, 1248.09it/s]\n",
      "polyline damage calculation for F7.8 with a max dam of 1340.8377168994855: 100%|█| 3243/3243 [00:02<00:00, 1228.52it/s]\n",
      "polyline damage calculation for F7.8 with a max dam of 660.841446186175: 100%|███| 3243/3243 [00:02<00:00, 1240.81it/s]\n",
      "polyline damage calculation for F7.8 with a max dam of 95.77412263567753: 100%|██| 3243/3243 [00:02<00:00, 1148.43it/s]\n",
      "polyline damage calculation for F7.8 with a max dam of 114.92894716281305: 100%|█| 3243/3243 [00:02<00:00, 1214.46it/s]\n",
      "polyline damage calculation for F7.8 with a max dam of 221597.82214470676: 100%|█| 3243/3243 [00:02<00:00, 1241.46it/s]\n",
      "polyline damage calculation for F7.8 with a max dam of 22159.782214470677: 100%|█| 3243/3243 [00:02<00:00, 1244.88it/s]\n",
      "polyline damage calculation for F7.9 with a max dam of 909.3454827565133: 100%|██| 3243/3243 [00:02<00:00, 1218.98it/s]\n",
      "polyline damage calculation for F7.9 with a max dam of 909.3454827565133: 100%|██| 3243/3243 [00:02<00:00, 1232.49it/s]\n",
      "polyline damage calculation for F7.9 with a max dam of 7.7971745573977564: 100%|█| 3243/3243 [00:02<00:00, 1190.01it/s]\n",
      "polyline damage calculation for F7.9 with a max dam of 5746.447358140652: 100%|██| 3243/3243 [00:02<00:00, 1239.11it/s]\n",
      "polyline damage calculation for F7.9 with a max dam of 1340.8377168994855: 100%|█| 3243/3243 [00:02<00:00, 1241.61it/s]\n",
      "polyline damage calculation for F7.9 with a max dam of 660.841446186175: 100%|███| 3243/3243 [00:02<00:00, 1247.44it/s]\n",
      "polyline damage calculation for F7.9 with a max dam of 95.77412263567753: 100%|██| 3243/3243 [00:02<00:00, 1236.76it/s]\n",
      "polyline damage calculation for F7.9 with a max dam of 114.92894716281305: 100%|█| 3243/3243 [00:02<00:00, 1237.96it/s]\n",
      "polyline damage calculation for F7.9 with a max dam of 221597.82214470676: 100%|█| 3243/3243 [00:02<00:00, 1180.39it/s]\n",
      "polyline damage calculation for F7.9 with a max dam of 22159.782214470677: 100%|█| 3243/3243 [00:02<00:00, 1234.62it/s]\n",
      "polyline damage calculation for F7.10 with a max dam of 909.3454827565133: 100%|█| 3243/3243 [00:02<00:00, 1240.23it/s]\n",
      "polyline damage calculation for F7.10 with a max dam of 909.3454827565133: 100%|█| 3243/3243 [00:02<00:00, 1133.59it/s]\n",
      "polyline damage calculation for F7.10 with a max dam of 7.7971745573977564: 100%|█| 3243/3243 [00:02<00:00, 1244.81it/s\n",
      "polyline damage calculation for F7.10 with a max dam of 5746.447358140652: 100%|█| 3243/3243 [00:02<00:00, 1248.06it/s]\n",
      "polyline damage calculation for F7.10 with a max dam of 1340.8377168994855: 100%|█| 3243/3243 [00:02<00:00, 1169.15it/s\n",
      "polyline damage calculation for F7.10 with a max dam of 660.841446186175: 100%|██| 3243/3243 [00:02<00:00, 1229.38it/s]\n",
      "polyline damage calculation for F7.10 with a max dam of 95.77412263567753: 100%|█| 3243/3243 [00:02<00:00, 1167.38it/s]\n",
      "polyline damage calculation for F7.10 with a max dam of 114.92894716281305: 100%|█| 3243/3243 [00:02<00:00, 1220.08it/s\n",
      "polyline damage calculation for F7.10 with a max dam of 221597.82214470676: 100%|█| 3243/3243 [00:02<00:00, 1095.79it/s\n",
      "polyline damage calculation for F7.10 with a max dam of 22159.782214470677: 100%|█| 3243/3243 [00:03<00:00, 945.13it/s]\n",
      "polyline damage calculation for F7.11 with a max dam of 909.3454827565133: 100%|██| 3243/3243 [00:03<00:00, 976.30it/s]\n",
      "polyline damage calculation for F7.11 with a max dam of 909.3454827565133: 100%|█| 3243/3243 [00:03<00:00, 1015.71it/s]\n",
      "polyline damage calculation for F7.11 with a max dam of 7.7971745573977564: 100%|█| 3243/3243 [00:03<00:00, 1025.67it/s\n",
      "polyline damage calculation for F7.11 with a max dam of 5746.447358140652: 100%|█| 3243/3243 [00:03<00:00, 1053.30it/s]\n",
      "polyline damage calculation for F7.11 with a max dam of 1340.8377168994855: 100%|█| 3243/3243 [00:03<00:00, 1079.63it/s\n",
      "polyline damage calculation for F7.11 with a max dam of 660.841446186175: 100%|██| 3243/3243 [00:02<00:00, 1152.07it/s]\n",
      "polyline damage calculation for F7.11 with a max dam of 95.77412263567753: 100%|█| 3243/3243 [00:02<00:00, 1127.88it/s]\n",
      "polyline damage calculation for F7.11 with a max dam of 114.92894716281305: 100%|█| 3243/3243 [00:02<00:00, 1163.33it/s\n",
      "polyline damage calculation for F7.11 with a max dam of 221597.82214470676: 100%|█| 3243/3243 [00:02<00:00, 1134.98it/s\n",
      "polyline damage calculation for F7.11 with a max dam of 22159.782214470677: 100%|█| 3243/3243 [00:02<00:00, 1115.42it/s\n",
      "polyline damage calculation for F7.12 with a max dam of 909.3454827565133: 100%|█| 3243/3243 [00:02<00:00, 1088.83it/s]\n",
      "polyline damage calculation for F7.12 with a max dam of 909.3454827565133: 100%|█| 3243/3243 [00:02<00:00, 1118.83it/s]\n",
      "polyline damage calculation for F7.12 with a max dam of 7.7971745573977564: 100%|█| 3243/3243 [00:02<00:00, 1134.32it/s\n",
      "polyline damage calculation for F7.12 with a max dam of 5746.447358140652: 100%|█| 3243/3243 [00:02<00:00, 1083.42it/s]\n",
      "polyline damage calculation for F7.12 with a max dam of 1340.8377168994855: 100%|█| 3243/3243 [00:02<00:00, 1138.32it/s\n",
      "polyline damage calculation for F7.12 with a max dam of 660.841446186175: 100%|██| 3243/3243 [00:02<00:00, 1099.08it/s]\n",
      "polyline damage calculation for F7.12 with a max dam of 95.77412263567753: 100%|█| 3243/3243 [00:02<00:00, 1158.89it/s]\n",
      "polyline damage calculation for F7.12 with a max dam of 114.92894716281305: 100%|█| 3243/3243 [00:02<00:00, 1155.28it/s\n",
      "polyline damage calculation for F7.12 with a max dam of 221597.82214470676: 100%|█| 3243/3243 [00:02<00:00, 1136.63it/s\n",
      "polyline damage calculation for F7.12 with a max dam of 22159.782214470677: 100%|█| 3243/3243 [00:03<00:00, 1077.38it/s\n",
      "polyline damage calculation for F7.13 with a max dam of 909.3454827565133: 100%|█| 3243/3243 [00:03<00:00, 1026.05it/s]\n",
      "polyline damage calculation for F7.13 with a max dam of 909.3454827565133: 100%|█| 3243/3243 [00:03<00:00, 1021.09it/s]\n",
      "polyline damage calculation for F7.13 with a max dam of 7.7971745573977564: 100%|█| 3243/3243 [00:03<00:00, 1065.31it/s\n",
      "polyline damage calculation for F7.13 with a max dam of 5746.447358140652: 100%|█| 3243/3243 [00:03<00:00, 1070.14it/s]\n",
      "polyline damage calculation for F7.13 with a max dam of 1340.8377168994855: 100%|█| 3243/3243 [00:02<00:00, 1117.40it/s\n",
      "polyline damage calculation for F7.13 with a max dam of 660.841446186175: 100%|███| 3243/3243 [00:03<00:00, 971.28it/s]\n",
      "polyline damage calculation for F7.13 with a max dam of 95.77412263567753: 100%|██| 3243/3243 [00:03<00:00, 909.19it/s]\n",
      "polyline damage calculation for F7.13 with a max dam of 114.92894716281305: 100%|█| 3243/3243 [00:02<00:00, 1171.80it/s\n",
      "polyline damage calculation for F7.13 with a max dam of 221597.82214470676: 100%|█| 3243/3243 [00:02<00:00, 1163.02it/s\n",
      "polyline damage calculation for F7.13 with a max dam of 22159.782214470677: 100%|█| 3243/3243 [00:02<00:00, 1149.68it/s\n"
     ]
    }
   ],
   "source": [
    "collect_output = {}\n",
    "geom_dict = roads['geometry'].to_dict()\n",
    "type_dict = roads['asset'].to_dict()\n",
    "\n",
    "flood_numpified = flood_map_vector.to_numpy() # convert dataframe to numpy array\n",
    "for infra_curve in infra_curves:\n",
    "    curve = infra_curves[infra_curve[0]]\n",
    "    for maxdam in maxdams:\n",
    "        for asset in tqdm(overlay_roads.groupby('asset'),total=len(overlay_roads.asset.unique()), #group asset items for different hazard points per asset and get total number of unique assets\n",
    "                              desc=f'polyline damage calculation for {infra_curve[0]} with a max dam of {maxdam}'):\n",
    "            asset_geom = geom_dict[asset[0]]\n",
    "            asset_type = type_dict[asset[0]]\n",
    "            collect_output[infra_curve[0],maxdam] = get_damage_per_asset(asset,flood_numpified,asset_geom,asset_type,curve,maxdam)"
   ]
  },
  {
   "cell_type": "code",
   "execution_count": null,
   "id": "d523fce7-3f8a-41b3-bc3d-6ce7cce88304",
   "metadata": {},
   "outputs": [],
   "source": []
  },
  {
   "cell_type": "code",
   "execution_count": null,
   "id": "96767280-1e17-4740-9eed-891b1e4d72af",
   "metadata": {},
   "outputs": [],
   "source": []
  }
 ],
 "metadata": {
  "kernelspec": {
   "display_name": "Python 3 (ipykernel)",
   "language": "python",
   "name": "python3"
  },
  "language_info": {
   "codemirror_mode": {
    "name": "ipython",
    "version": 3
   },
   "file_extension": ".py",
   "mimetype": "text/x-python",
   "name": "python",
   "nbconvert_exporter": "python",
   "pygments_lexer": "ipython3",
   "version": "3.11.6"
  }
 },
 "nbformat": 4,
 "nbformat_minor": 5
}
